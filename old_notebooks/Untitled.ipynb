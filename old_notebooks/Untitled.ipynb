{
 "cells": [
  {
   "cell_type": "code",
   "execution_count": 1,
   "metadata": {
    "collapsed": true
   },
   "outputs": [],
   "source": [
<<<<<<< HEAD
=======
    "import lalsimulation"
   ]
  },
  {
   "cell_type": "code",
   "execution_count": 2,
   "metadata": {
    "collapsed": true
   },
   "outputs": [],
   "source": [
    "import lal"
   ]
  },
  {
   "cell_type": "code",
   "execution_count": 3,
   "metadata": {
    "collapsed": true
   },
   "outputs": [],
   "source": [
>>>>>>> f02bf7fa5ed4df3149e9245a8268c710f611e0f9
    "import numpy as np"
   ]
  },
  {
   "cell_type": "code",
   "execution_count": 4,
   "metadata": {
    "collapsed": false
   },
   "outputs": [
    {
     "data": {
      "text/plain": [
<<<<<<< HEAD
       "array([  3.83821381e+00,   4.31987071e-03,   3.91098677e+01,\n",
       "         3.47313735e+00,   5.42706114e+00,   4.04183277e-03,\n",
       "         8.27774054e-03,   5.25257409e-03,   1.77890870e-02,\n",
       "         2.23945029e-02])"
=======
       "56"
>>>>>>> f02bf7fa5ed4df3149e9245a8268c710f611e0f9
      ]
     },
     "execution_count": 4,
     "metadata": {},
     "output_type": "execute_result"
    }
   ],
   "source": [
<<<<<<< HEAD
    "1/np.sqrt(np.exp([ -2.69001421,  10.88905961,  -7.33274961,  -2.49011664,  -3.38279552,\n",
    "  11.02211407,   9.58837046,  10.49807404,   8.0583402,    7.59787951]))"
=======
    "lalsimulation.IMRPhenomPv2"
   ]
  },
  {
   "cell_type": "code",
   "execution_count": 5,
   "metadata": {
    "collapsed": true
   },
   "outputs": [],
   "source": [
    "chi1_l = 0\n",
    "chi2_l = 0\n",
    "chip = 0\n",
    "thetaJ = 0\n",
    "m1_SI = 5 * lal.MSUN_SI\n",
    "m2_SI = 5 * lal.MSUN_SI\n",
    "distance = 5 * lal.PC_SI\n",
    "alpha0 = 0\n",
    "phic = 0\n",
    "f_ref = 100 * lal.HertzUnit,"
   ]
  },
  {
   "cell_type": "code",
   "execution_count": 6,
   "metadata": {
    "collapsed": false
   },
   "outputs": [],
   "source": [
    "frequencies = np.linspace(0,10, 100)"
   ]
  },
  {
   "cell_type": "code",
   "execution_count": 7,
   "metadata": {
    "collapsed": true
   },
   "outputs": [],
   "source": [
    "mass = 5\n",
    "q = 1.50"
   ]
  },
  {
   "cell_type": "code",
   "execution_count": 8,
   "metadata": {
    "collapsed": true
   },
   "outputs": [],
   "source": [
    "import matplotlib.pyplot as plt\n",
    "%matplotlib inline"
   ]
  },
  {
   "cell_type": "code",
   "execution_count": 9,
   "metadata": {
    "collapsed": false
   },
   "outputs": [],
   "source": [
    "waveflags = lalsimulation.SimInspiralCreateWaveformFlags()\n",
    "approximant = lalsimulation.SimInspiralGetApproximantFromString(\"IMRPhenomP\")\n",
    "#phorder = lalsimulation.SimInspiralGetOrderFromString(\"IMRPhenomP0\")"
   ]
  },
  {
   "cell_type": "code",
   "execution_count": 217,
   "metadata": {
    "collapsed": false
   },
   "outputs": [
    {
     "ename": "IndexError",
     "evalue": "index 10 is out of bounds for axis 0 with size 10",
     "output_type": "error",
     "traceback": [
      "\u001b[1;31m---------------------------------------------------------------------------\u001b[0m",
      "\u001b[1;31mIndexError\u001b[0m                                Traceback (most recent call last)",
      "\u001b[1;32m<ipython-input-217-d6ba4ba14e20>\u001b[0m in \u001b[0;36m<module>\u001b[1;34m()\u001b[0m\n\u001b[0;32m     26\u001b[0m                                         )\n\u001b[0;32m     27\u001b[0m     \u001b[0mtimes\u001b[0m \u001b[1;33m=\u001b[0m \u001b[0mnp\u001b[0m\u001b[1;33m.\u001b[0m\u001b[0mlinspace\u001b[0m\u001b[1;33m(\u001b[0m\u001b[1;36m0\u001b[0m\u001b[1;33m,\u001b[0m \u001b[0mlen\u001b[0m\u001b[1;33m(\u001b[0m\u001b[0mhp\u001b[0m\u001b[1;33m.\u001b[0m\u001b[0mdata\u001b[0m\u001b[1;33m.\u001b[0m\u001b[0mdata\u001b[0m\u001b[1;33m)\u001b[0m\u001b[1;33m*\u001b[0m\u001b[0mhp\u001b[0m\u001b[1;33m.\u001b[0m\u001b[0mdeltaT\u001b[0m\u001b[1;33m,\u001b[0m \u001b[0mlen\u001b[0m\u001b[1;33m(\u001b[0m\u001b[0mhp\u001b[0m\u001b[1;33m.\u001b[0m\u001b[0mdata\u001b[0m\u001b[1;33m.\u001b[0m\u001b[0mdata\u001b[0m\u001b[1;33m)\u001b[0m\u001b[1;33m)\u001b[0m \u001b[1;33m+\u001b[0m \u001b[0mhp\u001b[0m\u001b[1;33m.\u001b[0m\u001b[0mepoch\u001b[0m\u001b[1;33m\u001b[0m\u001b[0m\n\u001b[1;32m---> 28\u001b[1;33m     \u001b[0mdata\u001b[0m\u001b[1;33m[\u001b[0m\u001b[0mi\u001b[0m\u001b[1;33m]\u001b[0m\u001b[1;33m[\u001b[0m\u001b[1;33m:\u001b[0m\u001b[1;36m150\u001b[0m\u001b[1;33m]\u001b[0m \u001b[1;33m=\u001b[0m  \u001b[0mhp\u001b[0m\u001b[1;33m.\u001b[0m\u001b[0mdata\u001b[0m\u001b[1;33m.\u001b[0m\u001b[0mdata\u001b[0m\u001b[1;33m[\u001b[0m\u001b[1;33m(\u001b[0m\u001b[1;33m-\u001b[0m\u001b[1;36m0.02\u001b[0m\u001b[1;33m<\u001b[0m\u001b[0mtimes\u001b[0m\u001b[1;33m)\u001b[0m \u001b[1;33m&\u001b[0m \u001b[1;33m(\u001b[0m\u001b[0mtimes\u001b[0m\u001b[1;33m<\u001b[0m\u001b[1;36m0.01\u001b[0m\u001b[1;33m)\u001b[0m\u001b[1;33m]\u001b[0m\u001b[1;33m\u001b[0m\u001b[0m\n\u001b[0m\u001b[0;32m     29\u001b[0m     \u001b[1;31m#data[i][3] =  hc.data.data[(-0.02<times) & (times<0.01)]\u001b[0m\u001b[1;33m\u001b[0m\u001b[1;33m\u001b[0m\u001b[0m\n\u001b[0;32m     30\u001b[0m     \u001b[1;31m#data[i][0] = times[(-0.02<times) & (times<0.01)]\u001b[0m\u001b[1;33m\u001b[0m\u001b[1;33m\u001b[0m\u001b[0m\n",
      "\u001b[1;31mIndexError\u001b[0m: index 10 is out of bounds for axis 0 with size 10"
     ]
    }
   ],
   "source": [
    "#f, ax = plt.subplots(10, sharey=True, figsize=(5,15))\n",
    "data = np.zeros((10, 151))\n",
    "for i in np.arange(20):\n",
    "    mass1 = (i/2.+5) * lal.MSUN_SI\n",
    "    coaphase = 0\n",
    "    mass2 = 6 * lal.MSUN_SI\n",
    "    spin1x, spin1y, spin1z = 1,0,0\n",
    "    spin2x, spin2y, spin2z = 1,0,0\n",
    "    flower = 10 \n",
    "    fref = 10\n",
    "    distance = 400 *1e6 * lal.PC_SI\n",
    "    z = 0.0\n",
    "    inclination = 0.0\n",
    "    lambda1 = lambda2 = 0.0\n",
    "    amporder = 0\n",
    "    phorder = 0\n",
    "    dt = 0.0002\n",
    "    hp, hc = lalsimulation.SimInspiralTD(coaphase, dt, \n",
    "                                         mass1, mass2,\n",
    "                                         spin1x, spin1y, spin1z,\n",
    "                                         spin2x, spin2y, spin2z,\n",
    "                                         flower, fref, distance, z,\n",
    "                                            inclination, lambda1, lambda2,\n",
    "                                             waveflags, None, amporder, phorder,\n",
    "                                         approximant\n",
    "                                        )\n",
    "    times = np.linspace(0, len(hp.data.data)*hp.deltaT, len(hp.data.data)) + hp.epoch\n",
    "    data[i][:150] =  hp.data.data[(-0.02<times) & (times<0.01)]\n",
    "    #data[i][3] =  hc.data.data[(-0.02<times) & (times<0.01)]\n",
    "    #data[i][0] = times[(-0.02<times) & (times<0.01)]\n",
    "    data[i][150] = (i/2.+5)\n",
    "#a = np.swapaxes(data, 1, 2)\n",
    "a = np.vstack(data)\n",
    "np.savetxt('bbh_mass1_only_hp_inference.txt', a)"
   ]
  },
  {
   "cell_type": "code",
   "execution_count": 214,
   "metadata": {
    "collapsed": false
   },
   "outputs": [
    {
     "data": {
      "text/plain": [
       "array([ 5. ,  5.5,  6. ,  6.5,  7. ,  7.5,  8. ,  8.5,  9. ,  9.5])"
      ]
     },
     "execution_count": 214,
     "metadata": {},
     "output_type": "execute_result"
    }
   ],
   "source": [
    "data[:,150]"
   ]
  },
  {
   "cell_type": "code",
   "execution_count": 64,
   "metadata": {
    "collapsed": false
   },
   "outputs": [
    {
     "data": {
      "text/plain": [
       "(-3e-22, 3e-22)"
      ]
     },
     "execution_count": 64,
     "metadata": {},
     "output_type": "execute_result"
    },
    {
     "data": {
      "image/png": "iVBORw0KGgoAAAANSUhEUgAAAX4AAAEGCAYAAABiq/5QAAAABHNCSVQICAgIfAhkiAAAAAlwSFlz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\nsfIoAAAAAElFTkSuQmCC\n",
      "text/plain": [
       "<matplotlib.figure.Figure at 0x7fbdc9a0bf90>"
      ]
     },
     "metadata": {},
     "output_type": "display_data"
    }
   ],
   "source": [
    "i = 2\n",
    "plt.plot(data[i][0], data[i][2])\n",
    "plt.ylim([-3e-22, 3e-22])"
   ]
  },
  {
   "cell_type": "code",
   "execution_count": 228,
   "metadata": {
    "collapsed": false
   },
   "outputs": [],
   "source": [
    "#f, ax = plt.subplots(10, sharey=True, figsize=(5,15))\n",
    "data = np.zeros((2000, 153))\n",
    "for i in np.arange(20):\n",
    "    for j in np.arange(10):\n",
    "        for k in np.arange(1,11):\n",
    "            mass1 = (i/2.+5) * lal.MSUN_SI\n",
    "            coaphase = 0\n",
    "            #mass1 = 5 * lal.MSUN_SI\n",
    "            #mass1 *= lal.MSUN_SI\n",
    "            mass2 = 6 * lal.MSUN_SI\n",
    "            spin1x, spin1y, spin1z = 0.1*j,0,0\n",
    "            spin2x, spin2y, spin2z = 1,0,0\n",
    "            flower = 10 \n",
    "            fref = 10\n",
    "            distance = k*100 *1e6 * lal.PC_SI\n",
    "            z = 0.0\n",
    "            inclination = 0.0\n",
    "            lambda1 = lambda2 = 0.0\n",
    "            amporder = 0\n",
    "            phorder = 0\n",
    "            dt = 0.0002\n",
    "            hp, hc = lalsimulation.SimInspiralTD(coaphase, dt, \n",
    "                                                 mass1, mass2,\n",
    "                                                 spin1x, spin1y, spin1z,\n",
    "                                                 spin2x, spin2y, spin2z,\n",
    "                                                 flower, fref, distance, z,\n",
    "                                                    inclination, lambda1, lambda2,\n",
    "                                                     waveflags, None, amporder, phorder,\n",
    "                                                 approximant\n",
    "                                                )\n",
    "            times = np.linspace(0, len(hp.data.data)*hp.deltaT, len(hp.data.data)) + hp.epoch\n",
    "            data[i*10+j][:150] =  hp.data.data[(-0.02<times) & (times<0.01)]\n",
    "            #data[i][3] =  hc.data.data[(-0.02<times) & (times<0.01)]\n",
    "            #data[i][0] = times[(-0.02<times) & (times<0.01)]\n",
    "            #mass_ratio = (mass1*mass2) / (mass1+mass2)**2 #eta=M1*M2/(M1+M2)^2\n",
    "            #print mass_ratio\n",
    "            #data[i][1] = np.ones(300) * mass1 #* mass_ratio\n",
    "            data[i*100+j*10][150] = (i/2.+5)\n",
    "            data[i*100+j*10][151] = 0.1*j\n",
    "            data[i*100+j*10][152] = 100*k\n",
    "#a = np.swapaxes(data, 1, 2)\n",
    "a = np.vstack(data)\n",
    "np.savetxt('bbh_mass1_only_hp_inference_spin_dist', a)"
   ]
  },
  {
   "cell_type": "code",
   "execution_count": 32,
   "metadata": {
    "collapsed": false
   },
   "outputs": [
    {
     "data": {
      "text/plain": [
       "[<matplotlib.lines.Line2D at 0x7fbdc7eb3c50>]"
      ]
     },
     "execution_count": 32,
     "metadata": {},
     "output_type": "execute_result"
    },
    {
     "data": {
      "image/png": "iVBORw0KGgoAAAANSUhEUgAAAX4AAAEGCAYAAABiq/5QAAAABHNCSVQICAgIfAhkiAAAAAlwSFlz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\nKgwKPyGEVBgUfkIIqTD+P2k90hkEj0WEAAAAAElFTkSuQmCC\n",
      "text/plain": [
       "<matplotlib.figure.Figure at 0x7fbdc822d290>"
      ]
     },
     "metadata": {},
     "output_type": "display_data"
    }
   ],
   "source": [
    "plt.plot(data[0][0], data[0][2])"
   ]
  },
  {
   "cell_type": "code",
   "execution_count": 25,
   "metadata": {
    "collapsed": false
   },
   "outputs": [
    {
     "data": {
      "text/plain": [
       "1.2328991120761062e+31"
      ]
     },
     "execution_count": 25,
     "metadata": {},
     "output_type": "execute_result"
    }
   ],
   "source": [
    "6.2*lal.MSUN_SI"
   ]
  },
  {
   "cell_type": "code",
   "execution_count": 228,
   "metadata": {
    "collapsed": false
   },
   "outputs": [
    {
     "data": {
      "text/plain": [
       "0.6111111111111112"
      ]
     },
     "execution_count": 228,
     "metadata": {},
     "output_type": "execute_result"
    }
   ],
   "source": [
    "((10.5 - 5)) / 9"
   ]
  },
  {
   "cell_type": "code",
   "execution_count": 130,
   "metadata": {
    "collapsed": true
   },
   "outputs": [],
   "source": [
    "mn, sn = 11, 3\n",
    "masses = np.linspace(5, 10, mn)\n",
    "spin = np.linspace(0, 0.5, sn)"
   ]
  },
  {
   "cell_type": "code",
   "execution_count": 131,
   "metadata": {
    "collapsed": false
   },
   "outputs": [],
   "source": [
    "X1, X2 = np.meshgrid(masses, spin, indexing='ij')"
   ]
  },
  {
   "cell_type": "code",
   "execution_count": 160,
   "metadata": {
    "collapsed": false
   },
   "outputs": [
    {
     "data": {
      "text/plain": [
       "3"
      ]
     },
     "execution_count": 160,
     "metadata": {},
     "output_type": "execute_result"
    }
   ],
   "source": [
    "sn"
   ]
  },
  {
   "cell_type": "code",
   "execution_count": 198,
   "metadata": {
    "collapsed": false
   },
   "outputs": [],
   "source": [
    "data = np.zeros((33, 4, 50))\n",
    "for i in range(mn):\n",
    "    for j in range(sn):\n",
    "        mass1 = X1[i,j] * lal.MSUN_SI\n",
    "        coaphase = 0\n",
    "        mass2 = 6 * lal.MSUN_SI\n",
    "        spin1x, spin1y, spin1z = X2[i,j],0,0\n",
    "        spin2x, spin2y, spin2z = 1,0,0\n",
    "        flower = 10 \n",
    "        fref = 10\n",
    "        distance = 400 *1e6 * lal.PC_SI\n",
    "        z = 0.0\n",
    "        inclination = 0.0\n",
    "        lambda1 = lambda2 = 0.0\n",
    "        amporder = 0\n",
    "        phorder = 0\n",
    "        dt = 0.0002\n",
    "        hp, hc = lalsimulation.SimInspiralTD(coaphase, dt, \n",
    "                                             mass1, mass2,\n",
    "                                             spin1x, spin1y, spin1z,\n",
    "                                             spin2x, spin2y, spin2z,\n",
    "                                             flower, fref, distance, z,\n",
    "                                             inclination, lambda1, lambda2,\n",
    "                                             waveflags, None, amporder, phorder,\n",
    "                                             approximant\n",
    "                                            )\n",
    "        times = np.linspace(0, len(hp.data.data)*hp.deltaT, len(hp.data.data)) + hp.epoch\n",
    "        n = (3*i) + j\n",
    "        data[n][3] =  hp.data.data[(-0.005<times) & (times<0.005)]\n",
    "        data[n][0] = times[(-0.005<times) & (times<0.005)]\n",
    "        data[n][1] = np.ones(50) * X1[i,j]\n",
    "        data[n][2] = np.ones(50) * X2[i,j]\n",
    "a = np.swapaxes(data, 1, 2)\n",
    "a = np.vstack(a)"
   ]
  },
  {
   "cell_type": "code",
   "execution_count": 199,
   "metadata": {
    "collapsed": true
   },
   "outputs": [],
   "source": [
    "np.savetxt('/home/daniel/repositories/heron/data/bbh_mass1_only_hp_3D.txt', a)"
   ]
  },
  {
   "cell_type": "code",
   "execution_count": 201,
   "metadata": {
    "collapsed": false
   },
   "outputs": [],
   "source": [
    "data = np.zeros((33, 4, 50))\n",
    "for i in range(mn):\n",
    "    for j in range(sn):\n",
    "        mass1 = 0.25 + X1[i,j] * lal.MSUN_SI\n",
    "        coaphase = 0\n",
    "        mass2 = 6 * lal.MSUN_SI\n",
    "        spin1x, spin1y, spin1z = 0.1 + X2[i,j],0,0\n",
    "        spin2x, spin2y, spin2z = 1,0,0\n",
    "        flower = 10 \n",
    "        fref = 10\n",
    "        distance = 400 *1e6 * lal.PC_SI\n",
    "        z = 0.0\n",
    "        inclination = 0.0\n",
    "        lambda1 = lambda2 = 0.0\n",
    "        amporder = 0\n",
    "        phorder = 0\n",
    "        dt = 0.0002\n",
    "        hp, hc = lalsimulation.SimInspiralTD(coaphase, dt, \n",
    "                                             mass1, mass2,\n",
    "                                             spin1x, spin1y, spin1z,\n",
    "                                             spin2x, spin2y, spin2z,\n",
    "                                             flower, fref, distance, z,\n",
    "                                             inclination, lambda1, lambda2,\n",
    "                                             waveflags, None, amporder, phorder,\n",
    "                                             approximant\n",
    "                                            )\n",
    "        times = np.linspace(0, len(hp.data.data)*hp.deltaT, len(hp.data.data)) + hp.epoch\n",
    "        n = (3*i) + j\n",
    "        data[n][3] =  hp.data.data[(-0.005<times) & (times<0.005)]\n",
    "        data[n][0] = times[(-0.005<times) & (times<0.005)]\n",
    "        data[n][1] = np.ones(50) * X1[i,j]\n",
    "        data[n][2] = np.ones(50) * X2[i,j]\n",
    "a = np.swapaxes(data, 1, 2)\n",
    "a = np.vstack(a)\n",
    "np.savetxt('/home/daniel/repositories/heron/data/bbh_mass1_only_hp_3D_TEST.txt', a)"
   ]
  },
  {
   "cell_type": "code",
   "execution_count": 167,
   "metadata": {
    "collapsed": false
   },
   "outputs": [
    {
     "data": {
      "text/plain": [
       "{0.5}"
      ]
     },
     "execution_count": 167,
     "metadata": {},
     "output_type": "execute_result"
    }
   ],
   "source": [
    "set(a[:,2])"
   ]
  },
  {
   "cell_type": "code",
   "execution_count": 149,
   "metadata": {
    "collapsed": false
   },
   "outputs": [
    {
     "data": {
      "text/plain": [
       "[0, 1, 2]"
      ]
     },
     "execution_count": 149,
     "metadata": {},
     "output_type": "execute_result"
    }
   ],
   "source": [
    "range(3)"
>>>>>>> f02bf7fa5ed4df3149e9245a8268c710f611e0f9
   ]
  },
  {
   "cell_type": "code",
   "execution_count": null,
   "metadata": {
    "collapsed": true
   },
   "outputs": [],
   "source": []
  }
 ],
 "metadata": {
  "kernelspec": {
   "display_name": "Python 2",
   "language": "python",
   "name": "python2"
  },
  "language_info": {
   "codemirror_mode": {
    "name": "ipython",
    "version": 2
   },
   "file_extension": ".py",
   "mimetype": "text/x-python",
   "name": "python",
   "nbconvert_exporter": "python",
   "pygments_lexer": "ipython2",
   "version": "2.7.6"
  },
  "latex_envs": {
   "bibliofile": "biblio.bib",
   "cite_by": "apalike",
   "current_citInitial": 1,
   "eqLabelWithNumbers": true,
   "eqNumInitial": 0
  }
 },
 "nbformat": 4,
 "nbformat_minor": 0
}
