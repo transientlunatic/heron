{
 "cells": [
  {
   "cell_type": "code",
   "execution_count": 1,
   "metadata": {
    "collapsed": true
   },
   "outputs": [],
   "source": [
    "import gwgpr"
   ]
  },
  {
   "cell_type": "code",
   "execution_count": 2,
   "metadata": {
    "collapsed": true
   },
   "outputs": [],
   "source": [
    "import os\n",
    "from astropy.io import ascii\n",
    "import numpy.ma as ma\n",
    "import numpy as np\n",
    "import math\n",
    "from astropy.table import Table, vstack\n",
    "from cStringIO import StringIO\n",
    "import base64\n",
    "from IPython.display import display, HTML\n",
    "import pandas as pd\n",
    "# Turn off the max column width so the HTML \n",
    "# image tags don't get truncated \n",
    "pd.set_option('display.max_colwidth', -1)\n",
    "\n",
    "# Turning off the max column will display all the data in\n",
    "# our arrays so limit the number of element to display\n",
    "pd.set_option('display.max_seq_items', 2)"
   ]
  },
  {
   "cell_type": "code",
   "execution_count": 3,
   "metadata": {
    "collapsed": true
   },
   "outputs": [],
   "source": [
    "# Load all of the NR data\n",
    "\n",
    "main_dir = '/home/daniel/data/gravitational-waves/gt-old/'\n",
    "\n",
    "fieldnames = ['No.', 'RunDir', 'D', 'q', 'a1', 'a2', 'th1L', 'th2L', \n",
    "                  'ph1', 'ph2', 'th12', 'thSL', 'thJL', 'Mmin(f=30Hz)', 'Mmin(f=10Hz)']\n",
    "\n",
    "waveforms = Table()\n",
    "\n",
    "for series_dir in os.walk(main_dir).next()[1]:\n",
    "    par_file = main_dir+series_dir+'/README_'+series_dir+'.txt'\n",
    "    par_dic = ascii.read(par_file,names=fieldnames)\n",
    "    parameters = Table(par_dic)\n",
    "    # parameters.add_columns(('time', 'h+', 'hx'))\n",
    "    pathnames, times, hp, hx = [], [], [], []\n",
    "    for i in xrange(len(parameters)):\n",
    "        os.path.join(main_dir,series_dir,parameters[i]['RunDir'])\n",
    "        try:\n",
    "            for filename in os.listdir(os.path.join(main_dir,series_dir,parameters[i]['RunDir'])):\n",
    "                    if filename.endswith('.asc'):\n",
    "                        pathname = os.path.join(main_dir,series_dir,parameters[i]['RunDir'],filename)\n",
    "                        pathnames.append(pathname)\n",
    "                        data = ascii.read(pathname)\n",
    "                        #for name in fieldnames:\n",
    "                        #    wf_dic[name] = par_dic[name][wf_num]\n",
    "                        times.append(np.array(data['t_sim']))\n",
    "                        hp.append(data['h_+'])\n",
    "                        hx.append(data['h_x'])\n",
    "        except:\n",
    "            pathnames.append('')\n",
    "            times.append([])\n",
    "            hp.append([])\n",
    "            hx.append([])\n",
    "            \n",
    "    parameters['times'], parameters['h+'], parameters['hx'] = times, hp, hx\n",
    "    waveforms = vstack([waveforms, parameters])\n",
    "\n",
    "import gwgpr\n",
    "import gwgpr.nr as nr\n",
    "\n",
    "cat = nr.NRCatalogue('/home/daniel/data/gravitational-waves/gt-old/')\n",
    "#cat_f = nr.NRCatalogue('/scratch/aries/gt_bbh/')\n",
    "#cat.waveforms = cat.waveforms[cat.waveforms['series']=='S-series-v2']\n",
    "cols = ['q', 'a1','a2', 'th1L', 'ph1', 'th12', 'thSL', 'thJL']"
   ]
  },
  {
   "cell_type": "code",
   "execution_count": 4,
   "metadata": {},
   "outputs": [
    {
     "name": "stdout",
     "output_type": "stream",
     "text": [
      "19 unvailable\n",
      "20 unvailable\n",
      "30 unvailable\n",
      "34 unvailable\n",
      "38 unvailable\n",
      "39 unvailable\n",
      "40 unvailable\n",
      "144 unvailable\n",
      "187 unvailable\n",
      "215 contains nan\n",
      "216 contains nan\n",
      "217 contains nan\n",
      "218 contains nan\n",
      "219 contains nan\n",
      "220 contains nan\n",
      "221 contains nan\n",
      "222 contains nan\n",
      "223 contains nan\n",
      "224 contains nan\n",
      "225 contains nan\n",
      "226 contains nan\n",
      "227 contains nan\n",
      "228 contains nan\n",
      "229 contains nan\n",
      "230 contains nan\n",
      "231 contains nan\n",
      "232 contains nan\n",
      "233 contains nan\n",
      "234 contains nan\n",
      "235 contains nan\n",
      "236 contains nan\n",
      "237 contains nan\n",
      "238 contains nan\n",
      "239 contains nan\n",
      "240 contains nan\n",
      "241 contains nan\n",
      "242 contains nan\n",
      "243 contains nan\n",
      "244 contains nan\n",
      "245 contains nan\n",
      "246 contains nan\n",
      "247 contains nan\n",
      "248 contains nan\n",
      "249 contains nan\n",
      "250 contains nan\n",
      "251 contains nan\n",
      "252 contains nan\n",
      "253 contains nan\n",
      "254 contains nan\n",
      "300 unvailable\n",
      "318 contains nan\n",
      "324 contains nan\n",
      "329 contains nan\n",
      "337 contains nan\n",
      "341 contains nan\n",
      "342 contains nan\n",
      "343 contains nan\n",
      "344 contains nan\n",
      "345 contains nan\n",
      "347 contains nan\n",
      "350 contains nan\n",
      "359 contains nan\n",
      "360 contains nan\n",
      "362 contains nan\n",
      "364 contains nan\n",
      "368 contains nan\n",
      "369 unvailable\n",
      "370 contains nan\n",
      "378 contains nan\n",
      "379 contains nan\n",
      "380 contains nan\n",
      "381 contains nan\n",
      "382 contains nan\n",
      "383 contains nan\n",
      "384 contains nan\n",
      "389 contains nan\n",
      "392 contains nan\n",
      "393 contains nan\n",
      "395 contains nan\n",
      "396 contains nan\n",
      "400 contains nan\n",
      "402 contains nan\n"
     ]
    }
   ],
   "source": [
    "SKIP = 5\n",
    "import numpy as np\n",
    "training_x = []\n",
    "training_y = []\n",
    "for waveform in cat.waveforms[cols].iterrows():\n",
    "    try:\n",
    "        wave = cat.load(waveform[0])\n",
    "        times = wave.times\n",
    "        hp = wave.data[0]\n",
    "        hc = wave.data[1]\n",
    "        # Select a limited time span from -200 to 100\n",
    "        #locs = times== 0 \n",
    "        #locs = np.roll(locs, 100)\n",
    "        locs = [(times>-50) & (times<10)]\n",
    "        N = len(times[locs][::SKIP])\n",
    "        data = hp[locs][::SKIP]\n",
    "        params = [list(waveform[1])]*N\n",
    "        times = times[locs]\n",
    "        if np.isnan(params).any():\n",
    "            print \"{} contains nan\".format(waveform[0])\n",
    "            continue\n",
    "        for i in xrange(N):\n",
    "            out = []\n",
    "            out.append(times[i])\n",
    "            out.extend(params[i])\n",
    "            training_x.append(out)\n",
    "        training_y.extend(list(data))\n",
    "        #training.append( times[locs][::4], params, data) \n",
    "        #print zip(cols, list(waveform[1]))\n",
    "    except:\n",
    "        print \"{} unvailable\".format(waveform[0])\n",
    "\n",
    "times = np.linspace(-199.85, 47, 300)\n",
    "N = 300\n",
    "#data = hp[locs][::4]\n",
    "params =  [[1.0,  0.81,  0.8, 30.0, 180.0, 60.0, 60.0, 17.0]]*N\n",
    "#times = times[locs][::4]\n",
    "eval_x = []\n",
    "for i in xrange(N):\n",
    "    out = []\n",
    "    #out.append(times[i])\n",
    "    out.append(params[i])\n",
    "    eval_x.append(out)"
   ]
  },
  {
   "cell_type": "code",
   "execution_count": 5,
   "metadata": {
    "collapsed": true
   },
   "outputs": [],
   "source": [
    "training_x = np.array(training_x)\n",
    "training_y = np.array(training_y)"
   ]
  },
  {
   "cell_type": "code",
   "execution_count": 6,
   "metadata": {
    "collapsed": true
   },
   "outputs": [],
   "source": [
    "\n",
    "\n",
    "# Generator that returns mini-batches in each iteration\n",
    "def create_minibatch(data, batchsize = 20):\n",
    "    rng = np.random.RandomState(0)\n",
    "    \n",
    "    while True:\n",
    "        # Return random data samples of set size 100 each iteration\n",
    "        ixs = rng.randint(len(data), size=batchsize)\n",
    "        yield data[ixs]\n",
    "\n"
   ]
  },
  {
   "cell_type": "code",
   "execution_count": 7,
   "metadata": {
    "collapsed": true
   },
   "outputs": [],
   "source": [
    "%matplotlib inline\n",
    "import matplotlib.pyplot as plt\n",
    "import matplotlib.cm as cmap\n",
    "cm = cmap.inferno\n",
    "\n",
    "import numpy as np\n",
    "import scipy as sp\n",
    "import theano\n",
    "import theano.tensor as tt\n",
    "import theano.tensor.nlinalg\n",
    "import sys\n",
    "import pymc3 as pm"
   ]
  },
  {
   "cell_type": "code",
   "execution_count": 1,
   "metadata": {},
   "outputs": [
    {
     "ename": "NameError",
     "evalue": "name 'pm' is not defined",
     "output_type": "error",
     "traceback": [
      "\u001b[0;31m---------------------------------------------------------------------------\u001b[0m",
      "\u001b[0;31mNameError\u001b[0m                                 Traceback (most recent call last)",
      "\u001b[0;32m<ipython-input-1-929f9b15a2b7>\u001b[0m in \u001b[0;36m<module>\u001b[0;34m()\u001b[0m\n\u001b[1;32m      1\u001b[0m \u001b[0mbatchsize\u001b[0m \u001b[0;34m=\u001b[0m \u001b[0;36m20\u001b[0m\u001b[0;34m\u001b[0m\u001b[0m\n\u001b[0;32m----> 2\u001b[0;31m \u001b[0mminibatch_x\u001b[0m \u001b[0;34m=\u001b[0m \u001b[0mpm\u001b[0m\u001b[0;34m.\u001b[0m\u001b[0mgenerator\u001b[0m\u001b[0;34m(\u001b[0m\u001b[0mcreate_minibatch\u001b[0m\u001b[0;34m(\u001b[0m\u001b[0mtraining_x\u001b[0m\u001b[0;34m,\u001b[0m \u001b[0mbatchsize\u001b[0m \u001b[0;34m=\u001b[0m \u001b[0mbatchsize\u001b[0m\u001b[0;34m)\u001b[0m\u001b[0;34m)\u001b[0m\u001b[0;34m\u001b[0m\u001b[0m\n\u001b[0m\u001b[1;32m      3\u001b[0m \u001b[0mminibatch_y\u001b[0m \u001b[0;34m=\u001b[0m \u001b[0mpm\u001b[0m\u001b[0;34m.\u001b[0m\u001b[0mgenerator\u001b[0m\u001b[0;34m(\u001b[0m\u001b[0mcreate_minibatch\u001b[0m\u001b[0;34m(\u001b[0m\u001b[0mtraining_y\u001b[0m\u001b[0;34m,\u001b[0m \u001b[0mbatchsize\u001b[0m \u001b[0;34m=\u001b[0m \u001b[0mbatchsize\u001b[0m\u001b[0;34m)\u001b[0m\u001b[0;34m)\u001b[0m\u001b[0;34m\u001b[0m\u001b[0m\n\u001b[1;32m      4\u001b[0m \u001b[0mn\u001b[0m \u001b[0;34m=\u001b[0m \u001b[0mlen\u001b[0m\u001b[0;34m(\u001b[0m\u001b[0mtraining_x\u001b[0m\u001b[0;34m)\u001b[0m\u001b[0;34m\u001b[0m\u001b[0m\n\u001b[1;32m      5\u001b[0m \u001b[0;32mwith\u001b[0m \u001b[0mpm\u001b[0m\u001b[0;34m.\u001b[0m\u001b[0mModel\u001b[0m\u001b[0;34m(\u001b[0m\u001b[0;34m)\u001b[0m \u001b[0;32mas\u001b[0m \u001b[0mmodelmini\u001b[0m\u001b[0;34m:\u001b[0m\u001b[0;34m\u001b[0m\u001b[0m\n",
      "\u001b[0;31mNameError\u001b[0m: name 'pm' is not defined"
     ]
    }
   ],
   "source": [
    "batchsize = 20\n",
    "minibatch_x = pm.generator(create_minibatch(training_x, batchsize = batchsize))\n",
    "minibatch_y = pm.generator(create_minibatch(training_y, batchsize = batchsize))\n",
    "n = len(training_x)\n",
    "with pm.Model() as modelmini:\n",
    "    # priors on the covariance function hyperparameters\n",
    "    #l = pm.Uniform('l', 0, 10)\n",
    "    l = pm.Gamma('l',1.,1.)#,testval=l_true)\n",
    "    \n",
    "    # uninformative prior on the function variance\n",
    "    #log_s2_f = pm.Uniform('log_s2_f', lower=-10, upper=5)\n",
    "    #s2_f = pm.Deterministic('s2_f', tt.exp(log_s2_f))\n",
    "    s2_f = pm.Gamma('s2_f', 1.,1.)#,testval=s2_f_true)\n",
    "\n",
    "    # uninformative prior on the noise variance\n",
    "    #log_s2_n = pm.Uniform('log_s2_n', lower=-10, upper=5)\n",
    "    #s2_n = pm.Deterministic('s2_n', tt.exp(log_s2_n))\n",
    "    s2_n = pm.Gamma('s2_n', 1.,1.)#,testval=s2_n_true)\n",
    "\n",
    "    # covariance functions for the function f and the noise\n",
    "    f_cov = s2_f * pm.gp.cov.ExpQuad(len(training_x[0]), l)\n",
    "    \n",
    "    intercept = pm.Cauchy('b',alpha=0,beta=10)\n",
    "    Sigma = f_cov(minibatch_x) + tt.eye(batchsize)*s2_n**2\n",
    "    y_mu = pm.MvNormal('y_mu', mu=intercept, cov=Sigma, observed=minibatch_y, total_size=n)\n",
    "    \n",
    "    # OLD ADVI api\n",
    "    #means, sds, elbos = pm.variational.advi(n=100000)\n",
    "    \n",
    "    intercept = pm.Cauchy('b',alpha=0,beta=10)\n",
    "    meanfuc = pm.gp.mean.Constant(intercept)\n",
    "    # New ADVI api\n",
    "    s = theano.shared(pm.floatX(1))\n",
    "    inference = pm.FullRankADVI(cost_part_grad_scale=s)\n",
    "    # ADVI has nearly converged\n",
    "    inference.fit(n=20000)\n",
    "    # It is time to set `s` to zero\n",
    "    s.set_value(0)\n",
    "    approx = inference.fit(n=10000)\n",
    "    trace_vi = approx.sample_vp(10000) \n",
    "    \n",
    "    elbos1 = -inference.hist\n",
    "    \n",
    "    y_obs = pm.gp.GP('y_obs', \n",
    "                 mean_func=meanfuc, \n",
    "                 cov_func=f_cov, \n",
    "                 sigma=s2_n,\n",
    "                 observed={'X':minibatch_x, 'Y':y_mu},\n",
    "                 total_size=n)"
   ]
  },
  {
   "cell_type": "code",
   "execution_count": 37,
   "metadata": {
    "scrolled": false
   },
   "outputs": [
    {
     "data": {
      "image/png": "[encoded data removed]",
      "text/plain": [
       "<matplotlib.figure.Figure at 0x7f04dcb8f250>"
      ]
     },
     "metadata": {},
     "output_type": "display_data"
    }
   ],
   "source": [
    "#temp_trace = trace[1000:]\n",
    "temp_trace = trace_vi\n",
    "pm.traceplot(temp_trace, varnames=['l', 's2_f', 's2_n'],\n",
    ")\n",
    "plt.show()"
   ]
  },
  {
   "cell_type": "code",
   "execution_count": 47,
   "metadata": {},
   "outputs": [
    {
     "data": {
      "text/plain": [
       "[[0, 1.5, 0.8, 0.8, 60.0, 180.0, 30.0, 75.0, 22.0],\n",
       " [0, 1.5, 0.8, 0.8, 60.0, 180.0, 30.0, 75.0, 22.0]]"
      ]
     },
     "execution_count": 47,
     "metadata": {},
     "output_type": "execute_result"
    }
   ],
   "source": [
    "[[ 0,  1.5,    0.8,    0.8,   60. ,  180. ,   30. ,   75. ,   22. ]]*2"
   ]
  },
  {
   "cell_type": "code",
   "execution_count": 54,
   "metadata": {},
   "outputs": [
    {
     "ename": "AttributeError",
     "evalue": "'MvNormal' object has no attribute 'K'",
     "output_type": "error",
     "traceback": [
      "\u001b[0;31m---------------------------------------------------------------------------\u001b[0m",
      "\u001b[0;31mAttributeError\u001b[0m                            Traceback (most recent call last)",
      "\u001b[0;32m<ipython-input-54-32cede1cdee2>\u001b[0m in \u001b[0;36m<module>\u001b[0;34m()\u001b[0m\n\u001b[1;32m      5\u001b[0m \u001b[0mnsample\u001b[0m \u001b[0;34m=\u001b[0m \u001b[0;36m100\u001b[0m\u001b[0;34m\u001b[0m\u001b[0m\n\u001b[1;32m      6\u001b[0m \u001b[0;32mwith\u001b[0m \u001b[0mmodelmini\u001b[0m\u001b[0;34m:\u001b[0m\u001b[0;34m\u001b[0m\u001b[0m\n\u001b[0;32m----> 7\u001b[0;31m     \u001b[0mgp_samples\u001b[0m \u001b[0;34m=\u001b[0m \u001b[0mpm\u001b[0m\u001b[0;34m.\u001b[0m\u001b[0mgp\u001b[0m\u001b[0;34m.\u001b[0m\u001b[0msample_gp\u001b[0m\u001b[0;34m(\u001b[0m\u001b[0mtemp_trace\u001b[0m\u001b[0;34m,\u001b[0m \u001b[0my_mu\u001b[0m\u001b[0;34m,\u001b[0m \u001b[0mZ\u001b[0m\u001b[0;34m,\u001b[0m \u001b[0msamples\u001b[0m\u001b[0;34m=\u001b[0m\u001b[0mnsample\u001b[0m\u001b[0;34m,\u001b[0m \u001b[0mprogressbar\u001b[0m\u001b[0;34m=\u001b[0m\u001b[0mNone\u001b[0m\u001b[0;34m)\u001b[0m\u001b[0;34m\u001b[0m\u001b[0m\n\u001b[0m\u001b[1;32m      8\u001b[0m \u001b[0;34m\u001b[0m\u001b[0m\n",
      "\u001b[0;32m/home/daniel/.virtualenvs/heron/lib/python2.7/site-packages/pymc3-3.1rc3-py2.7.egg/pymc3/gp/gp.pyc\u001b[0m in \u001b[0;36msample_gp\u001b[0;34m(trace, gp, X_values, samples, obs_noise, model, random_seed, progressbar)\u001b[0m\n\u001b[1;32m    117\u001b[0m         \u001b[0mindices\u001b[0m \u001b[0;34m=\u001b[0m \u001b[0mnp\u001b[0m\u001b[0;34m.\u001b[0m\u001b[0mrandom\u001b[0m\u001b[0;34m.\u001b[0m\u001b[0mrandint\u001b[0m\u001b[0;34m(\u001b[0m\u001b[0;36m0\u001b[0m\u001b[0;34m,\u001b[0m \u001b[0mlen\u001b[0m\u001b[0;34m(\u001b[0m\u001b[0mtrace\u001b[0m\u001b[0;34m)\u001b[0m\u001b[0;34m,\u001b[0m \u001b[0msamples\u001b[0m\u001b[0;34m)\u001b[0m\u001b[0;34m\u001b[0m\u001b[0m\n\u001b[1;32m    118\u001b[0m \u001b[0;34m\u001b[0m\u001b[0m\n\u001b[0;32m--> 119\u001b[0;31m     \u001b[0mK\u001b[0m \u001b[0;34m=\u001b[0m \u001b[0mgp\u001b[0m\u001b[0;34m.\u001b[0m\u001b[0mdistribution\u001b[0m\u001b[0;34m.\u001b[0m\u001b[0mK\u001b[0m\u001b[0;34m\u001b[0m\u001b[0m\n\u001b[0m\u001b[1;32m    120\u001b[0m \u001b[0;34m\u001b[0m\u001b[0m\n\u001b[1;32m    121\u001b[0m     \u001b[0mdata\u001b[0m \u001b[0;34m=\u001b[0m \u001b[0;34m[\u001b[0m\u001b[0mv\u001b[0m \u001b[0;32mfor\u001b[0m \u001b[0mv\u001b[0m \u001b[0;32min\u001b[0m \u001b[0mmodel\u001b[0m\u001b[0;34m.\u001b[0m\u001b[0mobserved_RVs\u001b[0m \u001b[0;32mif\u001b[0m \u001b[0mv\u001b[0m\u001b[0;34m.\u001b[0m\u001b[0mname\u001b[0m\u001b[0;34m==\u001b[0m\u001b[0mgp\u001b[0m\u001b[0;34m.\u001b[0m\u001b[0mname\u001b[0m\u001b[0;34m]\u001b[0m\u001b[0;34m[\u001b[0m\u001b[0;36m0\u001b[0m\u001b[0;34m]\u001b[0m\u001b[0;34m.\u001b[0m\u001b[0mdata\u001b[0m\u001b[0;34m\u001b[0m\u001b[0m\n",
      "\u001b[0;31mAttributeError\u001b[0m: 'MvNormal' object has no attribute 'K'"
     ]
    }
   ],
   "source": [
    "Zn = 1000\n",
    "Z = np.array([[ 0,  1.5,    0.8,    0.8,   60. ,  180. ,   30. ,   75. ,   22. ]]*Zn)\n",
    "Z[:,0] = np.linspace(0, 1, Zn)\n",
    "\n",
    "nsample = 100\n",
    "with modelmini:\n",
    "    gp_samples = pm.gp.sample_gp(temp_trace, y_obs, Z, samples=nsample, progressbar=None)\n",
    "\n"
   ]
  },
  {
   "cell_type": "code",
   "execution_count": 52,
   "metadata": {
    "collapsed": true
   },
   "outputs": [],
   "source": []
  },
  {
   "cell_type": "code",
   "execution_count": null,
   "metadata": {
    "collapsed": true
   },
   "outputs": [],
   "source": []
  }
 ],
 "metadata": {
  "kernelspec": {
   "display_name": "Python 2",
   "language": "python",
   "name": "python2"
  },
  "language_info": {
   "codemirror_mode": {
    "name": "ipython",
    "version": 2
   },
   "file_extension": ".py",
   "mimetype": "text/x-python",
   "name": "python",
   "nbconvert_exporter": "python",
   "pygments_lexer": "ipython2",
   "version": "2.7.12"
  }
 },
 "nbformat": 4,
 "nbformat_minor": 2
}
