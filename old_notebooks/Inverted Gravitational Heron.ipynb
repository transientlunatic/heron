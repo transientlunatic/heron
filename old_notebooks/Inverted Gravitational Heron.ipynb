{
 "cells": [
  {
   "cell_type": "code",
   "execution_count": 1,
   "metadata": {
    "collapsed": false
   },
   "outputs": [],
   "source": [
    "from heron import data\n",
    "import matplotlib.pyplot as plt\n",
    "%matplotlib inline\n",
    "import numpy as np"
   ]
  },
  {
   "cell_type": "code",
   "execution_count": 2,
   "metadata": {
    "collapsed": false
   },
   "outputs": [],
   "source": [
    "bbh_text = np.genfromtxt(\"/home/daniel/repositories/heron/data/bbh_mass1_only_hp.txt\", delimiter=\" \")\n",
    "bbh_test = np.genfromtxt(\"/home/daniel/repositories/heron/data/bbh_mass1_only_hp_TEST.txt\", delimiter=\" \")"
   ]
  },
  {
   "cell_type": "code",
   "execution_count": 3,
   "metadata": {
    "collapsed": false
   },
   "outputs": [
    {
     "data": {
      "text/plain": [
       "(array([ -9.80005600e-03,   6.50000000e+00,  -4.38945326e-23]),\n",
       " array([ -9.80005800e-03,   6.50000000e+00,   6.92835069e-23]))"
      ]
     },
     "execution_count": 3,
     "metadata": {},
     "output_type": "execute_result"
    }
   ],
   "source": [
    "bbh_text[500], bbh_test[500]"
   ]
  },
  {
   "cell_type": "code",
   "execution_count": 4,
   "metadata": {
    "collapsed": false
   },
   "outputs": [],
   "source": [
    "bbh = data.Data(bbh_text[:,[0,2]], bbh_text[:,1],              \n",
    "                    #target_names = [\"Times\", \"Strain\"],\n",
    "                    label_names = [\"Mass\"],\n",
    "                    test_size = 0,\n",
    "                    test_targets = bbh_test[:,[0,2]],\n",
    "                    test_labels = bbh_test[:,1]\n",
    "                    )"
   ]
  },
  {
   "cell_type": "code",
   "execution_count": 5,
   "metadata": {
    "collapsed": false
   },
   "outputs": [],
   "source": [
    "from heron import regression\n",
    "from heron import kernels"
   ]
  },
  {
   "cell_type": "code",
   "execution_count": 6,
   "metadata": {
    "collapsed": false
   },
   "outputs": [
    {
     "data": {
      "text/plain": [
       "5.5"
      ]
     },
     "execution_count": 6,
     "metadata": {},
     "output_type": "execute_result"
    }
   ],
   "source": [
    "bbh_text[150,1]"
   ]
  },
  {
   "cell_type": "code",
   "execution_count": 7,
   "metadata": {
    "collapsed": false
   },
   "outputs": [
    {
     "data": {
      "text/plain": [
       "array([  9.99998300e-03,   6.50000000e+00,  -4.97247400e-26])"
      ]
     },
     "execution_count": 7,
     "metadata": {},
     "output_type": "execute_result"
    }
   ],
   "source": [
    "bbh_text[599]"
   ]
  },
  {
   "cell_type": "code",
   "execution_count": 8,
   "metadata": {
<<<<<<< HEAD
    "collapsed": true
=======
    "collapsed": false,
    "scrolled": true
>>>>>>> f02bf7fa5ed4df3149e9245a8268c710f611e0f9
   },
   "outputs": [
    {
     "ename": "LinAlgError",
     "evalue": "274-th leading minor not positive definite",
     "output_type": "error",
     "traceback": [
      "\u001b[0;31m---------------------------------------------------------------------------\u001b[0m",
      "\u001b[0;31mLinAlgError\u001b[0m                               Traceback (most recent call last)",
      "\u001b[0;32m<ipython-input-8-959b3d526af1>\u001b[0m in \u001b[0;36m<module>\u001b[0;34m()\u001b[0m\n\u001b[1;32m      1\u001b[0m \u001b[0mx0\u001b[0m \u001b[0;34m=\u001b[0m \u001b[0;34m[\u001b[0m\u001b[0;34m(\u001b[0m\u001b[0;36m1\u001b[0m\u001b[0;34m/\u001b[0m\u001b[0mnp\u001b[0m\u001b[0;34m.\u001b[0m\u001b[0mstd\u001b[0m\u001b[0;34m(\u001b[0m\u001b[0mbbh\u001b[0m\u001b[0;34m.\u001b[0m\u001b[0mlabels\u001b[0m\u001b[0;34m)\u001b[0m\u001b[0;34m)\u001b[0m\u001b[0;34m**\u001b[0m\u001b[0;36m2\u001b[0m\u001b[0;34m,\u001b[0m \u001b[0;36m5000\u001b[0m\u001b[0;34m,\u001b[0m \u001b[0;36m2\u001b[0m\u001b[0;34m]\u001b[0m\u001b[0;34m\u001b[0m\u001b[0m\n\u001b[0;32m----> 2\u001b[0;31m \u001b[0mgp\u001b[0m \u001b[0;34m=\u001b[0m \u001b[0mregression\u001b[0m\u001b[0;34m.\u001b[0m\u001b[0mRegressor\u001b[0m\u001b[0;34m(\u001b[0m\u001b[0mbbh\u001b[0m\u001b[0;34m,\u001b[0m \u001b[0mkernel\u001b[0m\u001b[0;34m=\u001b[0m\u001b[0mkernels\u001b[0m\u001b[0;34m.\u001b[0m\u001b[0mSquaredExponential\u001b[0m\u001b[0;34m(\u001b[0m\u001b[0mndim\u001b[0m\u001b[0;34m=\u001b[0m\u001b[0;36m2\u001b[0m\u001b[0;34m)\u001b[0m\u001b[0;34m,\u001b[0m \u001b[0myerror\u001b[0m \u001b[0;34m=\u001b[0m \u001b[0;36m1e-23\u001b[0m\u001b[0;34m,\u001b[0m \u001b[0mtikh\u001b[0m\u001b[0;34m=\u001b[0m\u001b[0;36m1e-3\u001b[0m\u001b[0;34m)\u001b[0m\u001b[0;34m\u001b[0m\u001b[0m\n\u001b[0m\u001b[1;32m      3\u001b[0m \u001b[0mgp\u001b[0m\u001b[0;34m.\u001b[0m\u001b[0mset_hyperparameters\u001b[0m\u001b[0;34m(\u001b[0m\u001b[0mx0\u001b[0m\u001b[0;34m)\u001b[0m\u001b[0;34m\u001b[0m\u001b[0m\n",
      "\u001b[0;32m/home/daniel/.virtualenvs/heron/local/lib/python2.7/site-packages/heron-0.1.0-py2.7.egg/heron/regression.pyc\u001b[0m in \u001b[0;36m__init__\u001b[0;34m(self, training_data, kernel, yerror, tikh)\u001b[0m\n\u001b[1;32m     43\u001b[0m         \u001b[0;31m#np.atleast_2d(training_data)\u001b[0m\u001b[0;34m\u001b[0m\u001b[0;34m\u001b[0m\u001b[0m\n\u001b[1;32m     44\u001b[0m         \u001b[0mself\u001b[0m\u001b[0;34m.\u001b[0m\u001b[0mkernel\u001b[0m \u001b[0;34m=\u001b[0m \u001b[0mkernel\u001b[0m \u001b[0;31m#kernel(self.training_data.ndim, *kernel_args)\u001b[0m\u001b[0;34m\u001b[0m\u001b[0m\n\u001b[0;32m---> 45\u001b[0;31m         \u001b[0mself\u001b[0m\u001b[0;34m.\u001b[0m\u001b[0mupdate\u001b[0m\u001b[0;34m(\u001b[0m\u001b[0;34m)\u001b[0m\u001b[0;34m\u001b[0m\u001b[0m\n\u001b[0m\u001b[1;32m     46\u001b[0m \u001b[0;34m\u001b[0m\u001b[0m\n\u001b[1;32m     47\u001b[0m     \u001b[0;32mdef\u001b[0m \u001b[0mactive_learn\u001b[0m\u001b[0;34m(\u001b[0m\u001b[0mself\u001b[0m\u001b[0;34m,\u001b[0m \u001b[0mafunction\u001b[0m\u001b[0;34m,\u001b[0m \u001b[0mx\u001b[0m\u001b[0;34m,\u001b[0m\u001b[0my\u001b[0m\u001b[0;34m,\u001b[0m \u001b[0miters\u001b[0m\u001b[0;34m=\u001b[0m\u001b[0;36m1\u001b[0m\u001b[0;34m,\u001b[0m \u001b[0mafunc_args\u001b[0m\u001b[0;34m=\u001b[0m\u001b[0;34m{\u001b[0m\u001b[0;34m}\u001b[0m\u001b[0;34m)\u001b[0m\u001b[0;34m:\u001b[0m\u001b[0;34m\u001b[0m\u001b[0m\n",
      "\u001b[0;32m/home/daniel/.virtualenvs/heron/local/lib/python2.7/site-packages/heron-0.1.0-py2.7.egg/heron/regression.pyc\u001b[0m in \u001b[0;36mupdate\u001b[0;34m(self)\u001b[0m\n\u001b[1;32m    101\u001b[0m         \u001b[0;31m#elif isinstance(self.yerror, np.ndarray):\u001b[0m\u001b[0;34m\u001b[0m\u001b[0;34m\u001b[0m\u001b[0m\n\u001b[1;32m    102\u001b[0m         \u001b[0;31m#    km += np.diag(self.yerror)\u001b[0m\u001b[0;34m\u001b[0m\u001b[0;34m\u001b[0m\u001b[0m\n\u001b[0;32m--> 103\u001b[0;31m         \u001b[0mself\u001b[0m\u001b[0;34m.\u001b[0m\u001b[0mL\u001b[0m \u001b[0;34m=\u001b[0m \u001b[0mscipy\u001b[0m\u001b[0;34m.\u001b[0m\u001b[0mlinalg\u001b[0m\u001b[0;34m.\u001b[0m\u001b[0mcholesky\u001b[0m\u001b[0;34m(\u001b[0m\u001b[0mkm\u001b[0m\u001b[0;34m)\u001b[0m\u001b[0;34m\u001b[0m\u001b[0m\n\u001b[0m\u001b[1;32m    104\u001b[0m         \u001b[0mkm\u001b[0m \u001b[0;34m=\u001b[0m \u001b[0mnp\u001b[0m\u001b[0;34m.\u001b[0m\u001b[0mkron\u001b[0m\u001b[0;34m(\u001b[0m\u001b[0mself\u001b[0m\u001b[0;34m.\u001b[0m\u001b[0mB_matrix\u001b[0m\u001b[0;34m,\u001b[0m \u001b[0mkm\u001b[0m\u001b[0;34m)\u001b[0m\u001b[0;34m\u001b[0m\u001b[0m\n\u001b[1;32m    105\u001b[0m         \u001b[0mkm\u001b[0m \u001b[0;34m+=\u001b[0m \u001b[0mself\u001b[0m\u001b[0;34m.\u001b[0m\u001b[0mtikh\u001b[0m \u001b[0;34m*\u001b[0m \u001b[0mnp\u001b[0m\u001b[0;34m.\u001b[0m\u001b[0meye\u001b[0m\u001b[0;34m(\u001b[0m\u001b[0mkm\u001b[0m\u001b[0;34m.\u001b[0m\u001b[0mshape\u001b[0m\u001b[0;34m[\u001b[0m\u001b[0;36m0\u001b[0m\u001b[0;34m]\u001b[0m\u001b[0;34m,\u001b[0m \u001b[0mkm\u001b[0m\u001b[0;34m.\u001b[0m\u001b[0mshape\u001b[0m\u001b[0;34m[\u001b[0m\u001b[0;36m1\u001b[0m\u001b[0;34m]\u001b[0m\u001b[0;34m)\u001b[0m\u001b[0;34m\u001b[0m\u001b[0m\n",
      "\u001b[0;32m/home/daniel/.virtualenvs/heron/local/lib/python2.7/site-packages/scipy/linalg/decomp_cholesky.pyc\u001b[0m in \u001b[0;36mcholesky\u001b[0;34m(a, lower, overwrite_a, check_finite)\u001b[0m\n\u001b[1;32m     79\u001b[0m     \"\"\"\n\u001b[1;32m     80\u001b[0m     c, lower = _cholesky(a, lower=lower, overwrite_a=overwrite_a, clean=True,\n\u001b[0;32m---> 81\u001b[0;31m                             check_finite=check_finite)\n\u001b[0m\u001b[1;32m     82\u001b[0m     \u001b[0;32mreturn\u001b[0m \u001b[0mc\u001b[0m\u001b[0;34m\u001b[0m\u001b[0m\n\u001b[1;32m     83\u001b[0m \u001b[0;34m\u001b[0m\u001b[0m\n",
      "\u001b[0;32m/home/daniel/.virtualenvs/heron/local/lib/python2.7/site-packages/scipy/linalg/decomp_cholesky.pyc\u001b[0m in \u001b[0;36m_cholesky\u001b[0;34m(a, lower, overwrite_a, clean, check_finite)\u001b[0m\n\u001b[1;32m     28\u001b[0m     \u001b[0mc\u001b[0m\u001b[0;34m,\u001b[0m \u001b[0minfo\u001b[0m \u001b[0;34m=\u001b[0m \u001b[0mpotrf\u001b[0m\u001b[0;34m(\u001b[0m\u001b[0ma1\u001b[0m\u001b[0;34m,\u001b[0m \u001b[0mlower\u001b[0m\u001b[0;34m=\u001b[0m\u001b[0mlower\u001b[0m\u001b[0;34m,\u001b[0m \u001b[0moverwrite_a\u001b[0m\u001b[0;34m=\u001b[0m\u001b[0moverwrite_a\u001b[0m\u001b[0;34m,\u001b[0m \u001b[0mclean\u001b[0m\u001b[0;34m=\u001b[0m\u001b[0mclean\u001b[0m\u001b[0;34m)\u001b[0m\u001b[0;34m\u001b[0m\u001b[0m\n\u001b[1;32m     29\u001b[0m     \u001b[0;32mif\u001b[0m \u001b[0minfo\u001b[0m \u001b[0;34m>\u001b[0m \u001b[0;36m0\u001b[0m\u001b[0;34m:\u001b[0m\u001b[0;34m\u001b[0m\u001b[0m\n\u001b[0;32m---> 30\u001b[0;31m         \u001b[0;32mraise\u001b[0m \u001b[0mLinAlgError\u001b[0m\u001b[0;34m(\u001b[0m\u001b[0;34m\"%d-th leading minor not positive definite\"\u001b[0m \u001b[0;34m%\u001b[0m \u001b[0minfo\u001b[0m\u001b[0;34m)\u001b[0m\u001b[0;34m\u001b[0m\u001b[0m\n\u001b[0m\u001b[1;32m     31\u001b[0m     \u001b[0;32mif\u001b[0m \u001b[0minfo\u001b[0m \u001b[0;34m<\u001b[0m \u001b[0;36m0\u001b[0m\u001b[0;34m:\u001b[0m\u001b[0;34m\u001b[0m\u001b[0m\n\u001b[1;32m     32\u001b[0m         raise ValueError('illegal value in %d-th argument of internal potrf'\n",
      "\u001b[0;31mLinAlgError\u001b[0m: 274-th leading minor not positive definite"
     ]
    }
   ],
   "source": [
    "x0 = [(1/np.std(bbh.labels))**2, 5000, 2]\n",
    "gp = regression.Regressor(bbh, kernel=kernels.SquaredExponential(ndim=2), yerror = 1e-23, tikh=1e-3)\n",
    "gp.set_hyperparameters(x0)"
   ]
  },
  {
   "cell_type": "code",
   "execution_count": 87,
   "metadata": {
    "collapsed": true
   },
   "outputs": [],
   "source": [
    "A = np.asarray([[10,1],[1,40]])\n",
    "B = np.asarray([[1,0],[0,1]])"
   ]
  },
  {
   "cell_type": "code",
   "execution_count": 88,
   "metadata": {
    "collapsed": false
   },
   "outputs": [],
   "source": [
    "import scipy.linalg"
   ]
  },
  {
   "cell_type": "code",
   "execution_count": 89,
<<<<<<< HEAD
   "metadata": {
    "collapsed": false
   },
   "outputs": [],
   "source": [
    "AC = scipy.linalg.cholesky(A)\n",
    "BC = scipy.linalg.cholesky(B)"
=======
   "metadata": {
    "collapsed": false
   },
   "outputs": [],
   "source": [
    "AC = scipy.linalg.cholesky(A)\n",
    "BC = scipy.linalg.cholesky(B)"
   ]
  },
  {
   "cell_type": "code",
   "execution_count": 90,
   "metadata": {
    "collapsed": true
   },
   "outputs": [],
   "source": [
    "AI = np.linalg.inv(AC)\n",
    "BI = np.linalg.inv(BC)"
   ]
  },
  {
   "cell_type": "code",
   "execution_count": 91,
   "metadata": {
    "collapsed": false
   },
   "outputs": [
    {
     "data": {
      "text/plain": [
       "array([[  1.00000000e+00,   1.38777878e-17],\n",
       "       [  0.00000000e+00,   1.00000000e+00]])"
      ]
     },
     "execution_count": 91,
     "metadata": {},
     "output_type": "execute_result"
    }
   ],
   "source": [
    "np.dot(AI,AC)"
>>>>>>> f02bf7fa5ed4df3149e9245a8268c710f611e0f9
   ]
  },
  {
   "cell_type": "code",
<<<<<<< HEAD
   "execution_count": 90,
=======
   "execution_count": 92,
   "metadata": {
    "collapsed": false
   },
   "outputs": [],
   "source": [
    "AI = np.dot(AI.T, AI)\n",
    "BI = np.dot(BI.T, BI)"
   ]
  },
  {
   "cell_type": "code",
   "execution_count": 93,
>>>>>>> f02bf7fa5ed4df3149e9245a8268c710f611e0f9
   "metadata": {
    "collapsed": true
   },
<<<<<<< HEAD
   "outputs": [],
   "source": [
    "AI = np.linalg.inv(AC)\n",
    "BI = np.linalg.inv(BC)"
=======
   "outputs": [
    {
     "data": {
      "text/plain": [
       "array([[ 0.99499374, -0.02474933,  0.        ,  0.        ],\n",
       "       [-0.10025047,  1.00752507,  0.        ,  0.        ],\n",
       "       [ 0.        ,  0.        ,  0.99499374, -0.02474933],\n",
       "       [ 0.        ,  0.        , -0.10025047,  1.00752507]])"
      ]
     },
     "execution_count": 93,
     "metadata": {},
     "output_type": "execute_result"
    }
   ],
   "source": [
    "np.dot(np.kron(B,A), np.kron(BI,AI))"
>>>>>>> f02bf7fa5ed4df3149e9245a8268c710f611e0f9
   ]
  },
  {
   "cell_type": "code",
<<<<<<< HEAD
   "execution_count": 91,
=======
   "execution_count": 94,
>>>>>>> f02bf7fa5ed4df3149e9245a8268c710f611e0f9
   "metadata": {
    "collapsed": false
   },
   "outputs": [
    {
     "data": {
      "text/plain": [
<<<<<<< HEAD
       "array([[  1.00000000e+00,   1.38777878e-17],\n",
       "       [  0.00000000e+00,   1.00000000e+00]])"
      ]
     },
     "execution_count": 91,
=======
       "array([[ 0.1       , -0.00500626,  0.        , -0.        ],\n",
       "       [-0.00500626,  0.02531328, -0.        ,  0.        ],\n",
       "       [ 0.        , -0.        ,  0.1       , -0.00500626],\n",
       "       [-0.        ,  0.        , -0.00500626,  0.02531328]])"
      ]
     },
     "execution_count": 94,
>>>>>>> f02bf7fa5ed4df3149e9245a8268c710f611e0f9
     "metadata": {},
     "output_type": "execute_result"
    }
   ],
   "source": [
<<<<<<< HEAD
    "np.dot(AI,AC)"
=======
    "np.kron(BI,AI)"
>>>>>>> f02bf7fa5ed4df3149e9245a8268c710f611e0f9
   ]
  },
  {
   "cell_type": "code",
<<<<<<< HEAD
   "execution_count": 92,
=======
   "execution_count": 85,
>>>>>>> f02bf7fa5ed4df3149e9245a8268c710f611e0f9
   "metadata": {
    "collapsed": false,
    "scrolled": false
   },
<<<<<<< HEAD
   "outputs": [],
   "source": [
    "AI = np.dot(AI.T, AI)\n",
    "BI = np.dot(BI.T, BI)"
=======
   "outputs": [
    {
     "data": {
      "text/plain": [
       "array([[10,  1,  0,  0],\n",
       "       [ 1, 40,  0,  0],\n",
       "       [ 0,  0, 10,  1],\n",
       "       [ 0,  0,  1, 40]])"
      ]
     },
     "execution_count": 85,
     "metadata": {},
     "output_type": "execute_result"
    }
   ],
   "source": [
    "np.kron(B,A)"
>>>>>>> f02bf7fa5ed4df3149e9245a8268c710f611e0f9
   ]
  },
  {
   "cell_type": "code",
   "execution_count": null,
   "metadata": {
    "collapsed": false
   },
   "outputs": [],
   "source": [
    "bbh_test[100]"
   ]
  },
  {
   "cell_type": "code",
   "execution_count": null,
   "metadata": {
    "collapsed": false
   },
   "outputs": [],
   "source": [
    "bbh_text[100]"
   ]
  },
  {
   "cell_type": "code",
   "execution_count": null,
   "metadata": {
    "collapsed": false
   },
   "outputs": [],
   "source": [
    "bbh_text[:,0][10], bbh_text[:,2][10]"
   ]
  },
  {
   "cell_type": "code",
   "execution_count": null,
<<<<<<< HEAD
=======
   "metadata": {
    "collapsed": false
   },
   "outputs": [],
   "source": [
    "a"
   ]
  },
  {
   "cell_type": "code",
   "execution_count": null,
>>>>>>> f02bf7fa5ed4df3149e9245a8268c710f611e0f9
   "metadata": {
    "collapsed": false
   },
   "outputs": [],
   "source": [
<<<<<<< HEAD
    "bbh_text[:,1]"
=======
    "a = np.atleast_2d(bbh_text[500][[0,2]])\n",
    "a"
>>>>>>> f02bf7fa5ed4df3149e9245a8268c710f611e0f9
   ]
  },
  {
   "cell_type": "code",
<<<<<<< HEAD
   "execution_count": 230,
=======
   "execution_count": null,
>>>>>>> f02bf7fa5ed4df3149e9245a8268c710f611e0f9
   "metadata": {
    "collapsed": false
   },
   "outputs": [],
   "source": [
<<<<<<< HEAD
    "bbh_text = np.genfromtxt(\"/home/daniel/data/imrphenom-test/bbh_mass1_only_hp_inference_spin_dist\", delimiter=\" \")\n",
    "#bbh_test = np.genfromtxt(\"/home/daniel/data/imrphenom-test/bbh_mass1_only_hp_inference_TEST.txt\", delimiter=\" \")\n",
    "bbh = data.Data(bbh_text[::3,:150], bbh_text[::3,150:],              \n",
    "                    #target_names = [\"Times\", \"Strain\"],\n",
    "                    label_names = [\"Mass\"],\n",
    "                    test_size = 0,\n",
    "                    #test_targets = bbh_test[:,:150], \n",
    "                    #test_labels = np.atleast_2d(bbh_test[:,150]).T\n",
    "                    )"
=======
    "a = np.atleast_2d(bbh_text[500:600, [0,2]])\n",
    "a[:,1] += np.random.rand(100)*200.5e-23\n",
    "#a[0][1]+=5e-23\n",
    "p,s = gp.prediction(a)"
>>>>>>> f02bf7fa5ed4df3149e9245a8268c710f611e0f9
   ]
  },
  {
   "cell_type": "code",
<<<<<<< HEAD
   "execution_count": 231,
=======
   "execution_count": null,
>>>>>>> f02bf7fa5ed4df3149e9245a8268c710f611e0f9
   "metadata": {
    "collapsed": false
   },
   "outputs": [],
   "source": [
<<<<<<< HEAD
    "x0 = [.01]*151\n",
    "x0[0] = (1/np.std(bbh.labels))**2\n",
    "gp = regression.Regressor(bbh, kernel=kernels.SquaredExponential(ndim=150), yerror = 0, tikh=1e-6)\n",
    "gp.set_hyperparameters(x0)"
=======
    "plt.plot(a[:,1])"
>>>>>>> f02bf7fa5ed4df3149e9245a8268c710f611e0f9
   ]
  },
  {
   "cell_type": "code",
<<<<<<< HEAD
   "execution_count": 232,
=======
   "execution_count": null,
>>>>>>> f02bf7fa5ed4df3149e9245a8268c710f611e0f9
   "metadata": {
    "collapsed": false,
    "scrolled": true
   },
   "outputs": [],
<<<<<<< HEAD
   "source": [
    "from scipy.optimize import minimize"
=======
   "source": [
    "z = plt.hist(p, bins=500)"
   ]
  },
  {
   "cell_type": "code",
   "execution_count": null,
   "metadata": {
    "collapsed": false
   },
   "outputs": [],
   "source": [
    "bbh_text[:,1]"
>>>>>>> f02bf7fa5ed4df3149e9245a8268c710f611e0f9
   ]
  },
  {
   "cell_type": "code",
<<<<<<< HEAD
   "execution_count": 108,
=======
   "execution_count": 230,
>>>>>>> f02bf7fa5ed4df3149e9245a8268c710f611e0f9
   "metadata": {
    "collapsed": false
   },
   "outputs": [],
   "source": [
<<<<<<< HEAD
    "def nll(p):\n",
    "        pn = gp.output_dim**2\n",
    "        gp.B_matrix = p[:pn].reshape(gp.output_dim, gp.output_dim)\n",
    "        if not np.all(np.linalg.eigvals(gp.B_matrix) > 0):\n",
    "            return 1e25\n",
    "        try:\n",
    "            gp.set_hyperparameters(p[pn:])\n",
    "        except:\n",
    "            return 1e25\n",
    "        ll = gp.loglikelihood()\n",
    "        return -ll if np.isfinite(ll) else 1e25\n",
    "\n",
    "B0 = np.hstack([gp.B_matrix.reshape(-1), gp.kernel.flat_hyper])\n",
    "res = minimize(nll, B0, method='BFGS', options={'disp': False, 'maxiter':10000})\n",
    "gp.B_matrix = res.x[:gp.output_dim**2].reshape(gp.output_dim, gp.output_dim)\n",
    "gp.kernel.flat_hyper = res.x[gp.output_dim**2:]"
=======
    "bbh_text = np.genfromtxt(\"/home/daniel/data/imrphenom-test/bbh_mass1_only_hp_inference_spin_dist\", delimiter=\" \")\n",
    "#bbh_test = np.genfromtxt(\"/home/daniel/data/imrphenom-test/bbh_mass1_only_hp_inference_TEST.txt\", delimiter=\" \")\n",
    "bbh = data.Data(bbh_text[::3,:150], bbh_text[::3,150:],              \n",
    "                    #target_names = [\"Times\", \"Strain\"],\n",
    "                    label_names = [\"Mass\"],\n",
    "                    test_size = 0,\n",
    "                    #test_targets = bbh_test[:,:150], \n",
    "                    #test_labels = np.atleast_2d(bbh_test[:,150]).T\n",
    "                    )"
   ]
  },
  {
   "cell_type": "code",
   "execution_count": 231,
   "metadata": {
    "collapsed": false
   },
   "outputs": [],
   "source": [
    "x0 = [.01]*151\n",
    "x0[0] = (1/np.std(bbh.labels))**2\n",
    "gp = regression.Regressor(bbh, kernel=kernels.SquaredExponential(ndim=150), yerror = 0, tikh=1e-6)\n",
    "gp.set_hyperparameters(x0)"
   ]
  },
  {
   "cell_type": "code",
   "execution_count": 232,
   "metadata": {
    "collapsed": false,
    "scrolled": true
   },
   "outputs": [],
   "source": [
    "from scipy.optimize import minimize"
>>>>>>> f02bf7fa5ed4df3149e9245a8268c710f611e0f9
   ]
  },
  {
   "cell_type": "code",
<<<<<<< HEAD
   "execution_count": 116,
=======
   "execution_count": 108,
>>>>>>> f02bf7fa5ed4df3149e9245a8268c710f611e0f9
   "metadata": {
    "collapsed": true
   },
   "outputs": [],
   "source": [
    "def nll(p):\n",
    "        pn = gp.output_dim**2\n",
    "        gp.B_matrix = p[:pn].reshape(gp.output_dim, gp.output_dim)\n",
    "        if not np.all(np.linalg.eigvals(gp.B_matrix) > 0):\n",
    "            return 1e25\n",
    "        try:\n",
    "            gp.set_hyperparameters(p[pn:])\n",
    "        except:\n",
    "            return 1e25\n",
    "        ll = gp.loglikelihood()\n",
    "        return -ll if np.isfinite(ll) else 1e25\n",
    "\n",
    "B0 = np.hstack([gp.B_matrix.reshape(-1), gp.kernel.flat_hyper])\n",
    "res = minimize(nll, B0, method='BFGS', options={'disp': False, 'maxiter':10000})\n",
    "gp.B_matrix = res.x[:gp.output_dim**2].reshape(gp.output_dim, gp.output_dim)\n",
    "gp.kernel.flat_hyper = res.x[gp.output_dim**2:]"
   ]
  },
  {
   "cell_type": "code",
   "execution_count": 116,
   "metadata": {
    "collapsed": true
   },
   "outputs": [
    {
     "data": {
      "text/plain": [
       "      fun: 150.91055572321756\n",
       " hess_inv: array([[  2.42739151e-01,  -1.15173068e-01,  -1.10172382e-01, ...,\n",
       "         -1.53928850e-02,  -9.20086976e-03,  -2.86916274e-02],\n",
       "       [ -1.15173068e-01,   9.93925916e-01,  -5.66681024e-03, ...,\n",
       "          3.32154017e-03,  -1.49596267e-03,   1.94117641e-03],\n",
       "       [ -1.10172382e-01,  -5.66681024e-03,   9.94705599e-01, ...,\n",
       "          3.05604450e-03,  -1.77107446e-03,   1.75140855e-03],\n",
       "       ..., \n",
       "       [ -1.53928850e-02,   3.32154017e-03,   3.05604450e-03, ...,\n",
       "          9.99578107e-01,  -5.46168993e-03,  -2.36690907e-04],\n",
       "       [ -9.20086976e-03,  -1.49596267e-03,  -1.77107446e-03, ...,\n",
       "         -5.46168993e-03,   9.89594493e-01,  -5.18897302e-03],\n",
       "       [ -2.86916274e-02,   1.94117641e-03,   1.75140855e-03, ...,\n",
       "         -2.36690907e-04,  -5.18897302e-03,   9.99703786e-01]])\n",
       "      jac: array([ 0.69319885,  2.81060785,  2.81849452,  2.83421053,  2.86575853,\n",
       "        2.9144123 ,  2.9247873 ,  2.91626456,  2.92993839,  2.94627371,\n",
       "        2.95490202,  2.94110485,  2.91619997,  2.88794138,  2.85939674,\n",
       "        2.82659694,  2.82111599,  2.86057596,  2.89219936,  2.91722005,\n",
       "        2.94496043,  2.95084217,  2.93354907,  2.91639915,  2.90494878,\n",
       "        2.90191159,  2.8678988 ,  2.84388879,  2.83852959,  2.84703572,\n",
       "        2.88991757,  2.91448415,  2.91493888,  2.93062853,  2.94118491,\n",
       "        2.911652  ,  2.88496703,  2.87733777,  2.86245289,  2.81969011,\n",
       "        2.85222186,  2.88390663,  2.9054373 ,  2.90267625,  2.90670923,\n",
       "        2.89717182,  2.90022331,  2.90115755,  2.89588142,  2.88178419,\n",
       "        2.88070343,  2.89400516,  2.89966478,  2.88417859,  2.88309771,\n",
       "        2.87768478,  2.89235076,  2.9035985 ,  2.90902624,  2.90914177,\n",
       "        2.89296667,  2.87170838,  2.87231493,  2.87622381,  2.87830029,\n",
       "        2.88684043,  2.8958474 ,  2.91370835,  2.89593029,  2.87078991,\n",
       "        2.85531653,  2.85878748,  2.87542962,  2.89389718,  2.90289101,\n",
       "        2.89061885,  2.88070255,  2.8491326 ,  2.84356493,  2.86748688,\n",
       "        2.89774378,  2.89994544,  2.88896323,  2.85635651,  2.83118405,\n",
       "        2.8414834 ,  2.89512709,  2.92056477,  2.89296587,  2.83279677,\n",
       "        2.82376743,  2.87899195,  2.89415666,  2.85542004,  2.81569663,\n",
       "        2.89184909,  2.8841975 ,  2.82112615,  2.8948574 ,  2.85363699,\n",
       "        2.867309  ,  2.92893143,  2.84657348,  2.89739588,  2.8544013 ,\n",
       "        2.85681684,  2.86020978,  2.85893369,  2.84722781,  2.8481475 ,\n",
       "        2.84952717,  2.83852131,  2.84130407,  2.85770732,  2.83434041,\n",
       "        2.8351612 ,  2.84706076,  2.82735571,  2.83267555,  2.85123152,\n",
       "        2.83134592,  2.83906721,  2.8452043 ,  2.83383098,  2.84171852,\n",
       "        2.8323798 ,  2.82388103,  2.85545273,  2.85518255,  2.8449306 ,\n",
       "        2.87787549,  2.82685773,  2.85331591,  2.85857759,  2.84475513,\n",
       "        2.85503903,  2.86127887,  2.882668  ,  2.84306474,  2.83892845,\n",
       "        2.85677549,  2.85019191,  2.85798716,  2.84979261,  2.87553173,\n",
       "        2.84646812,  2.85300687,  2.84250735,  2.82992323,  2.86305273,\n",
       "        2.87639244])\n",
       "  message: 'Desired error not necessarily achieved due to precision loss.'\n",
       "     nfev: 75\n",
       "      nit: 3\n",
       "     njev: 63\n",
       "   status: 2\n",
       "  success: False\n",
       "        x: array([  2.17522380e+01,   9.20855901e-01,   8.55708663e-01,\n",
       "         7.38116013e-01,   5.21652384e-01,   1.98466796e-01,\n",
       "        -2.18905954e-01,  -3.13881804e-01,  -1.98820749e-01,\n",
       "        -8.94136532e-02,  -1.34980080e-01,  -2.16077850e-01,\n",
       "        -8.60330597e-02,   1.60070258e-01,   4.43689452e-01,\n",
       "         7.65918746e-01,   8.13807491e-01,   4.51450451e-01,\n",
       "         9.67522236e-02,  -1.91290611e-01,  -3.14236780e-01,\n",
       "        -2.52183554e-01,  -2.34254700e-01,  -2.83700406e-01,\n",
       "        -2.71713968e-01,  -8.41124473e-03,   3.74158093e-01,\n",
       "         4.87422515e-01,   5.61046128e-01,   6.05892483e-01,\n",
       "         2.78134694e-01,  -9.44494162e-02,  -2.88109070e-01,\n",
       "        -2.80623358e-01,  -2.37300099e-01,  -3.00731450e-01,\n",
       "        -2.86010449e-01,  -5.58696768e-02,   3.87952385e-01,\n",
       "         8.37810052e-01,   5.78604833e-01,   2.12741086e-01,\n",
       "        -1.09315437e-02,  -1.65897297e-01,  -1.79200345e-01,\n",
       "        -2.33912503e-01,  -2.64592380e-01,  -1.77897433e-01,\n",
       "         5.99035212e-02,   2.17249101e-01,   2.58733700e-01,\n",
       "         1.65177281e-01,  -2.58957219e-02,  -1.01023583e-01,\n",
       "        -5.11787706e-02,  -1.41903199e-01,  -1.47560493e-01,\n",
       "        -9.03526202e-02,   4.39496888e-03,   5.33420690e-02,\n",
       "        -1.10247768e-01,  -2.68603396e-01,  -1.64193369e-01,\n",
       "         9.70209558e-02,   5.02604317e-02,  -1.03788453e-02,\n",
       "        -4.05731551e-02,  -6.35155733e-02,  -2.18422064e-01,\n",
       "        -3.62035718e-01,  -3.97440275e-01,  -2.06886240e-01,\n",
       "        -3.83313966e-05,   1.18269409e-01,   1.05634448e-01,\n",
       "        -1.47848742e-01,  -3.31137872e-01,  -4.81486880e-01,\n",
       "        -5.13143177e-01,  -3.09433278e-01,  -5.54623731e-02,\n",
       "         3.66634969e-03,  -1.30928383e-01,  -3.98269106e-01,\n",
       "        -6.76769464e-01,  -6.25486801e-01,  -2.52347387e-01,\n",
       "        -7.87643077e-02,  -1.65086891e-01,  -7.17541442e-01,\n",
       "        -7.81520360e-01,  -3.48265016e-01,  -2.92384824e-01,\n",
       "        -6.13462721e-01,  -8.63010872e-01,  -3.09394942e-01,\n",
       "        -5.94805225e-01,  -8.75171624e-01,  -3.39584710e-01,\n",
       "        -7.78774438e-01,  -4.77985115e-01,  -4.28339561e-01,\n",
       "        -6.64785309e-01,  -3.45908972e-01,  -6.68821115e-01,\n",
       "        -4.42467584e-01,  -4.94334650e-01,  -5.23101615e-01,\n",
       "        -4.15946239e-01,  -5.38073847e-01,  -4.43418783e-01,\n",
       "        -4.63172867e-01,  -4.87744916e-01,  -4.44611995e-01,\n",
       "        -4.59156944e-01,  -4.31801129e-01,  -4.41476632e-01,\n",
       "        -4.24075379e-01,  -4.44775298e-01,  -4.03735017e-01,\n",
       "        -4.63296759e-01,  -4.22578372e-01,  -4.60927012e-01,\n",
       "        -4.25598432e-01,  -4.46314636e-01,  -4.39552840e-01,\n",
       "        -4.31611850e-01,  -4.14831876e-01,  -3.41378046e-01,\n",
       "        -4.18527534e-01,  -3.27267959e-01,  -4.48776615e-01,\n",
       "        -3.60595757e-01,  -4.25278987e-01,  -3.97149527e-01,\n",
       "        -4.73832183e-01,  -4.13719831e-01,  -4.27049810e-01,\n",
       "        -3.77127971e-01,  -4.12886501e-01,  -5.16316446e-01,\n",
       "        -3.57487258e-01,  -4.09174646e-01,  -2.92338498e-01,\n",
       "        -3.94931345e-01,  -2.99430479e-01,  -4.02625550e-01,\n",
       "        -4.10095757e-01,  -4.06234528e-01,  -3.13741730e-01,\n",
       "        -2.28647026e-01])"
      ]
     },
     "execution_count": 116,
     "metadata": {},
     "output_type": "execute_result"
    }
   ],
   "source": [
    "gp.optimise();"
   ]
  },
  {
   "cell_type": "code",
   "execution_count": 224,
   "metadata": {
    "collapsed": false
   },
   "outputs": [
    {
     "name": "stdout",
     "output_type": "stream",
     "text": [
      "10.0 0.9\n",
      "[[ 7.50677673 -1.73169589]]\n",
      "[ 53.50640127  16.45453538]\n"
     ]
    }
   ],
   "source": [
    "i = 109\n",
    "test = np.atleast_2d(bbh_text[i,:-2])\n",
    "print bbh_text[i,150], bbh_text[i,151]\n",
    "print bbh.denormalise(gp.prediction(test.T)[0].T, 'label')\n",
    "print np.sqrt(bbh.denormalise(np.diag(gp.prediction(test.T)[1]), 'label'))"
   ]
  },
  {
   "cell_type": "code",
   "execution_count": 190,
   "metadata": {
    "collapsed": false
   },
   "outputs": [],
   "source": [
    "actual_values = []\n",
    "predictions = []\n",
    "for i in xrange(200):\n",
    "    test = np.atleast_2d(bbh_text[i,:-2])\n",
    "    actual_values.append(np.array([[ bbh_text[i,150], bbh_text[i,151] ]]))\n",
    "    predictions.append(bbh.denormalise(gp.prediction(test.T)[0].T, 'label'))"
   ]
  },
  {
   "cell_type": "code",
   "execution_count": 204,
   "metadata": {
    "collapsed": false,
    "scrolled": true
   },
   "outputs": [
    {
     "data": {
      "text/plain": [
       "[<matplotlib.lines.Line2D at 0x7fabd87b8990>]"
      ]
     },
     "execution_count": 204,
     "metadata": {},
     "output_type": "execute_result"
    },
    {
     "data": {
      "image/png": "iVBORw0KGgoAAAANSUhEUgAAAXQAAAD8CAYAAABn919SAAAABHNCSVQICAgIfAhkiAAAAAlwSFlz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\nEMIiJNCFEMIiJNCFEMIi/j+71X4g5o307wAAAABJRU5ErkJggg==\n",
      "text/plain": [
       "<matplotlib.figure.Figure at 0x7fabd8839210>"
      ]
     },
     "metadata": {},
     "output_type": "display_data"
    }
   ],
   "source": [
    "plt.plot(np.asarray(actual_values)[:,0,0], np.asarray(predictions)[:,0,0])"
   ]
  },
  {
   "cell_type": "code",
   "execution_count": 213,
   "metadata": {
    "collapsed": false
   },
   "outputs": [
    {
     "name": "stderr",
     "output_type": "stream",
     "text": [
      "/home/daniel/.virtualenvs/heron/lib/python2.7/site-packages/ipykernel/__main__.py:1: RuntimeWarning: divide by zero encountered in divide\n",
      "  if __name__ == '__main__':\n"
     ]
    }
   ],
   "source": [
    "error = np.sqrt((np.asarray(actual_values) - np.asarray(predictions))**2) / np.asarray(actual_values)"
   ]
  },
  {
   "cell_type": "code",
   "execution_count": 214,
   "metadata": {
    "collapsed": false
   },
   "outputs": [
    {
     "data": {
      "text/plain": [
       "[<matplotlib.lines.Line2D at 0x7fabd7e18050>]"
      ]
     },
     "execution_count": 214,
     "metadata": {},
     "output_type": "execute_result"
    },
    {
     "data": {
      "image/png": "iVBORw0KGgoAAAANSUhEUgAAAXcAAAD8CAYAAACMwORRAAAABHNCSVQICAgIfAhkiAAAAAlwSFlz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\n",
      "text/plain": [
       "<matplotlib.figure.Figure at 0x7fabd8186510>"
      ]
     },
     "metadata": {},
     "output_type": "display_data"
    }
   ],
   "source": [
    "plt.plot(np.asarray(actual_values)[:,0,0], error[:,0,0], '.')"
   ]
  },
  {
   "cell_type": "code",
   "execution_count": 227,
   "metadata": {
    "collapsed": false,
    "scrolled": true
   },
   "outputs": [
    {
     "data": {
      "image/png": "iVBORw0KGgoAAAANSUhEUgAAAXoAAAD8CAYAAAB5Pm/hAAAABHNCSVQICAgIfAhkiAAAAAlwSFlz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\nSWqcQS9JjTPoJalxBr0kNc6gl6TG/R+4a8V04zOHvgAAAABJRU5ErkJggg==\n",
      "text/plain": [
       "<matplotlib.figure.Figure at 0x7fabd7131e10>"
      ]
     },
     "metadata": {},
     "output_type": "display_data"
    }
   ],
   "source": [
    "plt.hist( error[:,0,0]*100, bins=100, log=False);"
   ]
  },
  {
   "cell_type": "code",
   "execution_count": 220,
   "metadata": {
    "collapsed": false
   },
   "outputs": [
    {
     "data": {
      "text/plain": [
       "array([ 17.34460322,  17.34460322])"
      ]
     },
     "execution_count": 220,
     "metadata": {},
     "output_type": "execute_result"
    }
   ],
   "source": [
    "np.sqrt(np.diag(gp.prediction(test.T)[1]))"
   ]
  },
  {
   "cell_type": "code",
   "execution_count": null,
   "metadata": {
    "collapsed": true
   },
   "outputs": [],
   "source": []
  },
  {
   "cell_type": "code",
   "execution_count": null,
   "metadata": {
    "collapsed": true
   },
   "outputs": [],
   "source": []
  }
 ],
 "metadata": {
  "kernelspec": {
   "display_name": "Python 2",
   "language": "python",
   "name": "python2"
  },
  "language_info": {
   "codemirror_mode": {
    "name": "ipython",
    "version": 2
   },
   "file_extension": ".py",
   "mimetype": "text/x-python",
   "name": "python",
   "nbconvert_exporter": "python",
   "pygments_lexer": "ipython2",
   "version": "2.7.6"
  },
  "latex_envs": {
   "bibliofile": "biblio.bib",
   "cite_by": "apalike",
   "current_citInitial": 1,
   "eqLabelWithNumbers": true,
   "eqNumInitial": 0
  }
 },
 "nbformat": 4,
 "nbformat_minor": 0
}
