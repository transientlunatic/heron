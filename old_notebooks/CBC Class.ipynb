{
 "cells": [
  {
   "cell_type": "markdown",
   "metadata": {},
   "source": [
    "This notebook is devoted to the development of an easy-to-use class to handle CBC waveforms."
   ]
  },
  {
   "cell_type": "code",
   "execution_count": 1,
   "metadata": {
    "collapsed": true
   },
   "outputs": [],
   "source": [
    "import lal, lalsimulation\n",
    "import numpy as np"
   ]
  },
  {
   "cell_type": "code",
   "execution_count": 2,
   "metadata": {
    "collapsed": true
   },
   "outputs": [],
   "source": [
    "class Detector(object):\n",
    "    \"\"\"\n",
    "    A class representing a gravitational wave detector.\n",
    "    \"\"\"\n",
    "    \n",
    "    detMap = {'H1': lal.LALDetectorIndexLHODIFF, \\\n",
    "              'L1': lal.LALDetectorIndexLLODIFF, \\\n",
    "              'G1': lal.LALDetectorIndexGEO600DIFF, \\\n",
    "              'V1': lal.LALDetectorIndexVIRGODIFF}\n",
    "    \n",
    "    def __init__(self, detector):\n",
    "        # Lookup the detector from the table.\n",
    "        try:\n",
    "            self.detector = self.detMap[detector]\n",
    "        except KeyError:\n",
    "            raise ValueError(\"{} is not a valid detector.\".format(detector))\n",
    "        self.detval = lal.CachedDetectors[self.detector]\n",
    "        #self.response = self.detval.response\n",
    "    \n",
    "    def response(self, gps, ra, dec, psi = 0):\n",
    "        \"\"\"\n",
    "        Calculate the antenna resonse at a given sky position and polarisation\n",
    "        angle.\n",
    "        \n",
    "        Parameters\n",
    "        ----------\n",
    "        time : float\n",
    "            The time, in GPS seconds.\n",
    "        ra : float\n",
    "            The right ascension, in radians. \n",
    "        dec : float\n",
    "            The declination, in radians.\n",
    "        psi : float\n",
    "            The polarisation angle of the gravitational wave, in radians.\n",
    "            Defaults to 0.\n",
    "            \n",
    "        Returns\n",
    "        -------\n",
    "        fp : float\n",
    "            The response, F+, for the + polarisation.\n",
    "        fc : float\n",
    "            The response, Fx, for the x polarisation.\n",
    "        \"\"\"\n",
    "        gps = lal.LIGOTimeGPS(gps)\n",
    "        gmst_rad = lal.GreenwichMeanSiderealTime(gps)\n",
    "        \n",
    "        fp, fc = lal.ComputeDetAMResponse(self.detval.response, ra, dec, psi, gmst_rad)\n",
    "        return fp, fc\n",
    "        "
   ]
  },
  {
   "cell_type": "code",
   "execution_count": 3,
   "metadata": {
    "collapsed": false
   },
   "outputs": [],
   "source": [
    "L1 = Detector(\"L1\")"
   ]
  },
  {
   "cell_type": "code",
   "execution_count": 4,
   "metadata": {
    "collapsed": false
   },
   "outputs": [
    {
     "data": {
      "text/plain": [
       "(0.4156634344861688, -0.09731785424408984)"
      ]
     },
     "execution_count": 4,
     "metadata": {},
     "output_type": "execute_result"
    }
   ],
   "source": [
    "L1.response(1126620016, 0,0)"
   ]
  },
  {
   "cell_type": "code",
   "execution_count": 5,
   "metadata": {
    "collapsed": false
   },
   "outputs": [],
   "source": [
    "ras = np.linspace(0,2*np.pi, 200)\n",
    "decs = np.linspace(0,np.pi, 100)\n",
    "\n",
    "mapp = np.zeros((200,100))\n",
    "mapc = np.zeros((200,100))\n",
    "xv, yv = np.meshgrid(ras, decs, sparse=False, indexing='ij')\n",
    "for i in range(200):\n",
    "    for j in range(100):\n",
    "        mapp[i][j] = L1.response(1126620016, xv[i,j],yv[i,j])[0]\n",
    "        mapc[i][j] = L1.response(1126620016, xv[i,j],yv[i,j])[1]"
   ]
  },
  {
   "cell_type": "code",
   "execution_count": 32,
   "metadata": {
    "collapsed": false
   },
   "outputs": [],
   "source": [
    "class CBC(object):\n",
    "    \"\"\"\n",
    "    A class representing a Compact Binary Coalescence event in gravitational\n",
    "    waves.\n",
    "    \n",
    "    \"\"\"\n",
    "    \n",
    "    def __init__(self, mass1, mass2, \n",
    "                 spin1=(0,0,0), spin2=(0,0,0),\n",
    "                 distance = 400,\n",
    "                 inclination = 0,\n",
    "                 phase = 0,\n",
    "                ):\n",
    "        \"\"\"\n",
    "        A gravitational wave CBC Event.\n",
    "        \n",
    "        Parameters\n",
    "        ----------\n",
    "        mass1 : float\n",
    "            The mass, in solar masses, of the primary component.\n",
    "        mass2 : float\n",
    "            The mass, in solar masses, of the secondary component.\n",
    "        spin1 : list\n",
    "            The spin vector for the primary component.\n",
    "            Defaults to (0,0,0).\n",
    "        spin2 : list\n",
    "            The spin vector for the secondary component.\n",
    "            Defaults to (0,0,0).\n",
    "        distance : float\n",
    "            The luminosity distance to the event in megaparsec. \n",
    "            Defaults to 400 Mpc.\n",
    "        inclination : float\n",
    "            The inclination of the source. \n",
    "            Defaults to 0.\n",
    "        phase : float\n",
    "            The phase at which coalescence occurs.\n",
    "            Defaults to 0.\n",
    "        \"\"\"\n",
    "        self.mass1, self.mass2 = mass1*lal.MSUN_SI, mass2*lal.MSUN_SI\n",
    "        self.spin1, self.spin2 = spin1, spin2\n",
    "        self.distance = distance *1e6 * lal.PC_SI\n",
    "        self.cophase = phase\n",
    "        self.inclination = inclination\n",
    "        \n",
    "    def apply_response(self, detector, gps, ra, dec, psi=0, df=0.677380716732122, ):\n",
    "        \"\"\"\n",
    "        Apply an antenna response to a waveform.\n",
    "        \n",
    "        Parameters\n",
    "        ----------\n",
    "        dt : float\n",
    "            The time spacing  of the timeseries\n",
    "        detector : Detector object\n",
    "            The detector for which the response should be calculated.\n",
    "        time : float\n",
    "            The time, in GPS seconds.\n",
    "        ra : float\n",
    "            The right ascension, in radians. \n",
    "        dec : float\n",
    "            The declination, in radians.\n",
    "        psi : float\n",
    "            The polarisation angle of the gravitational wave, in radians.\n",
    "            Defaults to 0.\n",
    "        \"\"\"\n",
    "        fp, fc = detector.response(gps, ra, dec, psi)\n",
    "        t, hf, hc = self.freqseries(df)\n",
    "        return t, hf*fp, hc*fc\n",
    "        \n",
    "    def intrinsic(self):\n",
    "        \"\"\"\n",
    "        Return a dictionary of instrinsic parameters of this CBC event.\n",
    "        \n",
    "        Returns\n",
    "        dict\n",
    "            A dictionary of the parameters of the event\n",
    "        \"\"\"\n",
    "        dictionary = {}\n",
    "        dictionary['inclination'] = self.inclination\n",
    "        dictionary['coalsence phase'] = self.cophase\n",
    "        dictionary['mass 1'] = self.mass1\n",
    "        dictionary['mass 2'] = self.mass2\n",
    "        dictionary['distance'] = self.distance\n",
    "        dictionary['spin 1'] = self.spin1\n",
    "        dictionary['spin 2'] = self.spin2\n",
    "        \n",
    "        \n",
    "        return dictionary\n",
    "        \n",
    "    def timeseries(self, dt=0.0002):\n",
    "        \"\"\"\n",
    "        Return a time-domain representation of the CBC waveform.\n",
    "        \n",
    "        Parameters\n",
    "        ----------\n",
    "        dt : float\n",
    "            The time-spacing of the timeseries. Defaults to 0.0002\n",
    "            \n",
    "        Returns\n",
    "        -------\n",
    "        times : ndarray\n",
    "            An array of timestamps\n",
    "        hp : ndarray\n",
    "            An array of h+ amplitudes\n",
    "        hx : ndarray\n",
    "            An array of hx amplitudes.\n",
    "        \"\"\"\n",
    "        \n",
    "        flower = 10 \n",
    "        fref = 10\n",
    "        z = 0.0\n",
    "        lambda1 = lambda2 = 0.0\n",
    "        amporder = 0\n",
    "        phorder = 0\n",
    "\n",
    "        waveflags = lalsimulation.SimInspiralCreateWaveformFlags()\n",
    "        approximant = lalsimulation.SimInspiralGetApproximantFromString(\"IMRPhenomP\")\n",
    "        #phorder = lalsimulation.SimInspiralGetOrderFromString(\"IMRPhenomP0\")\n",
    "        \n",
    "        hp, hc = lalsimulation.SimInspiralTD(self.cophase, dt, \n",
    "                                self.mass1, self.mass2,\n",
    "                                self.spin1[0], self.spin1[1], self.spin1[2],\n",
    "                                self.spin2[0], self.spin2[1], self.spin2[2],\n",
    "                                flower, fref, self.distance, z,\n",
    "                                self.inclination, lambda1, lambda2,\n",
    "                                waveflags, None, amporder, phorder, approximant\n",
    "                                )\n",
    "        \n",
    "        times = np.linspace(0, len(hp.data.data)*hp.deltaT, \n",
    "                               len(hp.data.data)) + hp.epoch\n",
    "        \n",
    "        return times, hp.data.data, hc.data.data\n",
    "    \n",
    "    def freqseries(self, df=0.677380716732122):\n",
    "        \"\"\"\n",
    "        Return a time-domain representation of the CBC waveform.\n",
    "        \n",
    "        Parameters\n",
    "        ----------\n",
    "        df : float\n",
    "            The frequency-spacing of the series. Defaults to 0.01\n",
    "            \n",
    "        Returns\n",
    "        -------\n",
    "        freqs : ndarray\n",
    "            An array of frequencies\n",
    "        hp : ndarray\n",
    "            An array of h+ amplitudes\n",
    "        hx : ndarray\n",
    "            An array of hx amplitudes.\n",
    "        \"\"\"\n",
    "        \n",
    "        flower = 10 \n",
    "        fupper = 2000\n",
    "        z = 0.0\n",
    "        lambda1 = lambda2 = 0.0\n",
    "        amporder = 0\n",
    "        phorder = 0\n",
    "\n",
    "        waveflags = lalsimulation.SimInspiralCreateWaveformFlags()\n",
    "        approximant = lalsimulation.SimInspiralGetApproximantFromString(\"IMRPhenomP\")\n",
    "        #phorder = lalsimulation.SimInspiralGetOrderFromString(\"IMRPhenomP0\")\n",
    "        \n",
    "        hp, hc = lalsimulation.SimInspiralFD(self.cophase, df, \n",
    "                                self.mass1, self.mass2,\n",
    "                                self.spin1[0], self.spin1[1], self.spin1[2],\n",
    "                                self.spin2[0], self.spin2[1], self.spin2[2],\n",
    "                                flower, fupper, 40,  self.distance, z,\n",
    "                                self.inclination, lambda1, lambda2,\n",
    "                                waveflags, None, amporder, phorder, approximant\n",
    "                                )\n",
    "        \n",
    "        freqs = np.linspace(0, len(hp.data.data)*hp.deltaF, \n",
    "                               len(hp.data.data)) + hp.f0\n",
    "        \n",
    "        return freqs, hp.data.data, hc.data.data"
   ]
  },
  {
   "cell_type": "code",
   "execution_count": 33,
   "metadata": {
    "collapsed": false
   },
   "outputs": [],
   "source": [
    "cbc1 = CBC(5,5)\n",
    "cbc2 = CBC(5,5, phase=0.4)"
   ]
  },
  {
   "cell_type": "code",
   "execution_count": 34,
   "metadata": {
    "collapsed": false
   },
   "outputs": [],
   "source": [
    "fs = cbc1.apply_response(detector=L1, ra=0, dec=0, gps=1126620016, df=.1)"
   ]
  },
  {
   "cell_type": "code",
   "execution_count": 39,
   "metadata": {
    "collapsed": false
   },
   "outputs": [
    {
     "data": {
      "text/plain": [
       "[<matplotlib.lines.Line2D at 0x7f87ecf08650>]"
      ]
     },
     "execution_count": 39,
     "metadata": {},
     "output_type": "execute_result"
    },
    {
     "data": {
      "image/png": "[encoded data removed]",
      "text/plain": [
       "<matplotlib.figure.Figure at 0x7f87ecf16c90>"
      ]
     },
     "metadata": {},
     "output_type": "display_data"
    }
   ],
   "source": [
    "plt.plot(fs[0][:200], fs[1][:200])"
   ]
  },
  {
   "cell_type": "code",
   "execution_count": null,
   "metadata": {
    "collapsed": false
   },
   "outputs": [],
   "source": [
    "ts = cbc1.timeseries(dt = 0.0001)\n",
    "ts2 = cbc2.timeseries(dt = 0.0001)"
   ]
  },
  {
   "cell_type": "code",
   "execution_count": 15,
   "metadata": {
    "collapsed": true
   },
   "outputs": [],
   "source": [
    "import matplotlib.pyplot as plt\n",
    "%matplotlib inline"
   ]
  },
  {
   "cell_type": "code",
   "execution_count": null,
   "metadata": {
    "collapsed": false
   },
   "outputs": [],
   "source": [
    "f, ax = plt.subplots(2,1)\n",
    "ax[0].plot(ts[0][-1000:], ts[1][-1000:])\n",
    "ax[0].plot(ts[0][-1000:], ts[2][-1000:])\n",
    "ax[1].plot(ts[0][-1000:], ts2[1][-1000:])\n",
    "ax[1].plot(ts[0][-1000:], ts2[2][-1000:])"
   ]
  },
  {
   "cell_type": "code",
   "execution_count": null,
   "metadata": {
    "collapsed": true
   },
   "outputs": [],
   "source": []
  }
 ],
 "metadata": {
  "kernelspec": {
   "display_name": "Python 2",
   "language": "python",
   "name": "python2"
  },
  "language_info": {
   "codemirror_mode": {
    "name": "ipython",
    "version": 2
   },
   "file_extension": ".py",
   "mimetype": "text/x-python",
   "name": "python",
   "nbconvert_exporter": "python",
   "pygments_lexer": "ipython2",
   "version": "2.7.6"
  },
  "latex_envs": {
   "bibliofile": "biblio.bib",
   "cite_by": "apalike",
   "current_citInitial": 1,
   "eqLabelWithNumbers": true,
   "eqNumInitial": 0
  }
 },
 "nbformat": 4,
 "nbformat_minor": 0
}
