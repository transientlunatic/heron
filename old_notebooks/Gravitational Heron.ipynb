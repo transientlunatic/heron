{
 "cells": [
  {
   "cell_type": "code",
   "execution_count": 8,
   "metadata": {
    "collapsed": false
   },
   "outputs": [],
   "source": [
    "from heron import data\n",
    "import matplotlib.pyplot as plt\n",
    "%matplotlib inline\n",
    "import numpy as np\n",
    "import scipy"
   ]
  },
  {
   "cell_type": "code",
   "execution_count": 2,
   "metadata": {
    "collapsed": false
   },
   "outputs": [],
   "source": [
    "bbh_text = np.genfromtxt(\"/home/daniel/repositories/heron/data/bbh_mass1_only_hp_3D.txt\", delimiter=\" \")\n",
    "bbh_test = np.genfromtxt(\"/home/daniel/repositories/heron/data/bbh_mass1_only_hp_3D_TEST.txt\", delimiter=\" \")"
   ]
  },
  {
   "cell_type": "code",
<<<<<<< HEAD
   "execution_count": 3,
=======
   "execution_count": 18,
>>>>>>> f02bf7fa5ed4df3149e9245a8268c710f611e0f9
   "metadata": {
    "collapsed": false
   },
   "outputs": [],
   "source": [
    "bbh = data.Data(bbh_text[:,:3], bbh_text[:,-1],              \n",
    "                    target_names = [\"Times\", \"Mass\", \"Spin\"],\n",
    "                    label_names = [\"hp strain\"],\n",
    "                    test_size = 0,\n",
    "                    test_targets = bbh_test[:,:3],\n",
    "                    test_labels = bbh_test[:,-1]\n",
    "                    )"
<<<<<<< HEAD
=======
   ]
  },
  {
   "cell_type": "code",
   "execution_count": 19,
   "metadata": {
    "collapsed": false
   },
   "outputs": [
    {
     "data": {
      "text/plain": [
       "array([ -4.60003300e-03,   5.00000000e+00,   0.00000000e+00,\n",
       "        -7.43371010e-23])"
      ]
     },
     "execution_count": 19,
     "metadata": {},
     "output_type": "execute_result"
    }
   ],
   "source": [
    "bbh_text[1]"
>>>>>>> f02bf7fa5ed4df3149e9245a8268c710f611e0f9
   ]
  },
  {
   "cell_type": "code",
<<<<<<< HEAD
   "execution_count": 4,
=======
   "execution_count": 5,
>>>>>>> f02bf7fa5ed4df3149e9245a8268c710f611e0f9
   "metadata": {
    "collapsed": false
   },
   "outputs": [],
   "source": [
    "from heron import regression\n",
    "from heron import kernels"
   ]
  },
  {
   "cell_type": "code",
<<<<<<< HEAD
   "execution_count": 5,
=======
   "execution_count": 6,
>>>>>>> f02bf7fa5ed4df3149e9245a8268c710f611e0f9
   "metadata": {
    "collapsed": false
   },
   "outputs": [
    {
<<<<<<< HEAD
     "data": {
      "text/plain": [
       "-5070.1231432724007"
      ]
     },
     "execution_count": 5,
     "metadata": {},
     "output_type": "execute_result"
=======
     "ename": "MemoryError",
     "evalue": "",
     "output_type": "error",
     "traceback": [
      "\u001b[0;31m---------------------------------------------------------------------------\u001b[0m",
      "\u001b[0;31mMemoryError\u001b[0m                               Traceback (most recent call last)",
      "\u001b[0;32m<ipython-input-6-32ce8be97c2e>\u001b[0m in \u001b[0;36m<module>\u001b[0;34m()\u001b[0m\n\u001b[1;32m      1\u001b[0m \u001b[0mx0\u001b[0m \u001b[0;34m=\u001b[0m \u001b[0;34m[\u001b[0m\u001b[0;34m(\u001b[0m\u001b[0;36m1\u001b[0m\u001b[0;34m/\u001b[0m\u001b[0mnp\u001b[0m\u001b[0;34m.\u001b[0m\u001b[0mstd\u001b[0m\u001b[0;34m(\u001b[0m\u001b[0mbbh\u001b[0m\u001b[0;34m.\u001b[0m\u001b[0mlabels\u001b[0m\u001b[0;34m)\u001b[0m\u001b[0;34m)\u001b[0m\u001b[0;34m**\u001b[0m\u001b[0;36m2\u001b[0m\u001b[0;34m,\u001b[0m \u001b[0;36m50\u001b[0m\u001b[0;34m,\u001b[0m \u001b[0;36m10\u001b[0m\u001b[0;34m,\u001b[0m \u001b[0;36m10\u001b[0m\u001b[0;34m]\u001b[0m\u001b[0;34m\u001b[0m\u001b[0m\n\u001b[0;32m----> 2\u001b[0;31m \u001b[0mgp\u001b[0m \u001b[0;34m=\u001b[0m \u001b[0mregression\u001b[0m\u001b[0;34m.\u001b[0m\u001b[0mRegressor\u001b[0m\u001b[0;34m(\u001b[0m\u001b[0mbbh\u001b[0m\u001b[0;34m,\u001b[0m \u001b[0mkernel\u001b[0m\u001b[0;34m=\u001b[0m\u001b[0mkernels\u001b[0m\u001b[0;34m.\u001b[0m\u001b[0mSquaredExponential\u001b[0m\u001b[0;34m(\u001b[0m\u001b[0mndim\u001b[0m\u001b[0;34m=\u001b[0m\u001b[0;36m3\u001b[0m\u001b[0;34m)\u001b[0m\u001b[0;34m,\u001b[0m \u001b[0myerror\u001b[0m \u001b[0;34m=\u001b[0m \u001b[0;36m1e-23\u001b[0m\u001b[0;34m,\u001b[0m \u001b[0mtikh\u001b[0m\u001b[0;34m=\u001b[0m\u001b[0;36m1e-6\u001b[0m\u001b[0;34m)\u001b[0m\u001b[0;34m\u001b[0m\u001b[0m\n\u001b[0m\u001b[1;32m      3\u001b[0m \u001b[0mgp\u001b[0m\u001b[0;34m.\u001b[0m\u001b[0mset_hyperparameters\u001b[0m\u001b[0;34m(\u001b[0m\u001b[0mx0\u001b[0m\u001b[0;34m)\u001b[0m\u001b[0;34m\u001b[0m\u001b[0m\n",
      "\u001b[0;32m/home/daniel/.virtualenvs/heron/local/lib/python2.7/site-packages/heron-0.1.0-py2.7.egg/heron/regression.pyc\u001b[0m in \u001b[0;36m__init__\u001b[0;34m(self, training_data, kernel, yerror, tikh)\u001b[0m\n\u001b[1;32m     43\u001b[0m         \u001b[0;31m#np.atleast_2d(training_data)\u001b[0m\u001b[0;34m\u001b[0m\u001b[0;34m\u001b[0m\u001b[0m\n\u001b[1;32m     44\u001b[0m         \u001b[0mself\u001b[0m\u001b[0;34m.\u001b[0m\u001b[0mkernel\u001b[0m \u001b[0;34m=\u001b[0m \u001b[0mkernel\u001b[0m \u001b[0;31m#kernel(self.training_data.ndim, *kernel_args)\u001b[0m\u001b[0;34m\u001b[0m\u001b[0m\n\u001b[0;32m---> 45\u001b[0;31m         \u001b[0mself\u001b[0m\u001b[0;34m.\u001b[0m\u001b[0mupdate\u001b[0m\u001b[0;34m(\u001b[0m\u001b[0;34m)\u001b[0m\u001b[0;34m\u001b[0m\u001b[0m\n\u001b[0m\u001b[1;32m     46\u001b[0m \u001b[0;34m\u001b[0m\u001b[0m\n\u001b[1;32m     47\u001b[0m     \u001b[0;32mdef\u001b[0m \u001b[0mactive_learn\u001b[0m\u001b[0;34m(\u001b[0m\u001b[0mself\u001b[0m\u001b[0;34m,\u001b[0m \u001b[0mafunction\u001b[0m\u001b[0;34m,\u001b[0m \u001b[0mx\u001b[0m\u001b[0;34m,\u001b[0m\u001b[0my\u001b[0m\u001b[0;34m,\u001b[0m \u001b[0miters\u001b[0m\u001b[0;34m=\u001b[0m\u001b[0;36m1\u001b[0m\u001b[0;34m,\u001b[0m \u001b[0mafunc_args\u001b[0m\u001b[0;34m=\u001b[0m\u001b[0;34m{\u001b[0m\u001b[0;34m}\u001b[0m\u001b[0;34m)\u001b[0m\u001b[0;34m:\u001b[0m\u001b[0;34m\u001b[0m\u001b[0m\n",
      "\u001b[0;32m/home/daniel/.virtualenvs/heron/local/lib/python2.7/site-packages/heron-0.1.0-py2.7.egg/heron/regression.pyc\u001b[0m in \u001b[0;36mupdate\u001b[0;34m(self)\u001b[0m\n\u001b[1;32m    102\u001b[0m         \u001b[0;31m#    km += np.diag(self.yerror)\u001b[0m\u001b[0;34m\u001b[0m\u001b[0;34m\u001b[0m\u001b[0m\n\u001b[1;32m    103\u001b[0m         \u001b[0mself\u001b[0m\u001b[0;34m.\u001b[0m\u001b[0mL\u001b[0m \u001b[0;34m=\u001b[0m \u001b[0mscipy\u001b[0m\u001b[0;34m.\u001b[0m\u001b[0mlinalg\u001b[0m\u001b[0;34m.\u001b[0m\u001b[0mcholesky\u001b[0m\u001b[0;34m(\u001b[0m\u001b[0mkm\u001b[0m\u001b[0;34m)\u001b[0m\u001b[0;34m\u001b[0m\u001b[0m\n\u001b[0;32m--> 104\u001b[0;31m         \u001b[0mkm\u001b[0m \u001b[0;34m=\u001b[0m \u001b[0mnp\u001b[0m\u001b[0;34m.\u001b[0m\u001b[0mkron\u001b[0m\u001b[0;34m(\u001b[0m\u001b[0mself\u001b[0m\u001b[0;34m.\u001b[0m\u001b[0mB_matrix\u001b[0m\u001b[0;34m,\u001b[0m \u001b[0mkm\u001b[0m\u001b[0;34m)\u001b[0m\u001b[0;34m\u001b[0m\u001b[0m\n\u001b[0m\u001b[1;32m    105\u001b[0m         \u001b[0mkm\u001b[0m \u001b[0;34m+=\u001b[0m \u001b[0mself\u001b[0m\u001b[0;34m.\u001b[0m\u001b[0mtikh\u001b[0m \u001b[0;34m*\u001b[0m \u001b[0mnp\u001b[0m\u001b[0;34m.\u001b[0m\u001b[0meye\u001b[0m\u001b[0;34m(\u001b[0m\u001b[0mkm\u001b[0m\u001b[0;34m.\u001b[0m\u001b[0mshape\u001b[0m\u001b[0;34m[\u001b[0m\u001b[0;36m0\u001b[0m\u001b[0;34m]\u001b[0m\u001b[0;34m,\u001b[0m \u001b[0mkm\u001b[0m\u001b[0;34m.\u001b[0m\u001b[0mshape\u001b[0m\u001b[0;34m[\u001b[0m\u001b[0;36m1\u001b[0m\u001b[0;34m]\u001b[0m\u001b[0;34m)\u001b[0m\u001b[0;34m\u001b[0m\u001b[0m\n\u001b[1;32m    106\u001b[0m         \u001b[0;31m#self.L = scipy.linalg.cholesky(km)\u001b[0m\u001b[0;34m\u001b[0m\u001b[0;34m\u001b[0m\u001b[0m\n",
      "\u001b[0;32m/home/daniel/.virtualenvs/heron/local/lib/python2.7/site-packages/numpy-1.11.1-py2.7-linux-x86_64.egg/numpy/lib/shape_base.pyc\u001b[0m in \u001b[0;36mkron\u001b[0;34m(a, b)\u001b[0m\n\u001b[1;32m    770\u001b[0m             \u001b[0mbs\u001b[0m \u001b[0;34m=\u001b[0m \u001b[0;34m(\u001b[0m\u001b[0;36m1\u001b[0m\u001b[0;34m,\u001b[0m\u001b[0;34m)\u001b[0m\u001b[0;34m*\u001b[0m\u001b[0;34m(\u001b[0m\u001b[0mnda\u001b[0m\u001b[0;34m-\u001b[0m\u001b[0mndb\u001b[0m\u001b[0;34m)\u001b[0m \u001b[0;34m+\u001b[0m \u001b[0mbs\u001b[0m\u001b[0;34m\u001b[0m\u001b[0m\n\u001b[1;32m    771\u001b[0m             \u001b[0mnd\u001b[0m \u001b[0;34m=\u001b[0m \u001b[0mnda\u001b[0m\u001b[0;34m\u001b[0m\u001b[0m\n\u001b[0;32m--> 772\u001b[0;31m     \u001b[0mresult\u001b[0m \u001b[0;34m=\u001b[0m \u001b[0mouter\u001b[0m\u001b[0;34m(\u001b[0m\u001b[0ma\u001b[0m\u001b[0;34m,\u001b[0m \u001b[0mb\u001b[0m\u001b[0;34m)\u001b[0m\u001b[0;34m.\u001b[0m\u001b[0mreshape\u001b[0m\u001b[0;34m(\u001b[0m\u001b[0mas_\u001b[0m\u001b[0;34m+\u001b[0m\u001b[0mbs\u001b[0m\u001b[0;34m)\u001b[0m\u001b[0;34m\u001b[0m\u001b[0m\n\u001b[0m\u001b[1;32m    773\u001b[0m     \u001b[0maxis\u001b[0m \u001b[0;34m=\u001b[0m \u001b[0mnd\u001b[0m\u001b[0;34m-\u001b[0m\u001b[0;36m1\u001b[0m\u001b[0;34m\u001b[0m\u001b[0m\n\u001b[1;32m    774\u001b[0m     \u001b[0;32mfor\u001b[0m \u001b[0m_\u001b[0m \u001b[0;32min\u001b[0m \u001b[0mrange\u001b[0m\u001b[0;34m(\u001b[0m\u001b[0mnd\u001b[0m\u001b[0;34m)\u001b[0m\u001b[0;34m:\u001b[0m\u001b[0;34m\u001b[0m\u001b[0m\n",
      "\u001b[0;32m/home/daniel/.virtualenvs/heron/local/lib/python2.7/site-packages/numpy-1.11.1-py2.7-linux-x86_64.egg/numpy/core/numeric.pyc\u001b[0m in \u001b[0;36mouter\u001b[0;34m(a, b, out)\u001b[0m\n\u001b[1;32m   1091\u001b[0m     \u001b[0ma\u001b[0m \u001b[0;34m=\u001b[0m \u001b[0masarray\u001b[0m\u001b[0;34m(\u001b[0m\u001b[0ma\u001b[0m\u001b[0;34m)\u001b[0m\u001b[0;34m\u001b[0m\u001b[0m\n\u001b[1;32m   1092\u001b[0m     \u001b[0mb\u001b[0m \u001b[0;34m=\u001b[0m \u001b[0masarray\u001b[0m\u001b[0;34m(\u001b[0m\u001b[0mb\u001b[0m\u001b[0;34m)\u001b[0m\u001b[0;34m\u001b[0m\u001b[0m\n\u001b[0;32m-> 1093\u001b[0;31m     \u001b[0;32mreturn\u001b[0m \u001b[0mmultiply\u001b[0m\u001b[0;34m(\u001b[0m\u001b[0ma\u001b[0m\u001b[0;34m.\u001b[0m\u001b[0mravel\u001b[0m\u001b[0;34m(\u001b[0m\u001b[0;34m)\u001b[0m\u001b[0;34m[\u001b[0m\u001b[0;34m:\u001b[0m\u001b[0;34m,\u001b[0m \u001b[0mnewaxis\u001b[0m\u001b[0;34m]\u001b[0m\u001b[0;34m,\u001b[0m \u001b[0mb\u001b[0m\u001b[0;34m.\u001b[0m\u001b[0mravel\u001b[0m\u001b[0;34m(\u001b[0m\u001b[0;34m)\u001b[0m\u001b[0;34m[\u001b[0m\u001b[0mnewaxis\u001b[0m\u001b[0;34m,\u001b[0m\u001b[0;34m:\u001b[0m\u001b[0;34m]\u001b[0m\u001b[0;34m,\u001b[0m \u001b[0mout\u001b[0m\u001b[0;34m)\u001b[0m\u001b[0;34m\u001b[0m\u001b[0m\n\u001b[0m\u001b[1;32m   1094\u001b[0m \u001b[0;34m\u001b[0m\u001b[0m\n\u001b[1;32m   1095\u001b[0m \u001b[0;34m\u001b[0m\u001b[0m\n",
      "\u001b[0;31mMemoryError\u001b[0m: "
     ]
>>>>>>> f02bf7fa5ed4df3149e9245a8268c710f611e0f9
    }
   ],
   "source": [
    "x0 = [(1/np.std(bbh.labels))**2, 50, 10, 10]\n",
    "gp = regression.Regressor(bbh, kernel=kernels.SquaredExponential(ndim=3), yerror = 1e-23, tikh=1e-6)\n",
    "gp.set_hyperparameters(x0)"
   ]
  },
  {
   "cell_type": "code",
   "execution_count": 6,
   "metadata": {
    "collapsed": true
   },
   "outputs": [],
   "source": [
    "#x0 = [ 32.57270317,  48.53372059,   5.16764146, ]\n",
    "#x0 = [0.029974254529549851,  101.2117402 ,    0.84988828]\n",
    "#gp.set_hyperparameters(x0)"
   ]
  },
  {
   "cell_type": "code",
   "execution_count": 7,
   "metadata": {
    "collapsed": false
   },
   "outputs": [
    {
     "ename": "NameError",
     "evalue": "name 'scipy' is not defined",
     "output_type": "error",
     "traceback": [
      "\u001b[0;31m---------------------------------------------------------------------------\u001b[0m",
      "\u001b[0;31mNameError\u001b[0m                                 Traceback (most recent call last)",
      "\u001b[0;32m<ipython-input-7-751e2f08b5db>\u001b[0m in \u001b[0;36m<module>\u001b[0;34m()\u001b[0m\n\u001b[1;32m      9\u001b[0m \u001b[0;34m\u001b[0m\u001b[0m\n\u001b[1;32m     10\u001b[0m \u001b[0mx0\u001b[0m \u001b[0;34m=\u001b[0m \u001b[0mgp\u001b[0m\u001b[0;34m.\u001b[0m\u001b[0mkernel\u001b[0m\u001b[0;34m.\u001b[0m\u001b[0mflat_hyper\u001b[0m\u001b[0;34m\u001b[0m\u001b[0m\n\u001b[0;32m---> 11\u001b[0;31m \u001b[0mres\u001b[0m \u001b[0;34m=\u001b[0m \u001b[0mscipy\u001b[0m\u001b[0;34m.\u001b[0m\u001b[0moptimize\u001b[0m\u001b[0;34m.\u001b[0m\u001b[0mbasinhopping\u001b[0m\u001b[0;34m(\u001b[0m\u001b[0mnll\u001b[0m\u001b[0;34m,\u001b[0m \u001b[0mx0\u001b[0m\u001b[0;34m,\u001b[0m \u001b[0mniter\u001b[0m\u001b[0;34m=\u001b[0m\u001b[0;36m100\u001b[0m\u001b[0;34m)\u001b[0m\u001b[0;34m\u001b[0m\u001b[0m\n\u001b[0m\u001b[1;32m     12\u001b[0m \u001b[0;32mreturn\u001b[0m \u001b[0mres\u001b[0m\u001b[0;34m\u001b[0m\u001b[0m\n",
      "\u001b[0;31mNameError\u001b[0m: name 'scipy' is not defined"
     ]
    }
   ],
   "source": [
    "def nll(p):\n",
    "    gp.set_hyperparameters(p)\n",
    "    ll = gp.loglikelihood()\n",
    "    return -ll if np.isfinite(ll) else 1e25\n",
    "\n",
    "def grad_nll(p):\n",
    "    gp.set_hyperparameters(p)\n",
    "    return -gp.grad_loglikelihood()\n",
    "\n",
    "x0 = gp.kernel.flat_hyper\n",
    "res = scipy.optimize.basinhopping(nll, x0, niter=100)\n",
    "return res"
   ]
  },
  {
   "cell_type": "code",
   "execution_count": 9,
   "metadata": {
    "collapsed": false
   },
   "outputs": [
    {
     "data": {
      "text/plain": [
       "1621.3494888554471"
      ]
     },
     "execution_count": 9,
     "metadata": {},
     "output_type": "execute_result"
    }
   ],
   "source": [
    "x0 = [ 24.95395191,  21.95756258,  -2.07481906, -13.40978644]\n",
    "#x0 = [0.029974254529549851,  101.2117402 ,    0.84988828]\n",
    "gp.set_hyperparameters(x0)"
   ]
  },
  {
   "cell_type": "code",
   "execution_count": 8,
   "metadata": {
    "collapsed": false,
    "scrolled": false
   },
   "outputs": [
    {
     "name": "stderr",
     "output_type": "stream",
     "text": [
      "/home/daniel/.virtualenvs/heron/local/lib/python2.7/site-packages/heron-0.1.0-py2.7.egg/heron/kernels.py:20: FutureWarning: comparison to `None` will result in an elementwise object comparison in the future.\n"
     ]
    },
    {
     "data": {
      "text/plain": [
       "      fun: -1621.3494888554471\n",
       " hess_inv: array([[1, 0, 0, 0],\n",
       "       [0, 1, 0, 0],\n",
       "       [0, 0, 1, 0],\n",
       "       [0, 0, 0, 1]])\n",
       "      jac: array([ 0.09946606,  8.28764859,  7.00425157, -3.6638953 ])\n",
       "  message: 'Desired error not necessarily achieved due to precision loss.'\n",
       "     nfev: 42\n",
       "      nit: 0\n",
       "     njev: 32\n",
       "   status: 2\n",
       "  success: False\n",
       "        x: array([ 24.95395191,  21.95756258,  -2.07481906, -13.40978644])"
      ]
     },
     "execution_count": 8,
     "metadata": {},
     "output_type": "execute_result"
    }
   ],
   "source": [
    "gp.optimise()"
   ]
  },
  {
   "cell_type": "code",
   "execution_count": 81,
   "metadata": {
    "collapsed": true
   },
   "outputs": [],
   "source": [
    "import lalsimulation, lal\n",
    "\n",
    "def generate_new_points(mass1, spin1x, npoints = 300, tstart = -0.1, tend = 0.005):\n",
    "\n",
    "    chi1_l = 0\n",
    "    chi2_l = 0\n",
    "    chip = 0\n",
    "    thetaJ = 0\n",
    "    m1 = mass1\n",
    "    distance = 5 * lal.PC_SI\n",
    "    alpha0 = 0\n",
    "    phic = 0\n",
    "    f_ref = 100 * lal.HertzUnit,\n",
    "    waveflags = lalsimulation.SimInspiralCreateWaveformFlags()\n",
    "    approximant = lalsimulation.SimInspiralGetApproximantFromString(\"IMRPhenomP\")\n",
    "    #phorder = lalsimulation.SimInspiralGetOrderFromString(\"IMRPhenomP0\")\n",
    "    #f, ax = plt.subplots(10, sharey=True, figsize=(5,15))\n",
    "    data = np.zeros((npoints, 4))\n",
    "    mass1 = mass1 * lal.MSUN_SI\n",
    "    coaphase = 0\n",
    "    mass2 = 6 * lal.MSUN_SI\n",
    "    spin1x, spin1y, spin1z = spin1x,0,0\n",
    "    spin2x, spin2y, spin2z = 1,0,0\n",
    "    flower = 10 \n",
    "    fref = 10\n",
    "    distance = 400 *1e6 * lal.PC_SI\n",
    "    z = 0.0\n",
    "    inclination = 0.0\n",
    "    lambda1 = lambda2 = 0.0\n",
    "    amporder = 0\n",
    "    phorder = 0\n",
    "    dt = (tend-tstart)/npoints\n",
    "    hp, hc = lalsimulation.SimInspiralTD(coaphase, dt, \n",
    "                                         mass1, mass2,\n",
    "                                         spin1x, spin1y, spin1z,\n",
    "                                         spin2x, spin2y, spin2z,\n",
    "                                         flower, fref, distance, z,\n",
    "                                            inclination, lambda1, lambda2,\n",
    "                                             waveflags, None, amporder, phorder,\n",
    "                                         approximant\n",
    "                                        )\n",
    "    #-0.1,0.005\n",
    "    times = np.linspace(0, len(hp.data.data)*hp.deltaT, len(hp.data.data)) + hp.epoch\n",
    "    data[:,-1] =  hp.data.data[(tstart<times) & (times<tend)]\n",
    "    data[:,0] = times[(tstart<times) & (times<tend)]\n",
    "    data[:,1] = m1 * np.ones(npoints)\n",
    "    data[:,2] = spin1x * np.ones(npoints)\n",
    "    return data"
   ]
  },
  {
   "cell_type": "code",
   "execution_count": 82,
   "metadata": {
    "collapsed": false
   },
   "outputs": [
    {
     "data": {
      "text/plain": [
       "[<matplotlib.lines.Line2D at 0x7f36fb59f3d0>]"
      ]
     },
     "execution_count": 82,
     "metadata": {},
     "output_type": "execute_result"
    },
    {
     "data": {
      "image/png": "iVBORw0KGgoAAAANSUhEUgAAA2wAAAE6CAYAAABqJNGSAAAABHNCSVQICAgIfAhkiAAAAAlwSFlz\nAAALEgAACxIB0t1+/AAAIABJREFUeJzs3Xd8pFd56PHfeadoRnXUu7RN29e7613X9Rp7XbFNMYSE\nEgghYJJLuIaQm0C4CQHCJffSAyG5hHKBOAnB4OCK7XVv63XZ4u1NZdWlGc1o+rzl3D9G0mrX2l1J\n06Xz/VgerTR633f6+5znOc8RUkoURVEURVEURVGU/KPl+gAURVEURVEURVGUmamATVEURVEURVEU\nJU+pgE1RFEVRFEVRFCVPqYBNURRFURRFURQlT6mATVEURVEURVEUJU+pgE1RFEVRFEVRFCVP5Sxg\nE0L8WAgxLIQ4kIZtbRJCvCSEOCiE2C+E+L1pv7tHCHFUCHFgYp+OVPenKIqiKIqiKIqSDbnMsP0/\n4NY0bSsCfEhKuW5im98WQngmfncPsBrYALiBj6Zpn4qiKIqiKIqiKBmVs4BNSvks4Jv+MyHEciHE\nb4UQrwkhnhNCrJ7lto5JKY9PfN8PDAO1E/9+WE4AdgMtab0hiqIoiqIoiqIoGZJvc9h+AHxSSrkF\n+HPg+3PdgBDicsAJnDzn5w7gg8Bv03CciqIoiqIoiqIoGWfP9QFMEkKUAlcDvxRCTP64aOJ37wK+\nNMOf9Ukpb5m2jUbg58AfSCmtc677feBZKeVz6T52RVEURVEURVGUTMibgI1kts8vpdx07i+klL8G\nfn2hPxZClAMPAZ+XUu4653dfIFki+fH0Ha6iKIqiKIqiKEpm5U1JpJRyHOgUQrwHQCRtnM3fCiGc\nwH3Az6SU957zu48CtwDvmyHrpiiKoiiKoiiKkrdEshdHDnYsxL8D1wE1wBDwBeBJ4J+ARsAB/IeU\ncqZSyHO39fvAT4CD0378YSnlXiGEAXQDwYmf/3o221QURVEURVEURcm1nAVsiqIoiqIoiqIoyoXl\nTUmkoiiKoiiKoiiKcjYVsCmKoiiKoiiKouSpnHSJrKislg3NrbO+vk0Dh82G3SaYbPhvWhJLVXMW\nMIluSsxF9CDaNIHDJmDqWaykSiJJ6BaF8ixy2jU0kfnHXwiwa8n9GJYkvZXvkpie+f5NdpvAruXP\nmKJpWehmaneky6GhXv+KoigKJD8N9u19fVRKWXux6+YkYGtobuX/3vvYrK/vLrKxpLqE6hIndlvy\nA9wXTqCbquljITJMi15/lGjczPWhZF2F20Gjx4XIwkn7YtA/FiUQ1XN9GLNW6rLTWlWclX1NPsXS\nPU15LJxgMBBL70ZnUOTQWFZbmvH9zFbnaIhYIrXPnKpSJ/XlrjQdkaIoilLIBFBf4e6ezXXzZ/jy\nAqyJLMz08w7VLKUwJQyLHl9kUQZrAIGonpWT3cUgHDcKKlgDCMUMYnp2nvtSpj9YAwjEsnOfx3WL\nuJEf7xMx3Uw5WINksKsGGhVFUZS5KoiAbfKkY/rJhwrXCk9MN+n2holnoZwqn/kjOsPj8VwfRkGT\nUjI0XpiBry+UyPUhzJtuWlkdbAnGjKzt60LSdRxSJqtDFEVRFGUuCiJgM6cybCpMK1ThuEG3N4yR\n4hyQhcIbijOmTtzmzRfWCzbwH4/peZM5mqtwPLsBVDBL2byLCUTT91rN5yybtYjmFCuKohSSnMxh\nmytrhroeVRFZOMajOv3+qHrMzjEYiGG3CcpcjlwfSkHRTYuRYGFm12Ayy6LTWGHL9aHMWbYzXrGE\nRcKwcNpzN7YYiRvoRvrevKQEbyhBQ0X+zGUzLclgIMZ4VEcI0ITApgk07cz3pUV2KtwONf9WURQl\nBwoiw5aciyHPKYlUZ/+FwBdO0DemgrXz6RuLEk3kR9lXoRgZjxf88ykQSWDkaZblfCxLZj3DBtnP\n6p0rE/Mk/ZEECSM/Hv+YbtI1GmZ84nZKmQzgEoZFLGERiZsEowYD/hhd3jCRHD8eiqIoi1FBBGyA\nauFfgIbH4wypBhsXJCWc9kULtkQu2wqx0chMpISxSGHdjnDCyEmgHMphgCClZDwDZZlSgjcPSqL9\nkQRdo+FZB4+xhEW3N0LfmHrPUhRFyaaCCdjetF6XCuDylpSS/rEo3pBqrDEbpiXpG4sWXMYl2wq5\n0chMfOF4Qa1DGMpRA5Bw3MjZ3Kpg3MDK0MsykMMsm2Ul36MH/LF5BeHjUZ3OkTDD44X1HFYURSlU\naZvDJoSwAa8CfVLKO9K13UnWm0oilXxkWpLesQiRRdq2f77ienJturbKYjRNzRGZSSE3GpmJZSU7\nhlaXOnN9KLOSq0yXlBBKGJTnYK7neAazucm5bHEaPe6M7WMmMd2k3x9N+bU0efyBaIL6chfl7tzP\nxY3pJjHdxLAkpiUxTYkpJYYlsSyJEOCy23A6NIrsGkV2W07nRyqKosxWOpuO3A0cBsrTuM0pUko1\nby3P6abFaV9kQZ1UZ1M0bjIQiNFcmd0TuEJQ6I1GzscXjlNVkv+NHKIJI6cdXsOx7AdshmllPKsY\niOpUljhxObLTgCYSN+jxRdJa2mqYyQqBUMygrrwIuy27AZBlJctW/VF9VktOxHULomf+rWlQ5LBR\n7LBTWmTD7bTlzetRSoklkwPW0wethQCbEGhCqAE+RVkk0hKwCSFagNuBrwB/lo5tnmt62YVaNDv/\nxHST3rFIWrupLUbjUR2nXaO2rCjXh5JXFkKjkZkYpiQQ1fEU53eWLZTjjHkusnvBWObn7EkJw8E4\nbVXFmd0RkDAsejPYACoQ1QknDOorXFkJrmO6yVhEZzyaSKls1bKSg2XRuIk3xFRHzFKXnZIiO7YM\nB0RxwyRuWCR0i7iRXCw+YVhzepymd/N02DTsk5c2gV0T2Cd+lqlgWkqJbkpMyzqT3bQmB9rPVEhJ\nQE6cywmR/N/EBQKRvJzoUqqd9f3kv5O30ZbmQFXK5DFPBseTgfLk8UuYKuuSnB04CwQT/zF5RNMD\n/ulHOf36U51YBRcdIJjNOe/U/Tt57NOOk2n/nrzO5K+0icdAExO3Y9pjIc+zHYFATD7nZvlYzHQb\n5jowcu7jZFkyeQwTz/PZbG/yuWrTRMZf27Mxl3gmXRm2bwN/AZSd7wpCiLuAuwDqm1rmvAOLNy+g\nLaXMm5GwxSwcN+gdi2RsrsdiMxqM47QLKtz5fRKfLQul0cj5+MKJvG+Xnuv10AxTEkuYuJzZWwoh\nkKXbHI4ZjMf0jAY5k6XqmZ5vZpiSPl+UkDsZuKX7hGgymzYWSRBLZOYDx7SSgyiBiSUO3E4bxU47\nRXYNpz1ZSjnX16o10XUzYSaXqUgYFnHTIq6baQmgLQssJIYpL1jhIgTYbQKbNhHATQRxUzdnhmkn\ncloQI2VyP9NPmA1T5mQe47nLTyRDo3OmzpwTcMhpQddZ/87xYKCYFijJGW5DIRCCqdf7+e73i/39\n9O+nB/CTnWsvtJ3pz22HTWBPPikwLYlhWZiWRDets85TnXaNIoc2VSbtykGJ9Fyaj6UcsAkh7gCG\npZSvCSGuO9/1pJQ/AH4AsGr9pjk/BS3rzIjA5KU/kiwnUXJHrbGWGQP+GE6bhttZEEslZsxCazQy\nk7huEYznZo7WbCQMKy/KnINxI2sBW9wwZ1Vely7D4zFKnfaMlbcNBFKfszYXk9m2hgpXWtaZTFc2\nba6khEjcPGtOthDJE73JkzybEFPZGEuCKSVy4nxFtyx0w8ppOfF0UoJuSHQKf465nLivF0LTm+TS\nVVDI3RmkJKXn+ZuD1Llta/pze7ZnDJODJ0HOVHBoGjhsyUEZbYYMb3JfZ7KVU+XKQGOFiyL77D+j\nTEvijcy+W3A6zga3AW8XQtwGuIByIcS/Sil/Pw3bnjLTa3I0FKfc7ciLtOZiNBZOMKja9meElNA7\nFmVJTQmOLM8JyScLrdHI+XhDibwN2HLZVn+6UFzPWqlwMJrd26wbktFQgrry9N++4fF41m8PJE/e\nen1RXM4EZS47pUX2Oc3VsyxJMK4zFpnd3LRskTI5yHLuXDhFUQqfZUF8nqNCw+NxWudQ3j4WTmDO\nIchNOWCTUn4O+BzARIbtz9MdrMGZlPzEPoHkB4IvnFDzfXJgJBhnNKja9meSYSbLmNqrShblxHLd\ntBgNLY4BgVjCJBw3KCnKv4xqvgRssYSFblpZGcDIxNprF+MLxyl3zy2ouRh/JJHz5VViCZNYwmSE\nOE67RqnLTlmR/azmHgkj+djqZnIel24mF+xeCNkTRVEWh1DMIBjTZ1VVYJgW3nCcs2c5Xlj+nR2c\nh2VxVknk5Bu5LxynstiR9c5Ui5WUksFADH+BLfpbqGIJi8FAjKZF2DlyZDy+qOZFjkUSeRewmZYk\nkicBGyTnM2a6QUs0YeQkq5vuBiSRuJF3FRAJw8IXSuALJbBpArtNzLnBhqIoSr4aCcYpLbJfdJ6r\nL6xjWUzMv5ydtEY5UsqnM7EGGyQzbNNNBmyWNbdJe8r8WZakdyyqgrUsC0R1RhfZIuSRBd5oZCbB\nqEHcyJ/SL0gGSPl0Mh3MwuLdgRyUD06abECSqkx3hEwH00o2yMjnY1QURZmLuG7hC1/4PVw3LXzh\nuZ/TFUxayrLO7jgzPYDzheMY5iIais8Bw7To9kUyvi6RMrOR8XhOyrRyQUrJ4AJvNHI+Yxd5o8+2\nfHu9h+MGVgbL5KSUGV0sezaGx2Mp3UbDtLLSEVJRFEV5s5FgDP0CMYk3lJjXQFXhBGzIc9bBOHNr\nVZYts2K6SY8vQiyRX6P/i03/WHRRPAZjkcXRaGQm/kgib060pUw2fcgnUkI4kbkgMhg3cn7/TzYg\nmY+YbtLtjSza14+iKEquSZkcZJ9JwrDwz6Ez5HSFE7DJM2tnAG/6UJ1tli2mm4smU5EOgWiCrtGw\nOgHIA1LC6bFI3pXNpZNuWowEF2d2DZKPcb6UHEcSZl7OIczkIt6BPLnvfeE4MX1utzMY0+n2hkkY\nefigKYqiLCKBqE50hsFFbyg+7zLwggnYpgdoyZLIs38/myxbNGHQ443Q54vOO8JdLCxLMuCP0j8W\nU3MM8shkq+yFWgK82BqNzGQsEj+rgiBX8qU75LlCGRpw000rb0pAJxuQzJY3lKDXF130rx1FUZR8\nMXhOli2mmynNzS+YgG1yobpJ5zYhgQtn2UIxnW7vmbr+AX9s0TVymK2YbtLlDefNSL9ytoRhcXos\nmtG5PLkQjOmLrtHITHRDZqW5xsXkS/ByLsOUGSkNzrfnXjhmcGokxGgoft6supTJgbXhRTrnU1EU\nJV/FEuZZySHfPOeuTSqYgG1yJXGYOcMG58+yjUf1GTtmjYzHGT5PnelipUogC0MsYdLnj+ZFJiYd\nDNPKuxbkueQN57YCIKabeV1al4nsX76UQ04X1y1GxuOcGg7TORrGF05MTWafbASlBtYURVHy0/B4\nHNOSKWfXoIDWYTt3ztr5sgvnrss2Fk5c8ETQG4pjSklDedFF101YyCxLMjSu1lcrJKGYwYB/YazR\nNhCIYZgLI/hMh1jCJJowcDtz8xYdTvM8sdd7xgjHDbZ31KZle8G4QU1ZUVq2BcllJPI5QIUzC1AP\nBcBdZMMwLXRDvWYURVHylWlJRkPxC3aNnK2CCdikZCqbIJEzZtjgTJattqyI0WCckVnMA/CHE1iW\npMnjWpRBWyRuMBCI5f0Ji/JmgaiO3aZRV56+k9dsGwsn8rb8Lpd8YZ3mHAVs6ewOufe0n+8+dQIp\nwWHTuHJZdcrbjCVMdNPCYUtPkUihDVRFM9h4RVEURUmfsXBqpZCTCipgm8yySQnmBW69N5ScyzaX\nD+HxqI4pJc0eNzZtcQRtliUZDsYZy3H5lZIabyiO3SaoKnHm+lDmLKabDKn5NzMKxnQSRhFOe3Yr\n1xOGlbaA4NRoiO8/c5L2qmIcNo0fv9BFQ7mLJTUlKW87HDfwFKf+nDctqToHK4qiKBmRrpkrBTOH\nDThrvo68QMOF+bbGDscMjg8FGQjEFvx6V5G4QedoWAVrC8RQIFZwnU+llPT73zy3VEmSEsZy8Jim\nK9s0PB7jWzuPU+Fy8OkbV/LJ61dQ6rLzD08eT8s+0jWPbTyqq+egoiiKktcKKmAzpkoiL5xhS4WU\nyRLJztEwnaOhvFrINh0m56p1eyOqBHKBGfDHCioAHw7G87a5TcKw5rwOVib4I4msdgOVUqYl8A/G\ndL6x8xiWlPzZTR1UuB2Uux3cvWMFobjJ954+kXJNfyhmpOW+8edZd0hFURRFOVfBlEQCU2vMSCln\nbOufbrGExUAixqCIUeF2UFnsxOW0ZXy/mTIe0xnN45NkJXWDgRgS8r48MhTT8YXyK7iM6yb7+gK8\n2uVjX28Aw5KsayrnsvZKNrdVUlqU/bdLy0rOU6zM0uM5HtNTHqBKGBbfeeI4vnCCv7hlFY0VZ5ri\ntFeX8NFrlvL9Z07ys13dfOTqJfOeNywl+CIJakrnP38zppsLvppCURRFKXwFFbBNP5HIRsA2abLE\n0h/RcTltVBY7KHc50Apkrtt4VE+u5aMCtUVhKBDDkjKlE9lMMkyLgTxp4R/VTfad9vNq9xj7ewMk\nTItyl52rl1dTZLfxarePH/UGsL3YzZrGMi5bUsWlbR7KXI6sHaMvnMhawDbTsihzYVmS//vsSU6O\nhPnE9cvpqCt703UuX1rF6bEID+wfoK2ymJvW1s97f95QHI/7TFfguSq0ZiOKoijK4lRYAdu0kkgr\nR7FHLGEykDAZ1uJ4ip1UFNspsudn1k0FaovXyHgcKaE2ja3P02VwPPct/C0p+eVrvTx+aAjDknjc\nDrZ31HDZkkpW1pVNDcb83tYWur0Rdnf5eKV7jJ+82MVPX4IrllbzkW1L0tal8EIShkUgmqDCndmg\nLaabKTUbkVJyz+4eXuvx84Er2tjaXnXe6965uZnesSj//koPTR4X65oq5rVPy4LRUIKGCte8jndc\nlUMqiqIoBaCgAjZrepfIHM8rMy2JNxTHG4pT6rLjKXZQWmTP+bIAUiY7nnlDCRWoLXKjwTiWlNSX\nz/1kNhOklAwGYgSjuW3hb1qSH7/QyQsnvWxbXs11K2tZXleKNsNrVwjBkpoSltSU8J4tLfT4orx4\ncpRHDw0RThj86XUrstLFcTSYoNzlyOj7S6rZpieODPPEkWFuXdfATWsunDXThOCua5fxdw8d5vtP\nn+Rv7lg77+epP5KgssQx54GzYMzI+eeIoiiKosxGymcaQohWIcRTQohDQoiDQoi703FgM5kqg5TZ\nLYm8mFDMoNcX5eRIiNFgehbImwtroi11/1iUY0NB+sdiKlhTAPCFEnlRfiilZMCf+4XZddPi+0+f\n4IWTXt61uZmPXrOUjvqyGYO1cwkhaK8u5n2Xt/Hhq9rZ3xvgu0+dyErznoQxt2VK5sqyJIHo/OcU\nWlLy0BsDrGko43e3tszqb9wOG3ffsAIE/PD5znnvW0rwBud+7KrZiKIoilIo0pFhM4DPSClfF0KU\nAa8JIR6XUh5Kw7bPYk0sni2RedmGWTckI8E4o6E4ZS4HFW47pRma62JZklDcIBQzGI+pttTn4w3F\nOdA/zsH+cYaCMUxTYlgSw7Iwpn1f4rSzsr6UVfVlrGooo6F84Syi7g8nMEyLxgrXvOf6pEJKSZ8/\nmvPMWlw3+YenTnCwf5wPXN6W0typ61bVIYTg/73YxXeePM7dOzoynmkbDcWpcGdm7ux4TE+pzPzY\nUJCxiM7vbW2dVfA7qa7MxW3rG/nla714Q3Gq5znvMhDVqSqZfVOohGERVou1K4qiKAUi5YBNSjkA\nDEx8HxRCHAaagfQHbFYyUDOynMGaKymT88fGozpOe5ySIjt2m8CuCRw2Ddu0y9nSTYuobhJLWER1\ng2jCVEHaDKIJk8ODyQDtYP84gxOLMnvcDtqqk4v32rXkY2HTBPaJf49FEhwaCPLSKR8A5S47KyeC\nt0uaK/KmrHC+QjGDTj1Mk8dNSRa7HVpWMlgL5fjkOBw3+PYTxzkxEuKPti1he0dtytt8y8paNCH4\n8QudfOuJY3zqho6Mzmc1TIkvnKAmA/MSU13vbdcpH0V2jc2tnjn/7db2Sn75Wi+vdo9xy7qGeR/D\nUDBGe/XsFuRWc9cURVGUQpLWMzchxBJgM/ByOrc7abLpSI77FcxJwrBIGDOfDAkBdlsycLBpGnYh\n0KYFE5acaASgG+hGAd3oHDg1GuKBfQPs6/VjSXDaNVbXl3H9qlrWN1XQ5Ll4xkxKyVAwztHBIEeH\nghwdDPJq9xj/JuDqZdW8c1NzXjbxmC3DlPR4I9SUFVFT6sx4BtGyJL3+aM4zGeMxna8/dow+f5T/\n9pblXLbk/M0w5mp7Rw2alizp+9bO43z6hg6KHJkL2rzhOJ7i+XdFnEk0YRBLzH8QzDAtXunycWmb\nZ163vb7cRWulO+WALRI3CcX0i1Y1mJbEn0L5p6IoiqJkW9oCNiFEKfAr4FNSyvEZfn8XcBdAfdPs\n5jicy5ITHSIXSGpJymQZpZ68Vbk+nIJ0fCjIb/b1c6B/nBKnjVvXNbChuYIVdaVz7uAnhKCh3EVD\nuYu3rExmYEaCcZ44MsTOw8Ps6vRx3cpa3nZJI57i/F7n7EJGg3HCCYNmjztjXQ5NS3J6LJJS18F0\n8IUTfO2xo3hDCe7e0cElLfPrRngh25bXoAnBD547xTd3HufTN3bgylDQZlngDSfSmvEdC6eWbXqj\nf5xwwuSKpdXz3sbW9kr+a28//kgipdfWcDB+wYAtEjcYCMTUAJiiKIpSUNISsAkhHCSDtXuklL+e\n6TpSyh8APwBYtX7TvD4tpSWRUmIWUopNSTspJUcGg9y/r5/Dg0HKXHbes6WFHavqcKd5YfPasiLe\ne1kbN69t4P59/Tx9dITnjo9y45o6btvQmJPFlNMhGjfpHAnT6HGlfU2xmG4yEIjlfEFi3bT49hPH\nGYsk+MzNK1lV/+Y1wdLlqmXVCOAHz53iu0+e4M9vXpmxDOZYOEFlsTMtc+YM02I8llrAtuuUl9Ii\nO+uby+e9ja1Lqrhvbz+v9fi5YXXdvLcT160Zgz4pJaOhBKPB+Ly3rSiKoii5kvLZpkielfwIOCyl\n/Gbqh3R+FpMlkSpgW6yODQX55Wu9HB8O4XE7eN9lrVy3sjajZWgAVSVOPnz1Et66voH/2tvHIwcG\neeroCG/f2Mgt6xrm1GghX5iWpNcXpdSlU1HsoCzFZSliuokvlCCQJ/OD7tvTR48vwt07VmQ0WJt0\n5bJqIgmTn+3q5vkTXrZ31GRkP1Imm+k0etwpbysQNVKaCxvTTfac9rNteTV2bf4BZLPHTWOFi1e7\nfCkFbJBszlLuOtOcJTmAEE2p7PNiEoaFlDLj70OKoijK4pSO9MA24IPAG0KIvRM/+ysp5cNp2PZZ\nTEsiyf0abEr2xXWTe1/v5fHDw1QVO/jgle1sX1GTlTWwpqsvd/Hxa5dz+4ZkZ7tfvNrLsaEQH9u+\nlGJnYWbbQrFkt1G7TVDhnvti8DHdxBtK5FUjhyOD4zxyYJDrVtayua0ya/u9blUtL53y8otXT7Op\ntSLt2ctJ/ohOZYkz5dJLf4rNRvac9pMwLK5cNv9yyElb2yt58I0BxmM65Sncb7ohGYvoVJc6GQsn\nGBqPZbRBU0w3+crDhwlEde6+oYPltaWZ25miKIqyKKV8tiulfF5KKaSUl0gpN018pT1Yg+TcNSmT\nc9mUxePoUJC/vv8gjx8e5sY1dXz1zg3csLou68HadC2VxXzqhg4+cHkb+3r9fOnBw/T7ozk7nnQw\nzORi8KeGw3R7wwSiCXTTwjAtTEtOdGk98+KL6SZ9Y1E6R8J5FayF4wb/8lwndeVFvO+y1qzuWxOC\nD13VTjRh8p+v9WZ0X6Oh1Mr7QjE95TXkdp3yUlXipKMu9SBla3sVUsKeHn/K2xoNxejxRRgMZDZY\ns6TkX547Ra8/il0TfPWRI+w65c3cDhVFUZRFqaBSAlKCROZ9W38lPeKGyb2v9bHz8BA1ZUV89tZV\nrG6Y/zyZdBNCcNPaelqr3Hz/6ZN86cFDfGz7Mra0Zy+jkymRuEkkxw1D5utfX+5mLJLgf962Jicl\naq2Vxdyyrp6HDwxyzYqajJVjBqMG0RID9zwzu6kuHB2M6RzoG+eWdfVpKQluq3JTW1bEK12+qaY/\n82VZZKU76W8m5t2977JWrl5ezXefOsE/P3uKgUCMd2xqKshSaUVRFCX/5C5FMQ+TpZALpUukcn7H\nhoL8zW8O8vjhIXasruPLb1+XV8HadKsbyvnbt62jyePmu0+d4N7Xe7FUGjgndp3y8tIpH+/Y2MSy\nHJamvWNjE9UlTn76UldGB5iG59lEwx9JpLyQ+StdY5hSpqUcEpIDIFvbKzk8ECQcz/9FrXd3+fjN\nvn62r6jh5rX1lLkc/I+bV3HNihp+s6+ff37mJHGjMAc9FEVRlPxSUAHbmZJIdTK8UFmW5N7Xevnq\nI0cwpeQvb1nFB69sz1ib9HSpKnHy2VtXc21HDQ/uH+BbTxwviJPOhcQbjvPTl7pZXlvCHZc05fRY\nihw2PnhlO/3+GL89OJix/UTiyY6ccxkgGAnGGfDHUt73rk4vTRXJNdTS5bL2Skwp2Xs69bLITOr2\nhvnhc52sqCvlQ1e1TzXrcdg0/mjbEn53awuvdI3x948cSXlRckVRFEUprIBtYqDaUNmLBSkUN/jm\nzmM8+MYA2ztq+Lt3rGdNY35m1WbitGv84dVL+IOr2jk0MM6XHzqcclMHZXYsKfnhc51YUvLx7cuw\nabkvRdvU6mFLeyW/2dfPcDD1AOl8/OEE3b4wMf3C2RwpJf1j0bS0tveG4hwbCnHlsuq0Ll+wtKaE\nqhInr3SPpW2b6RaI6nznyROUFtn45PUr3rSWoRCC29Y38skdK+gPxPjSg4fo9oZzdLSKoijKQlBQ\nARskMzCWmsK24Jwei/DFBw9xeDDIh69ewke2Lc37rNpMhBBcv6qOv7h5FWORBP/n0aN50+Z+IXv0\n4BCHB4O8//I26tK4qHSqPnB5GzYh+NddPWc1bEm3WMKiazTZKGYmyYXMo2l7Lr7c5QPgyqVVadne\nJCEEW9rP1QBCAAAgAElEQVQqOdAXIHqRADQXdNPiu0+dIBQz+O83dFDhPn83y0vbKvn8bWsQQvCd\nJ0+gq7nXiqIoyjwVXMBmWFKVRC4wr3T5+LuHDpMwLD576yquS7HhQD5Y1VDGp2/sYDSU4GuPHiWY\n4uLEyvn1+CL86vVeLm3zcG2G1j6br6oSJ3dubmZ/X4BXM5w1khL6x2L0j0XPKpHUTYtubzitTTh2\nnfKxrKYkI8HxZUsqMSzJvjwri5RS8rOXujkxHOKj1yxlSXXJRf+mraqYj2xbgi+c4Nnjo1k4SkVR\nFGUhKriAzbSkWjh7gbAsya9e7+Ufnz5JS6Wbv33bWjrqMr/AcbasbijnUzd2MBSM8X8ePUpIzWlL\nO8uS/OiFToqdNj589ZK0luely41r6mmvKuae3T1EE5nPGgWiOl3eZIlkTDfp9oaJ6+nL7vT5o/T4\nIlyVpmYj51pRV0qF25HxAHeunjw6wnMnRnn7xiYun0NmcV1jOSvqSnlwf3/KyygoiqIoi1PBBWxS\nojrwLQDhuMF3njzOA/sHuLajhs/euprKYmeuDyvt1jaWc/eODgYCMb722FHViCTNnj42Qrc3wvsv\nb0tpseVMsmmCP7iqnUBE59d7Mrs226S4niyR7PaG0Y30vl/uOuVFCLhsSXrLISdpQrClzcP+vkDe\ndFm0LMmD+/tZ3VDGOzfNraGNEII7NzUxFtF59vhIho5QURRFWcgKLmAzpSqJLHTeUJyvPHyYA33j\nfOjKdv7w6iVvmri/kKxvruCTO1bQNxbl648fI5JQQVs6BGM6v3q9l1X1ZVyR5rlU6bastpS3rKzl\nyaMj+MLZaUSTHNxK9zYluzp9rG0ox1OcuQB5a3sVCcPijb5AxvYxF0cGg4xFdHasqpvX2mprG8tZ\nWVfKg28MqCyboiiKMmcFd5ZsSdV0pJB1eyN8+aHDjEV0/vzmlexYXZeXZWzptrHFwyeuX0GPN8I3\nHz+Wlw0VCs29r/cR1U0+eGVbQTyHbt/QiJSSRzPY5j/TTo2GGQnGuXJZZgPkVQ1llBbZ86Ys8sVT\nXtwOG5taPfP6eyEE79zcjD+i88wxlWVTFEVR5qYwAzaVYStIB/oDfPW3h9EEfP621QXVsj8dNrd6\n+JPrlnFqNMy3dx5XXeNScGo0xLPHRrhpbT0tlcW5PpxZqS0r4oql1Tx9bIRQGhuAZNOuUz7smmBL\ne2VG92PTBJe2edh72p/z10ncMHm1y8fWJZU47fP/yFzTUMaq+jIeUlk2RVEUZY4KLmCTMvmlFJYX\nTo7yrcePU1NaxF/fvrZgTrLTbWt7FXdtX8bRoSA/eqEzo63eFypLSn6+q4dyt4N3bmzO9eHMye0b\nGogbFjuPDOX6UOZMSsnrPWNsaK6g2GnP+P62tlcS0y0O9o9nfF8XsqfHT8ywuDrFJitCCN65qQl/\nVOfpY8NpOjpFURRlMcj8p66yqEkpeeiNAe59vY81jWV88voVWTnZy2dXLqtmNBTn3tf7qC0t4t2X\ntuT6kArKs8dH6RwNc9f2ZbidhbVWX0tlMZtaPTx+eIhb1zUU1FqDp8eieMMJ3jHHphvztbaxHLfD\nxitdvnmXIqbDi6e8VJU4WdWQegfbNY3lrG4o46E3BrluZV1KGbt0iukmv3j1NCeGQzjtWvLLplFk\n13DabTjtGkuri9m2vAYtDxalVxRFWWxy/mkxOB7jlS4fB/sDdI6GGRqPEYzpmKoTZMEzLcnPdnVz\n7+t9XLWsis/cuHLRB2uTbt/QyLUdNTywf4Dn1PpMsxaKG9z7WrLRyFUZnkeVKXdsaCQcNwtuLtOe\nnjEEyfmY2WC3aWxq9bCvN5CzzsDjUZ0DfQGuWlY1r2YjM7lzUzOBqM5TR/Mjy3baF+GLDx7i6aMj\neIqduB02TFPij+qcHotyeGCcl095+dELXXzxoUMcHw7m+pAVRVEWnRydPUsO9gd47NAQ+3rP3wXM\nZddorHBx09p6Ll9ahV3TUGN7hSFhWPzTMyfZc9rP7RsaePelLWk74VkIhBB86Kp2vKEE/+/FLqpL\nnaxdZHP65uNXr/cSSRj8foE0GpnJirpSVtWX8duDg+xYXVcwHVL3nPazvLaECnf2lk/Y3OrhpVNe\nTo6E6KjP/hqNL3f6sCRcvSx9C7KvaihjTWNyLtt1q2opsucmyyql5JljI9yzu4dip53/ccuq874H\nSSnZ3eXjP145zVcePsK25dW8Z0trRjuFKoqiKGfkJGDr88f42mPHKHfZecfGJja3eYgbFpGESSRh\nEIknL8MJkwP9AX7wXCe/er2PW9c10Fa1OOc+FZJw3OA7Txzn+HCI37+ijRvX1Of6kPKSXdP4xPXL\n+crDR/jukyf4n7evodnjzvVh5a2u0TBPHx3hxjX1tBb4HMg7LmnkG48f46VTXq7tqM314VyUL5yg\nyxvhd7JcvruuqRybEOzt9eckYHvxlJf2qmKaK9P7urxzUzP/65EjPHlkhLeub0jrtmcjmjD5yYtd\n7O7ysa6pnLu2L7tgIC6E4Iql1Wxs8fDA/n5+e3CI13rGuHNTMzesqcOuFcagg6IoSqFKS8AmhLgV\n+A5gA34opfz7C14f+Ng1S7l8adVFR5ctKdnfG+DhNwa4Z3cPD+zv57pVddy4pi5vF8pdzMbCCb7x\n+DEGxmP8yVuWc3mer4+Va8VOO5++sYMvPXiIb+08xl/fvjarGYxCYclkeW2Zy86dm7MzhyqT1jeV\n015VzMNvDHJNAcwL2nvaD8DmtuzOJSspsrOyvpR9pwO8Z0trVvc9EIjSORrmvZelf78r68tY11jO\nwwcG2LGqlqIszmXsGg3z/WdOMhqK8zuXtnDbhoZZVz+4HDbes6WV7Stq+bfdPfz7K6d55vgIH7yi\nPS+6/iYMi+FgDH9UJxDVCUT0qe/9ER2nXaOtyk17VQlt1cXUlRWpyg9FUQpCygGbEMIG/CNwE9AL\nvCKEuF9Keeh8f9PkcbFtxexKTDQh2NTqYVOrh+PDQZ47Psr9+/p55MAAO1bV8a7NzVn9sFPOr98f\n5RuPHyMcN/jMjStZ25T7D/BCUFNaxKdu7ODvHznKd544zl/euipnZVL56vkTo5waDfOxa5YuiHmQ\nQghuv6SR7z99ktd6xrhsSX4PbOw97aeurIimClfW972x1cN/vHKakWCc2rKirO33xZNehIArMzTo\n9M5NTXzlkSM8cXSY29Y3ZmQf53ru+Ag/fambcpedz926et5Zy4YKF5++sYO9vQH+7eUe/vejR7lu\nZS2/t7U1642ApJScGAnx/Akvuzt9b1rjssiu4XE7qHA78EcSHOofx5zozuuya7RWFdNWVcyKulI2\nNFVQ6srP9xdLSuJ6cjmIIoemAk1FWWTS8c50OXBCSnkKQAjxH8A7gPMGbMxzJlpHXRlv29jEk4eH\neeTAII8dGmLvaT8f3b6Ujrrsl8soZ5waCfHNncfRBHz2ratZUl2S60MqKMtqSvnjtyzju0+e4AfP\ndfKJ65arD+QJ4bjBL1/tpaOulKuXp9ZaPZ9sbaukvryIB98YYGt7Zd7OyYvpJocGxrkhR4vcb2pJ\nBmz7ev1ZK6+2pOSlU17WNZbjKXZmZB8d9WWsbyrnof0DXLOiJuMVI/t7A/z4xS7WNpbzJ9cuTzkw\nEUKwudXD2sYy7tvTz6OHBtnf6+fDVy/lkpaKNB31+fnCCV48OcrzJ7wMjsdw2jUua69kQ3MFlcVO\nKoodeNyON3Vi1U2LPn+Ubm+EHl/y6/kTozxxZBgBLKst4ZIWDxubK2irLs74+7BpSYaDMQYCMfr9\nMQYCUfwRnahuTn3FdJOYfmbtPkEy2+l2aLicNoodNlwOG2UuO5XFTqpKnFQWO6kscVBV7KTc5chK\nFj9umITiBqGYQVQ3SRgWccNCN62p7xOmhZTJtRZtmsA+cTn5lexOmrxtRQ4bLvuZS6ddy9p7kGVJ\ndMvCMCWGJTFMa+Iy+XMkaJrAJgSaxsRl8t9CCGxaMuFg08S0S/Lmfd6ScmKZLIk17XLy54jk80wT\nAiHOXE59T/7cllyTUp713DDNM88d3ZQYloUg2UjLrgnsNoFD07DbBM45JJzSEbA1A6en/bsXuCIN\n2z2vJo+bP7pmKdtWVPPD5zv5X48c4a3rGrhzc3PBTOBfSPb3Bvje0yeocDv485tWUl+e/VH4heDS\ntkree1kr//7KaX69py/r84Xy1a/39BFKGHzwyvYF9QGhaYLb1jfykxe7ONg/zvrmzJ/kzseB/gCG\nJXPWWr+hwkVDuYu9p7MXsJ0YDjEaSvCuzZld5+99l7fxN785yC9f7eWPrlmasf30+6P80zMnafG4\n+eT1K9K6nESR3cZ7L2vlsiWV/OiFTr658xjXrKjhfZe1UlKU3myVYVm83u3n2eMjHOwfRwKr6su4\nfUMjW5dU4p7F7XLYNJZUl5w1qGhZki5vmH29Ad7oC/Bfe/q4b08f5S47l7R4WN1QRovHTaPHNe/q\nh7huMjB+JigbCMToD0QZGo+f1RW7sthBVYmTYqeN6tJk1073REA2+bjFdJNIIhnIRXWTaMIknDAZ\nHI8xFnlzl21NQLnbQVmRPXnpslNWlLwsdztw2bU3nZhPXhqmJJIwieoGUd0imjAm/m0SiZsE4wah\nmE4obpLI8CL3gmTG1OWwUeTQcNnPXNq0yYBCTKUExETQYclkoD55Um2cE4jp5wRkhmWRqca0k/et\nTZwJ4CaDOW0i6Jv6flowCMk1iK3pARbJ567kzYGXPM/1pgKydNyWabdn8r7XBAjO3LbJy8nHQpL8\n3+QxTzrr58ipH0rOrL38pp9PfS+n7h9m+vm0vznr+Kfu5zP397k/E9MfCzHxXDonKDOy1MU4a7l/\nIcRdwF0A9U3pORFd3VDOl9+xnn/f3cPDBwbZ3xfgru3LVGOSLHrh5Cg/fr6LJo+Lz9y0SnUNS9HN\na+vpD8R4cP8ATRUurl6evu50hajbG+HJo8PsWFW3IF/XVy+v5r69fTz0xkDeBmx7evyUOG101Jfm\n7Bg2tlbwxOFhYrqZlbXrXjzppciusaWtMqP7afa4uWVdPQ8fGOTajpqMNFYJxQy+/cRxHDbBp27o\nyNj9t7y2lC++bR337+vnoTcGONAX4A+uamdzGu7DsXCCp4+N8PSxEQJRneoSJ2/f2MS25dXUpWGA\nUNMEy2pLWVZbyp2bmxmP6rzRH2B/b4A9PWM8fyK59IoAasuKaPa4aal00+xxU+5ykDCTWaTkl5z6\nfiyi0+9PBmfecOLM/gTUlblorHCxqcVDk8dNU4WLxgp3yiWllpSEYga+SIKxcIKxiI4vkiAQ1QnG\nDMajOsPBOMGYflbWbracdo1ihw2300aJ00ZlsYO2qmJKi2yUFjkoddkpK7LjdiTX7yuaXNdvYm2/\nZJYsmVmc/DKmXeqmRVy3iBlm8lI3iRkW8Rkuo7pJ3LAYj+nJk+bpJ/zTTvY1jamMhl1LBnz2IoFj\nKuNxJvNh1zQcNnHOz5OXjonf221iKhA0pcSy5LTLZHBkyeRtSl5y1r8ngy7LOvP95O/k5DYntjf5\nu+nBqCbODojeFDBND5y0MwHU+YLyma43+VyaHuS9KRic+p2cCiaTl8nHYPK6k7+b7tzAGiZq76b9\nfPJ3YuK3Z75nKgP4pp9P/Y2Ydp0373Py9k09FtOOc/Kxmbx9k4+DlBIhxJueHw6bdvZzZ/J5M+13\ncuJxPDNwkBwoMC3J/57lay8dAVsfMH1WdsvEz84ipfwB8AOAVes3pS0cdTtsfGTbUi5tq+QnL3bx\nxQcPceemJt66vhFbnk/kL2RSSu7fP8B9e/pY01DGJ3eoBbHTQQjBB69sY2g8xo9f6KK2rGjRlvta\nUvLzl7spLbJnPNORKw6bxq3rGviPV05zciTE8trcBUUzsSzJvt4Al7RU5LQT4KYWD48eHOJg/zhb\n2jMbROmmxe4uH5e2VWZlfvTbNzax65SXn+3q5m/fti6tn1uGZfGPz5zAF07w2VtXU12a2TmADpvG\nuy9tYWt7JT98vpPvPHmC9U3lXLG0ik2tHsrmUPYppeTIYJAnjgzzes8YUsKG5gpuWFPHhuaKjJYq\nlrsdbFtew7blNViWZDgYp9cfoW8sSq8/Sp8/yr5e/0WzME6bRkOFi466Uq6dCMqaKtzUlRdlrBpI\nE4Jyt4Nyt+OiUxMShkUwrhPXk2WKFpJktd+Z4MGmiakAze20pe19IE/WjFeUnNI0kdWA7RWgQwix\nlGSg9l7g/WnY7pxsavXwlXes52e7urj39T72nvbz8WuXZ3WS+mJhWBY/famb546PctWyaj6ybYkq\nRU0ju6bxp9ev4MsPHuIfnjzBF+5YS02GT7Ty0YsnvZwYDvFH25akvbQqn1y3spYH9vfz4P4B7r6h\nI9eHc5YTIyFCcYPNrZkNki6mo74Ut8PGvl5/xgO2fb1+IgmTbVmaL+ly2Hj/FW1876mT7Dw8xC3r\n0tPmX0rJPS/3cHggyMe2L2VFXfYGA9qrS/jCHWt55OAgTx8d4UcvdCEErK4v49L2Si5t81BdcuY9\nTUpJKG4wNB5nOBhjaDzOq91j9PmjlDht3Ly2nh2r6tKSTZsrTRPJstwKF1vbz/xcNy0Gx2NE4iYO\ne3IkPfl15vsie343B3HaNarti++zRVEKUcpnQVJKQwjxp8CjJNv6/1hKeTDlIzuPsxOaZyt12flv\n163g0lNefvpSN1944CAf2baEre353YGtkEQTJt97+gQH+8d5+8Ym7tzUtKDmFeWL0iI7n7qxgy89\neJhv7zzO529fM6v5GQtFOG7wn6+eZnltyaw7yhYql8PGDavreWBfP0PjsbyaA7rntB+bJljfnNuO\nr3ZNY0NzOft6A1hSZvQk+KWTXircjqy2qd/SlmyWcd/ePi5fWkVlGhqdPHFkmKeOjnDb+ga25aC0\n2m7TeNslTdyxoZFuX4TXusd4rWeMe17u4Z6Xe1haU0JtqZPhYJyh8fhZ3R0FsKS6mI9sW8IVS6vy\nsmuuw6YV/HqQiqIUjrQMW0spHwYeTse2LkbTkl/WBUqvr1xWzbLaEv7pmVN876mT7Fgd5L1bW3Gq\nHHxKfOEE39x5jAF/jI9sW1IQC/4WssYKN5+4fjnffPwY//zMSe7e0ZH363Wly3/t7SMYM/izm1bm\n9Qh1uuxYVctDbwyw8/AQH7ii/eJ/kCV7evysbijLi3Lnja0edneN0e2NsLQmM11oQ3GDvb0BblxT\nl9WSeiEEv39FG5//rwP84pXT/PFblqe0vQP9Af5tdw+bWj38zpbcNi8SQkw1+Xj3pS0MBKK81u3n\n9Z7kY1lX7mJ5bSl1ZUXUl7uoKyuitixzJYOKoiiFKPefwnM02frVukjxeF2Zi8+/dTX3vt7Lbw8O\ncXwoyJ+8ZTlNHneWjnRh6fZG+NYTx4jpJp++qYP1TfnZIGGhWd9UwQeuaOfnu7r5z9dO897L2nJ9\nSBl32hdh55Fhrl9Vu2iWh/AUO7liaRXPHR/lzs3NeREgDQSiDI7HuHFNXa4PBYBLmisQIrkmXKYC\ntle6fJiW5Opl2V8+or7cxe0bGvnNvn6u7aid9zqWg4EY33/6JE0eNx+/dlneDXg0Vri54xI3d1yS\nnbXnFEVRFoKCG8KabK85G3abxnsva+NTN3QwFtH52wcPTXV7UmZvX6+frz5yGA34/G1rVLCWZTes\nruOG1XX89uAQzxwbyfXhZJSUkp/v6qbEaeddi2xZg5vX1BMzLJ47nh/vUXtP+wFy1s7/XGUuBytq\nS9nb68/YPl44MUqzx52zjqS3b2iktqyIn7/cjTGPFumdo2H+/tEj2DTB3Ts6FlUZtaIoykJWkAHb\nXOdMbWr18OW3r2NpdQk/fL6T//vsScJxI0NHuHBYUnLfnj6+vfM4deUu/vr2tapmP0fef3kb65vK\n+elLXezvDeT6cDLmpVNejg2HeM+WFkoXcKORmSypKWFlfSmPHx66aAVBNuw57ae10p1XDW82tnjo\n9kYYm9YiPV36/VFOjIS5ZkVNzublOu0av39FGwOBGL89ODSnv93d5eOrjxzBJgR/ccsq1XBLURRl\nASm4gG1ygcG5qixx8pe3rOKdm5p4udPHX//mAAf6F+6Jb6pCcYNv7TzOb/b1c/Xyaj5/22oqS1Kf\nCK/Mj00TfOK6FbRUFvOPT5+gazSc60NKu2jC5Bev9rKspoTtHQu70cj53Ly2ntFQgj2nM5dFmo1g\nTOf4cCgta2il06bWZHZ/X1/637ufOzGKTYisdYc8n40tHi5t83D//n5GQ/GLXl9KyW/29fP9p0/S\nVl3MF+5QA2uKoigLTcEFbJpg3pPBNU3wzk3N/M/b11DksPH1x47xs5e6iE3rTqVAlzfM3z5wkMMD\n43zoynY+es3SvOzStdi4nTb+7MYOSovsfHPnMYaDsVwfUlr9ak8v41GdD17ZnnfzbrLl0tZKakqd\nPHZobtmVdNvfG0BKuDRPyiEnNXvcVJc42ZfmgNawLF44Mcqm1grK3bNfKyxT3n95G0j49hPHeebY\nyHkrQhKGxT8/e4r79vRx9fJq/uLmVXlx/IqiKEp6FVTAdmYl99RO5pbVlPLFt63jlnX1PHV0hL+5\n/yDHhoJpOsrC9syxEf7uocNYEv7qravZsbpOte3PI55iJ5+5aSWmlHzj8WOMx/RcH1JavNEXYOfh\nYW5YU5exhhKFQNMEN66p5+hQkC5v7rKoe0778RQ7aK/Or0yNEIJNrR4ODoyTMOY+x+t89vcGGI8Z\nbM+Tzrc1pUV8bPtSDFPykxe7uPsXe/nuUyd4tduHPjG3zR9J8Pe/PcLuTh/v2dLCx65ZqjohK4qi\nLFAF9e4+mVlLR7tlp13jfZe18Ze3rsKSkq8+coRfvHo6rScBhSRhWPz4hU5+8mIXq+rL+OLb1rKs\nNnsLrSqz1+Rx86kbOvCFE3x753HiBZ4hHo/p/PD5Tpo9bn53S2uuDyfnru2owWXXeDxHWbaEYfFG\nX4DNrZ68HKzZ2OIhYVgcGRxP2zafPT6Kx+1gQ3P+NFS6bEkVX71zPV+4Yy3Xr6rj+FCQ7z11krt/\nsZcfvdDJlx48RK8/yp9ev4LbNzTm5WOlKIqipEdBBWzJhiNgS+MH0+qGcr78jvW8ZWUtjxwY5AsP\nHFx0c9tOjoT44oOHePb4KG+7pJHP3LSSMpcqq8lnHXVl/PG1y+n0hvn+Mycx86BJxXxIKfnxC12E\n4wZ/fO0ylSEAip12rumoYVenD38k+xnUI4NB4obF5jwrh5y0uqGMIrs21cUyVf5Igv29fratqM7q\n2muzIYRgaU0JH7iijW/97iY+c9NKNrV62N3pAyH4/FvXsKU9v+YZKoqiKOlXUGdHmgaC+TUduRC3\nw8aHr17Cn924EsOSfP2xY/zDk8cX3Byhc8V1k3/b3cPfPXSYqG7yZzeu5N2XtiyaxZkL3Zb2Sj54\nRTv7egP89KUupCy8oO2poyPsPe3nPVtaaM1RK/V8dOOaeixL8tTR4azv+/WeMYrsGqsb5rcO2EzK\n3Q48aWpa5LRrrGsqZ29vIC3P+RdPerEkbF+RH+WQ52PTBBuaK7hr+zK++97NfP3dl+RdyaqiKIqS\nGQXVN3sqw2bLTJx5SUsFX2lYz2OHBrl//wB/dd8B3rq+gTs2NFK0wNazOdgf4CcvdjEaSrBjdR3v\nubQFt3Nh3cbFYMfqOsYiCR7YP4Cn2Mm7Njfn+pBmrd8f5T9eOc36pnJuWluf68PJKw3lLja2enjy\n6DC3b2jMWuYxrpu83Oljc6snbfssLrLRWOFCCEgYJpF46iW8G1s8vN7jp3csmlKgL6Xk2eOjrKwr\npaHClfJxZYvKRCuKoiwuBfWuPzWHLYO1+k67xh2XNPH3d25g65JKHtg/wOfue4OXO70FmcE4Vzhu\n8KPnO/naY8ewaxqfe+tqPnRluwrWCti7NjezvaOG+/f186vXewvieaqbye52RXaNj16zdNF2hbyQ\nm9fWE4wZvNzpzdo+d3X6iOom16+uS8v2ihwaLZXFaFpy/cxmjxuHPfXHemNLcq5ZqotonxgOMTge\ny5tmI4qiKIoyk8LKsCEQkJWTu6oSJ3987XJ2rKrjnpd7+KdnTrHz8DBv39jE+qbygpvgbVqSXZ1e\n/vPVXoIxnTs2NPL2jU1qpHYBEELwh1ctQQAP7B8gYVq8d2trXj9Hf/V6Hz2+CHff0IGnWK3vN5M1\nDWW0VLp57NBQ1hZzfvroMM0eNyvrUm845LALWiqLz5oXZrclA7iu0TCpjCt4ip0srS5md6eP2zc0\nzvsz4dkTo7jsGpctUfPAFEVRlPxVUGfrYmKUNkMVkTNaWV/GF+5Yy4evascbivONx4/xxQcP8Wq3\nD6sAMhmmJXnh5Ch/9V9v8C/PdeIpdvCFO9byO1taVLC2gGia4MNXL+HGNXU8enCIn7/ck7fPz4P9\nAX57cJAdq2rzsrGFEMkyvlKXnVzGvEIIblpTz+mxKEcGM7/sSOdomE5vhOtX1aYcHGoatFQWz/ge\n43LYaKp0p7R9gBsm7pvdnb55/X1UN9nd6ePypVW4FljJu6IoirKwFFSGbbIUMtvlU5omuG5VHdes\nqOGFk14efmOA7z11kqYKF7df0sgVS6uwa/kV/JiWZNcpL/fv62coGKe10s0nr1/B5jaPKj9boDQh\n+MDlbThtGg8fGEQ3LP7w6iV51UQmFDP4l+c6aapw8XuX5U8LfyGg1GWntCj5ZZ8YFTItSSiuE4qZ\nBGN6Slmh+bhqWTX3vtbLbw8OsqYxfU1AZvLU0WGcdo2rl1entB0hoLWy+IJBULnLQaLMYiQYn/d+\nrl5WzaMHB7n39V62tFfimONI3itdPuKGxbWqHFJRFEXJcwUVsCW7RILNlpsTULtN4y0ra7lmRQ2v\ndPl48I0B/uW5Tu7b08ctaxu4YlkV5Tluh29akpdOeXlgIlBrqypWgdoiIoTgPVtacNg0frOvH920\n+Jjx6f8AACAASURBVOj2pXkxoBA3TP7xmRME4wafvnElRfbcZzUq3I6pQG2mwNamCSrcTircYFku\nQnGDUMxgPEvBm9OucdPaen69p48TwyFWpKFUcSbhuMGuUz6uWl5NsTO1j4Umj5viootvo6asiLhh\nMR6d39IFmib4va2tfP3xYzxxZJhb1zXM6e+fPT5KY4WL5bWLd6F2RVEUpTAUVsCWgXXY5sOmCa5c\nVs3lS6vY1xvggX393LO7h39/pYf1TRVcuayKzW2VuLNUZmNZkqNDQXZ3+Xi1e4xgzKCtqpj/vmNF\n3i5+q2SOEII7NzfjtGv88rVedNPiT96yfCprlAsx3eRbO49zbDjIR69ZmvN25EJAo8dFhXv28+c0\nTVDudlDudlAWs9M3Fs1K0Hbz2np2Hh7il6/18tlbV2Xk9fziSS8J0+L6Vallm+orXJS7Zz9o1Vjh\nImGaxBLWvPa3vrmC9U3lPLCvn+0raiiZRaAIyQ6lJ4ZD/O7WFvX+qCiKouS9lAI2IcTXgLcBCeAk\n8IdSyvSsZjqDyQHwfKnw0oRgc6uHza0eTo9F2HXKy65TPn7wXCdOWzebWj1ctayKDc0VaT9ZtqTk\nxHCIlzuTQVogquO0a2xqqeDq5TVsbKlQJyKL3O0bGnHaNO7Z3cO3dh7n49cum9PJdLpEEybf3HmM\nkyMhPr59GVcuS63kLlVCQFOlO6VseJnLQUsl9GYhaHM5bLx9YxP/+nIP+/sCbGxJ77w/KZPrvS2r\nKWFJ9fyzTU67RtUc11rTNEGzp5hTI6F534+/u7WVL9x/kAf2D/DeWZbZPn9iFE3AtuU189upoiiK\nomRRqhm2x4HPSSkNIcT/Bj4H/GXqhzWzydbQucwUnE9rZTGtW4p596UtnBwO8dIpL7u7xtjd5cNh\nE7RWFrOkupj26hKWVBfT7HHP+nZYUuINJejzR6e+jgyM44voOGyCS1o8XL6kkk0tngW3Xly6aBo4\np5XgnRvLWpYkrs9vlD+f3bS2HpdD46cvdfPX9x/kru1LWddUkbX9h+MG33j8GN3eCH/yluVctqQq\na/ueiRDQUummNA2ly6UuB61VgtO+SMaDtutW1vLYoWSWbUNTRVrnJR4dCtIfiPFH25amtJ35DgY4\n7RrlLgeBeZZGtlUVc/XyanYeHuKG1XXUlhVd8PqGZfH8iVE2tnioyMEAhqIoiqLMVUoBm5TysWn/\n3AX8TmqHc2GTpZBiojQyH5vgaULQUV9GR30Z77+ijYP94xwaGKfbG+GlUz6ePDoCJMsqWyrd1JcV\nYdMEmhBomsA2dQmRhEmfP0p/IEbCOBNMVBY7WFJdwu9sqWJzmydrpZeFpsihUTLRRKLYabtoxtEw\nLSK6STRhEkmYxHUzL59jc7W9o5Yl1SX80zMn+fpjx3jr+gbedWlzxue1hWIGX3vsKL3+KJ+4fjmX\ntuW2dboQ0FpVPOuyudkoKbLTVlVMT4aDNrtN412bm/nnZ0/xUqc3rZmhp46OUOy0cfnS1B6fMtf8\n79dSt33eARvAuy9tYXeXj1/v6eXj1y6/4HXf6A0wHjO4tkNl1xRFUZTCkM45bB8BfnG+Xwoh7gLu\nAqhvapnXDqav56MJgZnnZ9N2TWNji2eqhMmSkpFgnG5vhC5vmG5vhB5fFCklpvz/7N13fFvV3T/w\nz7nS1bRkW97bzrKzd0IgCQQISSmFFkrZBcrooDwt7VM6f93P09KnpZsCZRTKLrNAgSwgIdvZ24kd\nz8R7T1nS/f0hKzjGdjSupCv78369jIMt3Xtsa9zvOd/z/Spwe7wfHsVbPMQoS8iKN+PCySnISjQj\nK8GEzHizqhecY411oICE1agLuKiFXifBrpPOpMp5PAp6+t1o7+lHW0/kKwSqKcdhwU8+Mw3P76jC\nfw7W4mhtB75y4QSk2kxhOV97Tz9+s+YYatt68Y2LJ2GWyml8gZIk70qMOcSCGsOxDARtVS3d8IRx\nkXZRgQPvHKzFq7trsCjfEXBVxOG09fSjuKIFlxSlhlQExmSQQiqNH2fQhzQJ57AasGpaOt46cBqr\npqUjP3n41M7yxi68UFwFu0kf9cckERGRv8559SKEWAdguPJbP1QU5Y2B2/wQgAvAsyMdR1GURwE8\nCgCFM+YE9bYsnVlh816AuWMsg00SAml2E9LsJiwqiG5q2FgiBBBvMcBhlVWtPChJAlajHlajHo44\nA5o6nCGtAkSbUa/DbefnY3qmHU9uKceP/30Ity3JV31PWWu3E79ZcwyNHU7cd+nkiKZgDkcnCeQ6\nLDAZwrcSbRm00hauoE0aqAD627Ul2HC0HqsCrIo4nE3HG+D2KLhoSmjFRuym0JqfS5KAzSQHXTES\nAC6fmY4PSxrwYnEV7l91dnEWl8eDt/afxpv7TsNm1uOrF048awKQiIhIy84ZsCmKculo3xdC3Abg\nCgCXKEp41yD0A+X8BXzBWwwveVDIJAlwWI1ItMhh39do1Hub/TriDGjs7ENHjyus5wunhfkOFCRb\n8cjGMjy8sQzFFS1YNT0Nk1LiQipU09rtxLuH6vDBsXooAL61cjKK0sPbO+xcJAnITRq9J5hazAY9\n8hxWlDd1hW01dnqmHdMy7Hhr/2ksn5wCcwhBqMej4IOSBkxNtyEzIbRG1qGkQ/rEmXQhBWwWgx5X\nzsnEs0OKs9S09uDvm8pQ3tSNJRMcuHlxHrMUiIgopoRaJXI1gPsBXKgoSrc6QxrZ4D5iWmoGTJGl\n1wk4rEYkWOSIz5KbZB2yEy3osbrQ0OlEV29sBm7JcUZ8b3UR3tx/Cu8eqkVxRQtyEs1YUZiKJROT\nAtoX2dDRh3cOnsbG441wKwoWFzhw5azMkIMANaTHmyISrPmYDDqk2k2oa+sNy/F9ffZ+9tZhvHOo\nFlfPzQr6WAdOtaGx04kvLAitgbnZqINBH/qESZxRhhC9IQW7K6akYN3hOrxUXI3pGXasPVKHV3bX\nwCzrcM9F0S96Q0REFIxQpxn/AsAIYO3AzPw2RVG+EvKoRuC7OBdCsAn0OCQEkBRnRHKcIeotC8wG\nPXIderR2O1HbFtpFZrToJIHPzsnCqunp2F7WhA3HGvD0tgq8VFyF8yYk4eKiVOQ6Ru6Xdqq1B28d\nOI1tZU2QhMDSScm4fEY6Uu3h2RcXqHizHFCfNbUkWmS09TiD7i12LgXJVizMT8S7h2pxcWEqEizB\nVTrccLQedpMe83JC28sVr0LFTcD7eIwz6UNavdbrJHx+fjb++kEpvv/aQTR09mFuTgJuOz8/rBUh\nJQmQddKYrDRLRETRF2qVyElqDeRcJMmbCgl4P0e7eTZFllGWkBFvCkvRiFAkWAww6XWobu1GvysG\nozYAZlmHiwpTceGUFJxs7MKGYw3YXNqID0oavKuYIzzXmruckPUSVk5Nw+rp6UgMsAdXOMl6gbT4\n6ASOQgik200obwxf0sE187Kxq6IF/95/Cl88Ly/g+zd29mF/dRuumJURUjqxEOqkQ/rEGUML2ABg\nQV4ipqTGoaqlB3ctLcD5E5PCOsHjbRXhTbutae2J2VV3IiLSLm1d/Y5CEuLMm64QHwdvNPYlWg1I\ntRk1mwZrMuiQl2RFTWsPevrc0R5O0IQQmJAShwkpcbhhYQ42lzaisrlnxNun2Iy4uDAFNpVWWNSU\nGW+OalEJs0GPBIuM1u7wFKlJt5tw4ZQUfHisAaumpSEtwFXN9w7VAgIhFxuxGPWq7h+1mWTUhpgW\nKYTAt1dOgVtRYInABE+q3XRmT1xOohl17X1o6XKG/bxERDR+xEzANvTiS6sX76QeWS+QESNtDGSd\nhDyHBbXtfWgdAxdrVqMel00LvQphNCTbjLBo4DGTYjOio9cFtyc8K69Xzc7E5tIm/HNbBe5dMQlG\nP/bqeTwKXiiuwtoj9Vg+ORlJcaM3mT4Xu4qra4D3dd5i1Ie8SuXP70INCRYZjkEry0KIgX2TUsym\nShMRkfaEt7SeioQQg1IiBUsyj3EJFhkFyXExEaz5CCGQEW9CRoIJzNiNDpNBh+Q4baRm6nUSUu2h\nBUSjSbAY8IX52Th0qh0/e+swqlpGT8F0ujz464elWHO4DiunpuG2Jfkhnd+bDqn+6qraQWC4mI06\npI+QdptgMSDXYeH7FBERqSJmAjadJM5cBAsBXhCPUUIAmYkmZCREN6UtFAkWA/KSeLEWaUIAmQmm\nqBekGSzBYoDFGL7VnkunpuE7lxWis8+Fn791GB+WNGC47irtvf144L2j2F3RghsW5uCmxbkhZynY\nTOGp0hpn1Gv+9V3WC2QnmEd9rFmMeuQnW2GUY+ZtloiINCpm3kkk4V1Z82HRkbFH1gvkJ1mjUtlP\nbWaDHrkM2iIqPd6kauN0taTZw7viOi3Tjl9cNQNTUm14cks5HtlYhh7nx3spa9t78cu3j6CyuRv3\nrJioSsNtALCZw7MSptdJIfWXCzdfkRF/9u4Z9BLyk6yqtD0gIqLxK2beRaQhZUYYr40tFqMO+UlW\nmDR8oRYok6xj0BYhdrOMBIs2A32TrIPDGr7USMDbwuDbl03B1XOzsL28GT998xAqmrpwor4Tv3z7\nCLqdbnx3VREW5KnTh0ySgLgwFvSwa7CQjU9mojmg3n6SJJCkkTRdIiKKTbGxWQADRUYGpUSy6MjY\n4YjzVoHUUiqbWnxBW2VTd9iKT4x3OkkgLYx7xdSQHGdAe68zrK0fJCFw5exMFKbb8PCHpfjF20cg\nBOCwGHDfyilIV7E/ns0oh/U1OM6kB9rCdvigpdiNQQWT8WYZTZ1OOF3s00ZENJ4kWA3od3tCLqYV\nOytsQpy1qsaUyNjn26/mTRkbu39PrrSFV6rdqGpp+XCQJBFw6f1gFabZ8PMrp2N2TgImp9rww09P\nVTVYAwB7mNIhfWSdBHMY9/4Fw6CXkBxkVU0huMpGRDTeSJJ3wjZZhT61MbTC9vG/BQR47Rvb9DqB\nnETLmEqBHA1X2sLDZJA0mwo5lM0kw2J0ojsCvfpsJhn3rpgUlmPrJBGR6q12k6ypvoZ2c2hpmlxl\nIyIaX5LijJB1EmSdBKsptJY12p6WHkQ3uKy/wJhekRnrjLKEvDG2X80fXGlTn9orR+EW7AqNltjN\nckRef+M01tLDFmK7Aa6yERGNH7JewDFoQjklxNf/mAnYJOnsIE1iwBaTrCY98sZx1TQGbeqJN8sw\nh7HwRThYjfqYn6iIVJ80g17SzO/KZNAFVGhkJPFmedy+9hERjSepNtNZe73NBr13f3aQYuadY3Cw\nJoARL3glyVveO9T0FVJfvFlGTmLs9ldTi0nWITvRzEqnIZAkbwGIWBTLqyx6nYAlgitfWqkWGa/S\n+wlX2YiIxj6TQTdsHJISQpZNzARsZ6dEDr+HzW6WMSElDolWAxIt2nijJ68UmxGZiaM3mh1PLEY9\n0uNjK51PS5LjTJA1XmhkJHaTHLPNlOMiHEDFmaK/wiaEuquKWl5l0+sEdJIYyGhh+xwiomCkjzCh\nbDLogl5li5l8It2QKpFi4P8VxZsnmmY3wTboYsJi1MMoS+jr5wbvaBLCu+IZK4UhIinBYoDTpaCp\nsy/aQ4kpRlmCwxrbEzJJcQacaumN9jACFhfhyo1GvS7qr+NWo17VKqS+VbbTrdr5++skgYyEs99D\nB1MUBR29LtS198LlZtEkIqKRnGu7RkqcEZ1BFB/R5jTfMMRZVSK9dJKAI86ACclxw77ROFQoo0nB\nEwLITjQzWBtFqt3I9N0AjYWefXaTDFkfWz+DEIA1CnsG44zRfX6olQ459JhaWWWzmvQoSLGOGKwB\n3iDTl8HiiDNw5Y2IaBhCAMm20dMeTQYdbEG0xlHlHUMI8W0hhCKESFbjeMORhIAvKdL3ZpGbZEGa\n3TRiA1e7ST6rHQBFjk4SyE+yRjyFKhZlxJtgMvCB6g+bWT8mHlNCCCRZY2sPns0U3mbZI4n0qt5g\nkhSeapVa2MsmhHcfaK7D4nd6sW6gn2B+slVzffKIiKLNYTX6NRkXTMXokK8ShRA5AC4DUBnqsUYz\nNCUS8KbLjEaSBOLNXN2JNL1OIDdp/PRYC5UkCWQnWmJuxSXShPBWXRor4s0y9LrY+Ztbo3SBbjbo\nolaoyB7GIDWaq2yyXiAvyRJ0mwmTrEN+khUZCaaYKCIlhPdnjoWxElFs0kn+T8SZ5OGLkoxGjanD\n3wO4H8AbKhxrWELgrDfNQNKhEiwyWrqc4RgWDcOgl5DjsGgm3SdWyDoJ2YkWlDd2QeEWkWElx/k3\ncxUrJEnAYTWivl07e5lGE62+aEIIxBn1aOvpj/i5w5muHK29bHazjPR4dQKtBIsBcUY9Gjr60Nod\n+b/PUCaDBLOsH2hUKyDrBPQ6CXpJnLlucLo86HW50ev0fu5xuuDhVnciClGq3RjQ62pSnAFdTv/3\nsoX0DiyEuApAjaIo+8K5p2S4QwsA/lzXmmRdyN3FyT8mgzfoiNXqfdFmknXISjSjurkn2kPRHFkv\nxuSe1ASLjMbOXs1fMJqNOlULbwQqzhT5gE3WC1jDHKTGm2U0dzkjVlQl3iwjM9Gs6jH1OgkZCWbY\nzTJq23rhdEX2wSzrvZk0NpPer155Br0Eg16CfdBifZ/LjR6nG119bnT29Wvi+aiTfBU7vZ/1QpyZ\nuPZ4FLgV74fHo8A98MHJPiIv33Yof5/LQngLmhl1Ouh03i1YkgAgvFuyfHGYEDizPWvIp4AnNU2y\nDrYAKkae85ZCiHUA0of51g8B/ADedMhzEkLcDeBuAEjLzPZ7gMDHPdeCjQkTLDIDtjAzG3XISWRD\n6FDZTDLS4hXUtcXGqkukjLZXNZbpBlbZGju0XSnUFuXCH1aj/kxV4Eixm8I/QSCEd09YZVN32M9l\nNuqQkRC+lGKrUY+CZCsaOvvQ3BnerBZJAuxmA+JNelX6Ahr1Ohj1OiRYAEUxobffjc4+Nzr7XOh1\nulUY8SdJEmDQ62DUSZD13hVBw5l/Bzc54vEocLo9cHsU9Ls9cLkV9HsUuNweuDze4M7l8agSkArh\n3f4gDQSSOuH9EAP/lqSPt7JIkoAE7+vdWZP7CqBAgUfxViJV4H2OexQFbo/3s8ujQBkIUD1nbvNx\ncOoZ+LcycCzfv0casyTEwDg+bhF15jMGt4/y/mfgk/d7YuDifNhFhI+/6BuHRxn42TzecbvP8QI2\n+HegDNzWdxxgoJbDmXYbH4/9rDEOGf9oRvrZBMTZP8PAZIAH3okB7/GH+Z0NvEcrA7dRcPbf13e/\nkcbrq/4uDfrse9v3KB//rQf/XoU0sJIuCcg6CXqdgCxJZ64XPn4ueJ8DLrf3/4UQMA5M3hhCeM6F\nKpC09HO+0imKculwXxdCzARQAMC3upYNYLcQYpGiKLXDHOdRAI8CQOGMOQG97UoDD7rBTwi/l9gA\n2Ix6yHqBfhenn8IhzqRHVoJ5TF5QR4PDakCfy4NWpvIC8D6+RqtgF+sSLTKaOvs0PTse7X5oOknA\nbNChuy88F8/DsQdRxSsYVqMe8WY5rCuIsl4gOyH8fTClgaIkdpMep9t6VV85NBl0cFhl2E1y2H4W\nIQTMBj3MBj1SbEa43B709LvR5/LA2e9Bn9uNvn6P38/XwTP3RlkHo17AKOvCcoEoSQIm6dzPVUXx\nXnj7gjiPosADnAmgfEGPRwEk8fFqn+9DPzTw0iBfUKfAe7nI65PxyfuY1QF+rL5HgyGA14Gg35EU\nRTkAINX3/0KIcgALFEVpDPaYIxnuhcE3A+Dv/RMsBjS0a3sWOxYlWLz7IbT+4h1r0u1G9Ls9435l\nWAhvXvhYptdJSLQawr4qESyjLJ2zwFMkxBnliAVsJoPkV3qdWlLtRnSEKRXP217FEtGUVrPBu9rW\n1OVEU2dfSD+Xt3G5jETr6L2NwkWvk2DTSbAN+pqieFey+lweeM6sOJy9UiEGVnKMeklz749CCOh1\nAhp4WoeNb7WGaKyIicbZoaZEAkCCWUZjh7ZnsWNNWrxpTO4r0gIhBLISzKho6hrXzd+T44yaCBbC\nzWE1oKXLqcnXp2j3QfOJZJXKSFcX1uskpNpMqA1DKnRmojmiwaePEALJcUYkWQ3o7HOho8cVUFCq\n1wkkWgyIt8ia2xftTafSjYvXJiLSBtUCNkVR8tU61lC6MymRHxMBpEQC3jdEuym8aSfjhSQBmQnm\nMZ2mpgU6SSAr0YyKxu4zeePjiUEvjZsJAVnDr0+2KKdD+phkHQx6KexFLYRAQBvB1ZJoNaC1p1/V\nPVMpdiPsUX6dFkLAZpJhM8lQFBO6+lzo6PV+uD2Kd8+JXjqzl8ug834YZe2tTBERRUtMrLB9XJ1l\nUGn/II6TaNXmBVEskfXenmHRmLEdj4x6HXIcZlQ0dWty9SWc0uzGcbXvwGE1aO71ybt3TDtvE1aj\nHk5XeFNHrUZ91FZ0MuwmnGzsUuVY8WY56D5r4SKEQJxJRpxJRvrAHqPx9BwnIgqWtvIMRjDsHrYg\nZt7MBj1Mhpj4kTXJZPA2S2WwFllmgx6ZCeqW4tY6m1mPuHG2gmsy6GCOUnPqkURjpWk0kRhPpIqN\nDMdk0CFRhVVlk0GH9HhtN5kXg8rUExHR6GIiejmzh02FYyVaxkeKldrizTLyHJHduE4fs5tlpNi0\nNVseLkIAqTZtX2yGi0Njr09xGgvYLAbdmf464SBJ0W9hkGIzQq8L/t3OKEvITmTVXiKisSQmrr7P\nlPUfUtU/GHaTDIM+Jn5szUi1m5DJC4CoS7YZEW8e+6tOyTbjuH2O2kzeFiRaIARg1VA6JDCQUhfG\ngMpukqP+OqcbKI0fDKtJj7wkq+aKdBARUWhi4lV9uPeeYPciS5LAhBQrshxmWDSWfqQ1kgTkOMxI\nitPWrP94lpFgglVjqx5qMsoSksZJoZHhCCGQaNHGSmqcSR/14GU44awWmWDRxoSI3SwH/DxPsBqQ\nk2g+k5FCRERjR0wEbGKYoiOhHU/AbpKRl2RFQYoVCRaZ/TqGMMoS8pOt424fkdb5yv2P1b2YqTbj\nuK8Mp5XXozijNicGwjUuoyxpqsBKmt3/1Mi0eBMy2A+TiGjMiomrPkmIT6RAfvIrwTHJOmQkmDEp\nNQ4pdiNnJ+Et+JCXZGWPGY3SSd5KnVpJnVNLgtXACQJ4/77xGtjLptWATa+TYDKo/9oU6d5r52LU\n6zApNQ7ZDjPs5uGDeF8WxHhpf0FENF7FRMCmG+6dSuVrVb1OQnKcEfnJ1rBcDMSKFJsR2YkWBq4a\nJ+skZCdawlqAIZKMsoS0cVJUxR+JUU7NMxt1qhYYMsk6WFR8XbWpHEwKEd3qkCPx9TDLSjRjcpoN\nGQmmM5VEZb1AXhKzIIiIxgOhRKG5kxCiAUBFxE88diUDaIz2IIiGwccmaRUfm6RlfHySVvGxqa48\nRVFSznWjqARspC4hRLGiKAuiPQ6iofjYJK3iY5O0jI9P0io+NqNjjCRUERERERERjT0M2IiIiIiI\niDSKAdvY8Gi0B0A0Aj42Sav42CQt4+OTtIqPzSjgHjYiIiIiIiKN4gobERERERGRRjFgIyIiIiIi\n0igGbERERERERBrFgI2IiIiIiEijGLARERERERFpFAM2IiIiIiIijWLARkREREREpFFRC9iEEE8I\nIeqFEAdVONYcIcRWIcQhIcR+IcR1g773rBDimBDi4MA55VDPR0REREREFAnRXGH7B4DVKh2rG8AX\nFUWZPnDMPwghEga+9yyAIgAzAZgB3KnSOYmIiIiIiMIqagGboigbATQP/poQYqIQ4l0hxC4hxCYh\nRJGfxypRFOX4wL9PAagHkDLw//9RBgDYASBb1R+EiIiIiIgoTLS2h+1RAPcqijIfwH8DeCjQAwgh\nFgEwACgd8nUZwC0A3lVhnERERERERGGnj/YAfIQQcQDOB/AvIYTvy8aB710N4OfD3K1GUZRVg46R\nAeCfAG5VFMUz5LYPAdioKMomtcdOREREREQUDpoJ2OBd7WtVFGXO0G8oivIqgFdHu7MQwg7gbQA/\nVBRl25Dv/QTeFMkvqzdcIiIiIiKi8NJMSqSiKO0ATgohrgUA4TXbn/sKIQwAXgPwtKIoLw/53p0A\nVgG4YZhVNyIiIiIiIs0S3locUTixEM8DuAhAMoA6AD8BsAHA3wBkAJABvKAoynCpkEOPdTOAJwEc\nGvTl2xRF2SuEcAGoANAx8PVX/TkmERERERFRtEUtYCMiIiIiIqLRaSYlkoiIiIiIiM7GgI2IiIiI\niEijolIlMjk5WcnPz4/GqYmIiIiIiKJu165djYqipJzrdlEJ2PLz81FcXByNUxMREREREUWdEKLC\nn9sxJZKIiIiIiEijGLARERERERFpFAM2IiIiIiIijWLARkREREREpFEM2IiIiIiIiDSKARsRERER\nEZFGMWAjIiIiIiLSKAZsREREREREGsWAjYiIiIiISKNUCdiEEAlCiJeFEEeFEEeEEEvUOC4RERER\nEdF4plfpOH8E8K6iKJ8XQhgAWFQ6LhERERER0bgVcsAmhIgHsBzAbQCgKIoTgDPU4xIREREREY13\naqREFgBoAPCkEGKPEOIxIYR16I2EEHcLIYqFEMUNDQ0qnJaIiIiIiGhsUyNg0wOYB+BviqLMBdAF\n4HtDb6QoyqOKoixQFGVBSkqKCqclIiIiIiIa29QI2KoBVCuKsn3g/1+GN4AjIiIiIiKiEIQcsCmK\nUgugSghROPClSwAcDvW4RERERERE451aVSLvBfDsQIXIMgC3q3RcIiIiIiKicUuVgE1RlL0AFqhx\nLCIiIiIiIvJSpXE2ERERERERqY8BGxERERERkUYxYCMiIiIiItIoBmxEREREREQaxYCNiIiIiIhI\noxiwERERERERaRQDNiIiIiIiIo1iwEZERERERKRRDNiIiIiIiIg0igEbERERERGRRjFgIyIiIiIi\n0igGbERERERERBrFgI2IiIiIiEijGLARERERERFpFAM2IiIiIiIijWLARkREREREpFEM2IiIaAGg\nrQAAIABJREFUiIiIiDSKARsREREREZFGMWAjIiIiIiLSKAZsREREREREGsWAjYiIiIiISKMYsBER\nEREREWkUAzYiIiIiIiKN0kd7ALGiz+XGzpMt6Ol3o6ffjV6nG70uN3qc3v8vSrdh9YyMaA+TiIiI\niIjGEAZsfrrn2d1Yd6R+xO/LOoGPvpuINLspgqMiIiIiIqKxTLWATQihA1AMoEZRlCvUOq4W7Kpo\nxroj9bh7+QRcOTsTJlmCSdbBLOtgknWo7+jDxb/7AE9vLcd3VhVFe7hERERERDRGqLnC9g0ARwDY\nVTymJvxuTQmS4wz45qWTYTF88ldWYNRj1bR0PLOtEvesmDTsbYiIiIiIiAKlStERIUQ2gE8DeEyN\n42nJltJGbCltwtcuGj0Qu2t5Adp6+vHKruoIjo6IiIiIiMYytapE/gHA/QA8Kh1PExRFwYNrSpBu\nN+HGxbmj3nZebiLm5CTg8Y9Owu1RIjRCIiIiIiIay0IO2IQQVwCoVxRl1zlud7cQolgIUdzQ0BDq\naSPiw5IGFFe04OsXT4JJ1o16WyEE7lo2AeVN3Vh/pC5CIyQiIiIiorFMjRW2CwBcKYQoB/ACgIuF\nEM8MvZGiKI8qirJAUZQFKSkpKpw2vBRFwe/WlCA70YwvLMjx6z6rpqchK8GMxzadDPPoiIiIiIho\nPAg5YFMU5fuKomQripIP4HoAGxRFuTnkkUXZmsN1OFDThm9cMhkGvX+/Jr1Owu0X5GNHeTP2VbWG\neYRERERERDTWqbWHbUzxeLx71yYkW/G5uVkB3fe6hTmwGfV47COushERERERUWhUDdgURflgLPRg\ne+vAaRyr68A3V06BXhfYr8hmknH9ohz858Bp1LT2hGmEREREREQ0HnCFbQiX24M/rC1BYZoNV8zM\nCOoYt11QAAD4x2aushERERERUfAYsA3x+t5TKGvswn0rp0CSRFDHyEow4/KZGXhhRxU6evtVHiER\nEREREY0XDNgGcbo8+OP6EszIsmPV9LSQjnXn0gJ09Lnw4s4qlUY3fvS7Pejtd0d7GEREREREUceA\nbZCXd1WjqrkH376sEEIEt7rmMzsnAYvyHXhyczlc7jHVTzzsfvzGISz7zfuoaOqK9lCIiIiIiKKK\nAdsgL++qwtQMOy6aok6fuDuWFaCmtQfvHWIjbX85XR68te8UGjr6cOsTO9DU2RftIRERERERRQ0D\ntgH1Hb3YU9WKy2ekh7y65nPp1DTkJVnwBIuP+G1LaSM6+lz4+opJON3Wiy89VYxupyvawyIiIiIi\nigoGbAPWH6mHogArQ9y7NphOEvjc3CzsrmxBW0/sFh/pc7kjVjzlvUO1sBp0+PrFk/DnG+biQHUr\nvv7cHqaVEhEREdG4xIBtwJpDtch1WFCYZlP1uIsLkqAoQHF5s6rHjaTvv3oAq/+wKewrXW6PgrWH\n63BRUSpMsg6XTU/HLz47AxuO1uP/vXEQiqKE9fxERERERFrDgA1AZ58Lm0ubsHJammrpkD5zcxNg\n0EnYcTI2A7amzj68ue8Ualp78OjGsrCea3dlCxo7nVg1Pf3M125anIevr5iE53dU4U/rT4T1/ERE\nREREWsOADcDGkgY4XR5cNk29dEgfk6zD7Jx4bI/RgO3lXdXodyuYm5uARz4sQ21bb9jO9e7BWhh0\nElYUnl305duXTcE187Lx+3UleHFnZdjOT0RERESkNQzYAKw9XIdEi4z5eYlhOf6iAgcO1rShqy+2\nimcoioLnd1RiYX4i/nT9XLg9Cn675ljYzvXeoVpcMCkJNpN81veEEPj1NTOxfEoKfvDaQWw4yqqb\nROeys7wZ64/wuUJERBTrxn3A1u/2YP2ROlwyNQ16XXh+HYsKkuDyKNhT2RqW44fL1tImlDd144ZF\nuchxWHD70ny8srsaB2vaVD/X4dPtqG7pOSsdcjBZJ+FvN81DYZoN333lADwe7mcjGsmm4w246e/b\ncdfTxdhyojHawyEiIqIQRCVgq2ntwa/fOYqHPyzFCzsqcbyuIxrDAADsONmM9l5XWNIhfebnJUIS\nwPaTTWE7Rzg8t6MS8WYZl8/MAADcs2ISEi0G/PLtw6oXAHnvYC0kAVw6yt/BatTjyxdOQENHH/ZU\nxVbwSxQpxeXNuPvpXZiQYsWElDjc+/wenG7rieqYXttTjSc+YnsTIiKiYEQlYGvv6ccTH53Er985\niu+9egBX/mUz6trDtzdqNGsP18EkS1g2WZ1m2cOJM+oxIyu29rE1dvbhvUO1uHpeFkyyDgBgN8m4\n79LJ2FbWjLWH1U21eu9QHRbkO5AcZxz1dhcVpkIvCaxjqhfRJxysacPtT+5ERrwJ/7xjMR6+eT56\n+9342rO74XRFpzXGsdoO3P/yfvz8rcPYy4kWIiKigEUlYJuaYcexX67GkZ+vxptfXwqXx4M/rCuJ\n+DgURcGaQ7VYNjkFZoMurOdaXODA3qpW9Pa7w3oetbwyUGzkpsW5Z339hkW5mJQah1+9c1S1C8Dy\nxi4cq+sYMR1ysHizjMUTHKoHjESx7nhdB774xA7YzTKeuXMxUmxGTEqNw/9dOxt7Klvxy7cPR3xM\nbo+C+1/ZD5tJRorNiJ/++xDTmYmIiAIUtT1sQgiYDTrMzI7Hzefl4cWdVRFPjTx0qh2n2nqxMozp\nkD6LCpLgdHmwv1r9/V9q83i8xUYW5TswKfXsvnR6nYQfXj4VJxu78My2ClXO996hWgDAKj+bll86\nNQ0n6jtxsrFLlfMTxbrKpm7c/Ph26CSBZ+9cjMwE85nvXT4zA3ctK8DTWyvw2p7qiI7ryc0nsa+q\nFT+9cjq+u7oIe6ta8fremoiOgYiIKNZpoujIvRdPhtWgxwPvHo3oedccroMkgEuKUsN+roX53gqU\nO2JgH9vWsoFiI4tzhv3+RYUpWDY5GX9cfxyt3c6Qz/fuoVrMyLIjO9Hi1+0vneoN7NZxlY0ItW29\nuOnxbehzefDMHYuRn2z9xG2+u7oIiwsc+P6rB3DkdHtExlXZ1I3frjmGS6em4jOzMnD13CzMzo7H\nr985GnMVc4mIiKJJEwGbw2rAV1dMxLoj9dheFrmAZu3hOizIcyDpHPum1JBgMaAo3RYT+9h8xUY+\nNSNj2O8LIfDDT09FR28//rwhtGbWde292FPZilXTzp0O6ZPjsKAo3ca0SBr3mjr7cNNj29DS1Y+n\nbl+EwnTbsLfT6yT85cZ5iDfL+Mozu9DW0x/WcSmKgu+9uh96ScIvPjsDQghIksBPrpyO+o4+PPRB\naK8bRERE44kmAjYA+NIFBUi3m/C/7xxVvQLhcKqau3HkdDsu8zMNTw2LChzYVdGCfnd0Nv/7o7Gz\nD2sO1eKaedlnio0MpyjdjusW5uDpreUhpSauGQi6Vs/wP2ADgMumpaG4ohnNXaGv8BHFqh++dhDV\nLT14/NYFmJ2TMOptU2xGPHTTPNS09ODbL+0N616yl4qrsKW0Cd+/vAgZ8R+nZ87LTcTVc7Pw900n\nUdnUHbbzExERjSWaCdhMsg7fumwK9lW14j8HasN+Pl+gEIn9az6LChzodrpx6FRkUpKC8fJAsZEb\nR0iHHOy+lVNg0En4TQiprO8drMWEZCsmpcYFdL+V09LhUYANR+uDPjfRSKpbujW/R7Kxsw/rjtTh\ntvPzsXhCkl/3mZ/nwI8+PRXrjtTj4Y2lYRlXXXsvfvn2ESwucOCGhbmf+P53P1UEvSTwP/+JfBEU\nIiKiWKSZgA0ArpmXjcI0G37znnoVCEey9nAtCtNsyEv65H6PcFlU4ACg3X1sZ4qNFHyy2MhwUm0m\nfH5+Nj441gB3ELP1bd392FbWhMump0MIEdB9Z2TZkW43cR8bqaa+vRdPbj6Jzz20GUsfeB8rfvsB\nrn5oM/5VXIUep/aqu76x9xRcHgXXzM8O6H63np+PS4pS8ejGsqCet6NRFAX/7/WDcLo8+PU1syBJ\nn3xep9lNuGfFJLx3qA6b2dSbiIjonDQVsOkkge9dXoSKpm48t12dCoTDaelyYsfJ5oiurgHeAGdC\nshU7NLqPbWtZEyqaunHjok/Oio9kelY8evrdqGwOPL1p/dE6uDxKwOmQgHcf3aXTUrHxeEPMtEoY\nS1q7nSht6IxI+nI4tXY78cKOStz4920471fr8bM3D6O334P7Vxfih5dPRVtPP77z8n4s+p91+NHr\nB3DolHaqvL6yqxozs+IxJe3ckyuDCSFw1dwstHb3Y1+1un3R3jlYizWH63DfyikoGKb4ic8dSwuQ\n4zDjZ28egkvDKeJERERaoI/2AIa6aEoKzp+YhD9tOIGr52fDbpJVP8eGo/XwKIjo/jWfRQUO/OfA\nabg9CnTDzD5H03PbK5FgkQMKoIoGihwcq20f9QJtOO8erEW63YRZWfEB3c/n0qlpeGZbJbaUNuLi\nosj/Levbe9Hc7URRuj3i546Wli4nHt1Uhqe2lKPb6YbDasCifAcWT3BgcUESitJtw66qaI2iKHjg\n3WN4/KMy9LsVFCRb8fWLJ+PK2RlnrS7fuawAO8tb8MKOSvyruBrPbKvErOx43LNikl99A8PlyOl2\nHD7djp9+ZlpQ918+ORmSAD441oB5uYmqjKm124kfv3EQM7LsuHNpwai3Nck6/PDyafjKM7vw3I5K\nfHFJvipj8PnT+uM4VteB31wzC1aj5t7miIiIAqKpFTbAO/v7/U9NRXOXE498GJ49FmsOewOFmUEG\nCqFYVOBAe68Lx2oj23PuXBo6+vCeH8VGhpqcaoMkgCOnA/t5epxubDzegMumpwV9gb9kYhLijHqs\nPRz5fWwtXU5c8/AWXP7HTfjr+yfGfDPgtp5+PLi2BMt+8z4e/rAUl0xNw6+unomLClNwoKYNP3vz\nMC7/0ybM/cVa3PV08Zneelr1x/XH8fCHpbhiVibeuncpNnz7Qnxr5ZRPpAILIbCowIEHr5uDHT+4\nFD/9zDR0O9342rO7o5rO98quasg6gSvnZAV1/wSLAXNyEvDhMfWeOw+uLUFLdz8euGYW9Lpzv7Ws\nmp6GCyYl4XdrStCiYvGg9t5+PPTBCby9/zRueXx72CtiEhERhZvmAjYAmJkdj6vmZOLxj06itq1X\n1WP39ruxsaQRK6elBbxvSg1a3cf2yu5quDwKbgggHRIAzAYd8pOtOFobWCGVD0sa0NvvweoQVimM\neh0unJKCdUfqIhow9bs9uOe53ahr78NFhan4v/eO4Y6ndqp60akVnX0u/Hn9cSx7YAP+tP44lk5K\nxrvfWI4/3zAXNyzKxYNfmIPN37sYH313BX537Wysmp6Gw6fa8dVndmFLqTb3J/1zazn+sO44Pj8/\nGw9+YTZmZMX79VoQb5Fx2wUFeP2eCzAxxYp7ntuNqiBSgUPlcnvw+t5TWFGYCofVEPRxVhSmYl91\nGxo7+0Iek6IoWHu4Dqump2F6pn8TYUII/PiK6ejo7ccf1pWEPAafN/bUoLffg/+6eBIO1LThxr9v\nQ5MKPyMREVG0aDJgA4D/vqwQHg/w4Npjqh73o+ON6Ol3RyUdEgCyEy3ISjBjR7m29rFtLGnAjCx7\nwNUaAW9a5NEAVwzXH6lDvFk+E8AG69JpqWjo6MP+msjtLfqft49gS2kTfvW5mXj81gX4xWdnYPOJ\nJlzx54+wp7IlYuMIJ49HwdNby7HsgQ343doSLCpw4K17l+LhW+YP2+srO9GCa+Zn4zefn4337luO\ngmQr/uv5vahvV3fCJVT/3ncKP/73IVw6NQ2/vnpmUJM2cUY9Hr1lATweBXc9XYxuZ2SbQG883oDG\nzr6Ai40MdVFhqvd4JQ0hj6miqRun23qxZGJyQPcrTLfhM7Mz8e99p1TZD6koCp7bUYXpmXbct3IK\n/v7FBThR34nrHt2GOo09FomIiPwVcsAmhMgRQrwvhDgshDgkhPiGGgPLcVhw3cIcvL7nFNp71Utp\nWX+0DjajHosL/CuDHQ6LCxzYcbJZMwUb3B4F+6paMT/IvSxF6XZUNnejq8//C9c9Va1YkJfoV+rU\naFYUpkInCaw9HJkUvJd2VuEfW8pxx9ICXDM/G0II3HJeHl7+6hIIAXzhka14aku5Zv62wahq7saN\nj23Dj984hGmZdrx+zwV47NaFmOFnCnGcUY+/3TwfXX0u3Pv8Hs0UldhY0oBvv7QXC/Md+MuNc0N6\n7OUnW/HnG+ehpK4D3/nX/oj+vV/ZVYNEi4wVAwFXsKZn2pEcZ8AHx0IP2LaWeTMGlkwIfALm/IlJ\naOnuR2lD6G0U9le34cjpdly/KBdCCFxUmIqnvrQIp1t7cO3DW6OyIkpERBQqNVbYXAC+rSjKNADn\nAbhHCBHcTvghrpyTCafbg/dV7LX10YlGLJmYBIM+eouLiwocaOx0qnKBoobj9R3ocroxN+iAzQZF\nAUrq/Ftl6+jtR2lDJ2Zlj97o1x8JFgMW5idiXQT2se2qaMGPXj+IpZOS8f1PFZ31vVnZCXj73mW4\ncEoKfvLvQ/j683vQGUAAqwWKouDZ7RVY/YeNOFjTjgeumYln7liMOedoyDycKWk2/M/nZmD7yWb8\nbq166W7B2lPZgq88swuTUm147NYFAe3THMmFU1Lw3dVFePvAaTz0QXj22w7V1t2PtYfrcNWcrJBf\nwyRJYPmUFGw8HlxbjsG2ljYhxWbExJTAV+jn53mDvF0VoWcdvLCzEmZZh6vmZJ752nkTkvDMnYvR\n2u3EFx7ZitKGzpDPQ0REFEkhRy2KopxWFGX3wL87ABwBENxO+CHm5SYiOc6INYfU6bVV1dyNquYe\nnD8xeqtrwOB9bNpIi9xT6S3tPTc3uABqaoa3SqK/aZEHatqgKMDsHHWKvqyclo5jdR2obArf7Hlt\nWy++8swupMebRlydibfIePSWBfjep4rw7sFa3PrEjphZaTvV2oMvPrEDP3ztIObkJuDdby7DdQtz\nQ9rnefW8bNywKAd/+6AU649Er1/eifoO3P6PnUixGfHUlxaqWnn27uUTcOXsTPx2zTFsOBr+n/HN\n/afgdHvw+RDTIX1WFKaitbsfe6uCL++vKAq2lTXhvAlJQT1eJqZYkWiRsbM8tHTizj4X/r33FK6Y\nlfGJv/Hc3ES8+OUl6Hd7cN0jW3HkdGB7bomIiKJJ1WUmIUQ+gLkAtqtxPJ0kcNn0NLx/rF6VXlu+\nIggXTApsn4XaCpKtSI4zaqbwyJ7KFjisBuQ6LEHdPyvBDKtB53fly/3V3v1maqywAcDKqd79iGvC\nlBbZ2+/Gl/9ZjO4+Fx67dQESLCMXepAkga9cOBE/vmIadlW0YE8IF8KRoCgKXiquwqrfb8Suihb8\n4rMz8Mwdi5GdGNxjYaiffGY6pmfa8a2X9kUlHa2mtQe3PL4Dsk7CP7+0GKk2k6rHF0LggWtmYVqG\nHd94fm/YV29e2V2NwjQbpmeq00pi2UB5/1CqRZY1dqG+ow9LJgQ3ESaEwIJ8B4pD3Nf75r5T6HK6\ncf0IhZOmZtjx4peXQC9JuO/FvSGdi4iIKJJUC9iEEHEAXgHwTUVRPjF9KYS4WwhRLIQobmjwf8/E\nqunp6Ha6sel46BXnNp/wpu0EU1hDTUIILJ7gwHaN7GPbU9mKOTkJQa+mSJJAYbrN71nr/dWtyHGY\nQ6pwN1hukgWFaTasC8MqjqIo+MGrB7Cvug2/v26O302Kr5mfDatBh+e2V6o+JjV4PArWH6nDdY9s\nw/0v78fUTDve/cZy3HJenqrVU02yDg/dNA8eRcHXn9uNPlfkmpwrioL7XtiLzj4Xnv7SIuQmqROE\nDmU26PDILfMh6yXc/XQxOlTccztYaUMn9lS24pr5War9jRIsBszNTcQHIRQe2Vo6sH8thMyFBXmJ\nKG/qRkNH8NUcX9hRicI0G+aNkikwMSUOX1qaj6O1HTjd1hP0uYiIiCJJlYBNCCHDG6w9qyjKq8Pd\nRlGURxVFWaAoyoKUlBS/j71kQhJsJn3IfZ0URcGW0iacPzG4tB21LS5w4HRbL6pbonvR0NbTj+P1\nnZgbxD6lwYoy7Dha2+FXALqvqk211TWfldPSsLO8Ba3d6pbW/+e2Cry6pwbfWjkFlwXQgiDOqMdV\nc7Pw1v5TmuoD1dvvxgs7KrHy9x/ijqeKUd3SjV9cNR0v3HVe2AKavCQr/u/zs7Gvug3/+/aRsJxj\nOBuO1mNHeTO+u7roTNpuuGQnWvDXG+ehvKkb33v1QFjO8eruakgC+GyQvddGsqIwBfur24IOlraW\nNSHNbkR+CI+fBfmh7WM7dKoN+6rbcP2inHO+vi+b7H3/2VSizbYTREREQ6lRJVIAeBzAEUVRHgx9\nSGcz6CVcOjUN647UoT+EanPH6zvR2NmHCwIsOx0uvn1s26O8j21/tW//WnAFR3yK0m1o6+lH7TlK\nZzd29qGmtQdzVA7YLp2WBrdHwfsqNgJu7+3H79aUYNnkZHx9xaSA73/jolz09nvw2u5q1cYUrJYu\nJ/68/jiWPrAB33v1AEyyDn+8fg4+vH8FblmSH3Tzcn+tnpGOu5YV4KmtFXhz36mwngvwVj594N2j\nKEi24rqFOWE/H+BdYbpnxSS8vf+03+nB/vJ4FLy2uwbLp6Qg1a5uWmco5f0VRcH2siYsCXL/ms+M\nLDuMeinofWwv7KiCQS/hc3PPHcwWpduQajNi4/HQq2MSERFFghorbBcAuAXAxUKIvQMfl6tw3DNW\nTU9Da3d/SEU6Np/wzqaGkrajpimpNsSb5ajvY9tT2QohgFkhFgApSvev8IgvQJyVrU7BEZ9ZWfFI\ntRmx9rB6aZGPbzqJtp5+fHd1UVABzYyseMzOjsez2yujlvpa09qDn/77EM7/tbef2oyseDx352K8\nde9SXDUnC3KIbRUCcf/qIszLTcBP/n1IlT2po3ltTw1K6jrx35cVRvRn/NIF+TDLOjy6sUzV424t\na8Kptl5cM0+dYiODTcuwIznOGFRa5In6TjR2OkN+XTXqdZidnYDiisADth6nG6/vqcGnZ2aMur/U\nRwiBZZNT8NGJxpCrY/q4PYpqxyIiIhpKjSqRHymKIhRFmaUoypyBj/+oMTif5VNSYJKlkNIit5Q2\nIddhQU6QhTXUJkkCC/MdUV9h21vVismpcSFXzvM1Uz56evSAbV9VGyQBv3t6+UuSBD41Ix3rjtSj\nviP0BrktXU48/tFJrJ6eHtJYb1qch+P1nUFdiIbieF0HvvXSXlz4m/fxzLYKfHpWBt775nL84/ZF\nOH9SclTSgmWdhPtXF6G5y4lXwrjq2NvvxoNrjmF2djwun+l/GqsaEiwGXLcwB2/srVF1j9TLu6ph\nM+mxclqaasf0kSSBC6ekYGNJ4OX9P+6/FnrmwoL8RByqaQu4Eflb+0+ho8+F6wNYSV0+JRmt3f04\nUNMW6DA/QVG8DdQv/+Mm1VOyiYiIAJWrRIaLxaDHhVNS8N6hWniCmMV0uT3YVtYU9XL+Q503wYGK\npm6cao3OPjZFUbCnsgVzc0JLhwSAeLOMrAQzjtaOXnhkX3UrJqfaYDXqQz7nULdfUACX24MnPioP\n+ViPbipDl9OF+1ZOCek4V8zOgM2oj1jxkb1Vrbj76WKs/P1GvHOgFrcsycPG+1fgt9fOPhNUR9Pi\nAgdmZsXj8U0ng3ou++OZbRU41daL764uikpgesfSAigAnvjopCrH6+xz4d2DtbhiVqYq/eOGs6Io\nBW09/dhbFdjEwrayJmQlmJHjMIc8hoX5Drg8SsAtBl7YWYUJKdYzaeb+WDY5BUIElwY61LsHa7Hh\naD2O1XXg7n/uimhhHSIiGh9iImADvNUi69r7sLc68DLph061o6PXhfOjXM5/qPMH9tP5qqxFWkVT\nN1q6+zEnyP5rQxWm20bdu6MoCvZXt6meDumTn2zF5TMz8My2ipAKfTR29uEfm8vxmVmZIQc5FoMe\nn5uXhbcPnEZLV/hm3w/WtOHGv2/DZ/+6GdvKmvBfF0/C5u9djJ98ZjoyE0K/mFaLEAJ3LitAWWMX\nNhxVv9l5W08//vL+CSyfkhK153uOw4IrZmXgue2VqhSc+c+B0+jpd+Pz89UtNjLYskkpkATwwTH/\nAxiPR8G2smYsnuBQJTCeN7CPdlcA+9hK6jqwq6IFNwTYM9BhNWBGZnzIAVtvvxu/fPsIitJtePAL\ns7HjZDPuf3m/Jqr/EhHR2BEzAdslRWnQSyKotMjNA/3Xgu0TFC5F6TYkWuQzaUWRtmdgNj3YhtlD\nFaXbcKK+E07X8MVhqlt60NzlxKwQK1KO5qsXTURnnwvPbKsI+hgPf1CKPpcb37h0sipjunFxLpwu\nT9jSAMsaOnHTY9tRUteJH1xehC3fvwTfuqxQtbYJart8ZgYy4034+yZ193kBwCMflqK1ux/3rypU\n/diBuHv5BHQ53Xh2e/CPQ583951CfpLlTEATDvEWGfNyEwMK2ErqO9Dc5VTtdTXeIqMwzYadAaQP\nP7+jErJO4Op5gQezy6ckY09VK9pDaMPwyIdl3n2iV07H1fOy8Z1VhXhj7yk8uLYk6GMSERENFTMB\nW7xFxpKJSXjvYG3As5dbTjShMM2GFJsxTKMLjiQJLC5IwtbSpqjMyO6pbIXVoMPkVHVS5Yoy7HB5\nlBGbB+8bWB2dHaYVNgCYnhmPiwpT8MRHJ9HjDDw1qa69F//cVoGr52VjYoo6/fqK0u2Yl5uA53ao\nX3ykucuJL/1jJ3SSwKtfPR93L5+IuDCkm6pJ1km4/YICbD/ZjAPVoe8h8qlr78UTm0/iqjmZqu+R\nDNT0zHgsm5yMJzeXh1Rgpb23H9vKmrBqRnrY0zsvKkzBgZo2v/eAqtF/bagF+YnYXdHi11663n43\nXttTg8umpyMpLvDX9uWTU+D2KNhyIrgJs5rWHvztwxP49KwMnDcQtH7toom4fmEO/rzhBF7aWRXU\ncYmIiIaKmYAN8KZFljd141id/yWz+1xu7CxvxvmTtLW65nP+pCTUtPagqjny+9j2VLY7h2alAAAg\nAElEQVRidk4CdCqVdJ/qKzwywj62/dVtMOikMxUlw+VrF01CU5cTLxUHfsH01/dPwO1R8I1L1Fld\n87lpcR7KGrqwrUy9IjN9Lje+/M9inGrrxd+/OD9sfdTC4bpFOYgz6lVdZfvDuuNwexR8e2V0V9d8\nvnLhRDR09OH1PTVBH2NjSQP63QpWTlW/2MhQH5f3968/2bayJuQ4zMhOVO9xtyA/EZ19Lr/aIrx3\nqBat3f24cVFuUOeal5eIOKM+6PL+//sfb0/BH1w+9czXhBD4xWdnYNnkZPzgtQPYxNYBRESkgpgK\n2C6blgYhgPcO+l+6fXdFK/pcnjP7xbTGl060tSyyTVx7nG4cOd2uWjok4N1DZtBJI5b231fViqmZ\ndhj04X3YLcxPxPy8RDy6sSyg3n3VLd14fkclrl2Qo3o10U/PykC8WcZzO9QpPqIoCr73ygHsLG/B\nb6+djfl5/hdc0AK7Scb1C3Pw9oHTqFGh6E5pQydeKq7CTYvzNBO4nj8xCTOy7Hh0Y1nQBVbWHa6D\nw2oIuU+iP6Zn2pFiM+IDP3oZejwKtp9sVj3NfMHA47j4HA20FUXBU1vKkZdkCXoMsk7CkolJ2FjS\nEPDK99bSJry9/zS+euEkZA3ZIyrrJDx00zxMSo3DV5/Zfc5CTEREROcSUwFbqt2E+bmJeDeAfWxb\nShshCWDxBG1e0E5KjUNynBFbAig8oihKyKl1B0+1weVRVKkQ6SPrJExKjRu2tL/bo+BATVtY0yF9\nhBD42kUTUdPaE1CT5r9sOAEBgXsvDrxJ9rmYZB2unpeFdw+eRmNnX8jH+9P6E3htTw2+vXIKrpyd\nqcIII+/2pQUAgH9sDr2a4m/fOwaTXsLXw/C3C5YQAl9ePhFljV1YeyTw/oD9bg82HK3HxUWpqq2C\nj0YIb3n/Tccb4TrHRMeR2na0dvefSQVUS3aiGel2E4rPUXhka1kTdle24s6lBSE1fV8+ORnVLT04\n2djl931cbg9+9uYhZCWY8eULJwx7G5tJxpO3L4TVqMPtT+5EXXvorUaIiGj8iqmADfCmRR453Y7K\npm6/br+ltAmzshNC7jMWLkIILJkY2D62/3n7COb8fC3+tP540FXo9lR6L4jUqhDpU5RhG3ZGubSh\nE91ON2Znh6/gyGAXF6WiKN2Gv31Q6tfqRkVTF/61qxo3Ls4NW1XFmxbnot+t4OVdoRUfeWNvDX6/\nrgRXz8vSVIASqKwEMz49MwMv7KhCRwiFH/ZUtuCdg7W4a/kEJAexlymcPjUjHTkOc1CNtIvLW9De\n68KlEUiH9FlRmDpQ3n/0arzh2L8GeF8P5+cnorh89BW2h94vRXKcEdcu8L/32nCWT0kBAGw67n+G\nw/M7KnG0tgM/+vTUUdssZMSb8cRtC9He04/7Xtwb0jiJiGh8i8mADYBf1SI7+1zYV9Wquf5rQy2Z\nkIT6jj6U+THL29vvxovFVZB1Ag+uLcHSBzbgwbUlATds3VPZihyHWfUL3KJ0G+ra+z5Rwn7fwAXg\n7JzIFIMQQuCrF03E8fpOrPNjdeOP649DL3lX5sJlUqoNi/IdeH5HZdApcsXlzfjOv/ZjUYEDv7p6\nZlT6jKnprmUT0NHnwoshFGj40/rjSLIacOey4Vc7okmvk3DXsgnYVdFyziBkqHVH6mDQS1g2OXLp\n3EsnJ0MniXNWi9xW1oz8JAsy4tWf3FiYl4hTbb0jpsrurWrFRycacdeygpD70uUlWZGXZPG7vH9L\nlxO/XVOCJROSsHrGuZuyT8+Mx9dWTMKW0ia/JxmJiIiGirmALTfJgmkZdr/SIneebIbLo+ACjfVf\nG8o3S+1PP7b3j9ajo9eF3183B2/duxQXTEzGn9Yfx9IH3sf/vXcUzX72+tpb1apqOqSPr6DI0H1s\n+6pbEWfUY0KyOpUX/fHpmRnIcZjx0Aelo65enqjvxOt7anDr+flItZvCOqabzstFRVN3QCmwPhVN\nXbj7n7uQlWjGIzfPh1EfnibKkTQzOx6LCxx4cnN5QPsNfaqau/FBSQNuWpyr2eqY187PQaJFxsMf\n+r/KpigK1h2pwwUTk8LSZH4k8WYZ83MT8fKualQ1Dx9guD0Ktp9sUn11zWdB/sA+thEC3L9sOIF4\ns4ybzstT5XzLJ6dga1nTiO1IBntwbQk6+1z4yZXT/J4s+excb8uB1/cGX3yGiIjGt5gL2ABg9Yx0\n7K5sQf059gVsPtEIg17C/Lzwb9gPhXem2uRXwPbanhqk2ow4f2IyZmTF4+Fb5uPdby7DhYUpeOiD\nUix9YAMe/rB01GOcbuvB6bZeVQuO+BRlDF8pcn91G2ZmxYe03yRQep2Eu5dPxN6q1mGrMzpdHjy3\nvRK3PrEDJlmHLy8P/wrN6hnpSLTIQfXn+tHrB+H2KHjitoVI1GiPtWDctWwCalp78J8DpwO+7ws7\nKyEAXBdkpcBIMBt0uPX8fKw7UocT9f5VuD1R34mKpm5cOi1y6ZA+P7piKrqdLlz/6LZhV4UOn2pH\nR69L9f1rPkXpNlgNumH3sR2tbce6I3W4/YJ81QL05VNS0O10n7PQyeFT7Xh2ewVuXpwbUKXbrAQz\nFhc48PqeGtXaenT1uUJKIyYiotgSkwHbqunpUBRgzeHRU902lzZhfm5iyGkz4SaEwJIJSdhWNvo+\nttZuJ94/Vo+r5mSeVYSgKN2Ov944D2u+uRxLJiTh1+8cxUej7MnYW+lNTwxH5bmUOCOSrIazCo/0\nubwVKWdFKB1ysGvnZyM5zoiHPjhx5mu9/W48vbUcF/3f+/jBaweQHGfAE7ctDKqXU6CMeh2+sDAH\naw7XjbiCMZySug5sOt6IL184AQXJ1jCOMPIuLkrFhBQrHtt0MqAL2n63By/urMaKwtRPVOrTmi8u\nyYdJlvCIn6tsviIllxRFPmCblZ2A5+46D11OF77wyNZPFOTwVbRVu0Kkj14nYV5eInYOs8L20Pul\nsBp0uO38fNXOd94EB/SSGLWdQbfThftf2Yd4s4z7Vk4J+BxXz8tCWWMX9ofYd7C9tx9/XHcc5/1q\nPVb/YZPfPfOIiCi2xWTANiUtDgXJVryxt2bEambNXU4cOd2OCzTaf22o8yYmoanLiZK64ZtOA8Db\nB06j362cSbEZanKaDX+9aR7ykyz4wWsHRmwcvaeqFQa9hGkZ6vdDE0KgMN2Go4N65R093YF+txKx\ngiODmWQd7lhagE3HG7GzvBmPbSrD8t+8jx+/cQiZCWY89aVFeP2eC8K2WjCc287PhwDwRADVEZ/4\n6CRMsoQbFmp3JSlYkiRwx9ICHKhpw/aT/u/zWnu4Do2dfbhxsfZ/Jw6rAdcvzMVre2pQ7sde1XWH\n6zArOx7p8eFN0R3JjKx4PH/XeXC6Pbjuka1nrQxuK2vGhBRrWNOH5+cl4lhdB9oHrSKVN3bhrf2n\ncPN5eUiwqLfCbDPJmJeXOGLPNLdHwTde2IvDp9rx22tnB3Xu1TMyYNBLeC3InnydfS789f0TWPbA\n+/j9uhIszHegucuJO58qRrfTFdQxiYgodsRkwCaEwM3n5WFneQtuemz7sLOMH1cx0/b+NR9fYZQt\npSPP8r62uwZT0uJGDbRMsg7/e/VMVDZ344/rjw97mz2VLZgRxn5oRel2lNR2wD1QWGNftXdFb1YE\nSvoP5+bzcmEz6XHtw1vxy7ePYGJKHJ67azH+9ZUluHBKSsQLd2TEm3HlnEy8uLMKbd3nTmtq6uzD\nq3tqcPW87DGVCjnYNfOy4bAaAqqm+Nz2SmTGm840fNa6r62YCFkn4cG1JaPerqGjD3uqWiNaHXI4\nUzPseOHu8+BRgOsf/f/t3Xl8ldWZwPHfuWv2fSUJJIQ1IPsqCDioIFBlnNpCrRVRsXWpXZyOWKfF\ntjN16TjV0S5a17rUWrViVQTqCrKDgIEAYQsJhJB9v+uZP96bEEJCArk3uQnP96Of+973nnve9yQn\nl/u857zP2ci+4hrcHi+bA7D+WmsTM+PQGrYfPT0t8g+fHsRiNnHLZVl+P97MIYnkHq/mVM3ZS278\n+v29rNlzkv9ckMPsC/ydRIdauXJ4Mu/uPH5e92rWO9384dODXPbwRzz64T4mDIjl3bum89ySifzf\n4rF8VVTFPX/5svmzVgghRN/UKwM2gFumZ/HYN0azs7CS+U+sY+OhM+//+uJgKRF2S7es++UP6bFh\nZMSFtnsfW0FZPVuPVrBwbFqHAcal2Ql8Y0I6z3x+iNzjZ07BcXm87CqsCuhCvMNSI2lweSjwTfnb\neayKhAhbj01biwyxct/Vw5gzIpm/fXcqry2bwqXZCT2aYfG2ywZS7/TwcifuZXttcwFOt5eb/TgN\nLNg0jYR+lFdyzum8TY6U1rEuv5RFk/p3yxpl/pAUGcLN0zJZufM4e463v5jyR3kn0ZoeD9gAhiRH\n8vrtUzCbFIue3sAb2wqpdbgDlnCkyZiMGMwm1Xwf2/HKBt7cXsiiiRkkRfp/ZG/GYCO9/7r8M0fZ\nXt54lD+tO8xNUwdw87SuBYoLx6ZRVudsdySvtfd3n2DGIx/z0Ad5jEqP4e93TuPZJRO5xPdv2hU5\nyfxsQQ5r9pzkv97b26VzE0IIEdx6bcAGcN24dN65czqRdgvfembjGWtufXGwjElZcVjMvaeJUwfG\ns+lweZtXS9/xZRi7dkzb0yFbu3/ecGLDrCx/a/cZ9eWdqMHh9jImI3DTE4elGIlH9vkSj+wqrGRU\nekyPBkg3TB7AH2+c0JyBrqcNT41ixpBEnl9/BIe77amrYCRGeWnDUWYMSWRwcmQ3nmH3u2V6Fv3j\nwljxbm6HoxCvbS7AbFJ8c2LX1uHqbrfPyCYqxML/rN7Xbpk1e0pIiwlleGpw/L6zEyN4fdlUQq1m\nlr+1G4DJWYEN2MLtFnJSo5oTgTz92SG0hmUBSgw0ol8UceG2M+5j+3T/KX6+MpfLhybynwtyunyM\nmUMSiQ2z8vaO4x2WPVndyL1v7CQlOoS/fXcqLy6d1OZn9pJpWdw8LZPn1h/2ywL0QgghglPviWba\nMTQlkpV3T+fqS1J5eFUey/68lb0nqjlcWhf066+1dml2AlUNLvaeOPPqu9aat78sYnJWXKdHqWLC\nbPz8ayPYVVjFC18cad6/45hxxToQGSKbDE6KxKRg74kaah1u8k/V9th0yGC27LKBlNY6+Ps57mt5\nf/cJSmocLJ2W2X0n1kNCrGZ+tiCH/JJaXmzRZ1tzuD28sa2QK4YnkRzgZRj8LTrMyu0zs/lnXkmb\naesbnB7W5Z/iiuFJQbXGXmZCOK/fPpX02FBGpUeTGBn4BD0TMmP58lglxVWN/GVLAQvHppEeGxaQ\nY5lMiumDEvj8wCm8Xk1ecTV3vrKdIcmR/N+3xvnlwp/NYmLBqH6szi3uMMPjwx/k4fZonvrWuA4v\nMj0wP4crc5L5xT/2sLaDRFxCCCF6p14fsAFE2C08uXgsK76Ww6f7T7HwqfUAQb/+Wmvtrce2u6iK\nQ6fq+Nd2ko20Z8GoVP5lWBL/s3ofhRXG9MQdBZUkRtoDOj0x1GYmMyGcvOJqdhdWoTWMDuCIXm81\nbVA8OalRPP3ZoTYX0tZa89z6w2QnhjdP2errZg9PYuaQRB5fe6DN+4kAVn1VTHmdkxsm+2cdru52\n87RMEiLsPPLhvrOyYq7PL6XR5e2RdP4dyYgLY80PZ/LnpZO75XgTM+NodHn58Rtf4nB7+V4AF7UH\nI71/aa2Tzw6c4pYXthJuN/Pckgl+Xd9v4dg0HG4vq75qfx3RbUfLeWtHEbfNyGJAfMcZYc0mxeOL\nxjAyLZq7X9vB7i5mohRCCBF8+kTABkYikiXTsnj99qnEh9tIjQ5haC+bQpYcFcLAxHA2tLof7+0d\nRdjMJq6+JPW86lNK8cuFIwFjDS+ttW/B7MBPTxyeEkVecQ27fAlHeiJDZLBTSrFsxkAOnqrj430l\nZ72+7WgFuwqruHlaVreuX9eTlFL87Gs5NLo9PLIqr80yr24qoH9cGNN72QWZJmE2C9+fPYjNh8v5\nrNX9emv3niTCbgn4lMMLFWozEx1m7ZZjTfCtn7k+v4x5I1PJTowI6PFmDDb607I/b6O8zsmzN00k\nNdq/F7bG9Y9hQHxYu9kiPV7NipV7SIkK4Y5Zgzpdb5jNwp9umkBcuI2lL25pvkB3PrxeTXmdkwan\np80LSEIIIXpOnwnYmozrH8uaH83knbum9covuVMHxrP5cHnzcgVuj5d3dx5n9vAkokPP/4tSWkwo\n9141lE/2neKlDUc5XFoX0IQjTYamRFJQXs+GQ2Wkx4YS10ezG3bV/FGp9IsO4Y9tZEd8bv1hokOt\nXDfu/EZWe7vsxAiWTsvijW2F7Cg4c/Hk/JJaNh0uZ9GkjF75991k0cT+pMeG8uiHec1fjr1ezdq9\nJcwcmhiwDK69SVJUCP3jjCmQd1we2NG1puMNS4nE5fHyxOKxjEzz/zRupRQLx6Sx4VAZJ6oaznr9\nja3H2F1UxfJ5wwg/z5G9pMgQnr95Io0uD0ue30JZbdsj1G2pbnRx3e+/YNwv1zD8Z6sYeP/7DH3g\nA0Y/uJop//1PZj36MT/5205ZQkAIIXpIn/xWEG63BCSTWHeYmh1PrcPN7iJjWsvn+aWU1jrbXXut\nM266NJPRGTE8+G4uENj715oMS4lEa/hs/ykZXTsHq9nE0ulZbD5czpfHKpv3F1bUs+qrYhZP6k+Y\nzX9TsnqLu2cPJinSzoqVuWdc7X91UwFWs+L68b0r2UhrNouJH14xhK+KqlmVa0yP21lYSWmtgyuD\nIDtksPj2lP4suTSTEf265x7Yh/5tFC/cPIkrAzgldeHYNLSGlV+emXykqsHVnLr/mtH9LqjuIcmR\nPPOdCRwrr+fGZzd3atmQeqebpc9vIfd4FT+8Ygj/MXcY98wezJJLM1k4ph8zhiQwLCWKN7YVcv0f\nNlBUeXagKYQQIrD6ZMDWmzUt4Nw0LfLvO4qIDrUya+iF38NkNikeuu4STEphUt2zHtpw31pxXg2j\nMyThyLksmmSsE/dMi1G2lzYcRSnFd6b2zvu0uirCbmH5vGHsLKzijW3HAGh0eXhzeyFXjUjplqQX\ngbZwbBqDkyL4zep9uD1e1u49idmkuvS33tcsm5HNimtGdNvxxmTEMHNIYH/+WQnhjO0fc9a0yMfX\nHqC83smKa0Z0acr6lIHx/PHG8RwoqeGm5zdT62h/VKzR5eG2l7ayvaCCxxeN5Z4rBvO9Wdn88Moh\nLJ83nAevHckjXx/NH24cz3M3TaSgrJ5rn1zXZsIcIYQQgSMBW5BJiLAzNDmSDQfLqHW4+TC3mPmj\nUrFbzF2qd3hqFPddPYzrx2d0y4hNWkxo8836o2SE7Zwi7BZumDyAD746QUFZPXUON69tLuDqkSn0\n66G164LBwjFpjB8QyyOr9lHV4OK9XSeoanBxw+T+PX1qfmE2KX581VAOnarjrR1FrN1TwsTMWGLC\nZPpwX/evY9PIK65pzgh84GQNL244wuJJ/f0yFXPW0CSe/NY4dhdVccsLW2hwnr10iNPt5Y5XtrM+\nv4zfXD+aeR3cI335sCTevnMakSFWFj+zkb9uOXbB53ektI4VK3O545VtPPnRAT7OK6GkuvGC6xNC\niL7u4ptr1QtMzY7n9S3HeG/XcRpd3vPODtmeWy8LzBpGbTGZFEOSI9hxrDIg94L0NTdPy+TZdYd4\ndt0hspMiqGl0s3R61xbq7e2UUjx4zQi+9uQ6frt2P7sKqxiYEM7UgcGZkONCzBmRzOj0aB7+II+y\nOicPzB/e06ckusGCUf34xbt7eHtHEcNSIlnxbi7hNjP3XjXUb8eYMyKFx74xmh+8/iW3v7yNZ74z\nvvnCn9vj5Qev7+CjvBJ+tXAk141L71Sdg5Ii+Psd07jrte385M1d7C2u5qfzhnd62YMdBRU8/dkh\nVuUWYzWZSIkO4f3dpzNmJkbaGdEvihH9oviXYUmMHxAc62YKIURPk4AtCE3NjueFL47wm9X7SY8N\nZXw3JAkJhDm+qWv+TIvdVyVHhXDtmDRe33qMxEg7YzJiGNdLf+/+NDItmsWT+vPiF0fwanhg/vCg\nWp+sq5RS/PucYXz72U0AAb13SgSPuHAbs4Ym8s6XRYzNiGF9fhkPXjPC78mZrh2TRqPLw3+8uZu7\nX93BUzeMw6wUP3lzF+/vLuaB+cP59pTzm3YdHWbl+SUT+fUHeTy77jAHTtby2DdHkxhhb/Nv0+vV\nfJRXwtOfHWLzkXKiQix8b2Y2Sy7NJCkqhOpGF3uPV/PV8Wpyj1ex53g1nx8o5amPD7JgVCr3zxt+\nwTMN6hxujpbVc6SsjiNldYRYzEzNjmdocmSvTlokhLj4qNbrAF1QJUrNBR4HzMCftNYPnav8hAkT\n9NatW7t83L6qqt7FmF+uRmu46/JB3DvHf1ddRfDaV1zDnN9+BsATi8decOKBvqa8zsnlv/mEBpeH\nTctnE9sHM47e+OwmKuqd/OPuy3r6VEQ3eW/XCe58dTvhNjPpsWG89/3pflmguy0vrD/Minf3cM3o\nfkSGWHhlUwE/unII3589uEv1/nXrMR54+yucHi9WsyImzEZcmI2YMCtx4TZiwmxsOVJOfkktaTGh\nLJ2exTcnZnR4Ea/e6ebpzw7x+08OohTcOWsQt80YSIi1/VsDSqobWb3nJLsKKzlSagRpJe2s5Rgf\nbmNKdjzTshOYNiie/nFhF3QhSGuNx6sD9nsTQvR9SqltWusJHZbrasCmlDID+4ErgUJgC7BYa72n\nvfdIwNax+U98Tu7xatb+aCaDkgK7/pAIHre+uIW9J2r45N9nYZUvAc0+3X+KslpHp6du9TaNLg9u\nr5bR6ItIo8vDxF+tpcbh5tVbJ3NpgNcV/N0n+Tyyah8At88cyH1zh/lltHrP8WrW55dSXu+kst5J\neZ2TijoX5fVOKuqcpMWGcsv0LOZdknren2mFFfX813t7+eCrYjLiQnlgfg5X5SQ3n3dBWT0f5haz\nKreY7QUVaA0JETayEsLJjA8ns/kxjMz4cKoaXHxxsIwv8ktZf7CUk9VGQJcWE8qkrDhGpUczKj2G\nEf2i2gwOvV7N/pIaNh4sY+OhcjYdLqOi3oXNbCLEaiLMZiHUZibUaibUZiYtJpQJmbFMGBDH0JRI\nzF0Y1XO4Pc1ZP2PCbLL0hxB9RHcGbFOBFVrrOb7nywG01r9u7z0SsHXstc0FbD9awaPXj+7pUxHd\nqN7pptHllXXrhLgI/PHTg5TWOvjp/JxuOd7z6w9T7/Rwx6zsXjW1eH1+KQ++m8v+k7VcNjiB8QNi\nWZ17kj2+pC05qVHMHZnC3JEpDE6K6FTbtNYcKq0zgrf8MrYVVHDKNyJnMSmGJEc2B3Auj5eNh8rY\ndLic8jonAOmxoUwZGE9GbBgNLg+NLg/1TjcNLi8NTjf1Tg8HT9U2B4WRdgvjBsQyMTOW8QPiSI6y\nU1HvoqrBCHAr6p1U1ruobHBSUe+ist7YX9VgvFbfKnFMpN1CTLiVuDAbseHGyGZSVAiZ8WEM8AWp\nyZEhbU79rHO4KapsoKiigcKKeqob3bg8XtwejdurcXu8uL0al8eL3WImPsJGYoSd+Agb8RF24sNt\nJEbazzniCUZimzqHm1qHm5pG47HW4cLrBbvVhN1ixm4xEWI1Hu1WE+F2C5F2ywX3T601Xg1erfFq\njdZGgie5ACqCVXcGbF8H5mqtb/U9vxGYrLW+q733SMAmhBBCiM5yeby8vPEoj63ZT63Dzfj+scwd\nmcKcESlk+BZY76riqkZ2Flayu7CKnYWV7CqsoqrBGNVKizECtCkD44xArRPH1FpTWNHA1qPlbD1S\nwdYjFew7WdNueZMyRs9iQq3EhFmJDbMR7XuMDbMSE2ZDA5V1zuYRzHJfcFdW66SkphGX5/R3OrvF\nxABfAGdWisLKeooqGqhoZ30+kwKL2YTVpJqDnEaXh7o2sow2lTeWC1Ko5m3j0eHx4nR7O/wZtcVi\nMqbXxvra3jTFVilFdaOLmkY3Nb7H6gbj0eH24D3H11mLSRFqNRPSNALq27aZFQqF7z+UAoXCZAKP\nV+N0e3F6vLjcGqevTQ63F9CYTQqLyYTJBBaTCbNJYVYKq8V3LKsZu8VMiNUISkOsRtDodHub622q\nz+n24vFqNDQHmlqffq7w/Wx9x2h6NJuMbZOizf1a69OBuNc4RlNw3vTjatnu1j8HpYxto5w6va1U\ni3JnPj/t9JOW+1Wb+9opq85+vZ3N5iD/zH2dL0sb59P++88u6/J4qfNdrGlwGn83DU43dU4PCs4Y\nfW/ZB393w/jgCtiUUsuAZQD9+/cff/To0S4dVwghhBAXl5pGFw63l4SIwK/FqLXmWHkDSuG3oLCq\n3sX2ggoqG5y+oMQI0GLDbESGWLqUDMXj1RyvbGhOtHK0rI4jZfUcKa3DqzXpsWGkxYaSHhtqbMeE\nkhEbSkyYDYvvC35bGpweSmsdlNU5Kat1UFbr5FStgwanB83pES2tjWmjXg1WsyIyxEK43UKE3UJk\niIUIu5VwuxmzSeFwe3G4vDjcHhxuL40uD40uY0SuaXpty5HH8nonWkNUiFFXVKiVyBALkXbj0W41\nYVYK1RSsKF8QocDj0TS4PM0joQ1OY7ve6fEFLr4ACUDT3CazSWEzm7BZTNjMJqy+R5vFhFJGW91e\n3fzo0cbopMujfe0x2tTo9uBweWlwGYFvc50t6rNZTMbvQDUFSUYY0NSOpt+v13ffZMvtpp9/W/uV\nMoJVi8mExazO2DYpdbrtvna3/jk0hQia0wHk6TItn58u63vp9DYt958dc5xZVp+1v733n1HTeZQ9\nXe/Zx2q9fT51Wc0mwn3TosPtZkKtFsLtZsJsxkh0g9Poc8390NcHP773cpkSKYQQQgghhBDBqLNT\nIv0xqXcLMFgplaWUsgGLgJV+qFcIIYQQQgghLmpdTkmmtXYrpe4CPsRI6/+c1kc+ez8AAAV7SURB\nVDq3y2cmhBBCCCGEEBc5v+SQ1lq/D7zvj7qEEEIIIYQQQhgkz6kQQgghhBBCBKkuJx25oIMqdQqQ\nNJH+kwCU9vRJCNEG6ZsiWEnfFMFM+qcIVtI3/WuA1jqxo0I9ErAJ/1JKbe1Mhhkhupv0TRGspG+K\nYCb9UwQr6Zs9Q6ZECiGEEEIIIUSQkoBNCCGEEEIIIYKUBGx9w9M9fQJCtEP6pghW0jdFMJP+KYKV\n9M0eIPewCSGEEEIIIUSQkhE2IYQQQgghhAhSErAFKaVUnFJqjVLqgO8xtp1yN/nKHFBK3dRi/3il\n1G6lVL5S6gmllGr1vh8rpbRSKiHQbRF9T6D6p1LqUaVUnlJql1LqbaVUTHe1SfRuSqm5Sql9vj51\nXxuv25VSr/te36SUymzx2nLf/n1KqTmdrVOIzvB331RKZSilPlZK7VFK5Sql7um+1oi+JhCfnb7X\nzEqpHUqpfwS+FX2fBGzB6z7gn1rrwcA/fc/PoJSKA34OTAYmAT9v8cX598BtwGDf/3NbvC8DuAoo\nCGQDRJ8WqP65BhiptR4F7AeWB7IRom9QSpmBp4CrgRxgsVIqp1WxW4AKrfUg4H+Bh33vzQEWASMw\n+uHvfF80OlOnEOcUiL4JuIEfa61zgCnAndI3xYUIUP9scg+wN7AtuHhIwBa8rgVe9G2/CCxso8wc\nYI3WulxrXYHxZXeuUioViNJab9TGTYovtXr//wI/AeQGRnGhAtI/tdartdZu3/s3AumBbIToMyYB\n+VrrQ1prJ/AXjD7aUss++zdgtm9k91rgL1prh9b6MJDvq68zdQrREb/3Ta31Ca31dgCtdQ3Gl+K0\nbmiL6HsC8dmJUiodmA/8qRvacFGQgC14JWutT/i2i4HkNsqkAcdaPC/07Uvzbbfej1LqWqBIa73T\n72csLiYB6Z+tLAU+6PqpiotAe32tzTK+iwJVQPw53tuZOoXoSCD6ZjPf9LSxwCY/nrO4eASqf/4W\nY2DA6/9TvjhZevoELmZKqbVAShsv/bTlE621Vkp1eTRMKRUG3I8xHVKIc+ru/tnq2D/FmPbzij/r\nFUKIvkIpFQG8CfxAa13d0+cjBIBSagFQorXeppSa1dPn01dIwNaDtNZXtPeaUuqkUipVa33CN4Ws\npI1iRcCsFs/TgU98+9Nb7S8CsoEsYKcvx0M6sF0pNUlrXdyFpog+qAf6Z1PdS4AFwGwt646IzikC\nMlo8P6NPtSpTqJSyANFAWQfv7ahOIToSkL6plLJiBGuvaK3fCsypi4tAIPrnNcA1Sql5QAgQpZR6\nWWv97cA04eIgUyKD10qgKaveTcA7bZT5ELhKKRXrS+ZwFfChb6patVJqim+e8XeAd7TWu7XWSVrr\nTK11Jsbw9TgJ1sQF8Hv/BCNbFcY0imu01vWBboToM7YAg5VSWUopG8aN8CtblWnZZ78OfOS7ILAS\nWOTLhJaFkQRncyfrFKIjfu+bvs/NZ4G9WuvHuqUVoq/ye//UWi/XWqf7vmcu8pWXYK2LZIQteD0E\n/FUpdQtwFPgGgFJqAvBdrfWtWutypdQvMf7gAH6htS73bd8BvACEYtwHJPcCCX8KVP98ErADa3yj\nwBu11t/thvaIXkxr7VZK3YVxkcAMPKe1zlVK/QLYqrVeifEF989KqXygHOOLBL5yfwX2YEzDvVNr\n7QFoq87ubpvo3QLRN5VS04Ebgd1KqS99h7pfa/1+97ZO9HaB+uwU/qdkxpEQQgghhBBCBCeZEimE\nEEIIIYQQQUoCNiGEEEIIIYQIUhKwCSGEEEIIIUSQkoBNCCGEEEIIIYKUBGxCCCGEEEIIEaQkYBNC\nCCGEEEKIICUBmxBCCCGEEEIEKQnYhBBCCCGEECJI/T+j3JytYkCQdQAAAABJRU5ErkJggg==\n",
      "text/plain": [
       "<matplotlib.figure.Figure at 0x7f37034c5090>"
      ]
     },
     "metadata": {},
     "output_type": "display_data"
    }
   ],
   "source": [
    "test = np.genfromtxt('/home/daniel/data/imrphenom-test/bbh_mass1_only_hp_test_5d85_S0d25.txt')\n",
    "f, ax = plt.subplots(2,1, sharey=False, sharex=True, figsize=(15,5))\n",
    "test_point = 0\n",
    "t = np.linspace(-0.02,0.005,300)\n",
    "new_point = np.zeros((300,3))\n",
    "new_point[:,1] = 5\n",
    "new_point[:,2] = 0.5\n",
    "new_point[:,0] = t\n",
    "pred = gp.prediction(new_point)\n",
    "ax[0].plot(t, pred[0])\n",
    "ax[0].set_ylim([-.5e-21, .5e-21])\n",
    "ax[0].set_xlim([-0.005, 0.005])\n",
    "err = np.diag(pred[1])\n",
    "err2 = err*1.96\n",
    "ax[0].fill_between(t, pred[0] - err, pred[0] + err , alpha = 0.2)\n",
    "ax[0].fill_between(t, pred[0] - err2, pred[0] + err2 , alpha = 0.1)\n",
    "d = test.T[0][1] - test.T[0][0]\n",
    "#ax[0].plot(test.T[0]+d, test.T[2])\n",
    "ax[1].plot(t, np.sqrt((test.T[2] - pred[0])**2))"
   ]
  },
  {
   "cell_type": "code",
   "execution_count": 88,
   "metadata": {
    "collapsed": false
   },
   "outputs": [
    {
     "data": {
      "text/plain": [
       "[<matplotlib.lines.Line2D at 0x7f36f5ab9910>]"
      ]
     },
     "execution_count": 88,
     "metadata": {},
     "output_type": "execute_result"
    },
    {
     "data": {
      "image/png": "iVBORw0KGgoAAAANSUhEUgAAA20AAAE6CAYAAACF5rqsAAAABHNCSVQICAgIfAhkiAAAAAlwSFlz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\nwIQ2AACAARPaAAAABkxoAwAAGLD/B7S/FZxYbrUSAAAAAElFTkSuQmCC\n",
      "text/plain": [
       "<matplotlib.figure.Figure at 0x7f36f5d980d0>"
      ]
     },
     "metadata": {},
     "output_type": "display_data"
    }
   ],
   "source": [
    "mass, spin = 7.4, 0.25\n",
    "npoints = 1000\n",
    "#test = np.genfromtxt('/home/daniel/data/imrphenom-test/bbh_mass1_only_hp_test_5d85_S0d25.txt')\n",
    "f, ax = plt.subplots(2,1, sharey=False, sharex=True, figsize=(15,5))\n",
    "test_point = 0\n",
    "t = np.linspace(-0.1,0.005,npoints)\n",
    "new_point = np.zeros((npoints,3))\n",
    "new_point[:,1] = mass\n",
    "new_point[:,2] = spin\n",
    "new_point[:,0] = t\n",
    "pred = gp.prediction(new_point)\n",
    "\n",
    "\n",
    "ax[0].plot(t, pred[0])\n",
    "ax[0].set_ylim([-.5e-21, .5e-21])\n",
    "ax[0].set_xlim([-0.005, 0.005])\n",
    "err = np.diag(pred[1])\n",
    "err2 = err*1.96\n",
    "ax[0].fill_between(t, pred[0] - err, pred[0] + err , alpha = 0.2)\n",
    "ax[0].fill_between(t, pred[0] - err2, pred[0] + err2 , alpha = 0.1)\n",
    "#d = test.T[0][1] - test.T[0][0]\n",
    "#ax[0].plot(test.T[0]+d, test.T[2])\n",
    "#ax[1].plot(t, np.sqrt((test.T[2] - pred[0])**2))\n",
    "real_data = generate_new_points(mass,spin, npoints=1000)\n",
    "ax[0].plot(real_data[:,0], real_data[:,-1])"
   ]
  },
  {
   "cell_type": "code",
   "execution_count": 71,
   "metadata": {
    "collapsed": false
   },
   "outputs": [],
   "source": [
    "from heron import acquisition"
   ]
  },
  {
   "cell_type": "code",
   "execution_count": 167,
   "metadata": {
    "collapsed": true
   },
   "outputs": [],
   "source": [
    "def match_factor(x, gp=gp, approximant = generate_new_points):\n",
    "    \"\"\"\n",
    "    Calculate the match factor between the Gaussian Process and some other\n",
    "    approximant. By default the IMRPhenomP approximant is used.\n",
    "    \n",
    "    Parameters\n",
    "    ----------\n",
    "    x : array-like\n",
    "        The location at which the models should be compared.\n",
    "    approximant : python callable\n",
    "        The approximant to be used in the comparison.\n",
    "    gp : heron hp object\n",
    "        The Gaussian Process to be compared.\n",
    "    \"\"\"\n",
    "    app = approximant(x[0], x[1], 300,  -0.005, 0.005)\n",
    "    t = np.linspace(-0.005,0.005,300)\n",
    "    new_point = np.zeros((300,3))\n",
    "    new_point[:,1] = x[0]\n",
    "    new_point[:,2] = x[1]\n",
    "    new_point[:,0] = t\n",
    "    pred = gp.prediction(new_point)\n",
    "    plt.plot(app[:,3][:-10])\n",
    "    plt.plot(np.roll(pred[0], -6)[:-10])\n",
    "    app = app[:,3][:-10]\n",
    "    pre = np.roll(pred[0], -6)[:-10]\n",
    "    top = np.inner(pre, app)\n",
    "    lb = np.sqrt(np.inner(app, app))\n",
    "    rb = np.sqrt(np.inner(pre, pre))\n",
    "    return top/(lb*rb)"
   ]
  },
  {
   "cell_type": "code",
   "execution_count": 132,
   "metadata": {
    "collapsed": false
   },
   "outputs": [
    {
     "data": {
      "text/plain": [
       "0.99803813597733948"
      ]
     },
     "execution_count": 132,
     "metadata": {},
     "output_type": "execute_result"
    }
   ],
   "source": [
    "match_factor([7.5,0.25], gp)"
   ]
  },
  {
   "cell_type": "code",
   "execution_count": 147,
   "metadata": {
    "collapsed": true
   },
   "outputs": [],
   "source": [
    "def nei(m):\n",
    "    return -gp.expected_improvement([0, m[0], m[1]])\n",
    "\n",
    "class MyBounds(object):\n",
    "     def __init__(self, xmax=[15,1], xmin=[5,0] ):\n",
    "         self.xmax = np.array(xmax)\n",
    "         self.xmin = np.array(xmin)\n",
    "     def __call__(self, **kwargs):\n",
    "         x = kwargs[\"x_new\"]\n",
    "         tmax = bool(np.all(x <= self.xmax))\n",
    "         tmin = bool(np.all(x >= self.xmin))\n",
    "         return tmax and tmin\n",
    "\n",
    "from scipy.optimize import minimize\n",
    "cons = [{'type':'ineq', 'fun': lambda x: x[1]>=0},\n",
    "        {'type':'ineq', 'fun': lambda x: x[1]<1},\n",
    "        {'type':'ineq', 'fun': lambda x: x[0]>7},\n",
    "        {'type':'ineq', 'fun': lambda x: x[0]<15}]\n",
    "bnds = ((5,15), (0,1))\n",
    "def infill(number, gp):\n",
    "    #x0 = [np.random.rand(),np.random.rand(),np.random.rand()]\n",
    "    x0 = [10, 0]\n",
    "    for i in range(number):\n",
    "        mybounds = MyBounds()\n",
    "        x0 = [10, 0.1]\n",
    "        new = scipy.optimize.basinhopping(match_factor, x0, niter=100, accept_test=mybounds)\n",
    "        #new = minimize(nei, x0, method='SLSQP',)#bounds = bnds)\n",
    "        #target = bbh.denormalise(new.x, \"target\")\n",
    "        print new.x\n",
    "        target = new.x\n",
    "        new_data = generate_new_points(target[0], target[1])\n",
    "        gp.add_data(new_data[0,:3], new_data[0,-1])\n",
    "        #gp.optimise()\n",
    "        #return target, gp.loglikelihood()"
   ]
  },
  {
   "cell_type": "code",
   "execution_count": 149,
   "metadata": {
    "collapsed": false
   },
   "outputs": [],
   "source": [
    "x0 = [11,0]"
   ]
  },
  {
   "cell_type": "code",
   "execution_count": 168,
   "metadata": {
    "collapsed": false
   },
   "outputs": [
    {
     "data": {
      "text/plain": [
       "-0.056960225548727705"
      ]
     },
     "execution_count": 168,
     "metadata": {},
     "output_type": "execute_result"
    },
    {
     "data": {
      "image/png": "iVBORw0KGgoAAAANSUhEUgAAAXgAAAEDCAYAAAA/eB+kAAAABHNCSVQICAgIfAhkiAAAAAlwSFlz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\niDwlAV4IIfKUBHghhMhTEuCFECJP/X88jij+xujMBAAAAABJRU5ErkJggg==\n",
      "text/plain": [
       "<matplotlib.figure.Figure at 0x7f36efe5ad90>"
      ]
     },
     "metadata": {},
     "output_type": "display_data"
    }
   ],
   "source": [
    "match_factor(x0)"
   ]
  },
  {
   "cell_type": "code",
   "execution_count": 157,
   "metadata": {
    "collapsed": false
   },
   "outputs": [],
   "source": [
    "n = 20\n",
    "x = np.linspace(5, 15, n)\n",
    "y = np.linspace(0,  1, n)\n",
    "data = np.zeros((n,n))\n",
    "xv, yv = np.meshgrid(x, y, sparse=False, indexing='ij')\n",
    "for i in range(n):\n",
    "    for j in range(n):\n",
    "        x0 = [ xv[i,j], yv[i,j] ]\n",
    "        data[i][j] = match_factor(x0)"
   ]
  },
  {
   "cell_type": "code",
   "execution_count": 163,
   "metadata": {
    "collapsed": false
   },
   "outputs": [
    {
     "data": {
      "text/plain": [
       "<matplotlib.colorbar.Colorbar at 0x7f36f55ee1d0>"
      ]
     },
     "execution_count": 163,
     "metadata": {},
     "output_type": "execute_result"
    },
    {
     "data": {
      "image/png": "iVBORw0KGgoAAAANSUhEUgAAAT8AAAD8CAYAAAABraMFAAAABHNCSVQICAgIfAhkiAAAAAlwSFlz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\nnPzMrJKc/Myskpz8zKyS/j8ZMCuc/meLIAAAAABJRU5ErkJggg==\n",
      "text/plain": [
       "<matplotlib.figure.Figure at 0x7f36f54bb7d0>"
      ]
     },
     "metadata": {},
     "output_type": "display_data"
    }
   ],
   "source": [
    "plt.imshow(data, extent=(5, 15, 0, 1), origin='lower left', aspect=10)\n",
    "plt.colorbar()"
   ]
  },
  {
   "cell_type": "code",
   "execution_count": 174,
   "metadata": {
    "collapsed": false
   },
   "outputs": [
    {
     "data": {
      "text/plain": [
       "0.99804468818635661"
      ]
     },
     "execution_count": 174,
     "metadata": {},
     "output_type": "execute_result"
    },
    {
     "data": {
      "image/png": "iVBORw0KGgoAAAANSUhEUgAAAXgAAAEDCAYAAAA/eB+kAAAABHNCSVQICAgIfAhkiAAAAAlwSFlz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\nVlNu8GZmNfU+6aH9UtroB/4AAAAASUVORK5CYII=\n",
      "text/plain": [
       "<matplotlib.figure.Figure at 0x7f36f5018450>"
      ]
     },
     "metadata": {},
     "output_type": "display_data"
    }
   ],
   "source": [
    "match_factor([7.5,0.5])"
   ]
  },
  {
   "cell_type": "code",
   "execution_count": 175,
   "metadata": {
    "collapsed": false
   },
   "outputs": [
    {
     "data": {
      "text/plain": [
       "array([ 24.95395191,  21.95756258,  -2.07481906, -13.40978644])"
      ]
     },
     "execution_count": 175,
     "metadata": {},
     "output_type": "execute_result"
    }
   ],
   "source": [
    "gp.kernel.flat_hyper"
   ]
  },
  {
   "cell_type": "code",
   "execution_count": 16,
   "metadata": {
    "collapsed": false
   },
   "outputs": [
    {
     "data": {
      "text/plain": [
       "array([  1.95363131e-19])"
      ]
     },
     "execution_count": 16,
     "metadata": {},
     "output_type": "execute_result"
    }
   ],
   "source": [
    "x0 = [0.0005, 7, 6]\n",
    "gp.expected_improvement(x0)"
   ]
  },
  {
   "cell_type": "code",
   "execution_count": 17,
   "metadata": {
    "collapsed": false
   },
   "outputs": [
    {
     "data": {
      "text/plain": [
       "(array([ -4.04570935e-22]), array([[  4.89195525e-19]]))"
      ]
     },
     "execution_count": 17,
     "metadata": {},
     "output_type": "execute_result"
    }
   ],
   "source": [
    "gp.prediction(np.atleast_2d(x0))"
   ]
  },
  {
   "cell_type": "code",
   "execution_count": 18,
   "metadata": {
    "collapsed": false
   },
   "outputs": [],
   "source": [
    "from scipy.optimize import minimize"
   ]
  },
  {
   "cell_type": "code",
   "execution_count": 19,
   "metadata": {
    "collapsed": false
   },
   "outputs": [],
   "source": [
    "t = np.linspace(-0.02,0.001,300)\n",
    "m = np.linspace(5, 10, 300)\n",
    "new_point = np.zeros((300,3))\n",
    "new_point[:,1] = m\n",
    "new_point[:,2] = 0\n",
    "new_point[:,0] = 0"
   ]
  },
  {
   "cell_type": "code",
   "execution_count": 20,
   "metadata": {
    "collapsed": false
   },
   "outputs": [],
   "source": [
    "EI = map(gp.nei, new_point)"
   ]
  },
  {
   "cell_type": "code",
   "execution_count": 21,
   "metadata": {
    "collapsed": false
   },
   "outputs": [
    {
     "data": {
      "text/plain": [
       "[<matplotlib.lines.Line2D at 0x7f36f6579b90>]"
      ]
     },
     "execution_count": 21,
     "metadata": {},
     "output_type": "execute_result"
    },
    {
     "data": {
      "image/png": "iVBORw0KGgoAAAANSUhEUgAAAXcAAAEDCAYAAADOc0QpAAAABHNCSVQICAgIfAhkiAAAAAlwSFlz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\n",
      "text/plain": [
       "<matplotlib.figure.Figure at 0x7f36f69794d0>"
      ]
     },
     "metadata": {},
     "output_type": "display_data"
    }
   ],
   "source": [
    "plt.plot(m, EI)"
   ]
  },
  {
   "cell_type": "code",
   "execution_count": 189,
   "metadata": {
    "collapsed": false
   },
   "outputs": [
    {
     "data": {
      "text/plain": [
       "[<matplotlib.lines.Line2D at 0x7f8fb07fcb90>]"
      ]
     },
     "execution_count": 189,
     "metadata": {},
     "output_type": "execute_result"
    },
    {
     "data": {
      "image/png": "iVBORw0KGgoAAAANSUhEUgAAAYAAAAEDCAYAAAA849PJAAAABHNCSVQICAgIfAhkiAAAAAlwSFlz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\nTkSuQmCC\n",
      "text/plain": [
       "<matplotlib.figure.Figure at 0x7f8fb0926390>"
      ]
     },
     "metadata": {},
     "output_type": "display_data"
    }
   ],
   "source": [
    "t = np.linspace(-0.02,0.001,300)\n",
    "m = np.linspace(5, 10, 300)\n",
    "new_point = np.zeros((300,3))\n",
    "new_point[:,1] = 9.5\n",
    "new_point[:,2] = 0\n",
    "new_point[:,0] = t\n",
    "EI = map(gp.nei, new_point)\n",
    "plt.plot(m, EI)"
   ]
  },
  {
   "cell_type": "code",
   "execution_count": 190,
   "metadata": {
    "collapsed": false
   },
   "outputs": [
    {
     "data": {
      "text/plain": [
       "[<matplotlib.lines.Line2D at 0x7f8fb0763d90>]"
      ]
     },
     "execution_count": 190,
     "metadata": {},
     "output_type": "execute_result"
    },
    {
     "data": {
      "image/png": "iVBORw0KGgoAAAANSUhEUgAAAYAAAAEDCAYAAAA849PJAAAABHNCSVQICAgIfAhkiAAAAAlwSFlz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\nKSoAiqIolqICoCiKYin/HxvrVmZ4JcIVAAAAAElFTkSuQmCC\n",
      "text/plain": [
       "<matplotlib.figure.Figure at 0x7f8fb2329a10>"
      ]
     },
     "metadata": {},
     "output_type": "display_data"
    }
   ],
   "source": [
    "t = np.linspace(-0.02,0.001,300)\n",
    "m = np.linspace(5, 10, 300)\n",
    "s = np.linspace(0,1,300)\n",
    "new_point = np.zeros((300,3))\n",
    "new_point[:,1] = 9.5\n",
    "new_point[:,2] = s\n",
    "new_point[:,0] = 0\n",
    "EI = map(gp.nei, new_point)\n",
    "plt.plot(m, EI)"
   ]
  },
  {
   "cell_type": "code",
   "execution_count": 162,
   "metadata": {
    "collapsed": true
   },
   "outputs": [],
   "source": []
  },
  {
   "cell_type": "code",
   "execution_count": 240,
   "metadata": {
    "collapsed": false
   },
   "outputs": [],
   "source": [
    "def nei(m):\n",
    "    return -gp.expected_improvement([0, m[0], m[1]])\n",
    "\n",
    "class MyBounds(object):\n",
    "     def __init__(self, xmax=[15,1], xmin=[5,0] ):\n",
    "         self.xmax = np.array(xmax)\n",
    "         self.xmin = np.array(xmin)\n",
    "     def __call__(self, **kwargs):\n",
    "         x = kwargs[\"x_new\"]\n",
    "         tmax = bool(np.all(x <= self.xmax))\n",
    "         tmin = bool(np.all(x >= self.xmin))\n",
    "         return tmax and tmin\n",
    "\n",
    "from scipy.optimize import minimize\n",
    "cons = [{'type':'ineq', 'fun': lambda x: x[1]>0},\n",
    "        {'type':'ineq', 'fun': lambda x: x[1]<1},\n",
    "        {'type':'ineq', 'fun': lambda x: x[0]>0},\n",
    "        {'type':'ineq', 'fun': lambda x: x[0]<1}]\n",
    "bnds = ((5,15), (0,1))\n",
    "def infill(number, gp):\n",
    "    x0 = [np.random.rand(),np.random.rand(),np.random.rand()]\n",
    "    \n",
    "    for i in range(number):\n",
    "        mybounds = MyBounds()\n",
    "        x0 = [10, 0]\n",
    "        new = scipy.optimize.basinhopping(nei, x0, niter=100, accept_test=mybounds)\n",
    "        #new = minimize(nei, x0, method='SLSQP',)#bounds = bnds)\n",
    "        #target = bbh.denormalise(new.x, \"target\")\n",
    "        print new.x\n",
    "        target = new.x\n",
    "        new_data = generate_new_points(target[0], target[1])\n",
    "        gp.add_data(new_data[0,:3], new_data[0,-1])\n",
    "        #gp.optimise()\n",
    "        #return target, gp.loglikelihood()"
   ]
  },
  {
   "cell_type": "code",
   "execution_count": null,
   "metadata": {
    "collapsed": false
   },
   "outputs": [],
   "source": []
  },
  {
   "cell_type": "code",
   "execution_count": 241,
   "metadata": {
    "collapsed": true
   },
   "outputs": [],
   "source": [
    "import scipy"
   ]
  },
  {
   "cell_type": "code",
   "execution_count": 242,
   "metadata": {
    "collapsed": true
   },
   "outputs": [],
   "source": [
    "class MyBounds(object):\n",
    "     def __init__(self, xmax=[15,1], xmin=[5,0] ):\n",
    "         self.xmax = np.array(xmax)\n",
    "         self.xmin = np.array(xmin)\n",
    "     def __call__(self, **kwargs):\n",
    "         x = kwargs[\"x_new\"]\n",
    "         tmax = bool(np.all(x <= self.xmax))\n",
    "         tmin = bool(np.all(x >= self.xmin))\n",
    "         return tmax and tmin"
   ]
  },
  {
   "cell_type": "code",
   "execution_count": 243,
   "metadata": {
    "collapsed": false
   },
   "outputs": [
    {
     "name": "stdout",
     "output_type": "stream",
     "text": [
      "[ 9.69239827  0.87067163]\n",
      "[ 9.85015422  0.77473381]\n",
      "[ 9.9809669  0.745261 ]\n"
     ]
    }
   ],
   "source": [
    "infill(3, gp)"
   ]
  },
  {
   "cell_type": "code",
   "execution_count": 51,
   "metadata": {
    "collapsed": false
   },
   "outputs": [
    {
     "data": {
      "text/plain": [
       "array([ -4.80007800e-03,   3.00000000e+01,   0.00000000e+00,\n",
       "         1.63744136e+03])"
      ]
     },
     "execution_count": 51,
     "metadata": {},
     "output_type": "execute_result"
    }
   ],
   "source": [
    "np.append(a,b)"
   ]
  },
  {
   "cell_type": "code",
   "execution_count": 47,
   "metadata": {
    "collapsed": false
   },
   "outputs": [
    {
     "data": {
      "text/plain": [
       "array([ -4.80007800e-03,   3.00000000e+01,   0.00000000e+00,\n",
       "         1.62818153e+03])"
      ]
     },
     "execution_count": 47,
     "metadata": {},
     "output_type": "execute_result"
    }
   ],
   "source": [
    "np.append(a,b)"
   ]
  },
  {
   "cell_type": "code",
   "execution_count": 25,
   "metadata": {
    "collapsed": false
   },
   "outputs": [
    {
     "data": {
      "text/plain": [
       "0.010902684624271202"
      ]
     },
     "execution_count": 25,
     "metadata": {},
     "output_type": "execute_result"
    }
   ],
   "source": [
    "gp.correlation()"
   ]
  },
  {
   "cell_type": "code",
   "execution_count": 26,
   "metadata": {
    "collapsed": false
   },
   "outputs": [
    {
     "data": {
      "text/plain": [
       "1.1603073805073734e-23"
      ]
     },
     "execution_count": 26,
     "metadata": {},
     "output_type": "execute_result"
    }
   ],
   "source": [
    "gp.rmse()"
   ]
  },
  {
   "cell_type": "code",
   "execution_count": 24,
   "metadata": {
    "collapsed": false
   },
   "outputs": [
    {
     "name": "stderr",
     "output_type": "stream",
     "text": [
      "/home/daniel/.virtualenvs/heron/lib/python2.7/site-packages/ipykernel/__main__.py:1: RuntimeWarning: overflow encountered in exp\n",
      "  if __name__ == '__main__':\n"
     ]
    },
    {
     "data": {
      "text/plain": [
       "inf"
      ]
     },
     "execution_count": 24,
     "metadata": {},
     "output_type": "execute_result"
    }
   ],
   "source": [
    "np.exp(gp.loglikelihood())"
   ]
  },
  {
   "cell_type": "code",
   "execution_count": 20,
   "metadata": {
    "collapsed": false
   },
   "outputs": [
    {
     "data": {
      "text/plain": [
       "0.010902683793309543"
      ]
     },
     "execution_count": 20,
     "metadata": {},
     "output_type": "execute_result"
    }
   ],
   "source": [
    "gp.correlation()"
   ]
  },
  {
   "cell_type": "code",
   "execution_count": 21,
   "metadata": {
    "collapsed": false
   },
   "outputs": [
    {
     "data": {
      "text/plain": [
       "(array([ -2.92125616e-22]), array([[ -4.04570176e-22]]))"
      ]
     },
     "execution_count": 21,
     "metadata": {},
     "output_type": "execute_result"
    }
   ],
   "source": [
    "gp.prediction(np.atleast_2d(x0))"
   ]
  },
  {
   "cell_type": "code",
   "execution_count": 31,
   "metadata": {
    "collapsed": false
   },
   "outputs": [
    {
     "data": {
      "text/plain": [
       "0.0"
      ]
     },
     "execution_count": 31,
     "metadata": {},
     "output_type": "execute_result"
    }
   ],
   "source": [
    "gp.expected_improvement([-0.015, 5.6])"
   ]
  },
  {
   "cell_type": "code",
   "execution_count": 32,
   "metadata": {
    "collapsed": false
   },
   "outputs": [],
   "source": [
    "y_min = gp.training_y.min()"
   ]
  },
  {
   "cell_type": "code",
   "execution_count": 36,
   "metadata": {
    "collapsed": false
   },
   "outputs": [],
   "source": [
    "x0 = [0, 9.5]\n",
    "p, S = gp.prediction(np.atleast_2d(x0))"
   ]
  },
  {
   "cell_type": "code",
   "execution_count": 37,
   "metadata": {
    "collapsed": true
   },
   "outputs": [],
   "source": [
    "EI_one = ((y_min - p) * (0.5 + 0.5*m.erf((\n",
    "          1./np.sqrt(2.))*((y_min - p) /\n",
    "                           S))))\n",
    "EI_two = ((S * (1. / np.sqrt(2. * np.pi))) * (np.exp(-(1./2.) *\n",
    "                                                     ((y_min - p)**2. / S**2.))))\n",
    "EI = EI_one + EI_two"
   ]
  },
  {
   "cell_type": "code",
   "execution_count": 38,
   "metadata": {
    "collapsed": false
   },
   "outputs": [
    {
     "data": {
      "text/plain": [
       "array([[ -8.87879249e-23]])"
      ]
     },
     "execution_count": 38,
     "metadata": {},
     "output_type": "execute_result"
    }
   ],
   "source": [
    "EI"
   ]
  },
  {
   "cell_type": "code",
   "execution_count": 39,
   "metadata": {
    "collapsed": false
   },
   "outputs": [
    {
     "data": {
      "text/plain": [
       "array([[ -3.66082381e-22]])"
      ]
     },
     "execution_count": 39,
     "metadata": {},
     "output_type": "execute_result"
    }
   ],
   "source": [
    "S"
   ]
  },
  {
   "cell_type": "raw",
   "metadata": {
    "collapsed": true
   },
   "source": [
    "\"\"\"\n",
    "[ 10.8078873    0.87673858] 1620.62963991 0.0109026846537 1.16030738198e-23\n",
    "[ 10.49694947   0.73728915] 1617.41214227 0.0109026842301 1.1603073597e-23\n",
    "[ 9.26394524  0.72027077] 1614.43779705 0.0109026838607 1.16030734021e-23\n",
    "[ 13.06663788   0.10936223] 1611.22068051 0.0109026834918 1.16030732067e-23\n",
    "[ 9.8774719   0.71338582] 1608.86956843 0.0109026830869 1.1603072994e-23\n",
    "[ 7.7200776   0.72509103] 1606.1413651 0.010902682758 1.16030728219e-23\n",
    "[ 9.25681799  0.93681314] 1602.92538383 0.0109026823468 1.16030726051e-23\n",
    "[ 11.23675808   0.8268929 ] 1599.72177534 0.0109026819991 1.16030724235e-23\n",
    "[ 8.5274565  0.8167662] 1596.53742402 0.0109026816332 1.16030722299e-23\n",
    "[ 10.40040286   0.7998811 ] 1593.56147349 0.0109026812532 1.16030720293e-23\n",
    "[ 9.8171501   0.82620224] 1591.10721361 0.0109026809968 1.16030718946e-23\n",
    "[ 8.90846694  0.86251855] 1588.08650544 0.0109026806387 1.16030717059e-23\n",
    "[ 12.74542863   0.10582335] 1586.33662067 0.0109026803616 1.1603071559e-23\n",
    "[ 9.63482994  0.98652955] 1583.13311874 0.0109026800102 1.16030713743e-23\n",
    "[ 10.54816479   0.81437932] 1581.62976655 0.0109026796859 1.16030712047e-23\n",
    "[ 10.39185145   0.73932868] 1581.02560214 0.0109026793741 1.16030710406e-23\n",
    "[ 9.75099433  0.9146337 ] 1578.189517 0.0109026791135 1.16030709021e-23\n",
    "[ 8.27741944  0.90770884] 1575.28518694 0.0109026787722 1.16030707227e-23\n",
    "[ 10.74048319   0.77785107] 1572.96654632 0.0109026784811 1.1603070571e-23\n",
    "[ 8.55191028  0.92586559] 1570.96314635 0.0109026782127 1.16030704282e-23\n",
    "[ 13.59256195   0.10402079] 1568.83254656 0.0109026779816 1.16030703066e-23\n",
    "[ 9.99730489  0.77799129] 1566.78002547 0.0109026776953 1.16030701565e-23\n",
    "[ 9.5464862   0.71203451] 1565.80615777 0.0109026773661 1.16030699829e-23\n",
    "[ 9.30692332  0.84475273] 1564.08528913 0.0109026770869 1.1603069835e-23\n",
    "[ 10.9538792    0.80894405] 1563.09598319 0.0109026769079 1.16030697409e-23\n",
    "[ 9.58573913  0.89775412] 1561.11568472 0.0109026766775 1.16030696196e-23\n",
    "[ 9.70501183  0.7296046 ] 1560.66452233 0.0109026764884 1.16030695203e-23\n",
    "[ 10.49097679   0.78682106] 1560.76365957 0.0109026762701 1.16030694066e-23\n",
    "[ 9.86630552  0.98006043] 1558.96577457 0.0109026761112 1.16030693217e-23\n",
    "[ 10.16019458   0.76000443] 1558.37145251 0.0109026759271 1.16030692247e-23\n",
    "[ 11.82662141   0.72125374] 1555.97812441 0.0109026757843 1.160306915e-23\n",
    "[ 9.28455251  0.8931436 ] 1555.38913851 0.0109026756232 1.16030690639e-23\n",
    "[ 8.61008613  0.80037562] 1553.49354915 0.0109026755111 1.16030690057e-23\n",
    "[ 10.02544901   0.76995805] 1554.71015199 0.0109026753696 1.16030689317e-23\n",
    "[ 14.35277684   0.09926504] 1552.82592961 0.0109026752392 1.16030688631e-23\n",
    "[ 12.93035149   0.11424723] 1552.57219324 0.010902675132 1.16030688072e-23\n",
    "[ 10.49075633   0.95096692] 1550.1647946 0.0109026750172 1.16030687474e-23\n",
    "[ 10.71853275   0.7775987 ] 1552.86014979 0.0109026748974 1.16030686831e-23\n",
    "[ 9.23144391  0.8933324 ] 1554.57556875 0.0109026747769 1.16030686198e-23\n",
    "[ 11.5829031   0.8748189] 1552.70699465 0.0109026747007 1.16030685794e-23\n",
    "[ 13.95844465   0.08674051] 1550.54840034 0.0109026746144 1.16030685343e-23\n",
    "[ 10.95692383   0.82752366] 1550.61307027 0.0109026745349 1.16030684925e-23\n",
    "[ 9.85214327  0.73822633] 1551.34320925 0.0109026744332 1.16030684389e-23\n",
    "[ 9.30082689  0.74277258] 1550.77497491 0.0109026743672 1.1603068405e-23\n",
    "[ 9.18712512  0.81031507] 1550.32619721 0.0109026742628 1.16030683499e-23\n",
    "[ 10.29760611   0.93664915] 1549.16905783 0.0109026741642 1.16030682967e-23\n",
    "[ 10.69379096   0.96319823] 1547.91039716 0.0109026740917 1.16030682595e-23\n",
    "[ 10.51793798   0.76607764] 1549.76011093 0.0109026739893 1.16030682053e-23\n",
    "[ 9.68017762  0.73928153] 1552.30425274 0.0109026739059 1.16030681612e-23\n",
    "[ 13.20508917   0.12050498] 1551.26541081 0.0109026738017 1.16030681062e-23\n",
    "[ 8.74594118  0.81004342] 1552.23593183 0.0109026737279 1.16030680679e-23\n",
    "[ 11.01933316   0.92713979] 1550.3057014 0.0109026736551 1.16030680282e-23\n",
    "[ 11.22493416   0.81887747] 1551.13696324 0.0109026735685 1.16030679832e-23\n",
    "[ 9.28127101  0.97068334] 1549.2976667 0.0109026735304 1.16030679635e-23\n",
    "[ 9.64542278  0.71358108] 1551.35152611 0.010902673444 1.16030679186e-23\n",
    "[ 9.74187816  0.71022113] 1553.08106745 0.0109026733547 1.16030678713e-23\n",
    "[ 10.84920828   0.80388153] 1556.13875477 0.0109026733325 1.16030678598e-23\n",
    "[ 10.07865911   0.88158505] 1556.62473839 0.0109026732817 1.16030678334e-23\n",
    "[ 10.48694836   0.74536727] 1558.90796968 0.0109026732137 1.16030677968e-23\n",
    "[ 9.37790589  0.71862818] 1562.3911542 0.010902673054 1.16030677124e-23\n",
    "[ 9.35897896  0.73687724] 1565.10774821 0.0109026729043 1.16030676334e-23\n",
    "[ 12.90854327   0.09800521] 1564.77532273 0.0109026727733 1.16030675661e-23\n",
    "[ 10.23059696   0.81054491] 1566.55779579 0.0109026726536 1.16030675017e-23\n",
    "[ 11.30632244   0.88718934] 1565.04046705 0.0109026725363 1.16030674419e-23\n",
    "[ 10.25230771   0.96464672] 1564.76120059 0.0109026724247 1.16030673813e-23\n",
    "[ 7.03597404  0.77408266] 1562.20840546 0.0109026723259 1.16030673309e-23\n",
    "[ 10.12953465   0.70540623] 1563.65211054 0.0109026722077 1.16030672679e-23\n",
    "[ 9.74515777  0.72327517] 1567.40670004 0.0109026720906 1.16030672052e-23\n",
    "[ 10.01679656   0.72284338] 1570.59925 0.0109026719787 1.16030671471e-23\n",
    "[ 11.15422442   0.75072088] 1566.9303222 0.0109026719051 1.16030671083e-23\n",
    "[ 9.96059125  0.81841476] 1570.10234836 0.0109026718349 1.16030670699e-23\n",
    "[ 9.81761826  0.78331201] 1573.00131895 0.0109026717669 1.16030670355e-23\n",
    "[ 10.07263175   0.89285628] 1573.34603697 0.0109026716642 1.16030669811e-23\n",
    "[ 9.73878953  0.76795595] 1575.0843202 0.0109026716073 1.1603066951e-23\n",
    "[ 13.0406266    0.09191223] 1575.31857862 0.0109026715309 1.16030669111e-23\n",
    "[ 10.25468037   0.79518778] 1578.43980399 0.0109026714327 1.16030668599e-23\n",
    "[ 8.87581997  0.76712326] 1577.90115886 0.0109026712744 1.16030667749e-23\n",
    "[ 10.32917478   0.88042597] 1580.22386356 0.0109026711194 1.16030666954e-23\n",
    "[ 10.41829988   0.72129367] 1572.62740754 0.0109022443958 1.1602842052e-23\n",
    "[ 13.37970356   0.11427298] 1573.36201877 0.0109022431957 1.16028414202e-23\n",
    "[ 10.88407316   0.81042607] 1574.71203481 0.0109021289861 1.16027812973e-23\n",
    "[ 9.10107858  0.71035187] 1575.72991108 0.0109020081673 1.16027176943e-23\n",
    "[ 9.61003902  0.94793077] 1575.79185082 0.0109020063686 1.1602716747e-23\n",
    "[ 10.27762613   0.81692277] 1577.03535812 0.0109017602705 1.1602587199e-23\n",
    "[ 9.43475872  0.73950753] 1575.9237578 0.0109017221273 1.16025671191e-23\n",
    "[ 11.24861991   0.9748088 ] 1574.78879511 0.0109017204831 1.16025662533e-23\n",
    "[ 9.5848487   0.90715806] 1576.81158396 0.0109017192205 1.16025655898e-23\n",
    "[ 10.42911431   0.83703244] 1571.40182956 0.010901618838 1.16025127456e-23\n",
    "[ 11.08575021   0.74477785] 1569.93145187 0.0109011752655 1.16022792501e-23\n",
    "[ 11.54085191   0.81466596] 1552.08267381 0.010900659894 1.16020079719e-23\n",
    "[ 8.4047688   0.74597507] 1540.62346411 0.0109004434993 1.16018940727e-23\n",
    "[ 8.48105719  0.93995137] 1538.95027078 0.0109004429029 1.16018937596e-23\n",
    "[ 10.23770392   0.78563986] 1534.64969074 0.0109004408871 1.16018926969e-23\n",
    "[ 8.12679967  0.75992862] 1524.37324432 0.0109001960144 1.16017638134e-23\n",
    "[ 10.87041014   0.89492598] 1523.97014259 0.0109001955312 1.16017635595e-23\n",
    "[ 11.00284504   0.85904197] 1520.69912514 0.0108999885421 1.16016546182e-23\n",
    "[ 10.38365229   0.76719971] 1510.3955396 0.0108998904997 1.1601603017e-23\n",
    "[ 9.97103504  0.71704379] 1516.07177654 0.0108998889102 1.16016021811e-23\n",
    "[ 14.14723787   0.10445844] 1516.73241601 0.0108998877162 1.1601601552e-23\n",
    "[ 9.25418634  0.79988094] 1518.6080668 0.010899887084 1.16016012189e-23\n",
    "\"\"\""
   ]
  },
  {
   "cell_type": "code",
   "execution_count": null,
   "metadata": {
    "collapsed": true
   },
   "outputs": [],
   "source": []
  }
 ],
 "metadata": {
  "kernelspec": {
   "display_name": "Python 2",
   "language": "python",
   "name": "python2"
  },
  "language_info": {
   "codemirror_mode": {
    "name": "ipython",
    "version": 2
   },
   "file_extension": ".py",
   "mimetype": "text/x-python",
   "name": "python",
   "nbconvert_exporter": "python",
   "pygments_lexer": "ipython2",
   "version": "2.7.6"
  },
  "latex_envs": {
   "bibliofile": "biblio.bib",
   "cite_by": "apalike",
   "current_citInitial": 1,
   "eqLabelWithNumbers": true,
   "eqNumInitial": 0
  }
 },
 "nbformat": 4,
 "nbformat_minor": 0
}
