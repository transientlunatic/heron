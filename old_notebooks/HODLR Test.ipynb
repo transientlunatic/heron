{
 "cells": [
  {
   "cell_type": "code",
<<<<<<< HEAD
   "execution_count": 3,
   "metadata": {
    "collapsed": true
   },
   "outputs": [],
   "source": [
    "from __future__ import print_function\n",
    "\n",
    "import time\n",
    "import kplr\n",
    "import hodlr\n",
    "import numpy as np\n",
    "import matplotlib.pyplot as pl\n",
    "%matplotlib inline"
   ]
  },
  {
   "cell_type": "code",
   "execution_count": 4,
=======
   "execution_count": 18,
>>>>>>> f02bf7fa5ed4df3149e9245a8268c710f611e0f9
   "metadata": {
    "collapsed": false
   },
   "outputs": [
    {
<<<<<<< HEAD
     "data": {
      "text/plain": [
       "[<matplotlib.lines.Line2D at 0x7f61dd2c6150>]"
      ]
     },
     "execution_count": 4,
     "metadata": {},
     "output_type": "execute_result"
    },
    {
     "data": {
      "image/png": "iVBORw0KGgoAAAANSUhEUgAAAYwAAAD8CAYAAABkbJM/AAAABHNCSVQICAgIfAhkiAAAAAlwSFlz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\nMDOzprhgmJlZU1wwzMysKS4YZmbWlP8BlBfGQ8FZKf0AAAAASUVORK5CYII=\n",
      "text/plain": [
       "<matplotlib.figure.Figure at 0x7f6210e7ac90>"
      ]
     },
     "metadata": {},
     "output_type": "display_data"
    }
   ],
   "source": [
    "client = kplr.API()\n",
    "lc = client.light_curves(12365184, ktc_target_type=\"SC\")[0]\n",
    "data = lc.read()\n",
    "t, f, fe, q = (data[\"TIME\"], data[\"SAP_FLUX\"], data[\"SAP_FLUX_ERR\"],\n",
    "               data[\"SAP_QUALITY\"])\n",
    "m = np.isfinite(t) * np.isfinite(f) * (q == 0)\n",
    "t, f, fe, q = t[m], f[m], fe[m], q[m]\n",
    "mu = np.median(f)\n",
    "f, fe = f / mu - 1, fe / mu\n",
    "pl.plot(t, f, \".k\", alpha=0.3)\n",
    "#pl.savefig(\"data.png\")"
   ]
  },
  {
   "cell_type": "code",
   "execution_count": 33,
   "metadata": {
    "collapsed": false
   },
   "outputs": [],
   "source": [
    "t = np.linspace(0,10, 100).reshape(10,10)\n",
    "data = np.random.rand(10)"
   ]
  },
  {
   "cell_type": "code",
   "execution_count": 34,
   "metadata": {
    "collapsed": false
   },
   "outputs": [],
   "source": [
    "data = np.random.rand(100).reshape(-1, 10)"
=======
     "ename": "TypeError",
     "evalue": "Invalid kernel",
     "output_type": "error",
     "traceback": [
      "\u001b[0;31m---------------------------------------------------------------------------\u001b[0m",
      "\u001b[0;31mTypeError\u001b[0m                                 Traceback (most recent call last)",
      "\u001b[0;32m<ipython-input-18-70d417c1cc67>\u001b[0m in \u001b[0;36m<module>\u001b[0;34m()\u001b[0m\n\u001b[1;32m     10\u001b[0m \u001b[0mN\u001b[0m \u001b[0;34m=\u001b[0m \u001b[0;36m500\u001b[0m\u001b[0;34m\u001b[0m\u001b[0m\n\u001b[1;32m     11\u001b[0m \u001b[0mdiag\u001b[0m \u001b[0;34m=\u001b[0m \u001b[0mnp\u001b[0m\u001b[0;34m.\u001b[0m\u001b[0mrandom\u001b[0m\u001b[0;34m.\u001b[0m\u001b[0mrandn\u001b[0m\u001b[0;34m(\u001b[0m\u001b[0mN\u001b[0m\u001b[0;34m)\u001b[0m\u001b[0;34m\u001b[0m\u001b[0m\n\u001b[0;32m---> 12\u001b[0;31m \u001b[0msolver\u001b[0m \u001b[0;34m=\u001b[0m \u001b[0mhodlr\u001b[0m\u001b[0;34m.\u001b[0m\u001b[0mHODLRSolver\u001b[0m\u001b[0;34m(\u001b[0m\u001b[0mmatrix\u001b[0m\u001b[0;34m,\u001b[0m \u001b[0;36m1\u001b[0m\u001b[0;34m)\u001b[0m\u001b[0;34m\u001b[0m\u001b[0m\n\u001b[0m\u001b[1;32m     13\u001b[0m \u001b[0;34m\u001b[0m\u001b[0m\n\u001b[1;32m     14\u001b[0m \u001b[0;31m# Build the true solution for testing purposes.\u001b[0m\u001b[0;34m\u001b[0m\u001b[0;34m\u001b[0m\u001b[0m\n",
      "\u001b[0;32mhodlr.pyx\u001b[0m in \u001b[0;36mgeorge.hodlr.HODLRSolver.__cinit__ (george/hodlr.cpp:1662)\u001b[0;34m()\u001b[0m\n",
      "\u001b[0;32mkernels.pxd\u001b[0m in \u001b[0;36mgeorge.kernels.parse_kernel (george/hodlr.cpp:3105)\u001b[0;34m()\u001b[0m\n",
      "\u001b[0;31mTypeError\u001b[0m: Invalid kernel"
     ]
    }
   ],
   "source": [
    "from george import hodlr\n",
    "import numpy as np\n",
    "\n",
    "def matrix(i, j):\n",
    "    return np.exp(-0.5 * (i - j) ** 2)\n",
    "\n",
    "#matrix = np.random.randn(25*25)\n",
    "#matrix = matrix.reshape(25,25)\n",
    "# Set up the system.\n",
    "N = 500\n",
    "diag = np.random.randn(N)\n",
    "solver = hodlr.HODLRSolver(matrix, 1)\n",
    "\n",
    "# Build the true solution for testing purposes.\n",
    "x = np.random.randn(N)\n",
    "b = solver.matrix_product(x)\n",
    "\n",
    "# Solve the system.\n",
    "xsol = solver.solve(b)\n",
    "print(\"L1 error: {0}\".format(np.mean(np.abs(x - xsol))))\n",
    "\n",
    "# Get the log-determinant.\n",
    "print(\"Log-determinant: {0}\".format(solver.logdet()))"
>>>>>>> f02bf7fa5ed4df3149e9245a8268c710f611e0f9
   ]
  },
  {
   "cell_type": "code",
<<<<<<< HEAD
   "execution_count": 35,
=======
   "execution_count": 4,
>>>>>>> f02bf7fa5ed4df3149e9245a8268c710f611e0f9
   "metadata": {
    "collapsed": false
   },
   "outputs": [],
   "source": [
<<<<<<< HEAD
    "solver = hodlr.HODLR(1e-8, 0.1, t, data)"
=======
    "import hodlr\n",
    "import numpy as np"
>>>>>>> f02bf7fa5ed4df3149e9245a8268c710f611e0f9
   ]
  },
  {
   "cell_type": "code",
<<<<<<< HEAD
   "execution_count": 38,
=======
   "execution_count": 10,
>>>>>>> f02bf7fa5ed4df3149e9245a8268c710f611e0f9
   "metadata": {
    "collapsed": false
   },
   "outputs": [
    {
<<<<<<< HEAD
     "ename": "AttributeError",
     "evalue": "'_hodlr.HODLR' object has no attribute 'matrix'",
     "output_type": "error",
     "traceback": [
      "\u001b[0;31m---------------------------------------------------------------------------\u001b[0m",
      "\u001b[0;31mAttributeError\u001b[0m                            Traceback (most recent call last)",
      "\u001b[0;32m<ipython-input-38-27225912d553>\u001b[0m in \u001b[0;36m<module>\u001b[0;34m()\u001b[0m\n\u001b[0;32m----> 1\u001b[0;31m \u001b[0msolver\u001b[0m\u001b[0;34m.\u001b[0m\u001b[0mmatrix\u001b[0m\u001b[0;34m\u001b[0m\u001b[0m\n\u001b[0m",
      "\u001b[0;31mAttributeError\u001b[0m: '_hodlr.HODLR' object has no attribute 'matrix'"
=======
     "ename": "TypeError",
     "evalue": "Required argument 'time' (pos 3) not found",
     "output_type": "error",
     "traceback": [
      "\u001b[0;31m---------------------------------------------------------------------------\u001b[0m",
      "\u001b[0;31mTypeError\u001b[0m                                 Traceback (most recent call last)",
      "\u001b[0;32m<ipython-input-10-5f879a023b32>\u001b[0m in \u001b[0;36m<module>\u001b[0;34m()\u001b[0m\n\u001b[1;32m      5\u001b[0m \u001b[0mN\u001b[0m \u001b[0;34m=\u001b[0m \u001b[0;36m500\u001b[0m\u001b[0;34m\u001b[0m\u001b[0m\n\u001b[1;32m      6\u001b[0m \u001b[0mdiag\u001b[0m \u001b[0;34m=\u001b[0m \u001b[0mnp\u001b[0m\u001b[0;34m.\u001b[0m\u001b[0mrandom\u001b[0m\u001b[0;34m.\u001b[0m\u001b[0mrandn\u001b[0m\u001b[0;34m(\u001b[0m\u001b[0mN\u001b[0m\u001b[0;34m)\u001b[0m\u001b[0;34m\u001b[0m\u001b[0m\n\u001b[0;32m----> 7\u001b[0;31m \u001b[0msolver\u001b[0m \u001b[0;34m=\u001b[0m \u001b[0mhodlr\u001b[0m\u001b[0;34m.\u001b[0m\u001b[0mHODLR\u001b[0m\u001b[0;34m(\u001b[0m\u001b[0;36m7\u001b[0m\u001b[0;34m,\u001b[0m \u001b[0;36m6\u001b[0m\u001b[0;34m)\u001b[0m\u001b[0;34m\u001b[0m\u001b[0m\n\u001b[0m",
      "\u001b[0;31mTypeError\u001b[0m: Required argument 'time' (pos 3) not found"
>>>>>>> f02bf7fa5ed4df3149e9245a8268c710f611e0f9
     ]
    }
   ],
   "source": [
<<<<<<< HEAD
    "solver.matrix"
=======
    "def matrix(i, j):\n",
    "    return np.exp(-0.5 * (i - j) ** 2)\n",
    "\n",
    "# Set up the system.\n",
    "N = 500\n",
    "diag = np.random.randn(N)\n",
    "solver = hodlr.HODLR(matrix, diag)"
>>>>>>> f02bf7fa5ed4df3149e9245a8268c710f611e0f9
   ]
  },
  {
   "cell_type": "code",
<<<<<<< HEAD
   "execution_count": 36,
   "metadata": {
    "collapsed": false
   },
   "outputs": [
    {
     "data": {
      "text/plain": [
       "array([[ 6.04616476,  6.04616476,  6.04616476,  6.04616476,  6.04616476,\n",
       "         6.04616476,  6.04616476,  6.04616476,  6.04616476,  6.04616476],\n",
       "       [ 1.15487845,  1.15487845,  1.15487845,  1.15487845,  1.15487845,\n",
       "         1.15487845,  1.15487845,  1.15487845,  1.15487845,  1.15487845],\n",
       "       [ 1.42479136,  1.42479136,  1.42479136,  1.42479136,  1.42479136,\n",
       "         1.42479136,  1.42479136,  1.42479136,  1.42479136,  1.42479136],\n",
       "       [ 1.8157123 ,  1.8157123 ,  1.8157123 ,  1.8157123 ,  1.8157123 ,\n",
       "         1.8157123 ,  1.8157123 ,  1.8157123 ,  1.8157123 ,  1.8157123 ],\n",
       "       [ 1.04514348,  1.04514348,  1.04514348,  1.04514348,  1.04514348,\n",
       "         1.04514348,  1.04514348,  1.04514348,  1.04514348,  1.04514348],\n",
       "       [ 1.10626865,  1.10626865,  1.10626865,  1.10626865,  1.10626865,\n",
       "         1.10626865,  1.10626865,  1.10626865,  1.10626865,  1.10626865],\n",
       "       [ 1.65971567,  1.65971567,  1.65971567,  1.65971567,  1.65971567,\n",
       "         1.65971567,  1.65971567,  1.65971567,  1.65971567,  1.65971567],\n",
       "       [ 2.15644454,  2.15644454,  2.15644454,  2.15644454,  2.15644454,\n",
       "         2.15644454,  2.15644454,  2.15644454,  2.15644454,  2.15644454],\n",
       "       [ 1.01707441,  1.01707441,  1.01707441,  1.01707441,  1.01707441,\n",
       "         1.01707441,  1.01707441,  1.01707441,  1.01707441,  1.01707441],\n",
       "       [ 1.00897651,  1.00897651,  1.00897651,  1.00897651,  1.00897651,\n",
       "         1.00897651,  1.00897651,  1.00897651,  1.00897651,  1.00897651]])"
      ]
     },
     "execution_count": 36,
     "metadata": {},
     "output_type": "execute_result"
    }
   ],
   "source": [
    "solver.solve(np.ones((10,10)))"
   ]
  },
  {
   "cell_type": "code",
   "execution_count": null,
   "metadata": {
    "collapsed": true
   },
   "outputs": [],
   "source": [
    "solver."
   ]
  },
  {
   "cell_type": "code",
   "execution_count": 30,
   "metadata": {
    "collapsed": false
   },
   "outputs": [
    {
     "data": {
      "text/plain": [
       "array([[  0.77212802,  -2.20161564,   1.00425989,   0.48712343,\n",
       "         -0.80828169,  -0.14428012,   1.79322033,   0.71334401,\n",
       "          1.88832666,  -1.29836646],\n",
       "       [  0.67005099,   1.65105783,  -1.30426116,  -0.67802104,\n",
       "         -0.2297577 ,   0.04104215,  -0.77231876,  -0.16774312,\n",
       "         -2.21234593,   1.65943334],\n",
       "       [  2.10108091,  -1.20314583,   1.10850138,   1.67262229,\n",
       "         -4.82956777,  -3.34228659,   2.4994158 ,   4.14529777,\n",
       "         -7.60370836,   3.07563793],\n",
       "       [ -1.42444526,  -2.54589097,  -1.5495142 ,  -0.06995434,\n",
       "          5.1924057 ,   5.55683594,  -2.45823313,  -2.81195546,\n",
       "         16.83947625,  -7.54403562],\n",
       "       [ -0.05184467,   1.93688562,   0.95181836,   0.17326875,\n",
       "         -3.79683755,  -3.09986626,   1.46337953,   2.05250851,\n",
       "         -7.51376707,   4.00121752],\n",
       "       [ -0.20858928,   0.89798257,   1.25793631,   0.07329173,\n",
       "         -0.07345792,  -0.61902514,  -0.68315192,  -0.90587833,\n",
       "         -2.31964815,   0.70016986],\n",
       "       [ -0.65067254,  -2.06396225,  -1.73181311,   0.0876142 ,\n",
       "          4.19838476,   4.07754108,  -0.51811064,  -1.99995235,\n",
       "         10.80675975,  -5.86418644],\n",
       "       [ -0.63572089,  -1.1536898 ,   0.43682333,  -0.34113533,\n",
       "          2.21898937,   2.01271824,  -0.45987115,  -1.51103723,\n",
       "          1.36889377,  -1.13285444],\n",
       "       [ -0.50750568,   4.85207819,  -0.76617763,  -2.04230854,\n",
       "          0.33182637,  -2.28020539,  -1.84451492,  -0.34373595,\n",
       "         -5.96027278,   3.47740316],\n",
       "       [  0.38534943,   2.42587345,   0.53230652,   0.32338269,\n",
       "         -3.25444883,  -3.9124526 ,   0.72599247,   1.75485374,\n",
       "        -10.48626348,   5.92622749]])"
      ]
     },
     "execution_count": 30,
     "metadata": {},
     "output_type": "execute_result"
    }
   ],
   "source": [
    "np.linalg.inv(data)"
   ]
  },
  {
   "cell_type": "code",
   "execution_count": 8,
   "metadata": {
    "collapsed": false
   },
   "outputs": [
    {
     "name": "stdout",
     "output_type": "stream",
     "text": [
      "Setting up...\n",
      "Took 0.00141596794128 seconds\n",
      "Solving...\n",
      "Took 4.31537628174e-05 seconds\n",
      "Finding log-determinant...\n",
      "Took 1.31130218506e-05 seconds\n",
      "Value: -1481.14189816\n",
      "Setting up...\n",
      "Took 0.00348901748657 seconds\n",
      "Solving...\n",
      "Took 5.91278076172e-05 seconds\n",
      "Finding log-determinant...\n",
      "Took 4.6968460083e-05 seconds\n",
      "Value: 42640.5168862\n",
      "Setting up...\n",
      "Took 0.00897002220154 seconds\n",
      "Solving...\n",
      "Took 0.000139951705933 seconds\n",
      "Finding log-determinant...\n",
      "Took 8.79764556885e-05 seconds\n",
      "Value: -16870.1623271\n",
      "Setting up...\n",
      "Took 0.0616769790649 seconds\n",
      "Solving...\n",
      "Took 0.000669002532959 seconds\n",
      "Finding log-determinant...\n",
      "Took 0.00056004524231 seconds\n",
      "Value: 2.52629603723e+180\n",
      "Setting up...\n",
      "Took 0.120393037796 seconds\n",
      "Solving...\n",
      "Took 0.00129723548889 seconds\n",
      "Finding log-determinant...\n",
      "Took 0.000969886779785 seconds\n",
      "Value: 65249.2231006\n",
      "Setting up...\n",
      "Took 0.674989938736 seconds\n",
      "Solving...\n",
      "Took 0.00851702690125 seconds\n",
      "Finding log-determinant...\n",
      "Took 0.00539493560791 seconds\n",
      "Value: 1.18275614157e+232\n"
     ]
    },
    {
     "data": {
      "image/png": "iVBORw0KGgoAAAANSUhEUgAAAYAAAAD8CAYAAAB+UHOxAAAABHNCSVQICAgIfAhkiAAAAAlwSFlz\nAAALEgAACxIB0t1+/AAAD8VJREFUeJzt3W2MXFd9x/Hvr46BFU27tIEkXic1FZFVSgCXVSiCF4UE\nHNIoMSmoqdSWtEWWKqFSqTLCjVSpfROqlaqqBRUs+iItSIDAdgwxLA5QUVQFcHCCycNCmhKRddqY\nh4UiVtQ2/77wOHXcfbLv7M7OnO9HWu29557M+R9d+f4y597ZSVUhSWrPzwy6AEnSYBgAktQoA0CS\nGmUASFKjDABJapQBIEmNMgAkqVEGgCQ1ygCQpEZdNOgClnLJJZfUli1bBl2GJA2N++677ztV9fyV\n9F3XAbBlyxYOHz486DIkaWgkeXylfV0CkqRGGQCS1CgDQJIaZQBIUqMMAElq1Lp+CkiSWrL/yCxT\n0zMcm5tn0/gYu7ZvZce2iVUbzwCQpHVg/5FZdu89yvyJUwDMzs2ze+9RgFULAZeAJGkdmJqeefri\nf8b8iVNMTc+s2pgGgCStA8fm5s+rvR8MAElaBzaNj51Xez8YAJK0DuzavpWxjRue0Ta2cQO7tm9d\ntTG9CSxJ68CZG70+BSRJDdqxbWJVL/jncglIkhplAEhSowwASWqUASBJjTIAJKlRBoAkNcoAkKRG\nGQCS1CgDQJIaZQBIUqMMAElqlAEgSY0yACSpUQaAJDXKAJCkRhkAktQoA0CSGtUpAJL8QpJDSb7Z\n+/28RfqdSnJ/7+dAlzElSf3R9R3Au4DPVtVVwGd7+wuZr6qX935u6jimJKkPugbAzcCdve07gR0d\nX0+StEa6BsClVfVkb/s/gUsX6fecJIeT3JtkyZBIsrPX9/Dx48c7lidJWsxFy3VIcg9w2QKHbj97\np6oqSS3yMr9UVbNJfhn4XJKjVfXvC3Wsqj3AHoDJycnFXk+S1NGyAVBV1y12LMl/Jbm8qp5Mcjnw\n1CKvMdv7/ViSfwG2AQsGgCRpbXRdAjoAvLW3/VbgrnM7JHlekmf3ti8BXg081HFcSVJHXQPg3cDr\nk3wTuK63T5LJJB/o9fkV4HCSB4DPA++uKgNAkgZs2SWgpVTVd4FrF2g/DLytt/1vwNVdxpEk9Z+f\nBJakRhkAktQoA0CSGmUASFKjDABJapQBIEmNMgAkqVEGgCQ1ygCQpEYZAJLUKANAkhplAEhSowwA\nSWqUASBJjTIAJKlRBoAkNcoAkKRGGQCS1CgDQJIaZQBIUqMMAElqlAEgSY26aNAFSBpd+4/MMjU9\nw7G5eTaNj7Fr+1Z2bJsYdFnqMQAkrYr9R2bZvfco8ydOATA7N8/uvUcBDIF1wiUgSatianrm6Yv/\nGfMnTjE1PTOginQuA0DSqjg2N39e7Vp7BoCkVbFpfOy82rX2DABJq2LX9q2MbdzwjLaxjRvYtX3r\ngCrSuToFQJK3JHkwyU+TTC7R7/okM0keTfKuLmNKGg47tk1wxy1XMzE+RoCJ8THuuOVqbwCvI12f\nAvo6cAvw/sU6JNkAvBd4PfAE8JUkB6rqoY5jS1rndmyb8IK/jnUKgKp6GCDJUt2uAR6tqsd6fT8M\n3AwYAJI0QGtxD2AC+PZZ+0/02haUZGeSw0kOHz9+fNWLk6RWLfsOIMk9wGULHLq9qu7qd0FVtQfY\nAzA5OVn9fn1J0mnLBkBVXddxjFngirP2N/faJEkDtBZLQF8BrkrywiTPAm4FDqzBuJKkJXR9DPRN\nSZ4AXgXcnWS6174pyUGAqjoJvB2YBh4GPlpVD3YrW5LUVdengPYB+xZoPwbccNb+QeBgl7EkSf3l\nJ4ElqVEGgCQ1ygCQpEYZAJLUKANAkhplAEhSo/xOYGkE+WXsWgkDQBoxfhm7VsolIGnE+GXsWikD\nQBoxfhm7VsoAkEaMX8aulTIApBHjl7FrpbwJLI2YMzd6fQpIyzEApBHkl7FrJVwCkqRGGQCS1CgD\nQJIaZQBIUqMMAElqlAEgSY0yACSpUQaAJDXKAJCkRhkAktQoA0CSGmUASFKjDABJapQBIEmN6hQA\nSd6S5MEkP00yuUS/byU5muT+JIe7jClJ6o+u3wfwdeAW4P0r6PvaqvpOx/EkSX3SKQCq6mGAJP2p\nRpK0ZtbqHkABn0lyX5KdS3VMsjPJ4SSHjx8/vkblSVJ7ln0HkOQe4LIFDt1eVXetcJzXVNVskhcA\nh5I8UlVfWKhjVe0B9gBMTk7WCl9fknSelg2Aqrqu6yBVNdv7/VSSfcA1wIIBIElaG6u+BJTkuUku\nPrMNvIHTN48lSQPU9THQNyV5AngVcHeS6V77piQHe90uBb6Y5AHgy8DdVfXpLuNKkrrr+hTQPmDf\nAu3HgBt6248BL+syjiSp//wksCQ1ygCQpEYZAJLUKANAkhplAEhSowwASWqUASBJjTIAJKlRBoAk\nNcoAkKRGGQCS1CgDQJIaZQBIUqMMAElqlAEgSY0yACSpUQaAJDXKAJCkRhkAktQoA0CSGmUASFKj\nDABJapQBIEmNMgAkqVEGgCQ1ygCQpEYZAJLUKANAkhrVKQCSTCV5JMnXkuxLMr5Iv+uTzCR5NMm7\nuowpSeqPru8ADgEvqaqXAt8Adp/bIckG4L3AG4EXA7+T5MUdx5UkddQpAKrqM1V1srd7L7B5gW7X\nAI9W1WNV9T/Ah4Gbu4wrSeruoj6+1h8CH1mgfQL49ln7TwCvXOxFkuwEdgJceeWVfSxPw2T/kVmm\npmc4NjfPpvExdm3fyo5tE4MuSxopywZAknuAyxY4dHtV3dXrcztwEvhQ14Kqag+wB2BycrK6vp6G\nz/4js+zee5T5E6cAmJ2bZ/feowCGgNRHywZAVV231PEktwE3AtdW1UIX7FngirP2N/fapAVNTc88\nffE/Y/7EKaamZwwAqY+6PgV0PfBO4Kaq+vEi3b4CXJXkhUmeBdwKHOgyrkbbsbn582qXdGG6PgX0\nHuBi4FCS+5O8DyDJpiQHAXo3id8OTAMPAx+tqgc7jqsRtml87LzaJV2YTjeBq+pFi7QfA244a/8g\ncLDLWGrHru1bn3EPAGBs4wZ2bd86wKqk0dPPp4Ckvjizzu9TQNLqMgC0Lu3YNuEFX1pl/i0gSWqU\nASBJjTIAJKlRBoAkNcoAkKRGGQCS1CgDQJIaZQBIUqMMAElqlAEgSY0yACSpUQaAJDXKAJCkRhkA\nktQoA0CSGmUASFKjDABJapQBIEmNMgAkqVEGgCQ1ygCQpEYZAJLUqIsGXYDWj/1HZpmanuHY3Dyb\nxsfYtX0rO7ZNDLosSavEABBw+uK/e+9R5k+cAmB2bp7de48CGALSiHIJSABMTc88ffE/Y/7EKaam\nZwZUkaTVZgAIgGNz8+fVLmn4dQqAJFNJHknytST7kowv0u9bSY4muT/J4S5janVsGh87r3ZJw6/r\nO4BDwEuq6qXAN4DdS/R9bVW9vKomO46pVbBr+1bGNm54RtvYxg3s2r51QBVJWm2dAqCqPlNVJ3u7\n9wKbu5ekQdixbYI7brmaifExAkyMj3HHLVd7A1gaYamq/rxQ8gngI1X1wQWO/QfwfaCA91fVniVe\nZyewE+DKK698xeOPP96X+iSpBUnuW+lKy7KPgSa5B7hsgUO3V9VdvT63AyeBDy3yMq+pqtkkLwAO\nJXmkqr6wUMdeOOwBmJyc7E86SZL+n2UDoKquW+p4ktuAG4Fra5G3E1U12/v9VJJ9wDXAggEgSVob\nXZ8Cuh54J3BTVf14kT7PTXLxmW3gDcDXu4wrSequ61NA7wEu5vSyzv1J3geQZFOSg70+lwJfTPIA\n8GXg7qr6dMdxJUkddfpTEFX1okXajwE39LYfA17WZRxJUv/5SWBJapQBIEmNMgAkqVEGgCQ1ygCQ\npEYZAJLUKANAkhplAEhSowwASWqUASBJjTIAJKlRBoAkNcoAkKRGGQCS1CgDQJIaZQBIUqM6fSHM\nerT/yCxT0zMcm5tn0/gYu7ZvZce2iUGXJUnrzkgFwP4js+zee5T5E6cAmJ2bZ/feowCGgCSdY6SW\ngKamZ56++J8xf+IUU9MzA6pIktavkQqAY3Pz59UuSS0bqQDYND52Xu2S1LKRCoBd27cytnHDM9rG\nNm5g1/atA6pIktavkboJfOZGr08BSdLyRioA4HQIeMGXpOWN1BKQJGnlDABJapQBIEmNMgAkqVEG\ngCQ1KlU16BoWleQ48PgF/ueXAN/pYznrkXMcDc5xNKyXOf5SVT1/JR3XdQB0keRwVU0Ouo7V5BxH\ng3McDcM4R5eAJKlRBoAkNWqUA2DPoAtYA85xNDjH0TB0cxzZewCSpKWN8jsASdIShjoAklyR5PNJ\nHkryYJJ3LNAnSf4uyaNJvpbk1wZR64Va4Rx/I8kPktzf+/mLQdR6oZI8J8mXkzzQm+NfLtDn2Uk+\n0juPX0qyZe0rvXArnONtSY6fdR7fNohau0iyIcmRJJ9c4NhQn8MzlpnjUJ3DYf9roCeBP6uqrya5\nGLgvyaGqeuisPm8Erur9vBL4h97vYbGSOQL8a1XdOID6+uEnwOuq6kdJNgJfTPKpqrr3rD5/BHy/\nql6U5Fbgr4HfHkSxF2glcwT4SFW9fQD19cs7gIeBn1vg2LCfwzOWmiMM0Tkc6ncAVfVkVX21t/3f\nnD4p5/4t6JuBf6rT7gXGk1y+xqVesBXOcaj1zs2Persbez/n3py6Gbizt/0x4NokWaMSO1vhHIda\nks3AbwIfWKTLUJ9DWNEch8pQB8DZem8ntwFfOufQBPDts/afYEgvoEvMEeBVveWFTyX51TUtrA96\nb6vvB54CDlXVouexqk4CPwB+cW2r7GYFcwT4rd5S5ceSXLHGJXb1t8A7gZ8ucnzozyHLzxGG6ByO\nRAAk+Vng48CfVtUPB13Palhmjl/l9Me/Xwb8PbB/revrqqpOVdXLgc3ANUleMuia+m0Fc/wEsKWq\nXgoc4v/+b3ndS3Ij8FRV3TfoWlbLCuc4VOdw6AOgt576ceBDVbV3gS6zwNkpvLnXNjSWm2NV/fDM\n8kJVHQQ2Jrlkjcvsi6qaAz4PXH/OoafPY5KLgJ8Hvru21fXHYnOsqu9W1U96ux8AXrHWtXXwauCm\nJN8CPgy8LskHz+kz7Odw2TkO2zkc6gDorR/+I/BwVf3NIt0OAL/fexro14EfVNWTa1ZkRyuZY5LL\nzqylJrmG0+d1aP5hJXl+kvHe9hjweuCRc7odAN7a234z8Lkaog+xrGSO59ybuonT93uGQlXtrqrN\nVbUFuJXT5+d3z+k21OdwJXMctnM47E8BvRr4PeBob20V4M+BKwGq6n3AQeAG4FHgx8AfDKDOLlYy\nxzcDf5zkJDAP3DpM/7CAy4E7k2zgdHh9tKo+meSvgMNVdYDTIfjPSR4Fvsfpf4DDZCVz/JMkN3H6\nya/vAbcNrNo+GbFzuKBhPod+EliSGjXUS0CSpAtnAEhSowwASWqUASBJjTIAJKlRBoAkNcoAkKRG\nGQCS1Kj/BfKk70S44kywAAAAAElFTkSuQmCC\n",
      "text/plain": [
       "<matplotlib.figure.Figure at 0x7f61dd4eded0>"
      ]
     },
     "metadata": {},
     "output_type": "display_data"
    }
   ],
   "source": [
    "ns = [100, 500, 1000, 5000, 10000, 50000]\n",
    "actual = np.empty(len(ns))\n",
    "builds = np.empty(len(ns))\n",
    "solves = np.empty(len(ns))\n",
    "dets = np.empty(len(ns))\n",
    "for i, n in enumerate(ns):\n",
    "    actual[i] = len(t[:n])\n",
    "\n",
    "    # Set up the system.\n",
    "    diag = fe * fe\n",
    "    print(\"Setting up...\")\n",
    "    strt = time.time()\n",
    "    solver = hodlr.HODLR(1e-8, 0.1, t[:n], diag[:n])\n",
    "    strt = time.time() - strt\n",
    "    builds[i] = strt\n",
    "    print(\"Took {0} seconds\".format(strt))\n",
    "\n",
    "    # Solve the system.\n",
    "    print(\"Solving...\")\n",
    "    strt = time.time()\n",
    "    xsol = solver.solve(f[:n])\n",
    "    strt = time.time() - strt\n",
    "    solves[i] = strt\n",
    "    print(\"Took {0} seconds\".format(strt))\n",
    "\n",
    "    # Get the log-determinant.\n",
    "    print(\"Finding log-determinant...\")\n",
    "    strt = time.time()\n",
    "    logdet = solver.logdet()\n",
    "    strt = time.time() - strt\n",
    "    dets[i] = strt\n",
    "    print(\"Took {0} seconds\".format(strt))\n",
    "    print(\"Value: {0}\".format(logdet))\n",
    "\n",
    "pl.plot(np.log10(actual), np.log10(builds+solves+dets), \"o\")\n",
    "#pl.savefig(\"demo.png\")\n",
    "\n",
    "# Format the LaTeX table.\n",
    "top = r\"\"\"\n",
    "\\begin{table}[!htbp]\n",
    "\\rowcolors{1}{gray!30}{white}\n",
    "\\begin{center}\n",
    "\\caption{.}\n",
    "\\begin{tabular}{|c|c|c|c|}\n",
    "\\hline\n",
    "Number of data points & \\multicolumn{3}{|c|}{Time taken in seconds} \\\\\n",
    "\\hline\n",
    " & Assembly \\& Factor & Solve & Determinant \\\\\n",
    "\n",
    "\\hline\n",
    "\"\"\"\n",
    "btm = \"\"\"\n",
    "\\end{tabular}\n",
    "\\end{center}\n",
    "\\end{table}\n",
    "\"\"\"\n",
    "\n",
    "row = r\"{0} & {1:.2e} & {2:.2e} & {3:.2e} \\\\\\hline\".format\n",
    "rows = \"\\n\".join(map(lambda a: row(*a),\n",
    "                     zip(map(int, actual), builds, solves, dets)))\n",
    "\n",
    "#open(\"results.tex\", \"w\").write(top + rows + btm)"
=======
   "execution_count": 16,
   "metadata": {
    "collapsed": false
   },
   "outputs": [],
   "source": [
    "?hodlr._hodlr"
>>>>>>> f02bf7fa5ed4df3149e9245a8268c710f611e0f9
   ]
  },
  {
   "cell_type": "code",
   "execution_count": null,
   "metadata": {
    "collapsed": true
   },
   "outputs": [],
   "source": []
  }
 ],
 "metadata": {
  "kernelspec": {
   "display_name": "Python 2",
   "language": "python",
   "name": "python2"
  },
  "language_info": {
   "codemirror_mode": {
    "name": "ipython",
    "version": 2
   },
   "file_extension": ".py",
   "mimetype": "text/x-python",
   "name": "python",
   "nbconvert_exporter": "python",
   "pygments_lexer": "ipython2",
   "version": "2.7.6"
  },
  "latex_envs": {
   "bibliofile": "biblio.bib",
   "cite_by": "apalike",
   "current_citInitial": 1,
   "eqLabelWithNumbers": true,
   "eqNumInitial": 0
  }
 },
 "nbformat": 4,
 "nbformat_minor": 0
}
