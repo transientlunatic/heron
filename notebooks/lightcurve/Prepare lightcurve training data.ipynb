{
 "cells": [
  {
   "cell_type": "code",
   "execution_count": 40,
   "metadata": {},
   "outputs": [],
   "source": [
    "import pickle\n",
    "import pandas\n",
    "import pandas.core.internals\n",
    "import glob\n",
    "import numpy as np"
   ]
  },
  {
   "cell_type": "code",
   "execution_count": 44,
   "metadata": {},
   "outputs": [],
   "source": [
    "import re"
   ]
  },
  {
   "cell_type": "code",
   "execution_count": 92,
   "metadata": {},
   "outputs": [
    {
     "data": {
      "text/plain": [
       "Index([u'u', u'g', u'r', u'i', u'z', u'y'], dtype='object')"
      ]
     },
     "execution_count": 92,
     "metadata": {},
     "output_type": "execute_result"
    }
   ],
   "source": [
    "data.columns"
   ]
  },
  {
   "cell_type": "code",
   "execution_count": 105,
   "metadata": {},
   "outputs": [],
   "source": [
    "all_data = dict(y = [], u = [], g = [], r = [], i = [], z = [])\n",
    "meta_array = []\n",
    "for filename in glob.glob(\"data/KN_LSST_systematic/knova_d1_n10_m0.*.pickle\"):\n",
    "    with open(filename, \"rb\") as fh:\n",
    "        data = pickle.load(fh)\n",
    "        meta = re.match(\"data/KN_LSST_systematic/knova_d(?P<d>[0-9.e\\-d]*)_n(?P<n>[0-9.e\\-d]*)_m(?P<m>[0-9.e\\-d]*)_vk(?P<vk>[0-9.e\\-d]*)_fd(?P<fd>[0-9.e\\-d]*)_Xlan(?P<xlan>[0-9.e\\-d]*).0.h5_data.pickle\", filename)\n",
    "        meta_array.append(np.array(list(meta.groups()), dtype=np.float32))\n",
    "        for column in data.columns:\n",
    "            all_data[column].append(data[column].values.tolist())    \n",
    "times = data.index.total_seconds()/(3600*24)\n",
    "meta_array = np.array(meta_array)"
   ]
  },
  {
   "cell_type": "code",
   "execution_count": 106,
   "metadata": {},
   "outputs": [],
   "source": [
    "import matplotlib.pyplot as plt"
   ]
  },
  {
   "cell_type": "code",
   "execution_count": 107,
   "metadata": {},
   "outputs": [],
   "source": [
    "import json"
   ]
  },
  {
   "cell_type": "code",
   "execution_count": 108,
   "metadata": {},
   "outputs": [],
   "source": [
    "with open(\"lightcurve_data.json\", \"w\") as filewrite:\n",
    "    json.dump({\"data\": all_data,\n",
    "               \"times\": times.tolist(),\n",
    "               \"meta\": meta_array.tolist()}, filewrite)"
   ]
  },
  {
   "cell_type": "code",
   "execution_count": 109,
   "metadata": {},
   "outputs": [
    {
     "ename": "AttributeError",
     "evalue": "ConfigParser instance has no attribute 'read_string'",
     "output_type": "error",
     "traceback": [
      "\u001b[0;31m---------------------------------------------------------------------------\u001b[0m",
      "\u001b[0;31mAttributeError\u001b[0m                            Traceback (most recent call last)",
      "\u001b[0;32m<ipython-input-109-b92abbe26411>\u001b[0m in \u001b[0;36m<module>\u001b[0;34m()\u001b[0m\n\u001b[0;32m----> 1\u001b[0;31m \u001b[0;32mimport\u001b[0m \u001b[0melk\u001b[0m\u001b[0;34m\u001b[0m\u001b[0m\n\u001b[0m",
      "\u001b[0;32m/scratch/aries/daniel/repositories/elk/elk/__init__.py\u001b[0m in \u001b[0;36m<module>\u001b[0;34m()\u001b[0m\n\u001b[1;32m     25\u001b[0m \u001b[0;31m#if not config_file:\u001b[0m\u001b[0;34m\u001b[0m\u001b[0;34m\u001b[0m\u001b[0m\n\u001b[1;32m     26\u001b[0m \u001b[0;34m\u001b[0m\u001b[0m\n\u001b[0;32m---> 27\u001b[0;31m \u001b[0mconfig\u001b[0m\u001b[0;34m.\u001b[0m\u001b[0mread_string\u001b[0m\u001b[0;34m(\u001b[0m\u001b[0mdefault_config\u001b[0m\u001b[0;34m.\u001b[0m\u001b[0mdecode\u001b[0m\u001b[0;34m(\u001b[0m\u001b[0;34m\"utf8\"\u001b[0m\u001b[0;34m)\u001b[0m\u001b[0;34m)\u001b[0m\u001b[0;34m\u001b[0m\u001b[0m\n\u001b[0m\u001b[1;32m     28\u001b[0m \u001b[0;34m\u001b[0m\u001b[0m\n\u001b[1;32m     29\u001b[0m config_locations = [os.path.join(os.curdir, \"{}.conf\".format(__packagename__)),\n",
      "\u001b[0;31mAttributeError\u001b[0m: ConfigParser instance has no attribute 'read_string'"
     ]
    }
   ],
   "source": [
    "import elk"
   ]
  },
  {
   "cell_type": "code",
   "execution_count": null,
   "metadata": {},
   "outputs": [],
   "source": []
  }
 ],
 "metadata": {
  "kernelspec": {
   "display_name": "Python (heron-2714stable)",
   "language": "python",
   "name": "venv-heron-2714stable"
  },
  "language_info": {
   "codemirror_mode": {
    "name": "ipython",
    "version": 2
   },
   "file_extension": ".py",
   "mimetype": "text/x-python",
   "name": "python",
   "nbconvert_exporter": "python",
   "pygments_lexer": "ipython2",
   "version": "2.7.14"
  }
 },
 "nbformat": 4,
 "nbformat_minor": 2
}
