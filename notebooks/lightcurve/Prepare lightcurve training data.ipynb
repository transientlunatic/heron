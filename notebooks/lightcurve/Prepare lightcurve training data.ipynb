{
 "cells": [
  {
   "cell_type": "code",
   "execution_count": 40,
   "metadata": {},
   "outputs": [],
   "source": [
    "import pickle\n",
    "import pandas\n",
    "import pandas.core.internals\n",
    "import glob\n",
    "import numpy as np"
   ]
  },
  {
   "cell_type": "code",
   "execution_count": 44,
   "metadata": {},
   "outputs": [],
   "source": [
    "import re"
   ]
  },
  {
   "cell_type": "code",
   "execution_count": 92,
   "metadata": {},
   "outputs": [
    {
     "data": {
      "text/plain": [
       "Index([u'u', u'g', u'r', u'i', u'z', u'y'], dtype='object')"
      ]
     },
     "execution_count": 92,
     "metadata": {},
     "output_type": "execute_result"
    }
   ],
   "source": [
    "data.columns"
   ]
  },
  {
   "cell_type": "code",
   "execution_count": 96,
   "metadata": {},
   "outputs": [],
   "source": [
    "all_data = dict(y = [], u = [], g = [], r = [], i = [], z = [])\n",
    "meta_array = []\n",
    "for filename in glob.glob(\"data/KN_LSST_systematic/knova_d1_n10_m0.*.pickle\"):\n",
    "    with open(filename, \"rb\") as fh:\n",
    "        data = pickle.load(fh)\n",
    "        meta = re.match(\"data/KN_LSST_systematic/knova_d(?P<d>[0-9.e\\-d]*)_n(?P<n>[0-9.e\\-d]*)_m(?P<m>[0-9.e\\-d]*)_vk(?P<vk>[0-9.e\\-d]*)_fd(?P<fd>[0-9.e\\-d]*)_Xlan(?P<xlan>[0-9.e\\-d]*).0.h5_data.pickle\", filename)\n",
    "        meta_array.append(np.array(list(meta.groups()), dtype=np.float32))\n",
    "        for column in data.columns:\n",
    "            all_data[column].append(data[column].values)\n",
    "for column, data_col in all_data.items():\n",
    "    all_data[column] = np.array(data_col)\n",
    "    \n",
    "times = data.index.total_seconds()/(3600*24)\n",
    "meta_array = np.array(meta_array)"
   ]
  },
  {
   "cell_type": "code",
   "execution_count": 98,
   "metadata": {},
   "outputs": [],
   "source": [
    "import matplotlib.pyplot as plt"
   ]
  },
  {
   "cell_type": "code",
   "execution_count": 99,
   "metadata": {},
   "outputs": [],
   "source": [
    "import json"
   ]
  },
  {
   "cell_type": "code",
   "execution_count": 100,
   "metadata": {},
   "outputs": [],
   "source": [
    "with open(\"lightcurve_data.json\", \"w\") as filewrite:\n",
    "    json.dump({\"data\": all_data\n",
    "        \n",
    "               \"times\": times.tolist(),\n",
    "               \"meta\": meta_array.tolist()}, filewrite)"
   ]
  },
  {
   "cell_type": "code",
   "execution_count": null,
   "metadata": {},
   "outputs": [],
   "source": []
  }
 ],
 "metadata": {
  "kernelspec": {
   "display_name": "Python (heron-2714stable)",
   "language": "python",
   "name": "venv-heron-2714stable"
  },
  "language_info": {
   "codemirror_mode": {
    "name": "ipython",
    "version": 2
   },
   "file_extension": ".py",
   "mimetype": "text/x-python",
   "name": "python",
   "nbconvert_exporter": "python",
   "pygments_lexer": "ipython2",
   "version": "2.7.14"
  }
 },
 "nbformat": 4,
 "nbformat_minor": 2
}
