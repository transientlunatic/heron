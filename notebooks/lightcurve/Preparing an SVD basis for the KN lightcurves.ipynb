{
 "cells": [
  {
   "cell_type": "code",
   "execution_count": 1,
   "metadata": {},
   "outputs": [],
   "source": [
    "import elk\n",
    "import json\n",
    "import numpy as np"
   ]
  },
  {
   "cell_type": "code",
   "execution_count": 2,
   "metadata": {},
   "outputs": [],
   "source": [
    "with open(\"lightcurve_data.json\", \"r\") as file:\n",
    "    data = json.load(file)"
   ]
  },
  {
   "cell_type": "code",
   "execution_count": 3,
   "metadata": {},
   "outputs": [],
   "source": [
    "from elk.projection import ProperBasis"
   ]
  },
  {
   "cell_type": "code",
   "execution_count": 4,
   "metadata": {},
   "outputs": [
    {
     "data": {
      "text/plain": [
       "array([[ 1.79769313e+308,  1.79769313e+308,  1.79769313e+308, ...,\n",
       "         1.79769313e+308,  1.79769313e+308,  1.79769313e+308],\n",
       "       [ 1.79769313e+308,  1.79769313e+308,  1.79769313e+308, ...,\n",
       "        -7.69478149e+000, -7.04822627e+000, -6.25348679e+000],\n",
       "       [ 1.79769313e+308,  1.79769313e+308,  1.79769313e+308, ...,\n",
       "         1.79769313e+308,  1.79769313e+308,  1.79769313e+308],\n",
       "       ...,\n",
       "       [ 1.79769313e+308,  1.79769313e+308,  1.79769313e+308, ...,\n",
       "         1.79769313e+308,  1.79769313e+308,  1.79769313e+308],\n",
       "       [ 1.79769313e+308,  1.79769313e+308,  1.79769313e+308, ...,\n",
       "        -6.54021182e+000, -5.86848733e+000, -5.05206491e+000],\n",
       "       [ 1.79769313e+308,  1.79769313e+308,  1.79769313e+308, ...,\n",
       "        -7.97117184e+000, -8.00961983e+000, -7.99484737e+000]])"
      ]
     },
     "execution_count": 4,
     "metadata": {},
     "output_type": "execute_result"
    }
   ],
   "source": [
    "np.nan_to_num(data['data']['i'])"
   ]
  },
  {
   "cell_type": "code",
   "execution_count": 5,
   "metadata": {},
   "outputs": [],
   "source": [
    "import matplotlib.pyplot as plt"
   ]
  },
  {
   "cell_type": "code",
   "execution_count": 6,
   "metadata": {},
   "outputs": [
    {
     "data": {
      "text/plain": [
       "270"
      ]
     },
     "execution_count": 6,
     "metadata": {},
     "output_type": "execute_result"
    }
   ],
   "source": [
    "len(data['data']['i'][0])"
   ]
  },
  {
   "cell_type": "code",
   "execution_count": 7,
   "metadata": {},
   "outputs": [
    {
     "data": {
      "text/plain": [
       "[<matplotlib.lines.Line2D at 0x7fc078de12b0>]"
      ]
     },
     "execution_count": 7,
     "metadata": {},
     "output_type": "execute_result"
    },
    {
     "name": "stderr",
     "output_type": "stream",
     "text": [
      "/home/daniel/.virtualenvs/aries/heron-stable/local/lib/python3.6/site-packages/matplotlib/font_manager.py:1331: UserWarning: findfont: Font family [\"'URW Bookman L'\"] not found. Falling back to DejaVu Sans\n",
      "  (prop.get_family(), self.defaultFamily[fontext]))\n"
     ]
    },
    {
     "data": {
      "image/png": "[encoded data removed]",
      "text/plain": [
       "<Figure size 432x288 with 1 Axes>"
      ]
     },
     "metadata": {
      "needs_background": "light"
     },
     "output_type": "display_data"
    }
   ],
   "source": [
    "plt.plot(data['data']['i'][0])"
   ]
  },
  {
   "cell_type": "code",
   "execution_count": 17,
   "metadata": {},
   "outputs": [
    {
     "data": {
      "text/plain": [
       "array([[5.00000007e-02, 3.00000012e-01, 1.00000005e-03],\n",
       "       [3.99999991e-02, 1.00000001e-01, 9.99999975e-05],\n",
       "       [2.99999993e-02, 2.00000003e-01, 9.99999975e-05],\n",
       "       [4.99999989e-03, 2.99999993e-02, 1.00000001e-01],\n",
       "       [2.49999994e-03, 2.99999993e-02, 1.00000001e-01],\n",
       "       [2.99999993e-02, 1.00000001e-01, 9.99999978e-03],\n",
       "       [7.50000030e-02, 3.00000012e-01, 9.99999975e-06],\n",
       "       [2.49999994e-03, 2.99999993e-02, 9.99999972e-10],\n",
       "       [2.49999994e-03, 1.00000001e-01, 9.99999975e-06],\n",
       "       [2.49999994e-03, 2.00000003e-01, 1.00000005e-03],\n",
       "       [2.50000004e-02, 2.00000003e-01, 9.99999975e-06],\n",
       "       [2.50000004e-02, 1.00000001e-01, 1.00000005e-03],\n",
       "       [2.49999994e-03, 1.00000001e-01, 9.99999978e-03],\n",
       "       [2.99999993e-02, 2.99999993e-02, 9.99999978e-03],\n",
       "       [2.99999993e-02, 3.00000012e-01, 9.99999975e-06],\n",
       "       [3.99999991e-02, 1.00000001e-01, 9.99999978e-03],\n",
       "       [3.99999991e-02, 3.00000012e-01, 9.99999975e-06],\n",
       "       [2.99999993e-02, 5.00000007e-02, 9.99999978e-03],\n",
       "       [3.99999991e-02, 1.00000001e-01, 1.00000001e-01],\n",
       "       [1.99999996e-02, 5.00000007e-02, 9.99999978e-03],\n",
       "       [1.00000001e-01, 2.99999993e-02, 9.99999975e-05],\n",
       "       [1.00000005e-03, 2.00000003e-01, 9.99999975e-05],\n",
       "       [9.99999978e-03, 1.00000001e-01, 9.99999972e-10],\n",
       "       [7.50000030e-02, 2.00000003e-01, 9.99999972e-10],\n",
       "       [7.50000030e-02, 2.00000003e-01, 9.99999978e-03],\n",
       "       [1.00000005e-03, 2.99999993e-02, 1.00000005e-03],\n",
       "       [1.00000001e-01, 2.00000003e-01, 9.99999975e-06],\n",
       "       [2.49999994e-03, 2.00000003e-01, 9.99999975e-05],\n",
       "       [5.00000007e-02, 3.00000012e-01, 9.99999972e-10],\n",
       "       [9.99999978e-03, 3.00000012e-01, 9.99999975e-05],\n",
       "       [2.99999993e-02, 2.00000003e-01, 9.99999975e-06],\n",
       "       [1.99999996e-02, 2.99999993e-02, 9.99999975e-05],\n",
       "       [1.00000001e-01, 1.00000001e-01, 9.99999975e-06],\n",
       "       [1.00000001e-01, 2.00000003e-01, 9.99999972e-10],\n",
       "       [2.49999994e-03, 1.00000001e-01, 9.99999975e-05],\n",
       "       [2.50000004e-02, 1.00000001e-01, 9.99999972e-10],\n",
       "       [9.99999978e-03, 2.99999993e-02, 9.99999978e-03],\n",
       "       [2.50000004e-02, 3.00000012e-01, 1.00000001e-01],\n",
       "       [5.00000007e-02, 1.00000001e-01, 9.99999975e-05],\n",
       "       [5.00000007e-02, 5.00000007e-02, 9.99999975e-05],\n",
       "       [2.50000004e-02, 2.00000003e-01, 1.00000001e-01],\n",
       "       [4.99999989e-03, 3.00000012e-01, 1.00000001e-01],\n",
       "       [9.99999978e-03, 2.00000003e-01, 9.99999978e-03],\n",
       "       [4.99999989e-03, 2.00000003e-01, 9.99999975e-06],\n",
       "       [1.00000001e-01, 3.00000012e-01, 9.99999972e-10],\n",
       "       [3.99999991e-02, 5.00000007e-02, 9.99999975e-06],\n",
       "       [5.00000007e-02, 3.00000012e-01, 9.99999975e-05],\n",
       "       [4.99999989e-03, 1.00000001e-01, 9.99999978e-03],\n",
       "       [3.99999991e-02, 3.00000012e-01, 9.99999978e-03],\n",
       "       [2.99999993e-02, 2.00000003e-01, 9.99999978e-03],\n",
       "       [1.00000001e-01, 1.00000001e-01, 9.99999975e-05],\n",
       "       [7.50000030e-02, 5.00000007e-02, 9.99999975e-06],\n",
       "       [4.99999989e-03, 5.00000007e-02, 9.99999975e-06],\n",
       "       [1.00000001e-01, 2.00000003e-01, 9.99999978e-03],\n",
       "       [1.00000005e-03, 2.00000003e-01, 1.00000001e-01],\n",
       "       [3.99999991e-02, 3.00000012e-01, 9.99999975e-05],\n",
       "       [2.99999993e-02, 3.00000012e-01, 1.00000001e-01],\n",
       "       [2.49999994e-03, 3.00000012e-01, 1.00000005e-03],\n",
       "       [5.00000007e-02, 3.00000012e-01, 1.00000001e-01],\n",
       "       [1.00000001e-01, 3.00000012e-01, 9.99999975e-05],\n",
       "       [1.00000005e-03, 2.99999993e-02, 9.99999978e-03],\n",
       "       [1.00000001e-01, 1.00000001e-01, 1.00000001e-01],\n",
       "       [7.50000030e-02, 5.00000007e-02, 9.99999978e-03],\n",
       "       [2.99999993e-02, 1.00000001e-01, 9.99999975e-05],\n",
       "       [9.99999978e-03, 5.00000007e-02, 1.00000005e-03],\n",
       "       [4.99999989e-03, 3.00000012e-01, 9.99999975e-05],\n",
       "       [5.00000007e-02, 2.00000003e-01, 9.99999972e-10],\n",
       "       [2.49999994e-03, 1.00000001e-01, 1.00000005e-03],\n",
       "       [5.00000007e-02, 2.99999993e-02, 9.99999972e-10],\n",
       "       [7.50000030e-02, 5.00000007e-02, 1.00000005e-03],\n",
       "       [2.99999993e-02, 1.00000001e-01, 1.00000001e-01],\n",
       "       [3.99999991e-02, 2.99999993e-02, 9.99999975e-05],\n",
       "       [2.49999994e-03, 2.00000003e-01, 9.99999978e-03],\n",
       "       [2.99999993e-02, 3.00000012e-01, 9.99999972e-10],\n",
       "       [3.99999991e-02, 5.00000007e-02, 9.99999972e-10],\n",
       "       [3.99999991e-02, 2.99999993e-02, 9.99999978e-03],\n",
       "       [3.99999991e-02, 3.00000012e-01, 1.00000001e-01],\n",
       "       [1.99999996e-02, 2.99999993e-02, 9.99999975e-06],\n",
       "       [2.99999993e-02, 2.00000003e-01, 1.00000001e-01],\n",
       "       [2.50000004e-02, 1.00000001e-01, 9.99999975e-06],\n",
       "       [5.00000007e-02, 2.99999993e-02, 9.99999975e-05],\n",
       "       [1.99999996e-02, 2.00000003e-01, 9.99999978e-03],\n",
       "       [9.99999978e-03, 2.00000003e-01, 1.00000005e-03],\n",
       "       [1.00000001e-01, 3.00000012e-01, 9.99999975e-06],\n",
       "       [1.00000005e-03, 1.00000001e-01, 1.00000001e-01],\n",
       "       [2.49999994e-03, 3.00000012e-01, 9.99999978e-03],\n",
       "       [2.50000004e-02, 2.99999993e-02, 1.00000005e-03],\n",
       "       [1.99999996e-02, 5.00000007e-02, 9.99999972e-10],\n",
       "       [2.50000004e-02, 3.00000012e-01, 9.99999978e-03],\n",
       "       [1.00000001e-01, 5.00000007e-02, 9.99999975e-05],\n",
       "       [9.99999978e-03, 3.00000012e-01, 9.99999972e-10],\n",
       "       [2.50000004e-02, 3.00000012e-01, 9.99999972e-10],\n",
       "       [1.00000001e-01, 5.00000007e-02, 9.99999975e-06],\n",
       "       [4.99999989e-03, 2.00000003e-01, 9.99999975e-05],\n",
       "       [2.99999993e-02, 2.99999993e-02, 9.99999975e-05],\n",
       "       [3.99999991e-02, 2.99999993e-02, 9.99999975e-06],\n",
       "       [5.00000007e-02, 5.00000007e-02, 1.00000005e-03],\n",
       "       [5.00000007e-02, 2.00000003e-01, 1.00000005e-03],\n",
       "       [1.00000001e-01, 2.00000003e-01, 9.99999975e-05],\n",
       "       [1.00000005e-03, 3.00000012e-01, 9.99999975e-06],\n",
       "       [2.49999994e-03, 3.00000012e-01, 9.99999972e-10],\n",
       "       [1.00000005e-03, 3.00000012e-01, 1.00000005e-03],\n",
       "       [7.50000030e-02, 5.00000007e-02, 9.99999972e-10],\n",
       "       [7.50000030e-02, 5.00000007e-02, 1.00000001e-01],\n",
       "       [9.99999978e-03, 2.00000003e-01, 1.00000001e-01],\n",
       "       [7.50000030e-02, 3.00000012e-01, 1.00000001e-01],\n",
       "       [9.99999978e-03, 5.00000007e-02, 9.99999975e-05],\n",
       "       [1.00000005e-03, 1.00000001e-01, 9.99999978e-03],\n",
       "       [1.99999996e-02, 2.00000003e-01, 9.99999975e-05],\n",
       "       [2.50000004e-02, 2.00000003e-01, 9.99999975e-05],\n",
       "       [2.49999994e-03, 2.99999993e-02, 9.99999975e-06],\n",
       "       [9.99999978e-03, 1.00000001e-01, 9.99999975e-05],\n",
       "       [2.50000004e-02, 5.00000007e-02, 9.99999972e-10],\n",
       "       [1.99999996e-02, 5.00000007e-02, 9.99999975e-05],\n",
       "       [1.99999996e-02, 1.00000001e-01, 1.00000001e-01],\n",
       "       [1.00000005e-03, 1.00000001e-01, 9.99999972e-10],\n",
       "       [2.49999994e-03, 2.99999993e-02, 1.00000005e-03],\n",
       "       [7.50000030e-02, 1.00000001e-01, 1.00000005e-03],\n",
       "       [2.49999994e-03, 5.00000007e-02, 1.00000001e-01],\n",
       "       [3.99999991e-02, 2.00000003e-01, 9.99999975e-06],\n",
       "       [5.00000007e-02, 2.00000003e-01, 9.99999978e-03],\n",
       "       [2.50000004e-02, 2.99999993e-02, 9.99999975e-06],\n",
       "       [5.00000007e-02, 3.00000012e-01, 9.99999978e-03],\n",
       "       [7.50000030e-02, 2.99999993e-02, 9.99999972e-10],\n",
       "       [1.00000005e-03, 2.99999993e-02, 1.00000001e-01],\n",
       "       [7.50000030e-02, 2.99999993e-02, 9.99999978e-03],\n",
       "       [1.99999996e-02, 3.00000012e-01, 1.00000001e-01],\n",
       "       [2.99999993e-02, 5.00000007e-02, 1.00000001e-01],\n",
       "       [2.49999994e-03, 3.00000012e-01, 9.99999975e-06],\n",
       "       [2.49999994e-03, 5.00000007e-02, 9.99999975e-05],\n",
       "       [7.50000030e-02, 3.00000012e-01, 9.99999978e-03],\n",
       "       [1.00000005e-03, 2.00000003e-01, 1.00000005e-03],\n",
       "       [9.99999978e-03, 5.00000007e-02, 9.99999975e-06],\n",
       "       [4.99999989e-03, 3.00000012e-01, 9.99999975e-06],\n",
       "       [2.50000004e-02, 2.00000003e-01, 9.99999972e-10],\n",
       "       [1.00000005e-03, 2.99999993e-02, 9.99999972e-10],\n",
       "       [1.99999996e-02, 1.00000001e-01, 1.00000005e-03],\n",
       "       [9.99999978e-03, 2.00000003e-01, 9.99999972e-10],\n",
       "       [2.49999994e-03, 1.00000001e-01, 9.99999972e-10],\n",
       "       [7.50000030e-02, 3.00000012e-01, 9.99999975e-05],\n",
       "       [7.50000030e-02, 3.00000012e-01, 9.99999972e-10],\n",
       "       [4.99999989e-03, 5.00000007e-02, 1.00000005e-03],\n",
       "       [9.99999978e-03, 2.99999993e-02, 9.99999972e-10],\n",
       "       [2.99999993e-02, 5.00000007e-02, 9.99999972e-10],\n",
       "       [1.99999996e-02, 5.00000007e-02, 1.00000001e-01],\n",
       "       [5.00000007e-02, 1.00000001e-01, 1.00000001e-01],\n",
       "       [1.00000001e-01, 3.00000012e-01, 9.99999978e-03],\n",
       "       [9.99999978e-03, 2.99999993e-02, 1.00000001e-01],\n",
       "       [1.99999996e-02, 2.99999993e-02, 9.99999972e-10],\n",
       "       [1.99999996e-02, 3.00000012e-01, 9.99999972e-10],\n",
       "       [2.49999994e-03, 2.00000003e-01, 1.00000001e-01],\n",
       "       [4.99999989e-03, 2.00000003e-01, 9.99999972e-10],\n",
       "       [1.99999996e-02, 2.00000003e-01, 9.99999975e-06],\n",
       "       [1.00000005e-03, 3.00000012e-01, 9.99999972e-10],\n",
       "       [3.99999991e-02, 1.00000001e-01, 9.99999975e-06],\n",
       "       [3.99999991e-02, 2.00000003e-01, 9.99999972e-10],\n",
       "       [5.00000007e-02, 1.00000001e-01, 9.99999978e-03],\n",
       "       [2.99999993e-02, 1.00000001e-01, 9.99999975e-06],\n",
       "       [1.00000005e-03, 5.00000007e-02, 9.99999975e-06],\n",
       "       [2.49999994e-03, 1.00000001e-01, 1.00000001e-01],\n",
       "       [1.00000001e-01, 2.00000003e-01, 1.00000001e-01],\n",
       "       [1.99999996e-02, 3.00000012e-01, 1.00000005e-03],\n",
       "       [9.99999978e-03, 3.00000012e-01, 1.00000001e-01],\n",
       "       [4.99999989e-03, 2.99999993e-02, 9.99999978e-03],\n",
       "       [9.99999978e-03, 1.00000001e-01, 1.00000005e-03],\n",
       "       [2.49999994e-03, 5.00000007e-02, 9.99999972e-10],\n",
       "       [2.99999993e-02, 5.00000007e-02, 9.99999975e-06],\n",
       "       [3.99999991e-02, 3.00000012e-01, 9.99999972e-10],\n",
       "       [2.49999994e-03, 2.00000003e-01, 9.99999972e-10],\n",
       "       [4.99999989e-03, 1.00000001e-01, 9.99999975e-06],\n",
       "       [1.00000001e-01, 1.00000001e-01, 1.00000005e-03],\n",
       "       [9.99999978e-03, 1.00000001e-01, 1.00000001e-01],\n",
       "       [1.99999996e-02, 2.00000003e-01, 1.00000005e-03],\n",
       "       [4.99999989e-03, 2.99999993e-02, 9.99999975e-05],\n",
       "       [1.00000001e-01, 1.00000001e-01, 9.99999978e-03],\n",
       "       [5.00000007e-02, 1.00000001e-01, 1.00000005e-03],\n",
       "       [9.99999978e-03, 1.00000001e-01, 9.99999978e-03],\n",
       "       [1.00000005e-03, 5.00000007e-02, 9.99999972e-10],\n",
       "       [1.99999996e-02, 1.00000001e-01, 9.99999975e-05],\n",
       "       [1.00000005e-03, 5.00000007e-02, 9.99999978e-03],\n",
       "       [4.99999989e-03, 1.00000001e-01, 9.99999975e-05],\n",
       "       [2.49999994e-03, 3.00000012e-01, 1.00000001e-01],\n",
       "       [7.50000030e-02, 2.99999993e-02, 9.99999975e-05],\n",
       "       [2.99999993e-02, 2.99999993e-02, 9.99999972e-10],\n",
       "       [9.99999978e-03, 1.00000001e-01, 9.99999975e-06],\n",
       "       [2.99999993e-02, 1.00000001e-01, 1.00000005e-03],\n",
       "       [1.00000005e-03, 5.00000007e-02, 1.00000005e-03],\n",
       "       [9.99999978e-03, 3.00000012e-01, 1.00000005e-03],\n",
       "       [9.99999978e-03, 2.99999993e-02, 1.00000005e-03],\n",
       "       [2.49999994e-03, 5.00000007e-02, 9.99999978e-03],\n",
       "       [1.00000005e-03, 5.00000007e-02, 9.99999975e-05],\n",
       "       [1.00000005e-03, 1.00000001e-01, 9.99999975e-05],\n",
       "       [5.00000007e-02, 2.99999993e-02, 9.99999978e-03],\n",
       "       [1.00000001e-01, 5.00000007e-02, 1.00000005e-03],\n",
       "       [2.50000004e-02, 5.00000007e-02, 9.99999975e-06],\n",
       "       [1.00000001e-01, 3.00000012e-01, 1.00000005e-03],\n",
       "       [3.99999991e-02, 1.00000001e-01, 1.00000005e-03],\n",
       "       [1.00000005e-03, 3.00000012e-01, 1.00000001e-01],\n",
       "       [1.00000005e-03, 2.00000003e-01, 9.99999978e-03],\n",
       "       [1.99999996e-02, 2.99999993e-02, 9.99999978e-03],\n",
       "       [3.99999991e-02, 2.99999993e-02, 1.00000001e-01],\n",
       "       [9.99999978e-03, 2.00000003e-01, 9.99999975e-06],\n",
       "       [2.49999994e-03, 2.99999993e-02, 9.99999978e-03],\n",
       "       [9.99999978e-03, 2.00000003e-01, 9.99999975e-05],\n",
       "       [7.50000030e-02, 1.00000001e-01, 1.00000001e-01],\n",
       "       [1.00000001e-01, 5.00000007e-02, 1.00000001e-01],\n",
       "       [5.00000007e-02, 1.00000001e-01, 9.99999972e-10],\n",
       "       [1.00000001e-01, 2.99999993e-02, 1.00000001e-01],\n",
       "       [4.99999989e-03, 1.00000001e-01, 1.00000001e-01],\n",
       "       [5.00000007e-02, 2.99999993e-02, 1.00000001e-01],\n",
       "       [1.00000001e-01, 2.00000003e-01, 1.00000005e-03],\n",
       "       [9.99999978e-03, 5.00000007e-02, 9.99999978e-03],\n",
       "       [4.99999989e-03, 5.00000007e-02, 1.00000001e-01],\n",
       "       [3.99999991e-02, 2.00000003e-01, 1.00000001e-01],\n",
       "       [1.00000005e-03, 2.00000003e-01, 9.99999972e-10],\n",
       "       [4.99999989e-03, 2.99999993e-02, 9.99999975e-06],\n",
       "       [4.99999989e-03, 5.00000007e-02, 9.99999978e-03],\n",
       "       [2.50000004e-02, 2.99999993e-02, 9.99999978e-03],\n",
       "       [3.99999991e-02, 5.00000007e-02, 9.99999978e-03],\n",
       "       [7.50000030e-02, 2.00000003e-01, 1.00000001e-01],\n",
       "       [9.99999978e-03, 3.00000012e-01, 9.99999978e-03],\n",
       "       [5.00000007e-02, 5.00000007e-02, 9.99999972e-10],\n",
       "       [5.00000007e-02, 3.00000012e-01, 9.99999975e-06],\n",
       "       [9.99999978e-03, 5.00000007e-02, 1.00000001e-01],\n",
       "       [4.99999989e-03, 1.00000001e-01, 1.00000005e-03],\n",
       "       [1.99999996e-02, 1.00000001e-01, 9.99999975e-06],\n",
       "       [9.99999978e-03, 3.00000012e-01, 9.99999975e-06],\n",
       "       [1.00000005e-03, 2.99999993e-02, 9.99999975e-06],\n",
       "       [2.99999993e-02, 2.99999993e-02, 1.00000001e-01],\n",
       "       [2.50000004e-02, 2.00000003e-01, 1.00000005e-03],\n",
       "       [2.49999994e-03, 2.00000003e-01, 9.99999975e-06],\n",
       "       [2.99999993e-02, 5.00000007e-02, 9.99999975e-05],\n",
       "       [2.50000004e-02, 1.00000001e-01, 1.00000001e-01],\n",
       "       [3.99999991e-02, 2.00000003e-01, 9.99999978e-03],\n",
       "       [5.00000007e-02, 2.99999993e-02, 1.00000005e-03],\n",
       "       [4.99999989e-03, 2.00000003e-01, 1.00000001e-01],\n",
       "       [1.00000005e-03, 2.00000003e-01, 9.99999975e-06],\n",
       "       [7.50000030e-02, 1.00000001e-01, 9.99999975e-05],\n",
       "       [2.49999994e-03, 2.99999993e-02, 9.99999975e-05],\n",
       "       [1.99999996e-02, 5.00000007e-02, 1.00000005e-03],\n",
       "       [2.50000004e-02, 3.00000012e-01, 9.99999975e-06],\n",
       "       [4.99999989e-03, 3.00000012e-01, 9.99999972e-10],\n",
       "       [4.99999989e-03, 2.00000003e-01, 9.99999978e-03],\n",
       "       [2.99999993e-02, 3.00000012e-01, 1.00000005e-03],\n",
       "       [1.99999996e-02, 5.00000007e-02, 9.99999975e-06],\n",
       "       [1.99999996e-02, 1.00000001e-01, 9.99999978e-03],\n",
       "       [2.50000004e-02, 5.00000007e-02, 1.00000005e-03],\n",
       "       [2.50000004e-02, 1.00000001e-01, 9.99999978e-03],\n",
       "       [5.00000007e-02, 5.00000007e-02, 9.99999978e-03],\n",
       "       [1.00000001e-01, 2.99999993e-02, 9.99999975e-06],\n",
       "       [1.99999996e-02, 3.00000012e-01, 9.99999975e-05],\n",
       "       [9.99999978e-03, 2.99999993e-02, 9.99999975e-05],\n",
       "       [2.50000004e-02, 3.00000012e-01, 9.99999975e-05],\n",
       "       [2.99999993e-02, 5.00000007e-02, 1.00000005e-03],\n",
       "       [2.50000004e-02, 5.00000007e-02, 9.99999978e-03],\n",
       "       [7.50000030e-02, 2.99999993e-02, 9.99999975e-06],\n",
       "       [7.50000030e-02, 1.00000001e-01, 9.99999972e-10],\n",
       "       [3.99999991e-02, 5.00000007e-02, 1.00000005e-03],\n",
       "       [1.00000005e-03, 5.00000007e-02, 1.00000001e-01],\n",
       "       [1.99999996e-02, 1.00000001e-01, 9.99999972e-10],\n",
       "       [1.99999996e-02, 2.99999993e-02, 1.00000001e-01],\n",
       "       [2.99999993e-02, 1.00000001e-01, 9.99999972e-10],\n",
       "       [4.99999989e-03, 2.99999993e-02, 9.99999972e-10],\n",
       "       [2.50000004e-02, 3.00000012e-01, 1.00000005e-03],\n",
       "       [5.00000007e-02, 2.00000003e-01, 9.99999975e-06],\n",
       "       [5.00000007e-02, 5.00000007e-02, 1.00000001e-01],\n",
       "       [2.50000004e-02, 2.99999993e-02, 9.99999972e-10],\n",
       "       [1.00000005e-03, 2.99999993e-02, 9.99999975e-05],\n",
       "       [1.00000001e-01, 2.99999993e-02, 9.99999978e-03],\n",
       "       [1.99999996e-02, 2.00000003e-01, 9.99999972e-10],\n",
       "       [2.50000004e-02, 2.99999993e-02, 9.99999975e-05],\n",
       "       [1.00000001e-01, 2.99999993e-02, 9.99999972e-10],\n",
       "       [1.00000001e-01, 2.99999993e-02, 1.00000005e-03],\n",
       "       [3.99999991e-02, 2.00000003e-01, 9.99999975e-05],\n",
       "       [1.00000005e-03, 3.00000012e-01, 9.99999978e-03],\n",
       "       [1.00000001e-01, 5.00000007e-02, 9.99999972e-10],\n",
       "       [1.99999996e-02, 3.00000012e-01, 9.99999978e-03],\n",
       "       [5.00000007e-02, 2.00000003e-01, 1.00000001e-01],\n",
       "       [4.99999989e-03, 3.00000012e-01, 9.99999978e-03],\n",
       "       [2.49999994e-03, 5.00000007e-02, 9.99999975e-06],\n",
       "       [1.00000001e-01, 5.00000007e-02, 9.99999978e-03],\n",
       "       [4.99999989e-03, 2.00000003e-01, 1.00000005e-03],\n",
       "       [4.99999989e-03, 3.00000012e-01, 1.00000005e-03],\n",
       "       [7.50000030e-02, 5.00000007e-02, 9.99999975e-05],\n",
       "       [3.99999991e-02, 2.00000003e-01, 1.00000005e-03],\n",
       "       [1.00000001e-01, 1.00000001e-01, 9.99999972e-10],\n",
       "       [7.50000030e-02, 2.99999993e-02, 1.00000005e-03],\n",
       "       [7.50000030e-02, 3.00000012e-01, 1.00000005e-03],\n",
       "       [5.00000007e-02, 2.99999993e-02, 9.99999975e-06],\n",
       "       [5.00000007e-02, 5.00000007e-02, 9.99999975e-06],\n",
       "       [7.50000030e-02, 2.99999993e-02, 1.00000001e-01],\n",
       "       [2.99999993e-02, 2.99999993e-02, 9.99999975e-06],\n",
       "       [1.99999996e-02, 2.00000003e-01, 1.00000001e-01],\n",
       "       [2.50000004e-02, 2.99999993e-02, 1.00000001e-01],\n",
       "       [7.50000030e-02, 1.00000001e-01, 9.99999975e-06],\n",
       "       [2.99999993e-02, 3.00000012e-01, 9.99999975e-05],\n",
       "       [2.99999993e-02, 2.99999993e-02, 1.00000005e-03],\n",
       "       [1.00000005e-03, 1.00000001e-01, 1.00000005e-03],\n",
       "       [4.99999989e-03, 1.00000001e-01, 9.99999972e-10],\n",
       "       [2.49999994e-03, 3.00000012e-01, 9.99999975e-05],\n",
       "       [1.00000005e-03, 3.00000012e-01, 9.99999975e-05],\n",
       "       [5.00000007e-02, 1.00000001e-01, 9.99999975e-06],\n",
       "       [9.99999978e-03, 2.99999993e-02, 9.99999975e-06],\n",
       "       [2.99999993e-02, 2.00000003e-01, 1.00000005e-03],\n",
       "       [3.99999991e-02, 2.99999993e-02, 1.00000005e-03],\n",
       "       [2.49999994e-03, 5.00000007e-02, 1.00000005e-03],\n",
       "       [3.99999991e-02, 2.99999993e-02, 9.99999972e-10],\n",
       "       [4.99999989e-03, 2.99999993e-02, 1.00000005e-03],\n",
       "       [3.99999991e-02, 1.00000001e-01, 9.99999972e-10],\n",
       "       [7.50000030e-02, 1.00000001e-01, 9.99999978e-03],\n",
       "       [9.99999978e-03, 5.00000007e-02, 9.99999972e-10],\n",
       "       [2.99999993e-02, 3.00000012e-01, 9.99999978e-03],\n",
       "       [2.50000004e-02, 5.00000007e-02, 1.00000001e-01],\n",
       "       [4.99999989e-03, 5.00000007e-02, 9.99999972e-10],\n",
       "       [3.99999991e-02, 5.00000007e-02, 9.99999975e-05],\n",
       "       [7.50000030e-02, 2.00000003e-01, 9.99999975e-06],\n",
       "       [1.99999996e-02, 3.00000012e-01, 9.99999975e-06],\n",
       "       [3.99999991e-02, 5.00000007e-02, 1.00000001e-01],\n",
       "       [7.50000030e-02, 2.00000003e-01, 9.99999975e-05],\n",
       "       [2.50000004e-02, 5.00000007e-02, 9.99999975e-05],\n",
       "       [1.00000005e-03, 1.00000001e-01, 9.99999975e-06],\n",
       "       [2.50000004e-02, 2.00000003e-01, 9.99999978e-03],\n",
       "       [7.50000030e-02, 2.00000003e-01, 1.00000005e-03],\n",
       "       [5.00000007e-02, 2.00000003e-01, 9.99999975e-05],\n",
       "       [2.99999993e-02, 2.00000003e-01, 9.99999972e-10],\n",
       "       [4.99999989e-03, 5.00000007e-02, 9.99999975e-05],\n",
       "       [3.99999991e-02, 3.00000012e-01, 1.00000005e-03],\n",
       "       [2.50000004e-02, 1.00000001e-01, 9.99999975e-05],\n",
       "       [1.99999996e-02, 2.99999993e-02, 1.00000005e-03]])"
      ]
     },
     "execution_count": 17,
     "metadata": {},
     "output_type": "execute_result"
    }
   ],
   "source": [
    "np.array(data['meta'])[:,(2,3,5)]"
   ]
  },
  {
   "cell_type": "code",
   "execution_count": 21,
   "metadata": {},
   "outputs": [
    {
     "name": "stdout",
     "output_type": "stream",
     "text": [
      "(329, 3)\n",
      "(270, 329)\n"
     ]
    }
   ],
   "source": [
    "new_basis = ProperBasis(locs=np.array(data['meta'])[:,(2,3,5)],\n",
    "            timeseries=np.nan_to_num(np.array(data['data']['i'])), \n",
    "            times = data['times'],\n",
    "               bases=100\n",
    "           )"
   ]
  },
  {
   "cell_type": "code",
   "execution_count": 22,
   "metadata": {},
   "outputs": [
    {
     "ename": "AttributeError",
     "evalue": "'list' object has no attribute 'tolist'",
     "output_type": "error",
     "traceback": [
      "\u001b[0;31m---------------------------------------------------------------------------\u001b[0m",
      "\u001b[0;31mAttributeError\u001b[0m                            Traceback (most recent call last)",
      "\u001b[0;32m<ipython-input-22-600173d0f955>\u001b[0m in \u001b[0;36m<module>\u001b[0;34m\u001b[0m\n\u001b[0;32m----> 1\u001b[0;31m \u001b[0mnew_basis\u001b[0m\u001b[0;34m.\u001b[0m\u001b[0msave\u001b[0m\u001b[0;34m(\u001b[0m\u001b[0;34m\"new_kn_basis.json\"\u001b[0m\u001b[0;34m)\u001b[0m\u001b[0;34m\u001b[0m\u001b[0m\n\u001b[0m",
      "\u001b[0;32m/scratch/aries/daniel/repositories/elk/elk/projection.py\u001b[0m in \u001b[0;36msave\u001b[0;34m(self, filename)\u001b[0m\n\u001b[1;32m    109\u001b[0m     \u001b[0;32mdef\u001b[0m \u001b[0msave\u001b[0m\u001b[0;34m(\u001b[0m\u001b[0mself\u001b[0m\u001b[0;34m,\u001b[0m \u001b[0mfilename\u001b[0m\u001b[0;34m)\u001b[0m\u001b[0;34m:\u001b[0m\u001b[0;34m\u001b[0m\u001b[0m\n\u001b[1;32m    110\u001b[0m         \u001b[0;34m\"\"\"Save the basis to a machine-readable file.\"\"\"\u001b[0m\u001b[0;34m\u001b[0m\u001b[0m\n\u001b[0;32m--> 111\u001b[0;31m         \u001b[0mdata\u001b[0m \u001b[0;34m=\u001b[0m \u001b[0mdict\u001b[0m\u001b[0;34m(\u001b[0m\u001b[0mvectors\u001b[0m \u001b[0;34m=\u001b[0m \u001b[0mself\u001b[0m\u001b[0;34m.\u001b[0m\u001b[0mbasis\u001b[0m\u001b[0;34m.\u001b[0m\u001b[0mtolist\u001b[0m\u001b[0;34m(\u001b[0m\u001b[0;34m)\u001b[0m\u001b[0;34m,\u001b[0m \u001b[0mabscissa\u001b[0m \u001b[0;34m=\u001b[0m \u001b[0mself\u001b[0m\u001b[0;34m.\u001b[0m\u001b[0mtimes\u001b[0m\u001b[0;34m.\u001b[0m\u001b[0mtolist\u001b[0m\u001b[0;34m(\u001b[0m\u001b[0;34m)\u001b[0m\u001b[0;34m,\u001b[0m \u001b[0mcoefficients\u001b[0m \u001b[0;34m=\u001b[0m \u001b[0mself\u001b[0m\u001b[0;34m.\u001b[0m\u001b[0mcoeffs\u001b[0m\u001b[0;34m.\u001b[0m\u001b[0mtolist\u001b[0m\u001b[0;34m(\u001b[0m\u001b[0;34m)\u001b[0m\u001b[0;34m,\u001b[0m \u001b[0mlocations\u001b[0m \u001b[0;34m=\u001b[0m \u001b[0mself\u001b[0m\u001b[0;34m.\u001b[0m\u001b[0mlocs\u001b[0m\u001b[0;34m.\u001b[0m\u001b[0mtolist\u001b[0m\u001b[0;34m(\u001b[0m\u001b[0;34m)\u001b[0m\u001b[0;34m)\u001b[0m\u001b[0;34m\u001b[0m\u001b[0m\n\u001b[0m\u001b[1;32m    112\u001b[0m \u001b[0;34m\u001b[0m\u001b[0m\n\u001b[1;32m    113\u001b[0m         \u001b[0;32mwith\u001b[0m \u001b[0mopen\u001b[0m\u001b[0;34m(\u001b[0m\u001b[0;34m\"{}.json\"\u001b[0m\u001b[0;34m.\u001b[0m\u001b[0mformat\u001b[0m\u001b[0;34m(\u001b[0m\u001b[0mfilename\u001b[0m\u001b[0;34m)\u001b[0m\u001b[0;34m,\u001b[0m \u001b[0;34m\"w\"\u001b[0m\u001b[0;34m)\u001b[0m \u001b[0;32mas\u001b[0m \u001b[0mfp\u001b[0m\u001b[0;34m:\u001b[0m\u001b[0;34m\u001b[0m\u001b[0m\n",
      "\u001b[0;31mAttributeError\u001b[0m: 'list' object has no attribute 'tolist'"
     ]
    }
   ],
   "source": [
    "new_basis.save(\"new_kn_basis\")"
   ]
  },
  {
   "cell_type": "code",
   "execution_count": null,
   "metadata": {},
   "outputs": [],
   "source": [
    "np.nan_to_num(np.array(data['data']['i'])).shape"
   ]
  },
  {
   "cell_type": "code",
   "execution_count": null,
   "metadata": {},
   "outputs": [],
   "source": [
    "np.array(data['meta']).shape"
   ]
  },
  {
   "cell_type": "code",
   "execution_count": null,
   "metadata": {},
   "outputs": [],
   "source": []
  }
 ],
 "metadata": {
  "kernelspec": {
   "display_name": "Python 3",
   "language": "python",
   "name": "python3"
  },
  "language_info": {
   "codemirror_mode": {
    "name": "ipython",
    "version": 3
   },
   "file_extension": ".py",
   "mimetype": "text/x-python",
   "name": "python",
   "nbconvert_exporter": "python",
   "pygments_lexer": "ipython3",
   "version": "3.6.6"
  }
 },
 "nbformat": 4,
 "nbformat_minor": 2
}
