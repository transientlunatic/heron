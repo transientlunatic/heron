{
 "cells": [
  {
   "cell_type": "code",
   "execution_count": 1,
   "metadata": {},
   "outputs": [],
   "source": [
    "import torch"
   ]
  },
  {
   "cell_type": "code",
   "execution_count": 2,
   "metadata": {},
   "outputs": [],
   "source": [
    "disable_cuda = False"
   ]
  },
  {
   "cell_type": "markdown",
   "metadata": {},
   "source": [
    "# CUDA setup"
   ]
  },
  {
   "cell_type": "code",
   "execution_count": 3,
   "metadata": {},
   "outputs": [
    {
     "name": "stdout",
     "output_type": "stream",
     "text": [
      "Using CUDA\n"
     ]
    }
   ],
   "source": [
    "if not disable_cuda and torch.cuda.is_available():\n",
    "    device = torch.device('cuda')\n",
    "    print('Using CUDA')\n",
    "else:\n",
    "    device = torch.device('cpu')\n",
    "    print('Using CPU')"
   ]
  },
  {
   "cell_type": "code",
   "execution_count": 4,
   "metadata": {},
   "outputs": [],
   "source": [
    "from heron.models.torchbased import HeronCUDA, HeronCUDAIMR\n",
    "from elk.waveform import Timeseries, FrequencySeries\n",
    "import numpy as np"
   ]
  },
  {
   "cell_type": "code",
   "execution_count": 5,
   "metadata": {},
   "outputs": [],
   "source": [
    "generator = HeronCUDAIMR(device=device)"
   ]
  },
  {
   "cell_type": "code",
   "execution_count": 6,
   "metadata": {},
   "outputs": [],
   "source": [
    "from heron.utils import Complex\n",
    "from heron.likelihood import InnerProduct, CUDALikelihood"
   ]
  },
  {
   "cell_type": "code",
   "execution_count": 7,
   "metadata": {},
   "outputs": [],
   "source": [
    "import matplotlib.pyplot as plt"
   ]
  },
  {
   "cell_type": "code",
   "execution_count": 8,
   "metadata": {},
   "outputs": [],
   "source": [
    "window = torch.blackman_window(164, device=device)"
   ]
  },
  {
   "cell_type": "markdown",
   "metadata": {},
   "source": [
    "## PSD setup"
   ]
  },
  {
   "cell_type": "code",
   "execution_count": 9,
   "metadata": {},
   "outputs": [],
   "source": [
    "import lalsimulation\n",
    "import lal"
   ]
  },
  {
   "cell_type": "code",
   "execution_count": 10,
   "metadata": {},
   "outputs": [],
   "source": [
    "lal_psds = {key: value for key, value in lalsimulation.__dict__.items() if key[-3:] == \"Ptr\"}"
   ]
  },
  {
   "cell_type": "code",
   "execution_count": 11,
   "metadata": {},
   "outputs": [],
   "source": [
    "delta_f = 40\n",
    "length = 83"
   ]
  },
  {
   "cell_type": "code",
   "execution_count": 12,
   "metadata": {},
   "outputs": [],
   "source": [
    "lalseries = lal.CreateREAL8FrequencySeries(\n",
    "            '', lal.LIGOTimeGPS(0), 0, delta_f, lal.DimensionlessUnit, length)"
   ]
  },
  {
   "cell_type": "code",
   "execution_count": 13,
   "metadata": {},
   "outputs": [
    {
     "data": {
      "text/plain": [
       "0"
      ]
     },
     "execution_count": 13,
     "metadata": {},
     "output_type": "execute_result"
    }
   ],
   "source": [
    "lalsimulation.SimNoisePSD(lalseries, 0, lal_psds[\"SimNoisePSDaLIGOZeroDetHighPowerPtr\"])"
   ]
  },
  {
   "cell_type": "code",
   "execution_count": 14,
   "metadata": {},
   "outputs": [],
   "source": [
    "aligo_psd = lalseries.data.data"
   ]
  },
  {
   "cell_type": "code",
   "execution_count": 15,
   "metadata": {},
   "outputs": [
    {
     "name": "stderr",
     "output_type": "stream",
     "text": [
      "/home/daniel/repositories/heron/heron/models/torchbased.py:579: UserWarning: The function torch.rfft is deprecated and will be removed in a future PyTorch release. Use the new torch.fft module functions, instead, by importing torch.fft and calling torch.fft.fft or torch.fft.rfft. (Triggered internally at  /pytorch/aten/src/ATen/native/SpectralOps.cpp:590.)\n",
      "  strain_f = torch.view_as_complex((window*mean.double()).rfft(1))\n"
     ]
    }
   ],
   "source": [
    "mi=0.8\n",
    "ls_all = []\n",
    "#for mi in np.linspace(0.25, 1.0, 100):\n",
    "window = torch.blackman_window(32, device=device)\n",
    "signal = generator.frequency_domain_waveform({'mass ratio': mi, 'distance': 1e6}, \n",
    "                                             window=window,\n",
    "                                            times=torch.linspace(-0.02, 0.005, 32))"
   ]
  },
  {
   "cell_type": "code",
   "execution_count": 16,
   "metadata": {},
   "outputs": [],
   "source": [
    "signal_t = generator.time_domain_waveform({'mass ratio': 0.8}, \n",
    "                                            times=torch.linspace(-0.02, 0.005, 64))"
   ]
  },
  {
   "cell_type": "code",
   "execution_count": 17,
   "metadata": {},
   "outputs": [
    {
     "data": {
      "text/plain": [
       "[<matplotlib.lines.Line2D at 0x7fefce2106d8>]"
      ]
     },
     "execution_count": 17,
     "metadata": {},
     "output_type": "execute_result"
    },
    {
     "name": "stderr",
     "output_type": "stream",
     "text": [
      "findfont: Font family [\"'URW Bookman L'\"] not found. Falling back to DejaVu Sans.\n"
     ]
    },
    {
     "data": {
      "image/png": "[encoded data removed]",
      "text/plain": [
       "<Figure size 432x288 with 1 Axes>"
      ]
     },
     "metadata": {
      "needs_background": "light"
     },
     "output_type": "display_data"
    }
   ],
   "source": [
    "plt.plot(signal['plus'].frequencies, signal['plus'].data.real.cpu())\n",
    "plt.plot(signal['plus'].frequencies, signal['plus'].data.imag.cpu())\n",
    "\n",
    "#plt.xlim([0,500])"
   ]
  },
  {
   "cell_type": "code",
   "execution_count": 18,
   "metadata": {},
   "outputs": [
    {
     "name": "stderr",
     "output_type": "stream",
     "text": [
      "/home/daniel/.virtualenvs/gaston/sandbox/local/lib/python3.7/site-packages/ipykernel_launcher.py:1: UserWarning: The function torch.irfft is deprecated and will be removed in a future PyTorch release. Use the new torch.fft module functions, instead, by importing torch.fft and calling torch.fft.ifft or torch.fft.irfft. (Triggered internally at  /pytorch/aten/src/ATen/native/SpectralOps.cpp:602.)\n",
      "  \"\"\"Entry point for launching an IPython kernel.\n"
     ]
    },
    {
     "data": {
      "text/plain": [
       "[<matplotlib.lines.Line2D at 0x7fefcdf15320>]"
      ]
     },
     "execution_count": 18,
     "metadata": {},
     "output_type": "execute_result"
    },
    {
     "data": {
      "image/png": "[encoded data removed]",
      "text/plain": [
       "<Figure size 432x288 with 1 Axes>"
      ]
     },
     "metadata": {
      "needs_background": "light"
     },
     "output_type": "display_data"
    }
   ],
   "source": [
    "plt.plot(torch.irfft(torch.view_as_real(signal['plus'].data), 1).cpu())"
   ]
  },
  {
   "cell_type": "code",
   "execution_count": 19,
   "metadata": {},
   "outputs": [],
   "source": [
    "psd = torch.tensor(aligo_psd, device=device, dtype=torch.cdouble)"
   ]
  },
  {
   "cell_type": "code",
   "execution_count": 20,
   "metadata": {},
   "outputs": [],
   "source": [
    "window = torch.blackman_window(164, device=device)\n",
    "\n",
    "signal = generator.frequency_domain_waveform({'mass ratio': 0.5, 'distance': 1e9}, \n",
    "                                             window=window,\n",
    "                                            times=torch.linspace(-0.02, 0.005, 164))\n",
    "\n",
    "detection = signal['plus'] \n",
    "detection.data += torch.sqrt(psd)\n",
    "l = CUDALikelihood(generator, detection, window, start=-0.02, psd=psd.clone(), device=device)\n",
    "l.duration = 0.0125"
   ]
  },
  {
   "cell_type": "code",
   "execution_count": 21,
   "metadata": {},
   "outputs": [
    {
     "ename": "IndexError",
     "evalue": "too many indices for tensor of dimension 1",
     "output_type": "error",
     "traceback": [
      "\u001b[0;31m---------------------------------------------------------------------------\u001b[0m",
      "\u001b[0;31mIndexError\u001b[0m                                Traceback (most recent call last)",
      "\u001b[0;32m<ipython-input-21-f22ddb51d014>\u001b[0m in \u001b[0;36m<module>\u001b[0;34m\u001b[0m\n\u001b[1;32m      1\u001b[0m ls = np.array([(l({\"mass ratio\": m, \"distance\": 1e9}, model_var=True)).cpu().numpy() \n\u001b[0;32m----> 2\u001b[0;31m       for m in np.linspace(0.25,.9, 100)])\n\u001b[0m\u001b[1;32m      3\u001b[0m \u001b[0;34m\u001b[0m\u001b[0m\n\u001b[1;32m      4\u001b[0m ls2 = np.array([(l({\"mass ratio\": m, \"distance\": 1e9}, model_var=False)).cpu().numpy() \n\u001b[1;32m      5\u001b[0m       for m in np.linspace(0.25,.9, 100)])\n",
      "\u001b[0;32m<ipython-input-21-f22ddb51d014>\u001b[0m in \u001b[0;36m<listcomp>\u001b[0;34m(.0)\u001b[0m\n\u001b[1;32m      1\u001b[0m ls = np.array([(l({\"mass ratio\": m, \"distance\": 1e9}, model_var=True)).cpu().numpy() \n\u001b[0;32m----> 2\u001b[0;31m       for m in np.linspace(0.25,.9, 100)])\n\u001b[0m\u001b[1;32m      3\u001b[0m \u001b[0;34m\u001b[0m\u001b[0m\n\u001b[1;32m      4\u001b[0m ls2 = np.array([(l({\"mass ratio\": m, \"distance\": 1e9}, model_var=False)).cpu().numpy() \n\u001b[1;32m      5\u001b[0m       for m in np.linspace(0.25,.9, 100)])\n",
      "\u001b[0;32m~/repositories/heron/heron/likelihood.py\u001b[0m in \u001b[0;36m__call__\u001b[0;34m(self, p, model_var)\u001b[0m\n\u001b[1;32m    336\u001b[0m            \u001b[0mparameter\u001b[0m \u001b[0mspace\u001b[0m\u001b[0;34m.\u001b[0m\u001b[0;34m\u001b[0m\u001b[0;34m\u001b[0m\u001b[0m\n\u001b[1;32m    337\u001b[0m         \"\"\"\n\u001b[0;32m--> 338\u001b[0;31m         \u001b[0;32mreturn\u001b[0m \u001b[0mself\u001b[0m\u001b[0;34m.\u001b[0m\u001b[0m_log_likelihood\u001b[0m\u001b[0;34m(\u001b[0m\u001b[0mp\u001b[0m\u001b[0;34m,\u001b[0m \u001b[0mmodel_var\u001b[0m\u001b[0;34m)\u001b[0m\u001b[0;34m\u001b[0m\u001b[0;34m\u001b[0m\u001b[0m\n\u001b[0m",
      "\u001b[0;32m~/repositories/heron/heron/likelihood.py\u001b[0m in \u001b[0;36m_log_likelihood\u001b[0;34m(self, p, model_var)\u001b[0m\n\u001b[1;32m    317\u001b[0m         \u001b[0mCalculate\u001b[0m \u001b[0mthe\u001b[0m \u001b[0moverall\u001b[0m \u001b[0mlog\u001b[0m\u001b[0;34m-\u001b[0m\u001b[0mlikelihood\u001b[0m\u001b[0;34m.\u001b[0m\u001b[0;34m\u001b[0m\u001b[0;34m\u001b[0m\u001b[0m\n\u001b[1;32m    318\u001b[0m         \"\"\"\n\u001b[0;32m--> 319\u001b[0;31m         \u001b[0;32mreturn\u001b[0m \u001b[0mself\u001b[0m\u001b[0;34m.\u001b[0m\u001b[0m_products\u001b[0m\u001b[0;34m(\u001b[0m\u001b[0mp\u001b[0m\u001b[0;34m,\u001b[0m \u001b[0mmodel_var\u001b[0m\u001b[0;34m)\u001b[0m \u001b[0;31m#- self._normalisation(p, model_var)\u001b[0m\u001b[0;34m\u001b[0m\u001b[0;34m\u001b[0m\u001b[0m\n\u001b[0m\u001b[1;32m    320\u001b[0m \u001b[0;34m\u001b[0m\u001b[0m\n\u001b[1;32m    321\u001b[0m     \u001b[0;32mdef\u001b[0m \u001b[0m__call__\u001b[0m\u001b[0;34m(\u001b[0m\u001b[0mself\u001b[0m\u001b[0;34m,\u001b[0m \u001b[0mp\u001b[0m\u001b[0;34m,\u001b[0m \u001b[0mmodel_var\u001b[0m\u001b[0;34m=\u001b[0m\u001b[0;32mTrue\u001b[0m\u001b[0;34m)\u001b[0m\u001b[0;34m:\u001b[0m\u001b[0;34m\u001b[0m\u001b[0;34m\u001b[0m\u001b[0m\n",
      "\u001b[0;32m~/repositories/heron/heron/likelihood.py\u001b[0m in \u001b[0;36m_products\u001b[0;34m(self, p, model_var)\u001b[0m\n\u001b[1;32m    274\u001b[0m                                          \u001b[0mf_min\u001b[0m\u001b[0;34m=\u001b[0m\u001b[0mself\u001b[0m\u001b[0;34m.\u001b[0m\u001b[0mf_min\u001b[0m\u001b[0;34m,\u001b[0m\u001b[0;34m\u001b[0m\u001b[0;34m\u001b[0m\u001b[0m\n\u001b[1;32m    275\u001b[0m                                          f_max=self.f_max)\n\u001b[0;32m--> 276\u001b[0;31m             \u001b[0mfactor\u001b[0m \u001b[0;34m=\u001b[0m \u001b[0mtorch\u001b[0m\u001b[0;34m.\u001b[0m\u001b[0mlogdet\u001b[0m\u001b[0;34m(\u001b[0m\u001b[0minner_product\u001b[0m\u001b[0;34m.\u001b[0m\u001b[0mmetric\u001b[0m\u001b[0;34m.\u001b[0m\u001b[0mabs\u001b[0m\u001b[0;34m(\u001b[0m\u001b[0;34m)\u001b[0m\u001b[0;34m[\u001b[0m\u001b[0;36m1\u001b[0m\u001b[0;34m:\u001b[0m\u001b[0;34m-\u001b[0m\u001b[0;36m1\u001b[0m\u001b[0;34m,\u001b[0m \u001b[0;36m1\u001b[0m\u001b[0;34m:\u001b[0m\u001b[0;34m-\u001b[0m\u001b[0;36m1\u001b[0m\u001b[0;34m]\u001b[0m\u001b[0;34m)\u001b[0m\u001b[0;34m\u001b[0m\u001b[0;34m\u001b[0m\u001b[0m\n\u001b[0m\u001b[1;32m    277\u001b[0m         \u001b[0;32melse\u001b[0m\u001b[0;34m:\u001b[0m\u001b[0;34m\u001b[0m\u001b[0;34m\u001b[0m\u001b[0m\n\u001b[1;32m    278\u001b[0m             inner_product = InnerProduct(self.psd.clone(),\n",
      "\u001b[0;31mIndexError\u001b[0m: too many indices for tensor of dimension 1"
     ]
    }
   ],
   "source": [
    "ls = np.array([(l({\"mass ratio\": m, \"distance\": 1e9}, model_var=True)).cpu().numpy() \n",
    "      for m in np.linspace(0.25,.9, 100)])\n",
    "\n",
    "ls2 = np.array([(l({\"mass ratio\": m, \"distance\": 1e9}, model_var=False)).cpu().numpy() \n",
    "      for m in np.linspace(0.25,.9, 100)])"
   ]
  },
  {
   "cell_type": "code",
   "execution_count": null,
   "metadata": {},
   "outputs": [],
   "source": [
    "f, ax = plt.subplots(1,1, dpi=300)\n",
    "\n",
    "ax.plot(np.linspace(0.25, 0.9, 100), ls, label='With model uc')\n",
    "#ax.plot(np.linspace(0.25, 0.5, 100), ls*6e7, label='With model uc')\n",
    "\n",
    "#ax.plot(np.linspace(0.25, 0.9, 100), ls2, label='Without model uc')\n",
    "\n",
    "ax.legend()"
   ]
  },
  {
   "cell_type": "code",
   "execution_count": null,
   "metadata": {},
   "outputs": [],
   "source": [
    "torch.prod((l._call_model({\"mass ratio\": m, \"distance\": 1e5})['plus'].variance.modulus / l.psd.modulus)[1:-1])"
   ]
  },
  {
   "cell_type": "code",
   "execution_count": null,
   "metadata": {},
   "outputs": [],
   "source": [
    "ip=InnerProduct(psd=l.psd.clone(), duration=0.025)\n",
    "hh=[]\n",
    "dh=[]\n",
    "dd = []\n",
    "ms = np.linspace(0.2, 0.9, 100)\n",
    "\n",
    "for m in ms:\n",
    "    #signal = l._call_model(p={'mass ratio': m, 'distance' :0.1})\n",
    "    signal = generator.frequency_domain_waveform({'mass ratio': m, 'distance' :0.1}, \n",
    "                                             window=l.window,\n",
    "                                            times=torch.linspace(-0.02, 0.005, 164))\n",
    "    hh.append(ip(signal['plus'].data, signal['plus'].data))\n",
    "    dh.append(ip(signal['plus'].data, detection.data))\n",
    "    dd.append(ip(detection.data, detection.data))\n",
    "\n",
    "hh=np.array(hh)\n",
    "dh=np.array(dh)\n",
    "#plt.plot(ms, hh, label='hh')\n",
    "#plt.plot(ms, dh, label='dh')\n",
    "plt.plot(ms, 2*dh-hh-dd)\n",
    "plt.grid()\n",
    "plt.legend()"
   ]
  },
  {
   "cell_type": "code",
   "execution_count": null,
   "metadata": {},
   "outputs": [],
   "source": [
    "a = signal['plus'].data * 1e21"
   ]
  },
  {
   "cell_type": "code",
   "execution_count": null,
   "metadata": {},
   "outputs": [],
   "source": [
    "b = signal['plus'].data * 1e21"
   ]
  },
  {
   "cell_type": "code",
   "execution_count": null,
   "metadata": {},
   "outputs": [],
   "source": [
    "M = torch.diag(1./psd.modulus) * 1e-42"
   ]
  },
  {
   "cell_type": "code",
   "execution_count": null,
   "metadata": {},
   "outputs": [],
   "source": [
    "torch.sum(((a.conjugate * b) / (psd* 1e42)).real[1:-1])"
   ]
  },
  {
   "cell_type": "code",
   "execution_count": null,
   "metadata": {},
   "outputs": [],
   "source": [
    "c = Complex(0)#.#torch.zeros((len(a.real), len(b.real)))\n",
    "for i in range(1,len(a.real)-1):\n",
    "    for j in range(1, len(b.real)-1):\n",
    "        #a.conjugate * M * b\n",
    "        c += a[i].conjugate *M[i,j] * b[j]\n",
    "        "
   ]
  },
  {
   "cell_type": "code",
   "execution_count": null,
   "metadata": {},
   "outputs": [],
   "source": [
    "c"
   ]
  },
  {
   "cell_type": "code",
   "execution_count": null,
   "metadata": {},
   "outputs": [],
   "source": []
  }
 ],
 "metadata": {
  "kernelspec": {
   "display_name": "Python 3",
   "language": "python",
   "name": "python3"
  },
  "language_info": {
   "codemirror_mode": {
    "name": "ipython",
    "version": 3
   },
   "file_extension": ".py",
   "mimetype": "text/x-python",
   "name": "python",
   "nbconvert_exporter": "python",
   "pygments_lexer": "ipython3",
   "version": "3.7.1"
  }
 },
 "nbformat": 4,
 "nbformat_minor": 4
}
