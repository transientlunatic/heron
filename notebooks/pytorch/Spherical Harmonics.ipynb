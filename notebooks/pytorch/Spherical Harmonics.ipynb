{
 "cells": [
  {
   "cell_type": "code",
   "execution_count": 1,
   "metadata": {},
   "outputs": [
    {
     "name": "stderr",
     "output_type": "stream",
     "text": [
      "/home/daniel/.virtualenvs/gaston/sandbox/local/lib/python3.7/site-packages/quaternion/numba_wrapper.py:9: NumbaDeprecationWarning: An import was requested from a module that has moved location.\n",
      "Import requested from: 'numba.utils', please update to use 'numba.core.utils' or pin to Numba version 0.48.0. This alias will not be present in Numba version 0.50.0.\n",
      "  from numba.utils import IS_PY3\n",
      "/home/daniel/.virtualenvs/gaston/sandbox/local/lib/python3.7/site-packages/quaternion/numba_wrapper.py:20: UserWarning: \n",
      "\n",
      "!!!!!!!!!!!!!!!!!!!!!!!!!!!!!!!!!!!!!!!!!!!!!!!!!!!!!\n",
      "Could not import from numba, which means that some\n",
      "parts of this code may run MUCH more slowly.  You\n",
      "may wish to install numba.\n",
      "!!!!!!!!!!!!!!!!!!!!!!!!!!!!!!!!!!!!!!!!!!!!!!!!!!!!!\n",
      "\n",
      "  warnings.warn(warning_text)\n"
     ]
    }
   ],
   "source": [
    "# Author: Gael Varoquaux <gael.varoquaux@normalesup.org>\n",
    "# Copyright (c) 2008, Enthought, Inc.\n",
    "# License: BSD Style.\n",
    "\n",
    "from mayavi import mlab\n",
    "import numpy as np\n",
    "from scipy.special import sph_harm\n",
    "import numpy as np\n",
    "\n",
    "import quaternion\n",
    "import spherical_functions as sf"
   ]
  },
  {
   "cell_type": "code",
   "execution_count": 2,
   "metadata": {},
   "outputs": [],
   "source": [
    "from IPython.display import HTML"
   ]
  },
  {
   "cell_type": "code",
   "execution_count": 3,
   "metadata": {},
   "outputs": [],
   "source": [
    "# Create a sphere\n",
    "r = 0.3\n",
    "pi = np.pi\n",
    "cos = np.cos\n",
    "sin = np.sin\n",
    "phi, theta = np.mgrid[0:pi:101j, 0:2 * pi:101j]\n",
    "\n",
    "x = r * sin(phi) * cos(theta)\n",
    "y = r * sin(phi) * sin(theta)\n",
    "z = r * cos(phi)"
   ]
  },
  {
   "cell_type": "code",
   "execution_count": 4,
   "metadata": {},
   "outputs": [],
   "source": [
    "#mlab.init_notebook()"
   ]
  },
  {
   "cell_type": "code",
   "execution_count": 5,
   "metadata": {},
   "outputs": [],
   "source": [
    "m, n = 2, 2\n",
    "r = 0.5"
   ]
  },
  {
   "cell_type": "code",
   "execution_count": 6,
   "metadata": {},
   "outputs": [],
   "source": [
    "s = sph_harm(m, n, theta, phi).real\n",
    "s[s < 0] *= 0.97\n",
    "s /= s.max()"
   ]
  },
  {
   "cell_type": "code",
   "execution_count": 7,
   "metadata": {},
   "outputs": [],
   "source": [
    "x = r * sin(phi) * cos(theta)\n",
    "y = r * sin(phi) * sin(theta)\n",
    "z = r * cos(phi)"
   ]
  },
  {
   "cell_type": "code",
   "execution_count": 8,
   "metadata": {},
   "outputs": [],
   "source": [
    "a = np.cos(np.linspace(-0.5*np.pi, 1.5*np.pi, 250))"
   ]
  },
  {
   "cell_type": "code",
   "execution_count": 9,
   "metadata": {},
   "outputs": [],
   "source": [
    "t = 0"
   ]
  },
  {
   "cell_type": "code",
   "execution_count": 10,
   "metadata": {},
   "outputs": [
    {
     "data": {
      "text/plain": [
       "<mayavi.core.scene.Scene at 0x7fe4bd423780>"
      ]
     },
     "execution_count": 10,
     "metadata": {},
     "output_type": "execute_result"
    }
   ],
   "source": [
    "n,m = 1,1\n",
    "init_fig = mlab.figure(1,  bgcolor=(1, 1, 1), fgcolor=(0, 0, 0),  size=(300, 300))\n",
    "s = sph_harm(m, n, theta, phi).real\n",
    "mlab.clf()\n",
    "p=1.5\n",
    "t=40\n",
    "mlab.mesh((p+a[t]*s) * x, (p+a[t]*s) * y, (p+a[t]*s) * z,\n",
    "                  scalars=s, colormap='viridis')\n",
    "t=100\n",
    "mlab.mesh((p+a[t]*s) * x, (p+a[t]*s) * y, (p+a[t]*s) * z,\n",
    "                  scalars=s, colormap='viridis')\n",
    "mlab.view(45, 45, 2.6, focalpoint=(0,0,0))\n",
    "init_fig"
   ]
  },
  {
   "cell_type": "code",
   "execution_count": 11,
   "metadata": {},
   "outputs": [
    {
     "data": {
      "text/plain": [
       "<mayavi.modules.surface.Surface at 0x7fe4bd465bf8>"
      ]
     },
     "execution_count": 11,
     "metadata": {},
     "output_type": "execute_result"
    }
   ],
   "source": [
    "s = sph_harm(m, n, theta, phi).real\n",
    "#s[s < 0] *= 0.97\n",
    "s /= s.max()\n",
    "\n",
    "this_fig = mlab.figure(1, bgcolor=(1, 1, 1), fgcolor=(0, 0, 0), size=(200, 200))\n",
    "mlab.clf()\n",
    "p=1.5\n",
    "mlab.mesh((p+a[t]*s) * x, (p+a[t]*s) * y, (p+a[t]*s) * z,\n",
    "              scalars=s, colormap='Greys')\n",
    "#mlab.sync_camera(init_fig, this_fig)\n",
    "#mlab.view(5, 45, 0.2, (-1.3, -2.9, 0.25))"
   ]
  },
  {
   "cell_type": "code",
   "execution_count": 12,
   "metadata": {},
   "outputs": [
    {
     "name": "stdout",
     "output_type": "stream",
     "text": [
      "Notebook initialized with ipy backend.\n"
     ]
    }
   ],
   "source": [
    "mlab.init_notebook()"
   ]
  },
  {
   "cell_type": "code",
   "execution_count": 88,
   "metadata": {},
   "outputs": [],
   "source": [
    "def anim(t):\n",
    "    \n",
    "    phi, theta = np.mgrid[0.001:2*pi+0.001:101j, -pi/2-0.001:pi/2+0.001:101j]\n",
    "    R_tp = quaternion.from_spherical_coords(phi, theta)\n",
    "    w = np.array([sf.SWSH(R, l, (m, n)) for R in R_tp]).real\n",
    "    s = w\n",
    "    x = r * sin(phi) * cos(theta)\n",
    "    y = r * sin(phi) * sin(theta)\n",
    "    z = r * cos(phi)\n",
    "    \n",
    "    #print(s.max())\n",
    "    s[s < 0] *= 0.97\n",
    "    s /= s.max()\n",
    "    \n",
    "    this_fig = mlab.figure(1, bgcolor=(1, 1, 1), fgcolor=(0, 0, 0), size=(600, 600))\n",
    "    mlab.clf()\n",
    "    p=1.5\n",
    "    mlab.mesh((p+a[t]*s) * x, (p+a[t]*s) * y, (p+a[t]*s) * z,\n",
    "                  scalars=s*0, colormap='Reds')\n",
    "    #mlab.sync_camera(init_fig, this_fig)\n",
    "    mlab.view(45, 45, 4.6, focalpoint=(0,0,0))\n",
    "    mlab.show()\n",
    "    return ax.imshow(mlab.screenshot(mode='rgb', antialiased=True)),"
   ]
  },
  {
   "cell_type": "code",
   "execution_count": 95,
   "metadata": {},
   "outputs": [
    {
     "data": {
      "image/png": "[encoded data removed]",
      "text/plain": [
       "<Figure size 600x600 with 1 Axes>"
      ]
     },
     "metadata": {
      "needs_background": "light"
     },
     "output_type": "display_data"
    }
   ],
   "source": [
    "import matplotlib.pyplot as plt\n",
    "from matplotlib.animation import FuncAnimation\n",
    "\n",
    "dpi = 300\n",
    "width = 2 # 1920 / 300\n",
    "height = 2# 1080 / dpi\n",
    "\n",
    "fig, ax = plt.subplots(figsize=(width, height), dpi=dpi)\n",
    "\n",
    "ax.grid(None)\n",
    "fig.patch.set_visible(False)\n",
    "ax.axis('off')\n",
    "\n",
    "a = np.exp(-0.3*np.linspace(-0.5*np.pi, 5.5*np.pi, 1000)) * np.cos(np.linspace(-0.5*np.pi, 5.5*np.pi, 1000))\n",
    "a[0] = 0\n",
    "a[-1] = 0\n",
    "l=-2\n",
    "m, n = 2,2\n",
    "mlab.view(90, 70, 4.6, focalpoint=(0,0,0))\n",
    "#mlab.view(5, 45, 0.2, (-1.3, -2.9, 0.25))\n",
    "ani = FuncAnimation(fig, anim, frames=np.arange(0,1000,50),  interval=100,\n",
    "                   blit=False)"
   ]
  },
  {
   "cell_type": "code",
   "execution_count": 96,
   "metadata": {
    "scrolled": false
   },
   "outputs": [
    {
     "data": {
      "text/html": [
       "<video width=\"600\" height=\"600\" controls autoplay loop>\n",
       "  <source type=\"video/mp4\" src=\"data:video/mp4;base64,AAAAHGZ0eXBNNFYgAAACAGlzb21pc28yYXZjMQAAAAhmcmVlAABcKm1kYXQAAAKuBgX//6rcRem9\n",
       "5tlIt5Ys2CDZI+7veDI2NCAtIGNvcmUgMTUyIHIyODU0IGU5YTU5MDMgLSBILjI2NC9NUEVHLTQg\n",
       "QVZDIGNvZGVjIC0gQ29weWxlZnQgMjAwMy0yMDE3IC0gaHR0cDovL3d3dy52aWRlb2xhbi5vcmcv\n",
       "eDI2NC5odG1sIC0gb3B0aW9uczogY2FiYWM9MSByZWY9MyBkZWJsb2NrPTE6MDowIGFuYWx5c2U9\n",
       "MHgzOjB4MTEzIG1lPWhleCBzdWJtZT03IHBzeT0xIHBzeV9yZD0xLjAwOjAuMDAgbWl4ZWRfcmVm\n",
       "PTEgbWVfcmFuZ2U9MTYgY2hyb21hX21lPTEgdHJlbGxpcz0xIDh4OGRjdD0xIGNxbT0wIGRlYWR6\n",
       "b25lPTIxLDExIGZhc3RfcHNraXA9MSBjaHJvbWFfcXBfb2Zmc2V0PS0yIHRocmVhZHM9NiBsb29r\n",
       "YWhlYWRfdGhyZWFkcz0xIHNsaWNlZF90aHJlYWRzPTAgbnI9MCBkZWNpbWF0ZT0xIGludGVybGFj\n",
       "ZWQ9MCBibHVyYXlfY29tcGF0PTAgY29uc3RyYWluZWRfaW50cmE9MCBiZnJhbWVzPTMgYl9weXJh\n",
       "bWlkPTIgYl9hZGFwdD0xIGJfYmlhcz0wIGRpcmVjdD0xIHdlaWdodGI9MSBvcGVuX2dvcD0wIHdl\n",
       "aWdodHA9MiBrZXlpbnQ9MjUwIGtleWludF9taW49MTAgc2NlbmVjdXQ9NDAgaW50cmFfcmVmcmVz\n",
       "aD0wIHJjX2xvb2thaGVhZD00MCByYz1jcmYgbWJ0cmVlPTEgY3JmPTIzLjAgcWNvbXA9MC42MCBx\n",
       "cG1pbj0wIHFwbWF4PTY5IHFwc3RlcD00IGlwX3JhdGlvPTEuNDAgYXE9MToxLjAwAIAAAAi5ZYiE\n",
       "ABD//veBvzLLXyK6yXH5530srM885DxyXYmuuNAAAAMAAAMAAUeHteuN3YNbSdAAABrAA6QfwXkY\n",
       "MdAj4/5v/3DguOYAXG0E3Uo9UKmtXYtO5R10VdkOKKhRSbPgnUtYxSq0gokOnGCcshXAlnHdV85k\n",
       "gf+c2VuMYcxHeZcyOo5OsLMlaplfM554MyMlm0bwn0ei5KMLl6cCtLxxVpzLL1xUOhcES5Qs+jQf\n",
       "Zyt7aKXTG6sGhAWboC3VoBy7pwpSow6/cwZjenH/HcrWcc0fRmvC/hKtkcilHfrDDEoFOriYyRiI\n",
       "VqZX3ldwe1D/jsHjTaa/RIIGBRMJyitn0UtKHItrRKi08oaYOvUy/tSCZzDK9Tefvp5OlwIlAfKK\n",
       "1e9NoDgQShuaDq2LzD+S+6psFI2WNQHNCJcvyP3PgemGJq4oRpxawBwUr/GQo8EnRYl0U4XR6dUB\n",
       "R1E/H3gFL9pPFR++X99RDDlxcZmwwpYETlHp2n4Dky/z++I7yrtpoa6XqN0Wkwclh8oPa1Qk8MZu\n",
       "xobaMpEBPKioEVn7M2BqQ/BhyzjhjyArMd+tQuWb/qMWEocAB37/v6+3qLoR7zJEXoz3vVlXfgGD\n",
       "WBrbTbB0NPOYc2yHy9k+7+kjPJGcCNUylYz3ACQiT6l+ntOl2bQFl16D8nqMR5sAd0mzY+yzadxi\n",
       "WDiUHZ7uPbFZ+ozPA3h+r9QeuBjvr25NBTVRaBPRPOeePBl/XWNGR7QRDQDKxjKNYGvHkipkMmvM\n",
       "ROeoKVueVb3UWojvcPhfhl8g/x6JjEKVqrbyiuSwAZ2JNMKpS5On6AI3pepbZvSHmsHaGG/GvEh9\n",
       "GIPWPLe02OyJEEbd9u45kF4GcgIj12j1GpLC03jzB7zBzPW3Bd7lSD63WIyGvZFLKcDcyD6kYLLg\n",
       "pAVYa7/l2nehbq4A8ElaKTDkmr1yjUyvTcSTxs7gqZNehekh+xxRBKe8zssQDzQ//G3FvrBbRUh6\n",
       "r9fHVMAIddu9/oGGMue8ozgvSvU4YrNIywrcAFQqB0jroVCXv2BaxIT6ONMCl2d4gcjRtGtPIAAa\n",
       "vewsTtz/EeR0sUVpzMffErG3/S1vvZFZSY1L6BaralqQi8eHW7f7N53gvzeaY6kSxkd2SLSXC59D\n",
       "cZZjn713j18tGUkOfAACE0pi/pBi9BQEtHYTNA5hZjkmefuLBnmgBZgiBsObGmog4u8I4L7gd6rg\n",
       "LOrmfJeXeVvK56EcBGV/sdggbca2FA2eJ8mrQSD8A/7grtXQnqqAg6wsVT3qvZ/zqKdv73gR5VQe\n",
       "D70+oERdHPaAKt/3H6mLQGEzAR9LnWSlGZX31njSBjxrndsFIr3mmn5pHERQiwB2J9mqlR7oF33o\n",
       "zQVl6BvBvLiZbG4Pybpz61yv88nr4Bwce3weJ5BtniY/QELO2MnaJeSGhITzz30QppfZREl0y0Ah\n",
       "p3MdVeFMPoFbgJt3T+DbrLXn2AhpW7JeYGaa8rNd5d0zDy1PS6kr0MkkbMXWVmPnACfGIppzl/Xk\n",
       "2L1IiULWIrdXZbtZTq6nAfhLQvOsVy8agByhVnspiZmTlgALwne6OYTEugbRoGodrrQ+ZQ0Qj4wn\n",
       "N6Ta6me9kY/lCJRWIsCXKGo/V2FgJOwEqdZmdvT0ufi5hyDuOFtnsra+fAO0PGzL1M3NXgotviQA\n",
       "mmJS2QKpciWY9WJxDETZ5oj2g7RIZqGFd1vPO3Yi0wVowoABNZvyYOIO7RDdcuhwslGpQtc6Pc6E\n",
       "cciqKbtPC+0S0MILeNpmM2MfzGtLHWhRiDzDi+PLlvMLg1kfC9/7MeoSiTAkKgyG+MNnowdRL9tm\n",
       "oGymjN3Ao/oydwhm+JnVsiGSVzGLCDtifJyX/WAAE8X2JAdx24TEgyoIh1jKkJTV+vuHbNowiqg0\n",
       "6q9bn55nolJ1GOd2d7ri/OB7aC/c0dIdWkSlHc10CteFvGYkkEk2P+5s5g/lkq/Z6geB2Ct6p6ND\n",
       "Gb5f56lKh1vNZNj7s8zzanVKmwGwAAMpedjTO0bk8thHxDCFMXSUq1v8hG7ymJIKlleRVMXwfFVY\n",
       "d3PZvT9w5Cfsku/a8ZzkoSXgnqpVXCCJaUkTm6rTtg94Ob4KW3k2Ya9XJa+sbimyCXubRlIw1S/2\n",
       "0qZstSj9oHEAB5R8um6ILMzc+3LkJGJIJCdN15xVUTh8b3NrVG+iEuIjVLtKCx1AOaZA/R1ykFjx\n",
       "SdAVuL01xfkH7n5aiAVIVkAaXXgf6IIGUYUUK7ojIV2HuKX5GlJWD+jcAAkPB8tXf2LyobYWgAo8\n",
       "hY6xO5S8bgqBi9YwAAYs0zNVvv7WoR8DXezkafNv1VysM170jTli5nu2EONm3CQSpFSwECcW4wQ3\n",
       "mCc4j4LmDDUYWNeYnxAoTx9gPsLxdN7kcmAFoc06B8KTtMJDVZpD97lXVBSkIqmK4nkABdYkZd24\n",
       "D1EMNx4dAlbDygXxEO0loRdzQ4Ufh/FzEGBMYCAva0UcOijAAATDHr7MFaH1EBoJNObK2yZzCYWf\n",
       "3Fh3qSnNIouO3d/lgXdtyYgB3OtIsueNma9nyy8ZP5gwwMONchhWxRkpS8U3uglAshAimVYbw9J0\n",
       "YWn+5FgD5mkG1qHff3nFXAsKIVW8JTe6+7Sho4fZyO8FFwDeVaC0101f3BWhB3OodBHaSRwkFGDv\n",
       "wmRU881NYDmjnRs08IT/bV96Ofap/K4j4+G00QjY9VDPRR7TWrR28E9fbYibUpyCvj1FXOp6lYAA\n",
       "AAMAGOemoFUJPQKTb9bqarjwR7iXLBh9sc8s3eNYk84uCB25ex8C/wA9/d11u+6aYYyvZC4gsZ63\n",
       "5gHFukI6meFkYFpnt8Gj+BfEwP/SSASs/e+ur9MqggHqjfimJ5VLdSbissPexNGs56OWAbMZ0ANP\n",
       "mrU1cYl3/NQoQud+XJX9deu0ll1+ZP5hOyCXvFnuxSJxAAAG10eAAAADAAADAAADAAADAAADAAAD\n",
       "AAADAABPwQAAClFBmiFsQR/+tSqAAJTzN/BPdABSEli2pieOqIZWJvi0isVzcSmVIjzfzY6qcTUz\n",
       "tKTwb8PajDH8BNwmXXKORFnAGWhv3nsMz4RtkcjajaxunnAcUSEskl+I1AWEW9cnO/DKBw+tSwgt\n",
       "7FYpaaMH/wh6ybZ8aLvHIBkXJorHJcIOOJ1ItD5RzVVxLg4sMSA1AKg2JaOu4eSFM5fXJX6Hqi9S\n",
       "FrDNj93ZQibPD4dCF+X1qcKTp0x848Pc8vN4dI82/vrwMEHYlNyRousJ0f5P6en49DJNYGwgNQfg\n",
       "brT25H9mQxLXfMa+evexWC/5THbaO4vW5Bm1btIGcuatq59DfHMy78fx3+qafJMeKI3KR9b3pzRn\n",
       "7bdRZ/mR9wPM8f5132dxkEWgXS91ai1U/eqf74v/evHE15Zaf7Njzv00+VoMZiikgSC8Z0yeuZ/x\n",
       "tirN+wZnQhtCmPiMtkweg0M14ovww1T2exd9kzof2UYC/NDdjS8z8/CQp+XpWChsmAr2s/Djq3cF\n",
       "A/jIM/Xm85SnJBuL9fSUeYlZch6fdd1Asydki0RfumqMIaTbLjDtfKrdCR1pgZDT9xdoH+eBysAc\n",
       "mRWY5pCLoCxgWZo5tH3/WTkgLW6vhR1zaPOqQpkZDxhKnrWPt2pr57SGs6XHQZlU1xMtAD8WTRAG\n",
       "U3ZIQR6Ubr1KqUuYZpgNmL8GZEm1mkKYrGiAIFQHtwpnXIEytePbigt3OlFrVnrqbmvy+saw6YAO\n",
       "qoGI0h47rZNGn1L0jM4LaTLlwSm9uAjluta1bIs6jJdZqYV3oDNLQVtUwADmfF70CpIQ/x9Fq8js\n",
       "FHhuC8xpY1OQi4kmqUDGvV6QH6Q3MXtAjmDwtIo4KlS5fIlDktaLyy/FrrlOa73iWZzmCsX8fkab\n",
       "ySWGlz+6950PqcqQaomZ8xjhuA94x1eedCNTN590bCsDPyVl6S6lIaexgKwj6gqMEYAUWAAbU6u3\n",
       "en2smui8+p0yCBT8GOszQQUlqqWe0FUOLbQl10qoCYy2uXfjwDB3oy9hoFWcXl3XhgKSCF81vvA9\n",
       "nTtGsfJveb17QIm2USiLdPA4qnf7z+/MbbDSy+XFDsH1rdHq4FI7cVXBOHRovLTvrnPtvvWDhKs0\n",
       "yOl1mBE33L0PLHuhadwNdAJEFZWr9TLMbJU0FVKaWYAQH58KCHiM7FmzXEBCVwp3M6G0N/ut6GiG\n",
       "VcNMWIcHFPBh4Jt9FIkeIf5SynR4R2qBhqjxL0j3mFsNSCHJ1VO0KEx6oMzTmCla9O3T+foRhBJv\n",
       "Fw77fTBs9vPVHEt+ISTbsOZk7Ryz3/2TKqUBzMcbh6b+8hjuThOFhTKgT4UM8OzwL3g3De4goeF5\n",
       "oJ3zmX9PC8V2TflyImJlU6dqNEftvpa3qYvTLBJwMDO+waQTf5SvCmPGKJUrQnFQOO7p8eCyy8Zz\n",
       "dLsh1lRWUySM02rexWrgfpusQV65IQfDv7o9N53l49i0/km7I3HczmW/kSxDDLqXaollCtesSMXa\n",
       "/g6+CVmytNkff1uE/qAGjqSLTFJtjXzAOB6m2PfhQQxW1aGJ0qdzDh3Ig+PPS+GDtAyoDCBoV2x6\n",
       "3hTfQJNOZVipX/Fhh5jFiY5mPm1kLHSOA5s8v18cJ5b5gXIl7CMLqDlVkNubSwt4TX41hmBi/EOk\n",
       "7hBB18elk+Pvw20okERqLLDw2jUPPBqGJdcUbYy4oac9WdZTKcrx4+IHwOnWRJg/l7enjp7Th1lr\n",
       "YYD/TaGTbe9May/7OKsLxrxoNr9Vxj9GJyKRUpr/9hBsmKOoffydiBv0qDPuGGNHZCQFK1OLwL/V\n",
       "j+zr4N1feL/hk9D++Nv9TWz7iY4AcPAIrSz9R2DK2D0b10oAz0n6QOG/3rg1sOU6shx0bShf2r28\n",
       "tGYxwx/QzQeRHO8pEXHrotrZDoR+Gl0hvc3vft0N6zZNYxDp1e34p/aM5XPtlo3ISaygxmye+EFi\n",
       "8Hfy3fkBJmqO3tte5OzhC6CBbZK5cktphCGsZSCUlW/r63WD7lQpgteg7XXFtmBuGTcGP1WD73hb\n",
       "O2aVcW1T06+oMAypz5waHbPKhXorElW08sE8EsKtTT94bgYdcuh0IftKh/QBB82I4iAMJEg3Tg3E\n",
       "SjB/h9EiSGNnts2WzgvvGNXTL86oYGjtXRCmjLYSvB++AX/8C5R5Y/HBEMPlXOmknB13YCRlV5Kj\n",
       "12Fb8alBg3Y5ZH7VVe+jkCrfxAYDzciBZrEH4r0jFKaKrCLCsGJjOTv7b3RUeWgenCZXzdRH/cyF\n",
       "U8MO/Xs6jREa7pXe6ukwcUH6ImOT5QfYO1SfzLYObuyS1EehXadwuitQ0zpEMzJt5mZmCgSPh+BH\n",
       "/8+Q/Sz/NoK8cSBAbhH8Er1USnApvHF3jS2+UsowgYYTaO9GzbLkHlr67fZ3y80ADLqTpDFH1SYq\n",
       "5n4cD+G3QE+pXmxRSnPNP82M2oLnxMp1DNBqEHYNutEMWet3QDdTmNOE065f8+LuvNAQ/doMCr/n\n",
       "hLZygLLx7HHTExXOpjyUDInKCyFYjxcRNf8WXNqtU6PEMj+2ERPBqLG+F2jr21jJZIwKpYD9MgPY\n",
       "WtpySaybvQx4KT5YxXnXTI7bkK9S0XLQHkwLCjCMNtPBNHWbsvRqBW3BvESSg345HltQ5mu6Ij9B\n",
       "JK4lEMMg33A+5eZtXppaQF1kZ7WMV8yXZ8DvwzT1/bvx8lA67ifFxdbcmMQty0zHtcy4FaNiBxuQ\n",
       "jmRnsmtNFM0mUc/8Xb46W9n+WXTPascvWrAT+boXpsjyb2jD5cOi6AdD+J/a2jFZ6vpzifhp6mgN\n",
       "Ibs9PaWLYDFkbzzCVXXHMrfxAK6caDU6HwVwQcTmEtrYQTUUJWSYHRATJmXz5KFbGrZyBxAAUZMK\n",
       "ZNud0ly/PjYLU2lL0ZxmrgXcGvKz3Y+jHf6Ry2GyHmW3go+V61rzZn1WOpxFN34CLzDO6sBTQTP4\n",
       "yC7a21/yF24DOILqw89q8bjbeYkLH20R+lLmCOX5CVJ4FgbOx+i8bqCRd3MjVrFDBOyd0RYhVYu8\n",
       "ujPFmHwAlz6f2NYeTDYEpaGXYy7X4JflVEPhBCI6nlvZo0kA+dnr3VdcxRTrXgnja8GEP2irZ806\n",
       "1BOhMzDh7uhUf0qfPcOsdf2FUUPslUweYbDJOmkpJhmMcmV6vtnebDEr0hqnLHZ6aI37AZjLEnRb\n",
       "HuDEbYNbLmTc/aeurMDMrxk3AbZVFg689fcV8VV8d4PJSsWku3FCgQTngjwcmlOF+vIx+ZiwmByb\n",
       "L+XRKSX3hCv2IsX1xSfKvzV4UyXqi4x0uGnZaD8Hk/kl0kA2dGSRDlVoLq/775Bpo9QDRVw/GqSa\n",
       "n/OQ2xlBuN7OMC7bOm2hzvHXXTutyhd0TRjIn+2NxiQlGV7/kd63HulSywStD3cXM2fVydN6TWIR\n",
       "Mv6n0l/BOh1ba0PNVLTZNogtgMW68/qsdIgqtgoKy+QPw6pSiDVjVMc1FA5255DCwcd+agAWjrp9\n",
       "emfTO6C8io0T6GZdgDLuAfhkSf60dYEqH8XeGkzFAAAH20GaRTwhkymEEf/+tSqAAJT9m5l7Ng6q\n",
       "zW2u9Z2QM6YloRZ4AAADAAhNB1/ATWq4RrFw5W0+mhouhucbbFw8wEaFcrumZGyeSC8z4gRIqOkG\n",
       "vHAlkN5KlY3dg2AcVC+cQ4YOMuOEzabar1wmwtCmZputMIESSZwf/qxO2SXujFO5wS23SKlZ5DaV\n",
       "Z0rNRxrocmiUTUsyobxhnDEG8+bz//yykMiVZzlY/jwu3TcM0VeGFOQgNCUka9Zs6T2lnKWVOHyM\n",
       "uCEu+25ze3jcaXYA2n6rQVfwYSdCh0lRgPjV5ttULxivDR0qLN/HytZWvOc6gXZDS+qQjAKwAf2h\n",
       "+m8G/gO+6YUT5nXfgLyM/f5Ur0Ia/J9p5MR9qC0aFgt/d3Dht64WFxxLHFpPu9qGKXwwpjT/31pg\n",
       "FoEU4QiLub78iYTs1HH2LoAS63hVoUwnUF9a7FPDzy8V1C6e1x4URLSKs83TTNmYKygPZ6tL7b5v\n",
       "dZwQ+OwG0jSB4I90wSJACoWS/LBB10ziJFjufKq/ZKU4+L8+7KOPPUi1XpX13rcGdYGbq1bcvLwg\n",
       "xUod5o2Q4ucN+td/opx8BLQ2zUG8aDyJhxpzGkJdoO1gKVSA3Dwus4OgP8c6dD88tFkPHEGbIniL\n",
       "B+0MICk1mYAjKLaaiKttjAGssG13mTjYnyLT4PpFrW8Vm2zPjX3F1o5l02NXTC8MWqmN54qcRIST\n",
       "Tro9JgbCGRyD/LN9vUxJT7B7K+Hmo06+VsBrdq7cqQ+Evvxh4scUQSzf6iyBfHiLgNMkskunXy7g\n",
       "tz4RWPJbwqVb/gmbxx7Toz2IDP3lJmjXrltwzcZXXItPIHgCTgQSQ2r3SVm51Pb7uIWQnCWkvFQj\n",
       "+g89rrtg/2l6qGv79nhHlwe8XW/LA4xNEGEXSqJi7Ah1xYmiM3p+fjEHz4H+W+hLWg/d8ZptQvKU\n",
       "e0LItyJki0M+4T2QGiFTwoPUFSbHRsLGXIjQGqjFI316DaM0+ZHdWyaKQPl3njRdSfquTHN/QAa3\n",
       "Z8yBXmoUhP+u8EYYLVIVQoEq7vnxwGXXsOzGBWxgLOI/R2hsMAaPB9AUELfhwKxzZi14ZghsynmK\n",
       "0bMFlqopKlG3e2D1eJxJRQGoXEwgwIPgPP+9SYLPIRrLXQ3BjHOWykovI7fWzNdsF5ujkaQaf6dO\n",
       "nXDa78AvhhwkHIpwTKp+J0bbDMgYpqdGsvtMYi52kTPKQ/9HMm0eDWl97j8JjpeXdhBCyZqD6wzR\n",
       "IJmBPoW+eeSd/+KVQlOuQ6MP4TWjd6ANlCr58VbsMqd2iQ1jj+Ok3XhB5zdU6+/YdctqbcGH5viK\n",
       "rJVIwFqqnQseA0osDdt+pT0MW8BQeQskHucEzKgxcEGAqrb3hHyZC+J+dm8oVECPE7tFpiMKCZYx\n",
       "c+hyK04PDljD6v+F0uPF3xaK4gPTR82nZdktgTJxFzyjdrt7zMUcSrxZAlmjsY+YkMbLUJcT9MOc\n",
       "fe26VzmXXiWo6gCfyFq7i8Sc4mTe0xBroMkCACecHC9urKWfMXLrcMUFhWs/L922mMW3/PLmSG4x\n",
       "ulLi2Td7Qw1I76ryonN2cNSfwram5o+xV5/mnMZTe1UdTi+wluaOZVpiJIM3u/xJupk7IngTtGpQ\n",
       "TOlagekHVmAzI93MQ6w2Stt79igkhFIuStWXLtFPhVEfCpnAHY+rhLuDhhHv6JFemEzqlYvCLgjn\n",
       "x0EHkAdy8JgnB6UDxIOGmx3hHs3MGaFnErqGnA41xj3BiDujDl6nCrqLB9657zFQhJVXN/p9SvN1\n",
       "glA5g/za8SL/SH1e13lQhw/be6w7MMfbg6/3B4ev8ZVJO3fC6JIcN9QHnUAzNKDLZZ5LvxvLQBFj\n",
       "L/0FYU9YZpLkjVc6AxaJHMUmcpMV0EGEMNFPGc5dFvT7XA0tOr6Rz8nATBlLmKbeJbWPUdFvF3cv\n",
       "8C+Lto9+ugUcwsdIhgLueFMQR8cJv5Se7jebjdKdE1YyN6IVqu1KAAp+m4Svn3gVhX4h0xm78LCq\n",
       "i5ZNd2knuXQX+j4TOHk6iavoenGny2qm5kJSkJ8FfpuqOc/bLRpBpKftfCTheuwpe2LaxSklIJGa\n",
       "dupITYJa+HmRHxhIU95/xFJ6orCLG6cAUCNW3FZEX9sZ6blGSdNzydom5S8evj4e12nkv9tRV3zS\n",
       "fBB8X6qHGpnuFhAQ+iuKkKmCL5U5wFxxma4Ci84ig4CBwvRgblTfdq1NMAV/tk2iTXNUjY45tLk+\n",
       "ow4XsgUAFKxbJeH0oEtuCrKWX8t3ydSKiXf/D1MIEsplnvPKxoRAaSNbK6rlHsGkUNC/ouL+joxT\n",
       "h6V+9E528Xvc+/MI6iFbi8W5AV8IrQo37MGEw03SotLdIcLej65fujSRMuPQL/CHm/lGsnAWIod1\n",
       "BFXey5aNrNivZ/xNLN3l0jUHPVIE9uop3r1RwnKVZUsY9BfeZYjWsgoJOO4T2NfuaunZtlpiSkoQ\n",
       "Q7ptjithAkZPZtlC3PXTX0h4RBFneJ3EByp2Mv962sQcYm2X49hDaeJn3HE34Y5P3lW5IjRXgqRs\n",
       "0EBBPd+7Q4/JNGJYF9u8lrRH9nzUh85Y53zkOFmWIPleq5BUM6PzY+3/JUVLokxQ4P6HwcM/dR04\n",
       "o+tSXuGTZc0NHM1XuW0anAm1fTAJXX/Uk/iKzodf+v1btl7G0IYFVUZBj76HExYkpIEAAAYbQZ5j\n",
       "alPDvwACQOSbLv9VBKCn44ms+GrU97RmQcl3QFdwsu9f/5hKqDsAG0n4hv51RKFIfEA2us3nsV9q\n",
       "5bUkGHyjl6juZpcBdOGHXSJj9PrW9VFGEhZfGda2W+77bxhpNiz1At4qbjKlA65wlGvs4US/GnAQ\n",
       "j49KNmcwsOVycap/3qDQa3sWINxdccRVkzLzNUCkW9REIAovfhGSLwmtjtYEQ3f6fe9nbADdXDZK\n",
       "w6syQPvvCIg9seBSaLfzmEYzOBa8vkTjGKswIa+ReNYS2mE0buDqiwbGXn8W768+0W1XQF4e8425\n",
       "ScHb+JcKuL5dPY4U0G2yMsCRYE2Cz9Jl2bfLGZ9IRZnfR9zDuxop8Zn/j4hsVyJGZOlruF/ca6j4\n",
       "Esa0F+BOP3kyRaLhJMy8qYp326RUm6zTtnoZWTYWUBboSxAcccXeyFGKAf6cZSAU9YO0gttlJJi8\n",
       "Wt98iyFrO+/5QSypoB/FDfFHUGrqlwpVkhLJKPGGgXoSRTvLEC9+Cj1upiWqUL1zTv8XK0P9RCK+\n",
       "x/S0+ZrliqfcS6BHSiu2jM7S3QZsc/t2hhgyMhVSnAFAmSxyPYT3VlC45dfmhPQP28iSCSUT/7ow\n",
       "mwKv0XKbYnL+sSckAC67DUijqgTreyTrZuSckWVt0euDTZN34tTF5B8DuFRgCVgTlXYi0ETphhKx\n",
       "UypVJoXKuPS8V/mAW48vv2EKgozoiXGJX0ac1Q0LBTye9eeCRd+0JsDtlE8wz3yhHOLLlcbhEKaw\n",
       "gHTUfqOPDJl/F1I8VXGqmKmV022joVGkkxGV2A5DsbChAYnDgdXshk7uVGzicAMtVyqngfshYuKL\n",
       "ochYONTZV1YeJ/nPWaxztEkKSvEfwA8WIP9UCIu46XLzGZD9tt0Xy5+vDpEJiSsRnpRTdUH86pem\n",
       "1Hf1cf2GGQ0AHOixbgOR8/Y5jdOiY3/wzfMa50JA0FPSLJ3Qe5QEr9lkz3m9HUF8Vocl7766DZtZ\n",
       "lb9heOqb4FDxcu7B3dIpyfMU+W442NWd5r7lfQHjRhptU3YhonLBVF0oL3WMlrx04IjTB8g8i/jG\n",
       "yETd3O09FclPusJTeyZ+Efuc2D4q26H70VUCfePPh+YguPzi+JgP+JwToV3keNrHbuZo3fGdEkIQ\n",
       "tM6UQZxApU/I4M0gTZ6sZB0EsLY600bSTnVv8E6ZRbO1bBDadYd/rE0Ga2tfkKaXLzhYh/Df1yI5\n",
       "IOhouBK+d6B4gQOQ9CL2jGXwyfQTzQxhovj6gewqHK23IgJD0fPC+4ttAXYzF0ySzJ0ncimNfLIs\n",
       "e7dJQspXVl8ddyl6Y8OC/F8huGyTDUke2vUgVKqnX+6vPFqxenR0DZWRoEli5a0KxzMPJxovHK83\n",
       "4+E5UwFGlmuGsX4zwLC1R6PrdkmmDzdINftKTo24J+bp9BPWX3Q7JTWp0BTrOMjLPFAX8Bj8sdG+\n",
       "WzHBteB8kqph2It7hrPNsjCnvyZ/JPE6yUUbNe6lG2wBAhmrRr85eU9b9cRtHVJsW+WLqmd98TFc\n",
       "MOlSbyL3zPeQSG/8bhPg+z2aDpjzlQEX9Cjpep2GSqCl/2MbyftzO0fIwpDdKbFIM36hiUNOTW4a\n",
       "FIqX5jxSWUk3u2PIppY+NeSHUYGzS4LqvrzO87khnOGHpTghcWgrH2octlDk0eoXY9oH5Hx9hMI2\n",
       "ogX38fMVZQ8d/uZS1zj8eFRaPbwtTIpXu1bhLVtnR4N8PINh2ME8AjYSgtsnsyyuOAXbMJMpmeBv\n",
       "rWREBy4gpsGzCpAuUHm7oBEZEmurnNmUEnJA+LW6EFKtT+V3lbeePiznYwaSWgeWkUj3MwuRWPJ0\n",
       "PWI3hidYTGgkXeFVZqtItPu5b1PBYRksTvrdpZSPgLSuQQYjAJXrgVHpKgLh5kFW9VVif0zLYwDP\n",
       "D5qRCNq0MxC5C++cgZ/yLIRqaEXcG6CrkOirIFsTu811ZHtlHz1nOdfAT4WQGkisvgGltfF6v/N9\n",
       "JOvD4jv7oZMirotuAvE+PDBpnbgepsNIjNo2ryIrHjyr0cLPoTyZi6t9j9LsT9O6e1lo7RJwPduh\n",
       "x7YrlOkdG7VdNgrOzcg1a04YsAb8AAAELAGegnRDfwADN9VR4rw6PjbQCEZDTUX8p2iCs2anjQxS\n",
       "y2dT4DDIhTq3jIfAIexpZ5x+J9ZbV2Ac0kV0Oo9mKTuTyDWW8Zd8UahCo1L6hzYGxCP20+gzOOKe\n",
       "lTpSBauLBQ4X2Umxa3I6/Y4vGRcXBZvWOT1iAROlIzxr6vuG1PlS7bmiZIDuDkoWD8XGb7CVWlIO\n",
       "KPq6RN14UA1+5U+kDcLBzFTtkykN579m6RaOBxFSgroZTwCq/fh0CDxSaQuqpUBbNu2EhDKJqVvi\n",
       "LZI4Rv6toct7Ric0aYBk3Q8dpKV3uTmTe378Euk52owXs4lVxy1oLEiVkZ3GoeazOHKWfTz1dq9o\n",
       "VJDkVxwxrY4JjzIjBg+L7MlZBKDsq7ApznUCITbg1B4EVtWU/kr879nk4y0onsNIQrwEl0OSJfRZ\n",
       "8CbtX7rk+jlZ4IBdaOrnyBbbvfdzgkKc03henrXYdjDGhnvahaeYTGJ5x0fRaI9EsUPQzgv8swdJ\n",
       "uzW7IIhKcGQg+fc1VrvSxpiZ6z+CE2P7rhYod02TuhZhD+4gMPIfAtGPBVH24/4jFDhpDzNu9vd3\n",
       "j4DtL1X0K3PVEK9ay0GZYzMtghjCSgm7xST1EQ3JHjq2mqdY3UjDbjlHvqXts1CcFjb6x30XuBgJ\n",
       "XLClFpRa5U8rDdEB+vDNX2woLG7iPCM50nXlFF21IGU9jLnubOS+Y4C+fspSvtjV5mConJ8Ma3ZS\n",
       "1WbdB06j0DaQzPNUMJbasFS3dhfE3d2+bbdK33bEe0ILU6RZIG7lPRbdV35qjRM3EvmGyrGCtfij\n",
       "DqZeyVfALwpW0b9aqj+DB3V7ZkJhdMZDUDwERatgOUOd2r/0l4lLEK3yFaLSTpg01G1TmVZGe1Sg\n",
       "0VVSL8qxbvuwEAywPnNb6DZd4y2wZYksfXW3nG3Hi7cDsCBCA//0t9RYHhych/4fNAjvz4xnx9DK\n",
       "z2qDfcvODczHuRI+s5mtLt4O4pZkcgET2UueNLh+fV+9DTFSs+1DtoXvWYtyegMeEBP+aIhDBNMO\n",
       "hCS+jI8MCALG+/OtIA325qdxTOKoNGxQziDAsPL9R9zzXMCgZZ6YAIyYjxGgpgdK0z5TDuXyO4fl\n",
       "wPygCxH3P28WpFLudnbPb6B2HNQoYI6hys/w3EwIm17gw6NzA/s1trG65IX2ffKDDLgc39kGELdT\n",
       "7662xyC4I/2r7dehCG1tDMpU5dBhfDrB4twCd7jUDiPOd/XTGRbLtrpHjOTvwWdYlpCxGl0Zrde+\n",
       "r/+Js1RyThXGvb2kl/BDEyLI8iMik4Qr5iq34yP1MqPJPwVOaF2ABqtb0so3JLIPqPSLldasZF9l\n",
       "CnHPhmWw5DzB89d+B+aFL7GC0rWWARPQOHMIEZ3HIHqFVqUcuOkoxK3mBGFd/OOa1RuuDoktdeAs\n",
       "P0CpVb4TIADpgQAAA9wBnoRqQ38AADJF0mIVfQEIxq7ZRL8sGBWRqffzxP3+7B7/LTAagPCsXIrH\n",
       "Ybx2v/4ryrVas55X/HjnA0yog05lhAoKzART3+dTF1cXgJscWvlONASpe5uqyyQcKErZmQE3Q14v\n",
       "z/ujmWc/BYz5Q6dDxH1xVb/omqKoRsROSNUcj4bwqjs30/RNylh3anTc8+jgGXTbEY9fa4WmnB2y\n",
       "9XQSL+TLqZNGAxYSyUC8UIHDVnAUXaXA6NBX0u8s9XzCoXii/1A295cT6VmtJ5tGzZNEm42qprIO\n",
       "wV6SZAcHsaDpTWBgpOOzH3FWFcIOuk9TNCNpoTdgXgoRUTN5TW3UKPibrAgPaOZiKPlacyAAwbSi\n",
       "kU/Ebs/jJkIQwzXvxNmw1VU74iz2ORIs9oWPD9aOb1l6w8ypi8+FIA9csadfdERwJZTFnDvzrE38\n",
       "F5a8FVIcqyCK9lxHgsq0+FoKxmzShfjVQFHZCy5mh3/65020MZTuqhi00omrB+cU559WZsMoskQk\n",
       "fUmeZJR+YYnvPEeMlSXKfPoS8L5AC0FEHn3Eti6Wz2fHOEgFccpRsNa8xTHGZasraCnuTFqDEpn3\n",
       "ooHImKTc/NbC8k5H9So97OxDi0wgSCS8M812yxL3ahaXsFY2AKCP0S60NkZwJrfCGQmWHeRaL75g\n",
       "5HT4lqP9npw8R7JKSZ+rFbuNW8+1Nl3dbo28KX+kPiVCPbOftcANOqoYrZO//rvV5heXbY/PfwiV\n",
       "EkpwLy1yeUHYqjZcQGAMafsKePFl0N9mhF0wVbXyqlgGUu1khMESl08MUFfb5EuFgT4GofqUVve4\n",
       "E5S/YtapXGAEf9cQ/Z6QYmHWRWeAiH8zUENT/ECIG//Gk7eIsHPlA8MMhUwY1PiTuPgA9FNeKX4k\n",
       "PuJXU9F2mvVMQ/H2bGvypHTKaZA2l3c1+vueSSQ7r4uP07UXC23+g2lKxa5N7tYxldaIgRvrSErP\n",
       "R8UxML11XNsJoPAbh/XKvDkUIjuLZz57OvlOn6C7qfyv6yH83CPSI+J6lrk+n+DHsRWrKsMY0lwf\n",
       "k64KgCPJnHjYqBSizrA6uJUOeyBdEM+x5vwXdYvz2LF7MZSciNCq2LGnB5EWwn/qJcS3faloxLQ3\n",
       "ABBBIHuEuevs3SOlpf7doqDV32LVAvcVKPVXVllAht7AjO50YKfJ3KWYZBuDxS7bYqrlVyrWZprF\n",
       "KtxSaZReLhVpPUgjYnXK8V5lzLJBlRlcinwVvZ7P3FGmqe+KeDdEXSE+toGapOh7NRP1fdO7fO75\n",
       "+9aed2Y2hFwXD14FuR4gMKbaarlw6S+I1idPZ/PyAKSBAAAHAUGah0moQWiZTBTwR//+tSqAAAkP\n",
       "2bmXs2Dq3UZJbYBSJRf4BqKAWuU1NaCoPMz7NN6DbVbeis+stkDccWRgUcIfNs8mkj2XfQAuZ1cv\n",
       "49sFgYnLOMqx6Vh8XbOZYxMBMAaLk786LrP6BWbr+qKdlT204LRpcozB+QWWND6mqpjqQ7xRFlJ4\n",
       "g3RpaZIoEyT/ktLVrlfleZ9ARStR7BVdBfo0V2lFfm6JSvSN03CB+YgsAChgHq6VravlaObL4JXK\n",
       "Kv2rQFaqVECERpqdIcDoe3/xrpUgBCibSjX6t7BX7uyH3HKxnH9wjBN2mt+HUiR7BBONqPTun8az\n",
       "JvWobGzRfubBHNRVPTo2oti/KctKWvV54hcH4lrRIFlBPbg4EXeFRxW/U6AFTnlAYh7yCKFgaN+n\n",
       "3pnuiylw6yYFKnpkkuQSc7GXh+Q1ysDuh+AClcRI/1z81uKGsYfJ6ENaTOaLPScyHoUQdlzTRvSa\n",
       "lJvys40k0A/EgPWEYl12qkkL2+YQNSmbx+9/+u3JuWL4G/JnNtFp5aclX2CGZZoiYWDFEGJ76huZ\n",
       "NALM98iGHcaS+j+j49PCXzLGDW3KrbkTGcpIuwG+ptjyd78T4FQOVHaEyyeL9QwKfiN2v3KoEkyQ\n",
       "IyTHATh71vYC6QZqg2/4dY7WiggqdNMQF/G27BNAR+XKoxyLzyBcygrMZRmj4RWt8PuhhT8qiKR4\n",
       "/ZGUeKIv8NF3XxooY0szj0xG5V5eJuUTiWwFvE+OXXJT8YhDpJfPWLsA/rFZswu2oemEfCFoP5Gs\n",
       "Zg3baxAFhlcAQAtvLHndt5IiYVxaKxVS5oI0LG50f45SR2FyhjwbzaAFJnJAAQvR9HuQQMdDTF02\n",
       "mtX/b0TR4kOROiF0OKTaRqgzd0Ygt0Ey3y+46dCuEEI/t/PfIwrJOxXJGETOe1m4PzljFjxccwnf\n",
       "DMNRgZpEbaf6zAv1s1W2zYfZEoobT9vGQu6JrdnSv7aORw1AAkGoMrSgrWwE6EZyjjYlkCWO8EEe\n",
       "Jsm7UoPsLD+eVk+2gHaAAOLV1N1+I2JXqI9ItQkkKvERYMamnUW+I4zZenR//UP6Jk68tfxxTMBg\n",
       "Tf5S+0jyERhvSP8l28eYm1TP8ENIxFimZDpN1i3Xz3hvMNbt1dnirNXGacMfTzVQYTiOZFIGQPrU\n",
       "5uakOJuqqPaD2idhKGKC7eto8oUBVK4iAdUKlM+ljtIHcObNSBy8RGnY1+/4DYsZ9tvx0XMnapDH\n",
       "Dm51w/PrnRiasnikWV6l8VxURtN2o+R8s/3a0gHjZUkBaTsj7oqFKuiDO7umweMQb9osSK3Iw8Ng\n",
       "VmjEA0OeM7dlEnLZ2j/ci37RW+TgyyQNxsgFiAfuaifKpjXjaIBo6+CFiCjRHrTO0CUHlasvhxKc\n",
       "zgpre2XCZCj9q+ghai4reFQwWA3zKcIvxsnHMlK2p3QrErnyFr57Pn5otYXwdyVUh4DpnErFxeBK\n",
       "b23Slw+Ac9swYSItDGDPHpYTIqGrRLTPYuukIzlmvfxqaRpgHsHydPdRrxv09t4Tv0eXj7dzWFY2\n",
       "xv8nmFsmUkAwLioxYqbfJhJfVcKsB6vYI0DvHiuoBMuaRvPOZe1PBbI+Tm7QoKG5OA7fRkTA2V12\n",
       "uz4M+/P12EQ9WGfhCm5cPyZRxmIh1q6hXsc3sLNAhL54RbqaUYQN7G8fR06lrjaqjcwaWnlO83ei\n",
       "hket/HP/NPhYQ0NrWuvDOfb0pQrLVJOUIq0Xa+Bekk3YfTnZTJMNxpg+CoOSUbLCaCPzxBdVQpJA\n",
       "gu1cvV1BI5uE93ecD7uCaFmyhp4kVIeq+UE7C+NFxkf+pGhORgT1EKyB3YNJz7BR2b7Yba8a9aoO\n",
       "dGlsNWv49ISBtoCLnPz1yxp0v2Yfm+MCJoy5RatEcT2CG7eciWkF3BhwfRt9MzxqceWFPA03+JvO\n",
       "paQolQ8+fK0/jfdpWc7VDUrbKTcIUnkGC8jEhqcqD2wCxlqAIFk7X+lvg+A0OPcN7DF6R4Q6ZCgV\n",
       "r1tZl2rqv39KNkG5spKXYn1CQdU70xYIkileO0IJF4OgG+FSBYvo+gquCx20gKzmt7M3wCurgsId\n",
       "go+3D/vP32n0GugKnmDpuKszlC4MTDRtvg6HvBXhn8fa8vHp7e/LkEX+Z0q189eVJ2w7kkbuub2p\n",
       "XIrW6dsNzxh5GCgEyRmDm6iNpkZvJw/5JLj5k6eZm1ZvXCWcmFN+/9TOBEK2V1rlvxJ5m3Hyyeti\n",
       "/Ehv3NJ0EwdyuDEnAIuRyNGZv5pDjaoqNepSexxskyxoMB9ESl+9xKgi3kxFytcgZTjFid+fR/9/\n",
       "sJsdIgbB/lPAXgd6aUPjHyPHq/BOO7qow/HVGGPF3T1B9TV1n9VMWdWOErTWfB3e5LxFk9beB621\n",
       "9cDlHREtAAAFIwGepmpDfwAAMkAKGs6jiPLT9Db0UKl3YAWo00xcZc3oY0Czlo2ob4l5mJeXtFyz\n",
       "Cb4PZrAFGO/fYdGP+EJnm3GaA4o9cyunfnEi+ouO/aal97Z7cpy0I56Y+rVmwYLJknJVVfNpiQ1s\n",
       "qu87+GBHRcsYni67P8wrZ3UwGBPplR157PZk5rL62FKmaAulC+i9mPitYMIAFd+VkIJBlhq3dIP+\n",
       "N5ojeDws0iBZ2CX/lRled0+b8FWRfRA/1m+iXdl7UE3cblMSKC0YrA+JJK/ewtnXEHsMcx4CXknN\n",
       "R6R251GuiwvQX+71hmtyX8YrCd7F+WtX7mASTMyNRvJcksORQji8LhmjjbaGmuxJgZZAuH+QU4R+\n",
       "K/TLAlUnLexDRKyIN20Q3GkYz148hwlkYp5dn0UhSAgJnr34bC8/mF6HytB4K3s1+PR3UZ6XN3a/\n",
       "IXzenLiLSLa2kKtJ7m+K3Xz3Nb/xBRZOcXy4L+69q00yNd9iKZf6PdrMK4nBbHPUszz9WKp8PAsZ\n",
       "ozc+y+usJk7Lt3VXfh8Y0ktpNn5iWrUa/J0OvqYt8kccGNKDHzFtkeK58p8uxynnIfmyRMJSGBod\n",
       "oI1WKorT2ddS1Hm6zV2YeqbB7Ap3tKfHmQkYTPiRLPeDiqaAy6JJ6gO0ak7E24bgyKsUBjbySoyB\n",
       "DAHlmTEaJJx/oOSLWIGDGJrmNWyPdVC0IEzP1aMhLwIbvRwI6NiTwPv8CuPNDo8vRWJpKn8Ct6tw\n",
       "gIlY/2srtiH3n5wvdy17qP3MetZJ1lX7jXgVNo64xVaKDRg9Bd2SSShqK8rM+iHOmFFLDEl+YACZ\n",
       "Z3MBrQpShrLqKdBCGcexTOCgULL3iqZcflGXStvj4OM8Vc6gFZoqOtTzu0USto7EQtc11Cx0ob9d\n",
       "BVvRMgggTXCFcA+u7+WO0jyEz6br4dvyv8JiIa7Ma0EDDMoPP7cXuBlk6mMyPpiQFeyyv2XI0oog\n",
       "Z2EpufLiQC/O6MFMZIuReY4EBY2EGyh21xQePo5qFqDDqYr2bv/sVC4ruNE0pe9DVBOWtB0iX8UP\n",
       "iZIawYwsqNP2a2zJ6QM36/77wRnWxTA+UFuljEiEEFLeI7XzD1eLw+Jaa+0pzUB0CrAlN2LpzhZb\n",
       "lDJVC+XdIFvqKuojjtNPWw5HVRnLS4Q+1HHtbdRqTU2gcuIZDLkvs1ZXyCWPWZhEboRXaj17traP\n",
       "JRh+TU6g4uLL3fAcf4LDDT2EECcVZaSOhQhYZEYwS2MxP3UtOAfzGYn8I6dnjaKKfG/5BmDpGeCj\n",
       "AxCGs5/q896t2PQa93yxlMOEu9iUdIsMGkOF8PfO+WXcgd8KeJjL9PG9jrr4GHloccyvlH5KVQLq\n",
       "yhDVQGjHfSQcKx8bB0vfGa2vSbpyxSrGHjF4WvEsttYPEAMvedD2peXdNodDM//Jkr+jTkUXwV/R\n",
       "yYtq8N7Xoakc9CA0mCDVsPGkbEWnesNoh8RIBniwHQGR16FV9FwRCriLWeXjPtSbD8cE8ZrpMKTd\n",
       "OZr+XJVfmHN3NlmCO90maQw0d0EgIzgTxJg7DK2NjkDNohsG+fwvqo2tBcTvxUiLu8So8YnwFju/\n",
       "SsTIkQIWtWN0RHdG5jlG05qhSS4BdbKOmif0HGVjyNj9S2K0BrACYbzPgBNrFFS+sE6EoWCScCKC\n",
       "jXNtPz+dMFoXYLs9ZwHYsIWDIbRemUrlZNDi8sHLHz2R7kwdoCVrhNht3uMv0myvuyLcEN/nBzLS\n",
       "LV59EqgTfdXxtJ4Af4EAAAZpQZqrSeEKUmUwIIf//qpVAAAGUlYCTngBGKOm/RmhWXMg1FI4JbUK\n",
       "Lo5272lNMx54JhKM1P4AUSdvZHmYxinX/iWR+m7DLq0Nc0V5HJ8h4Q9xVT2JkDuAm6b7JA0NUn0c\n",
       "x9uiy88GIIenVjlLCk1i0TclDZkj8l10+IWGgDHx6r09bSI/H/yfmH9ymVcIR9r84VaeOLKKW+cu\n",
       "wAubrRZmrKvGA8xcfds5Dqv6McVWXOKnJOBWUJ2Nz7RXX96ki0O0r9QkdaZB3iE4TqG3hjjVMbzQ\n",
       "WtzzOIO3YjQKXqWgsnE0Z/2aInrJCTi+C7fmy19rsHswm1RivPUGf6XmRerTKDEG0wfWfpie00N5\n",
       "RAXnNNV+7Qe3dIPy/ohW03Qh+Rdq8wyzblQ0fuJKyIIv6Nfnlmsm+AR4SYZ0tY9g9BOHlp+BUvh/\n",
       "/tPtQF87u66dhpflBkcN+AdFc92e22uI1YR5OSGcu3S4WbF0780ECgCgANkH91M4OaGyJaVyw3xf\n",
       "S+BOH3m9pBi1g9ECzgx6gWEn6BLWRO51ilabe9yqzHJA9pVsf1GUE51AFbEY9edDhChJVLjSLD2j\n",
       "jziN6AM97USMq4eUxtNHRXhUQNdh5WLPlG7sohM0CIG67PodALe5YOr7BRiLKfNCcK1BSqGhJZGk\n",
       "eCnmBo1FaIpXvbgueCA059YpkFjZ8hAjrpRKcga+PHAxIZzx9BF8aJ+1Y240j4jU183bxn3oq1YJ\n",
       "sBCDwNcct49KsJhU2ctVVrtRtvUAD2WHXGquYXVBgXGY+NPQyfLdgvxFo48DNh237aUJgy2+UQZP\n",
       "0HAB76IaiQRVdUXlMaKWVoVBGE3ogh54zM+ILxOIJv2OzMYdrhZgJS0p5e54bHWodAeMWZvwHUCw\n",
       "0wIXzpeBRJUvg8+nPHHKPjx/IHk/4/eflmy3hnfk+VJTQdlTETUUmjhQdh9iLmbtbB3QwbDXgG7B\n",
       "RuQHWSchattqc8WLYzPMDFMQURV6sZznKt82dgqkNpCRNRN22AZkRKiElmqTM8Aq9etos5DqUOjE\n",
       "6q1SiRQaUIbwmPcoP857X9gq66uzFzC+Sri+ygz2csAGNJuIl/GB6PsDq1UW/Gu8ZoX+ria2Zl/A\n",
       "Vkj3pOUok3FQ5R46p/b5cNX03khov3ldIvJQrfFbA8lOIrCm7RJrom5mpp2zzTCYC7QKvHntxz3a\n",
       "JRvq2Eg44gVHiusXDr7G5igCF/983ipO/GehITdp/9ChWQ3VpQ8FwyH67olvLkPF/H0k5801WVPS\n",
       "LVz8o4w3qhBCA25bOYRBMFMzwzXmucW86w5m3qcYB6dt3JJ3zgQNHV7L+arlAH6hLhOp/Cxi9itQ\n",
       "vfX6glvzBOl7c7JMZRGHlfTwPwBrqp8q6wZ/m9bIlIeO48V3/FCBCDggo+ToxWBAjLP4PjQCDPOj\n",
       "mu6azx7e9AYNwue7Ka62cueoTzrsDFbR1bZBQ/wLb7vbHLEz/hovThP3WtnB8xq3nP/kfXusNwho\n",
       "ss2lOdoEew9X57UMxwwiYC0aJu4fdxcyi7SMk83OypAm/otBKZ/o7bFYgQRKEkbFER5aoQptpqpG\n",
       "nL3UTcRTqlqKVOr7Z4R1Ppp4Y4zd6xtQNolgYHlcwATAAvWi3WOgUN485nIImuKJNmewurX2M7me\n",
       "QTh1kBFMlCeuCpv/Mp86KuOqZlZNeR6CYPtS45BjRuoZll9baeYCUin9moS3nW0X/ZgqG8bxSCAj\n",
       "iJc+Q+J2rI7+zKVT8dFEZyfFou45gEHEwEPQbHj3+NS7euvPZkETWM3IFlK8a+ZalHMRXl/0UHEZ\n",
       "QglEC9FlHZKkJRALai96Kcku/K/gnZUVkmdrUXZOotT6M4hChxJ4hBOo7frxzYk3STvXbSdF3xXM\n",
       "20iRBg43R6e1BjN6iJidl2Of9j/+2/xC3uIRBWzsy9cyPDCX8DaFsojgZOEd2NXfoaLcp+3cIAZ9\n",
       "PlO7Q/W7lzn5wYoLbzUCk6vkoYGlla9wpJArr3/ViMMdvycP7JBAt02n26NBmrqZRPCgToj0X3t/\n",
       "NaiIYniswYIE7b7iOD70Yvp1INC3IjNNrYu3HZ+HUGIoJNXFtcAY68uR+0d7SfhM6LCMGKXelccw\n",
       "VHdeR4bGbc31nA6FfjPVMCQGsxaaHqVEzaZYBh15cyYsAY4P/+kkK7xw8Pv2kxRaWDvBYY+6lDmA\n",
       "8qrS1mu8AAADtkGeyUU0TDv/AAAfQQ4PBaJgjjDXKSzfAARG6nZt1ajhkIBFIWcG79KrGOm2wFbv\n",
       "yWz+WhJYE1FDByqFtgMQDA6Ubn7omFBFQCk+b+v+n/Dq+r0VQNapGa82aLYQ6Cx2iIKbH7U/KRxy\n",
       "7uY7FAq+nXlSlwgxAsR4DrLd0p2CGqWVohUaeKFBL2hkHeEGLKml4imPlaH7ubk1d9oZGu2r8fBd\n",
       "2JxKjezRub6hq4OV7aZ6BKcDG2E6+2//VFWh2tRFV27ClOxKoG671tlT5ZXoQu2nP+MDQxL1GfYE\n",
       "4B2bVrcMFlY7q8Xmhe7PfjV2X7SMZ5JD1AMEsej7UgL2JUBhMIoyegcFsji9vOx5ordleNjFpGCx\n",
       "e1D/Kvlj4Y3QWKv65NgNnTlb88dVQhhP9FJ0elyb4lD1r6Qdk3z/IFbPO3JruY10WRxg5hH5OLUp\n",
       "vdGH0ArLY8DaaD8+oidwP+w/OLWKHFmC6t4Ffn8epGKbK7KOB3ucAQkkTboHIpjqugJ8Lh07GV3U\n",
       "WwolrN8+OKPzdduTV/ZU7YQIKVdBhOaKPtFRJ0l7KCmbzA6LsDQLpc+H/X4pPl96ttb39xS4QKJq\n",
       "2/UJWWeU4Mv3FyVqR1lpcEmAleIUgkcMVYMaZg4fCM70HffSPCUW80guHCvfSncGE38c2O9YDdKh\n",
       "gfEiq2vun4HDilCD2tVwxQOWSuPSJ+03fMPDsLTn/i2Zo74LvvRBF1HFd7TWP8XynPBgk3q16kB0\n",
       "lW94kA832C0ZuMVJTYejnUCpe+d39BtZ6uP3OQc43O4aR27Hd1rpSYD/Su8UwIs7thaqjd2C2vK5\n",
       "d5y7rW0+YSrfO9y7c7Ufo4rV5UfMMlgrJ74maQ3mncYn6D8WfdNyXw08ieQ9cRDrA7nzlixwcpaX\n",
       "ixooss/9kXYbxcCVOn5jRi4JreIxeE9flJKEoXXv+jAxxz4guhMGYrX9LaYpX/RDoL90I/OJwtkI\n",
       "nWboQQY44u61uxDOh/7444b9NHbX60hjqiiYLZSTbJJteMwDOXNlOOv+w+FBft3rmWdooJGx5gVH\n",
       "7cpXe4sxYSKpAVZVfRYbegb2hbKfbf0fpMp9Nou+1qE5TmVQA/bodtEH7Wf5L/CaTbsI+CYOdADN\n",
       "5hB9NDJDsmon4gszoQV0baDjFSfpGV7yx/zCiwEnC3rm5L8tXKn10904cQ01QLYv/Mp8FwMvCJwH\n",
       "5hyM7vLtM9Rpsj8TnmsidOZeQrb2Pll8egcz8C+oFDpKZ+n3ES6YBMr2HH/oALaAAAADowGe6HRD\n",
       "fwAALWd8q4aJsCNcHBjKSYAW388RIC9luXbR7ssCD4tefiy3y74ItKA1Nt96LDr6qeT2o8lkXL2z\n",
       "9P7+kmXq2WomE2Vrn80eZBDTbozkZLlxZMRBNzJej8QO9AKE8ZukSUIHolRoMWbovot1nZQSzG0y\n",
       "8zA39bDAHg81JwpXy2WUFrkfBv8tcOYup7h+6cKeumA5+T1FZp56h+CHw4XaqYaDBcrpV4IZr9gz\n",
       "HAd7OZUAOtPxKh7a9jH2fYqP7qdN2LvNbgOjUG76leb2aQiVsWg0nytFnDo/ffa8ttFdVFPZNUiJ\n",
       "4Qax7oU92WvjYwPjWrZCdnQRJjH4AId4pJmt7hwWKLlm6NTBOslR7YqTZkk4uTYv50AzrE8kGDG/\n",
       "rKFRs4Ow7GknyafRBCWOGKX17eoDhJdAEBhWy9x9RAp1SfNCOcQgTDstCjSCw6RlNjULpE9QvOSv\n",
       "f7m01p2ebhHp5/3B1jooQIHJuQwQn28pywyYEERpxjtpvZfetuHc3nK/p7kqquPhsLXHmsgvk3Ax\n",
       "xEqE9kLg5F1Zior5JBbP6By2OC2ow2db+Nmmc+S0nzhKCgrGGRZzW+UlDciX3s9BctEfEc3oqb4X\n",
       "vwUA+PArK9a4kABtMD/S5zN5M/rv9wGjhTHB6OjTNmb0w9yK8BcU9k3W8lSpBjo6rNmyRUtq8EA3\n",
       "AQbwwDg8QdW6ynsDthGHGFI9Dq2t9wueVJdKYRDYQ4eosKglFstxMwVMqPhVkbcLI/gZFBCVKXyo\n",
       "2XqGF/+B9EeGDqGyYFEP8gp7NwU8FveiKpbkXr3Z4gTc+DO7x2+sopZHyvAGEF54nJgtcIUyMEKf\n",
       "hSNr5M3Jfw6I9xG5lkVzJulMAnMtADZrr+P/X2fVS6A4olg66v44gw+xCOBRF1HS411FqKWzQ/4a\n",
       "hanTtuUoWjwLxfe7XZefjEpLyouD1YW732hOQv34bL0DdeaCPeEvhfZrK0zsBzaJD/m0sn0kBQgk\n",
       "U9mRUSEJUGkpW1DiLf6sgXZz1k0sZYL+ku0Lg8dOZOIg7R8oRo/DbaGA6qnxUIDiYD9HVX55KRxB\n",
       "zaDdDFLDmqlabH4IjXarVG9pZM9rELn1KgvRo8ET4DQgu9biUGPO775JksQHJ9+5Q1OwyfkQgIEK\n",
       "kWVA+sl/u7vFhkdDvlya4kMp1+vkLjqyemvn/vGvuxuAKjlRa2mojFTP4Lz/lfMhQ4+Lkzt2YRS5\n",
       "ed0K4tT+EzYezKBALaEAAANFAZ7qakN/AAAtb0J4KzB46j/pgCtVXIKIxplOle8tIf23OS8L84Kc\n",
       "SgFQWDDKK892x+jbGtAW3cpIGI9mphmsJNQuyViOcDhaqw35TiOUdkk1unPhGSiXTP4JFuB1+Sf5\n",
       "EjeknrArRio4yDLg19FsDM4CSvEVRTOX/Ow7iZAqoFoanjnQmypF3h3enWbcnYgwctzyaf8seswh\n",
       "QpMzSBZvT59rDIMQalDeN10WbDtRtZRyzikAkLL2DOG9hldxAyagjBT/+fdIFrM6JkZ7zgosLMFJ\n",
       "pZqhQ0p1ByvwsPtW8rD6VjxTXnJL5mPie8/vhmUjL5bpRRWoxNegbMbHr8Zcc9+k++J7gbtpPnw8\n",
       "vCiCcQyVmOSkLhwHoC42T4yJain/lBXGqam4jgo3nb5KIPZs87oiR2j28v/ZnEizSH3RcFIa0Vwr\n",
       "vb0Ba+M5Ia9XHps9rsG5m6I6geaXDpKmDzP/6zofrRTnMaxmEte34lC793iTvWZLqUeyQuxCIhaZ\n",
       "rQU0Y1TLuCdKttpNbkao5ERVp8kCT6+00qIdIDniEywUomNKACvK2ZfTgE8NAa66458x0S576L/L\n",
       "FRegZmssCvdKzhquClWzDTlLR4yN90lNteURQ4Guobu0HPSwU24rr+aFGVOWDPlwq2a1WP3S9pl/\n",
       "JauTKI8iA0b/FzsTJfRBm8f3g8D6wI+m6d5RWu2ijAsgHGI0+53yHH2BELNHRKhyhgqtzTEpWBv9\n",
       "9GwE3g3EbQ+YVaFQogMKGf+Bxorolbtdm4FMTV5kmH3wsnT7hTPcwXSjGGUZeIALMGROiaFuKARG\n",
       "HV9pnDsJoZ1rCgOmtcbLg15MxK4OSP8RzkEFQiLUY5kGOCjxdNwqj8HoWNDAcF6b91CAuSEuM+YA\n",
       "idxGXKrC9h/VkR6vaaAkD5TynShJkIzkMXg+YTHWVBPKD+4pDzrxvQykmPIiOdML/fF9fZri54qV\n",
       "35jdTCIwJop1CL3/rzVVPXD/vMv1PqnEcEd5iBdC0P4QmaD3qGK3Z82bpzKakLW2bIfJuupDuw73\n",
       "F8S3umMzTeWXA4bIspVNjUIy2cOCm+hrdq1y6mh/iO0752T7ulh64eYqj0/8KRXU2beVlHFCQCtg\n",
       "AAAE5EGa70moQWiZTAgh//6qVQAABlvemG2qKdA+EAcmDfSPFncfBoo62mi/8vwTWRDp+oxQ0rFQ\n",
       "lLyv/IpKHKiWgd7XOQ2VrUXkjHsrBPg9NC1q8gq4Ln4Mx8rvb5pF683hZtAU8AKffs0zz6Me/nsd\n",
       "cWu0zVIABo+8sUEdBrrj0U7MXVXqRpX0IKS/wz6ufDFAwX0p5+EiIAHtqC7mvO5lSnYj7lzTjqJO\n",
       "ZuE/kictkMftaTL33rOuHeBYYN0IygtuSZWhjbX1F4Wyaweliq5qQ0QS35ZFC/oEBT/EO2YvEWVD\n",
       "PkJpGBzaE0z82m+QeMlqi95na5CHMzhalZ/92mEMDovnnEmqvoV63YtdAw6ClTC9yoOuKsoNSa0m\n",
       "7eWtA8MBQ+q7S9ftpU5smKd9ilA/In26TAvrVzsOgUW+LnJdqGpcnUMhy3NTo5NlMtl+xNCgVTyw\n",
       "wPIc2lulvjFbFmb+8As0Ap9V2GPRkvxl1m4nlEt0JDkKOxI60UKb/xYYW/EVUBiU0XXyGR25x7uz\n",
       "2LAOllyph15cy2fw2hg5LG+WuyXbcNAxJMjuNbsuXN88tSZMCqoLx6mQ4+w1BhOkMC2+l8bCNodo\n",
       "wYI0ijBbyk+tkjzaww8eCms425EZ81INDXVooLIuDofuko15iAJOrRa7JHbhynaQgRQfSdN0eTbB\n",
       "VRcCz1KlNbRvIdGa97zHFU60pDquifuCtL5nRtNbew+OvHUbpkT0lS/Yjd90dG5MSyXzjUDMBn+C\n",
       "JzsDOJEmg31HaMujHGxggxQN7/R2McIlELFL1Wew38boW/NzzMR0KJK+BSrDrRj7K89Wt7SupRcz\n",
       "QdGNfMP0IKx+BiqZD3jsahe2CCO4JQX7S6khE3U2DtkxPWQCa4zfAOOH++n1CVC3rBC4ofKgvkmb\n",
       "A2OXw8i5EP+b5MmUx4sMVTbxfPdCSYjqZXLRDtLFoVVwjiyM7MhtcikHGgEiFoCHAuX88RRvrHGu\n",
       "/fNVaPb/P0kI5TzdIQImYEYfQ2fv78NYDbRdzy5P34dYwSXXZVggUhQ+G4EI7TYQZAulAfmnLTud\n",
       "/yyfryrLqCo2DpD3Zh8qRFZt2v/myS04MtOwKasYXBjS3WBX0p0xursMMuihGrC/NSPs/h/gs9FM\n",
       "usvYQ6xg4nL60Hk8Ir3XaWTDc6XcwWiwg536XOsz9MEfUdn73G4CTuTzsbwgCoX9gFaCLYd7Wu4Q\n",
       "Yxq9thJy4rcwQL206co7P8gdmJcMmB/kp/xhe/WZpruxx2zz24L/6xAjuqrQ8/zpREpgX+4RCcg/\n",
       "rcos5RZKQMsyBSp/BPX74HF37o8XD0p7Z4wFxh2WKLAkgB8jJeXd6ftwQunqXzl/x6m0SIGl6GQW\n",
       "0A3yyQCISfVulhBQHforJa3b2C6dWALLBnMLchc5rExmE5Ud/kiYmM0omZgkvbYLZyWL5ElW1rTk\n",
       "YrTQSBi/vYvlKvL45ANQDPCwe5elsm8DLPNzPW0muLZfn+ldPkF/dDhaLYdIDtLB0ByeIrLKwGOP\n",
       "xwlcaLi5ISW+6K9ObTKY+aLbOzirE6P01PMCZENDkgLCt04u6nDNHHGh53eboDiTSSIAPuFxw+YK\n",
       "FmGtpkHqiDzGC+ko9tUS67ApmBtZfvHyYT0++KATBdtuPr5ib/4s49IArcgJ8xzMyssFYDz8yJp5\n",
       "IyoAAAL7QZ8NRREsO/8AAB9CNPpYTwfoB8+88v+LhAU5ADYpwJejHkNqzGjAlVRkRNPoL7QhIfO+\n",
       "lHHMtwmtqQDjK4j/mt2VMaBJih46KDrc/z+YspdOyqOV81yzte6wzA092rNy0ia9X1FcYgqyZYLs\n",
       "Tz8V63VbHZ3dT5wP1bFlNzRlcPl3YlnYbvaoucdeA28VuFw+vtHECfuAYMN9+ctHJu/O9Ut1WJ/z\n",
       "LgYruRjzdlFYVrE/t4YDxjPMaPUPT4sED+fvfZlXK0agRxmgbPV1AYUlhVkjfWku6n1LSJuGNzRy\n",
       "Hf9IsT7GUXjvjC7Ym357ZJob19Mgg+G7paq0SVZh5JPM/xceggjY4soBVUwZ8ezX6bysWqlxfxcB\n",
       "aAicRn9H7bemDp5wuTcOfKiDFJwQooXXC44wslRRs1fjbqHG+/zSjflaujakvDoAGfL92nVqzC79\n",
       "PybUlBKjfT0xSGqHfGIY6w1Dp6C8hpHFipNbvpjQ6Eg8FuPTJrLYFgnapTuf1sSG8EyBX7XgcL4x\n",
       "UYZiNxDApNzwk0FD0KFZiYM0NAq9rLKOaXGgV3gQHFIO4IgENLLPIgFaQArMWbm8335xzSuGdkej\n",
       "ScadwMiIKA4BJ/9VMetuBEcNdUGGDNzrBhMs9tiFQDEWc4Zeg9rDW2KbqYXYZCULDAH9Jl5h4q0C\n",
       "CUeZ/+0h0QozXWmFFsvTn6dfX+uhT+WsMURF4QvYn2an272JShjW7ZfvpLKB7G/q7t7mTk4MqrUq\n",
       "TWwCiBKkP685KL6/GDcXAA+nuqhyjqTGQnvA07Izr/cY5ATxNM/f0JL4KoLL2DeRTi375hAPYdFT\n",
       "ZMC1nDTlyM6EISgVV1/M4yq2gG7jr8yczJfsHVUqKQeX1zu0P5f3Q7HPxcgIJCXK8HB8bdhrcoOR\n",
       "0tJc5kLlEtBYfn/HamVwV2uIqXWMEVZNmVGjMDOBHFrYxgG/6exBNfAQyOYaiT6B5ZszxstGVUUB\n",
       "iUo3UtWPyw/k7B32fYSdTbDCFu7ZTBD+AAD0gQAAAi8Bnyx0Q38AAC1nfLw572jj9iYAAV1jKLDL\n",
       "NsCX3XibiYdZU5Quaz5F2V9xvSKK+aYr/B8EmNSF1bWuM6PIlY1JCjm+mBZ4j68hGECTa0J3Dfew\n",
       "HZY9uW4IRksX74YbtjIZS7zAgIk+M2KaDsS+atzTQ4tIpmeMhgxdxd+SXKGYwt4QUBKVEdvjLmMF\n",
       "JyNTLIHXmfx+FR4K4OO3abQe9fHPc+x6mWUR6uxhL7Rqj7YFPXMpL047imSNqTiOBuBVwzDYwwsY\n",
       "Uw/gCD+5nxsncGFnMdehbfK4h+UbjvXzZ0QOhyIvPCQ9IK2PyqhKMAL/limofQFB+BBw8mSfzKyL\n",
       "QrQbx+RPej4HkRHCJhva4fJjUjjD9rh6dDesmZoST9QJc9AGx2c/vlLw0r8lEzdcULayorOh4Um6\n",
       "IoDmG0nzOZvcOc7Gwoc+r7eqdoLaFPMxiUwObFIn8TKPwfxHawibSkvdUNxsN8gmmUkLGqcftDY6\n",
       "ONDGVmZnQJBeopDJyPJH5lsrB4mO2EyEhwzmBVBjIkCtUi8Vuj5j2B/XDtzT8oA6saGKDMBaF0r4\n",
       "ENtJLCi2OGivWOIUZWVDtu54msMWV6saUp7D6xGC6q/muPzq+wm2VN7nfJiNbFqZUdyBrnb4nnLx\n",
       "QhbGsCaGuXLsFrOy/QjRpGjwypNX7ZQJSstVlm441PAzEaHQT9r4U9vcvvqBaLPjbSuEb76HRy2k\n",
       "l3D/LUGuB/N/iUn4gDL/7ajeABZRAAABzAGfLmpDfwAALW9CeCrwQHMyYpT1E52eg2ooKrCyLBCA\n",
       "AATbRGNP/QOr2dWlX0haiWRpIrB7WHByPkHRX8lgKuzZgGdcc6+oqtQl80glsXGOQ+qwnA8o9BG8\n",
       "TLi87SEgXB7hGKB6iVIhS4RtYcWF/r14hEAhuHuDuH9bkdDIQspCv0Y523CYyL1MAyaFu6RZuzCG\n",
       "7VY5G0Qfpma8NlLYpk+T25k9JP/Zf1YnJ3W/V0YnfyBk5hmPM8PVwalsQCT/Xmj7IhLYKg9lZMvc\n",
       "NiT7ItIGbJWlFR+Vv9TOwToc20eME2l3OntrWecFbYB7sXGQBlOt1TBBECusKFQrX8lWir7ojy+x\n",
       "4H2GVNCOhhYffrMeFB8cabXCu1OJTSXKTY0wxzlWYS0fzG9Ndu41PQYJ8C0cqGV4SO3ruJk1Rg97\n",
       "hHAyUQYzx0z28sfo6kWrmZy0nNg9s+gr91SuEy69IlNjYd2BmXk3YLVQul+GhfLVj5WJfWAzHxp/\n",
       "TnCvS/3w+uoFVKGiAU2wLrjpgYnx4ZIEKBZHMXDXhKyLh9yeComeTsaG91ciK4XxE+ffxzxMRn52\n",
       "wFOZPyZEFdm1c4C5epgMRA/q7zqemLo9uqAAZ8EAAAI/QZszSahBbJlMCG///qeEAAAvth6IAL7u\n",
       "sAKKglEZmeLxpTWOWb41I0vDwbvw925w7L48WIgHabMpHIPtgG0fA1CrJIThjo8S4vcM+YtpDXTm\n",
       "76+G6MGZcyoW+Jcf+TAG0TzbdiOzrRUyb1/OvXsAv9QB8lWdq2tnKdyn0Yce01ijxEnhiC8wP6ex\n",
       "d+fg6v1QXvRNLRK9ARskNvEZ8Ow7S9raVFlxDmChpEmGpP0QAFSU9kOxM3G6MYoAYEFWYK8M1c46\n",
       "fAvHe8lYPgxr6L00dpDICD8mHWeUmGG7/1fgghH2T6hyL1aLCFxkHIvP5PV+Jo8w6E0laay819qv\n",
       "z9z/wGTAP7BjcZpNRcOJB1o+wuDwcpBxoodcGmrPIqEEWlLBgKNSXoniBRbvkJyeC8/H+ZhJf6Mw\n",
       "lmxsZ3PT3QJM+dwBAUndKvoIHPulImj8kFlsCeUaLo1VcX4s0S7+5ufWJPCX/dpcrf0ox2eJP5YZ\n",
       "7cRhU+eccteM09mWVqrKGr4ovTjuo4OZ5ZzIl4PcGv3W5lgr/Bv2yQQA8RKnO/EeYVaKf88tFLVu\n",
       "k7Ixer/iFDfAoww3GlUhu6meGkgG4pEYer2MBmUDdzKOmlOSBzliQFZyDGOPPDrbsS2WZI2gqjRk\n",
       "DbSKHN0di4oj+E/gCOGG/qa2IZZgU2omkvSxL4BB90+2c+VurAEJpjHCrDEBEYgVvUMphHXOndvF\n",
       "P5sBZPFJbGlbRVfkPWWbOlZH3dgDkxtItnpIaWlXPPqgWAgcheAAAAHKQZ9RRRUsO/8AAB9CNPpY\n",
       "XOnYVosO7h5s2zjqVPnO13EALnoeqr+mK4D0JpxU4WTBLPWULP8KZpJ//bYbHsx9vi0YH7Z3fnHR\n",
       "ixcoQuktUJJYWu8U6Y3Y3j99QpGAcTZDQxhbGMPktfF8+5ypEhwseUOmj1fZp7KK2tIRhaqLqM7D\n",
       "AuTy/FVQk2ptGVMSFV4WHx0escG1A/txJZORQWDpD8Ow92IEZoa0n1BAYWNVLlqU+1QEbnuKRPE2\n",
       "x6Ub0+QAW11+ofHf645r6Fwb3yc6RPU3OFfpJ4BaY96EBHLvJojfyqaKoLsftpCvpX2UjE7F8HIh\n",
       "h4HUPLsmI/NQOAHxjwNeqVi3/3zdzE4eaezPqMYXTDiXRdMcJ7BfCnupzqysRDcqaTOGQxdOWryr\n",
       "RP68CrBd2XUOAo5L+iCT98VDe4DYBhTD3yF6+YCKpLg4epyb86LHKOQUjsQWc2mT5c2NLYUG39E4\n",
       "uRK98bkC8/OEHtHUosRYJK0Oilc6ByyHX0m/0ym9obhpsA9FoAUV45vZ8sapXhNDTWlMs+x89bwA\n",
       "k6cBTGfpBdEdxfe73C3jDiW5anAx3E4d7gQWAi8JhEXSVN6ij4nelmAAcsAAAAGSAZ9wdEN/AAAt\n",
       "Z3y8PEAXkybnft3Av1g7jJWMAAaytfdoALqs+UsNPAAoRKgbb47Ztrd2i+X+vGmqY54EgXAU8TrX\n",
       "/htodUxfG3SAYAyediyc+x2wJvZm7huFlGWFlvA0Z2yrcSPtgNWRWqXYRkGvvFzUPDdc5/1nbfCS\n",
       "AqNw/mD8h780oyH0nsWwa25DWCz038eqUEqgalrjRUc4ozoW1rdKVibxBC9IAxRj3YelUAuR6D/u\n",
       "QvVx4CGqmiGtKtKBMTFf0kzFRIB6TEHrWrBIDMwRkkmRtXjkg7nki6FNtqiLlGuqY+eFUdU/6Fq1\n",
       "1Kve6Hr51E0tURcgXAMfilwqabWuJvrDSqlSqfQC01MPZOxin0kuPIem0HndCa0daxHnfDAA8zoa\n",
       "wnprLpqgsJhwPWv8Tj0ckcSdi88zOM6NgRNkoERk+AMQCctPV3pbU3aE5+lI6DA3bkOe6ZMkkDix\n",
       "A3V9zGKDbbFQKcqNGWKgoBGH6rPp4jQUyDf0PZ45f1qszgnNasTIuCrg3eSoQAeBgAPHAAABeAGf\n",
       "cmpDfwAALW9CeCroOB6GLGXvclhtXK0OrAAE2CrRhBqeygCsy+eRjt0cbqOav3DJkvmvYFU7QpQ0\n",
       "Wbk7BPb6iGGfP9tOdeXcK3B7fCBn+WB995bHKbyfy9+dAR4qZMzsGoceZEIZqNL2IORlBwJXozQM\n",
       "46M49/Pqi/Bq9cz5M73PVndwb2LzbQRbg6mF/VeZ7R3X3Q0ByiNzcxPSyo7gJpnKqeu1kBsJ5gAi\n",
       "909DFSiVXN9IF4RzWcxtkGvHv9ngOibnfwDmmaIfpjR9DMbC3YqSwzLMbIUJZhRBQ7GTsaf0A/pf\n",
       "5hXfrynJcqeuEdoOiaWhYajMW++d0IQZLFes9z9E+OfiACVzE70oo9hBNwNan+Oc7vnHJPHRxLQp\n",
       "Hw7apDStlMGnY4pY0NJd6VwbZrBqrTSUzIEE7ovIXTIzaBk0zulctewMrZaH6irEayTEtB9on5JH\n",
       "walZB9uyHiJY71xyhllkSdMTz0LtuyjEupNd9UuIAUEAAAQYbW9vdgAAAGxtdmhkAAAAAAAAAAAA\n",
       "AAAAAAAD6AAAB9AAAQAAAQAAAAAAAAAAAAAAAAEAAAAAAAAAAAAAAAAAAAABAAAAAAAAAAAAAAAA\n",
       "AABAAAAAAAAAAAAAAAAAAAAAAAAAAAAAAAAAAAAAAAAAAgAAA0J0cmFrAAAAXHRraGQAAAADAAAA\n",
       "AAAAAAAAAAABAAAAAAAAB9AAAAAAAAAAAAAAAAAAAAAAAAEAAAAAAAAAAAAAAAAAAAABAAAAAAAA\n",
       "AAAAAAAAAABAAAAAAlgAAAJYAAAAAAAkZWR0cwAAABxlbHN0AAAAAAAAAAEAAAfQAAAIAAABAAAA\n",
       "AAK6bWRpYQAAACBtZGhkAAAAAAAAAAAAAAAAAAAoAAAAUABVxAAAAAAALWhkbHIAAAAAAAAAAHZp\n",
       "ZGUAAAAAAAAAAAAAAABWaWRlb0hhbmRsZXIAAAACZW1pbmYAAAAUdm1oZAAAAAEAAAAAAAAAAAAA\n",
       "ACRkaW5mAAAAHGRyZWYAAAAAAAAAAQAAAAx1cmwgAAAAAQAAAiVzdGJsAAAAtXN0c2QAAAAAAAAA\n",
       "AQAAAKVhdmMxAAAAAAAAAAEAAAAAAAAAAAAAAAAAAAAAAlgCWABIAAAASAAAAAAAAAABAAAAAAAA\n",
       "AAAAAAAAAAAAAAAAAAAAAAAAAAAAAAAAAAAAGP//AAAAM2F2Y0MBZAAW/+EAGmdkABas2UCYE3ll\n",
       "hAAAAwAEAAADAFA8WLZYAQAGaOvjyyLAAAAAHHV1aWRraEDyXyRPxbo5pRvPAyPzAAAAAAAAABhz\n",
       "dHRzAAAAAAAAAAEAAAAUAAAEAAAAABRzdHNzAAAAAAAAAAEAAAABAAAAqGN0dHMAAAAAAAAAEwAA\n",
       "AAIAAAgAAAAAAQAAFAAAAAABAAAIAAAAAAEAAAAAAAAAAQAABAAAAAABAAAMAAAAAAEAAAQAAAAA\n",
       "AQAAFAAAAAABAAAIAAAAAAEAAAAAAAAAAQAABAAAAAABAAAUAAAAAAEAAAgAAAAAAQAAAAAAAAAB\n",
       "AAAEAAAAAAEAABQAAAAAAQAACAAAAAABAAAAAAAAAAEAAAQAAAAAHHN0c2MAAAAAAAAAAQAAAAEA\n",
       "AAAUAAAAAQAAAGRzdHN6AAAAAAAAAAAAAAAUAAALbwAAClUAAAffAAAGHwAABDAAAAPgAAAHBQAA\n",
       "BScAAAZtAAADugAAA6cAAANJAAAE6AAAAv8AAAIzAAAB0AAAAkMAAAHOAAABlgAAAXwAAAAUc3Rj\n",
       "bwAAAAAAAAABAAAALAAAAGJ1ZHRhAAAAWm1ldGEAAAAAAAAAIWhkbHIAAAAAAAAAAG1kaXJhcHBs\n",
       "AAAAAAAAAAAAAAAALWlsc3QAAAAlqXRvbwAAAB1kYXRhAAAAAQAAAABMYXZmNTcuODMuMTAw\n",
       "\">\n",
       "  Your browser does not support the video tag.\n",
       "</video>"
      ],
      "text/plain": [
       "<IPython.core.display.HTML object>"
      ]
     },
     "execution_count": 96,
     "metadata": {},
     "output_type": "execute_result"
    }
   ],
   "source": [
    "HTML(ani.to_html5_video())"
   ]
  },
  {
   "cell_type": "code",
   "execution_count": 60,
   "metadata": {},
   "outputs": [],
   "source": [
    "l,m,n=2,2,-2"
   ]
  },
  {
   "cell_type": "code",
   "execution_count": 71,
   "metadata": {},
   "outputs": [],
   "source": [
    "phi, theta = np.mgrid[-pi:pi:101j, -pi/2:pi/2:101j]\n",
    "x = r * sin(phi) * cos(theta)\n",
    "y = r * sin(phi) * sin(theta)\n",
    "z = r * cos(phi)\n",
    "R_tp = quaternion.from_spherical_coords(phi, theta) #-2*np.pi\n",
    "#w = np.array([sf.Wigner_D_element(R, 3, 2, 1) for R in R_tp]).real\n",
    "s = sph_harm(m, n, phi, theta).real\n",
    "w = np.array([sf.SWSH(R, l, (m, n)) for R in R_tp])"
   ]
  },
  {
   "cell_type": "code",
   "execution_count": 72,
   "metadata": {},
   "outputs": [
    {
     "data": {
      "text/plain": [
       "<matplotlib.image.AxesImage at 0x7fe4afedb4e0>"
      ]
     },
     "execution_count": 72,
     "metadata": {},
     "output_type": "execute_result"
    },
    {
     "data": {
      "image/png": "[encoded data removed]",
      "text/plain": [
       "<Figure size 432x288 with 2 Axes>"
      ]
     },
     "metadata": {
      "needs_background": "light"
     },
     "output_type": "display_data"
    }
   ],
   "source": [
    "f, ax = plt.subplots(1,2)\n",
    "ax[0].imshow(s.real)\n",
    "ax[1].imshow(w.real)"
   ]
  },
  {
   "cell_type": "code",
   "execution_count": 301,
   "metadata": {},
   "outputs": [
    {
     "data": {
      "text/plain": [
       "<matplotlib.image.AxesImage at 0x7f848e643780>"
      ]
     },
     "execution_count": 301,
     "metadata": {},
     "output_type": "execute_result"
    },
    {
     "data": {
      "image/png": "[encoded data removed]",
      "text/plain": [
       "<Figure size 432x288 with 1 Axes>"
      ]
     },
     "metadata": {
      "needs_background": "light"
     },
     "output_type": "display_data"
    }
   ],
   "source": []
  },
  {
   "cell_type": "code",
   "execution_count": null,
   "metadata": {},
   "outputs": [],
   "source": []
  }
 ],
 "metadata": {
  "kernelspec": {
   "display_name": "Python (sandbox)",
   "language": "python",
   "name": "venv-sandbox"
  },
  "language_info": {
   "codemirror_mode": {
    "name": "ipython",
    "version": 3
   },
   "file_extension": ".py",
   "mimetype": "text/x-python",
   "name": "python",
   "nbconvert_exporter": "python",
   "pygments_lexer": "ipython3",
   "version": "3.7.1"
  }
 },
 "nbformat": 4,
 "nbformat_minor": 4
}
