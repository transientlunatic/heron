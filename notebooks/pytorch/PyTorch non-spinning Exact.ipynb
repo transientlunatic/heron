{
 "cells": [
  {
   "cell_type": "code",
   "execution_count": 1,
   "metadata": {},
   "outputs": [],
   "source": [
    "import math\n",
    "import torch\n",
    "import gpytorch\n",
    "from gpytorch.kernels import RBFKernel\n",
    "from matplotlib import pyplot as plt\n",
    "import numpy as np\n",
    "import tqdm\n",
    "%matplotlib inline\n",
    "%load_ext autoreload\n",
    "%autoreload 2"
   ]
  },
  {
   "cell_type": "code",
   "execution_count": 2,
   "metadata": {},
   "outputs": [],
   "source": [
    "data = np.genfromtxt(\"../../heron/models/data/gt-M60-F1024.dat\")"
   ]
  },
  {
   "cell_type": "code",
   "execution_count": 3,
   "metadata": {},
   "outputs": [],
   "source": [
    "training_x = torch.tensor(data[:,[0,1]]*100).float().cuda()\n",
    "training_y = torch.tensor(data[:,-2]*1e21).float().cuda()"
   ]
  },
  {
   "cell_type": "code",
   "execution_count": 4,
   "metadata": {},
   "outputs": [],
   "source": [
    "from functools import reduce\n",
    "import operator\n",
    "def prod(iterable):\n",
    "    return reduce(operator.mul, iterable)"
   ]
  },
  {
   "cell_type": "code",
   "execution_count": 469,
   "metadata": {},
   "outputs": [],
   "source": [
    "class ExactGPModel(gpytorch.models.ExactGP):\n",
    "    def __init__(self, train_x, train_y, likelihood):\n",
    "        super(ExactGPModel, self).__init__(train_x, train_y, likelihood)\n",
    "        self.mean_module = gpytorch.means.ZeroMean()\n",
    "        self.covar_module = (gpytorch.kernels.RBFKernel(active_dims=0,\n",
    "                                                                                    lengthscale_constraint=gpytorch.constraints.GreaterThan(0.1)\n",
    "                                                                                   )*gpytorch.kernels.RBFKernel(active_dims=1, \n",
    "                                                                                                                #lengthscale_prior=gpytorch.priors.UniformPrior(0.5,1.5).cuda(),\n",
    "                                                                                                                lengthscale_constraint=gpytorch.constraints.GreaterThan(0.9)))\n",
    "\n",
    "    def forward(self, x):\n",
    "        mean_x = self.mean_module(x)\n",
    "        covar_x = self.covar_module(x)\n",
    "        return gpytorch.distributions.MultivariateNormal(mean_x, covar_x)"
   ]
  },
  {
   "cell_type": "code",
   "execution_count": 470,
   "metadata": {},
   "outputs": [],
   "source": [
    "# initialize likelihood and model\n",
    "likelihood = gpytorch.likelihoods.GaussianLikelihood(noise_constraint=gpytorch.constraints.LessThan(0.8))\n",
    "model = ExactGPModel(training_x, training_y, likelihood)"
   ]
  },
  {
   "cell_type": "code",
   "execution_count": 471,
   "metadata": {},
   "outputs": [],
   "source": [
    "model = model.cuda()\n",
    "likelihood = likelihood.cuda()"
   ]
  },
  {
   "cell_type": "code",
   "execution_count": 472,
   "metadata": {},
   "outputs": [],
   "source": [
    "preconditioner_size = 100\n",
    "n_devices = 1\n",
    "output_device = torch.device('cuda:0')"
   ]
  },
  {
   "cell_type": "code",
   "execution_count": 509,
   "metadata": {},
   "outputs": [
    {
     "name": "stderr",
     "output_type": "stream",
     "text": [
      "/home/daniel/.virtualenvs/gaston/sandbox/local/lib/python3.7/site-packages/ipykernel_launcher.py:14: TqdmDeprecationWarning: This function will be removed in tqdm==5.0.0\n",
      "Please use `tqdm.notebook.tqdm` instead of `tqdm.tqdm_notebook`\n",
      "  \n"
     ]
    },
    {
     "data": {
      "application/vnd.jupyter.widget-view+json": {
       "model_id": "9288472e48ce42e78d8c469482b06d8a",
       "version_major": 2,
       "version_minor": 0
      },
      "text/plain": [
       "HBox(children=(FloatProgress(value=0.0, description='Epoch', max=50000.0, style=ProgressStyle(description_widt…"
      ]
     },
     "metadata": {},
     "output_type": "display_data"
    },
    {
     "name": "stdout",
     "output_type": "stream",
     "text": [
      "\n"
     ]
    }
   ],
   "source": [
    "training_iterations = 50000\n",
    "model.train()\n",
    "likelihood.train()\n",
    "\n",
    "# We use SGD here, rather than Adam. Emperically, we find that SGD is better for variational regression\n",
    "optimizer = torch.optim.Adam([\n",
    "    {'params': model.parameters()},\n",
    "], lr=0.1)\n",
    "\n",
    "# Our loss object. We're using the VariationalELBO\n",
    "mll = gpytorch.mlls.ExactMarginalLogLikelihood(likelihood, model)\n",
    "\n",
    "\n",
    "epochs_iter = tqdm.tqdm_notebook(range(training_iterations), desc=\"Epoch\")\n",
    "for i in epochs_iter:\n",
    "    optimizer.zero_grad()\n",
    "    # Output from model\n",
    "    output = model(training_x)\n",
    "    # Calc loss and backprop gradients\n",
    "    loss = -mll(output, training_y).cuda()\n",
    "    loss.backward()\n",
    "    optimizer.step()"
   ]
  },
  {
   "cell_type": "code",
   "execution_count": 510,
   "metadata": {},
   "outputs": [
    {
     "data": {
      "text/plain": [
       "GaussianLikelihood(\n",
       "  (noise_covar): HomoskedasticNoise(\n",
       "    (raw_noise_constraint): LessThan(8.000E-01)\n",
       "  )\n",
       ")"
      ]
     },
     "execution_count": 510,
     "metadata": {},
     "output_type": "execute_result"
    }
   ],
   "source": [
    "model.eval()\n",
    "likelihood.eval()"
   ]
  },
  {
   "cell_type": "code",
   "execution_count": 511,
   "metadata": {},
   "outputs": [],
   "source": [
    "import heron.models"
   ]
  },
  {
   "cell_type": "code",
   "execution_count": 512,
   "metadata": {},
   "outputs": [],
   "source": [
    "import heron.models.gw"
   ]
  },
  {
   "cell_type": "code",
   "execution_count": 513,
   "metadata": {},
   "outputs": [],
   "source": [
    "from elk.waveform import Timeseries"
   ]
  },
  {
   "cell_type": "code",
   "execution_count": 514,
   "metadata": {},
   "outputs": [],
   "source": [
    "class CudaWaveform(heron.models.Model, heron.models.gw.BBHNonSpinSurrogate, heron.models.gw.HofTSurrogate):\n",
    "    \n",
    "    time_factor = 1\n",
    "    x_dimensions = 2\n",
    "    strain_input_factor = 1e21\n",
    "    \n",
    "    def __init__(self, model, likelihood):\n",
    "        \"\"\"\n",
    "        Construct a CUDA-based waveform model with pyTorch\n",
    "        \"\"\"\n",
    "        self.model = model\n",
    "        #\n",
    "        self.likelihood = likelihood\n",
    "        self.eval()\n",
    "        \n",
    "    def eval(self):\n",
    "        \"\"\"\n",
    "        Prepare the model to be evaluated.\n",
    "        \"\"\"\n",
    "        self.model.eval()\n",
    "        self.likelihood.eval()\n",
    "        \n",
    "    def _process_inputs(self, times, p):\n",
    "        times *= self.time_factor\n",
    "        p['mass ratio'] *= 100\n",
    "        return times, p\n",
    "    \n",
    "    def build():\n",
    "        \"\"\"\n",
    "        Right now this isn't need by this method\n",
    "        \"\"\"\n",
    "        pass\n",
    "    \n",
    "    def mean(self, times, p):\n",
    "        times_b = times.copy()\n",
    "        points = self._generate_eval_matrix(p, times_b)\n",
    "        points = torch.tensor(points).float().cuda()\n",
    "        with torch.no_grad(), gpytorch.settings.fast_pred_var():\n",
    "            f_preds = model(points)\n",
    "        \n",
    "        mean, var = f_preds.mean/self.strain_input_factor, f_preds.variance.detach()/self.strain_input_factor\n",
    "\n",
    "        return mean, var\n",
    "    \n",
    "    def frequency_domain_waveform(self, p, times = np.linspace(-2, 2, 100)):\n",
    "        mean, var = self.mean(times, p)\n",
    "\n",
    "        strain_f = mean.rfft(1)\n",
    "        uncert_f = var.rfft(1)\n",
    "\n",
    "        return strain_f, uncert_f\n",
    "    \n",
    "    def time_domain_waveform(self, p, times = np.linspace(-2, 2, 100)):\n",
    "        mean, var = self.mean(times, p)\n",
    "\n",
    "        return mean, var"
   ]
  },
  {
   "cell_type": "code",
   "execution_count": 515,
   "metadata": {},
   "outputs": [],
   "source": [
    "generator = CudaWaveform(model, likelihood)"
   ]
  },
  {
   "cell_type": "code",
   "execution_count": 516,
   "metadata": {},
   "outputs": [],
   "source": [
    "class CudaLikelihood(object):\n",
    "    def __init__(self, model, data, times = np.linspace(-2, 2, 100)):\n",
    "        \"\"\"\n",
    "        Produces a likelihood object given a model and some data.\n",
    "        \"\"\"\n",
    "        self.model = model\n",
    "        self.data = data\n",
    "        self.times = times\n",
    "    \n",
    "    def _inner_product(self, p):\n",
    "        \"\"\"\n",
    "        Calculate the inner product between the waveform and the data.\n",
    "        \"\"\"\n",
    "        \n",
    "        def cuda_conj(tensor):\n",
    "            new_tensor = tensor.clone()\n",
    "            new_tensor[:,1] = tensor[:,1] * -1\n",
    "            return new_tensor\n",
    "        \n",
    "        def cuda_product(a, b):\n",
    "            return torch.stack([a[:,0]*b[:,0] + a[:,1]*b[:,1], a[:,0]*b[:,1] + a[:,1]*b[:,0]], dim=1)\n",
    "        \n",
    "        waveform = self.model.frequency_domain_waveform(p, times=self.times)\n",
    "        data = self.data\n",
    "        \n",
    "        integrand = cuda_product(cuda_conj(waveform[0]), data).double()\n",
    "        integrand *= 1./((cuda_product(cuda_conj(waveform[1]), waveform[1])).double()+1e-48)\n",
    "        # Next we'd need to divide by the data noise as well\n",
    "               \n",
    "        return 4. / (self.times[-1] - self.times[0]) * torch.sum(integrand[:,0])\n",
    "\n",
    "    def _log_likelihood(self, p):\n",
    "        return self._inner_product(p)/2\n",
    "    \n",
    "    def __call__(self, p):\n",
    "        return self._log_likelihood(p)"
   ]
  },
  {
   "cell_type": "code",
   "execution_count": 517,
   "metadata": {},
   "outputs": [],
   "source": [
    "l = CudaLikelihood(generator, data = generator.frequency_domain_waveform({'mass ratio': 0.8})[0])"
   ]
  },
  {
   "cell_type": "code",
   "execution_count": 520,
   "metadata": {},
   "outputs": [
    {
     "data": {
      "text/plain": [
       "[<matplotlib.lines.Line2D at 0x7f6c54f21b70>]"
      ]
     },
     "execution_count": 520,
     "metadata": {},
     "output_type": "execute_result"
    },
    {
     "data": {
      "image/png": "[encoded data removed]",
      "text/plain": [
       "<Figure size 432x288 with 1 Axes>"
      ]
     },
     "metadata": {
      "needs_background": "light"
     },
     "output_type": "display_data"
    }
   ],
   "source": [
    "mean, var = generator.time_domain_waveform({'mass ratio': .8})\n",
    "plt.plot(mean.cpu())\n",
    "plt.plot(var.cpu())\n",
    "#plt.plot(np.sqrt(generator.time_domain_waveform({'mass ratio': 0.11})[1].cpu()))"
   ]
  },
  {
   "cell_type": "code",
   "execution_count": 521,
   "metadata": {},
   "outputs": [
    {
     "data": {
      "text/plain": [
       "[Parameter containing:\n",
       " tensor([16.3154], device='cuda:0', requires_grad=True),\n",
       " Parameter containing:\n",
       " tensor([[-16.3161]], device='cuda:0', requires_grad=True),\n",
       " Parameter containing:\n",
       " tensor([[-16.3159]], device='cuda:0', requires_grad=True)]"
      ]
     },
     "execution_count": 521,
     "metadata": {},
     "output_type": "execute_result"
    }
   ],
   "source": [
    "list(model.parameters())"
   ]
  },
  {
   "cell_type": "code",
   "execution_count": 497,
   "metadata": {},
   "outputs": [
    {
     "data": {
      "text/plain": [
       "[Parameter containing:\n",
       " tensor([3.3169], device='cuda:0', requires_grad=True),\n",
       " Parameter containing:\n",
       " tensor([[-5.6782]], device='cuda:0', requires_grad=True),\n",
       " Parameter containing:\n",
       " tensor([[-5.8714]], device='cuda:0', requires_grad=True)]"
      ]
     },
     "execution_count": 497,
     "metadata": {},
     "output_type": "execute_result"
    }
   ],
   "source": [
    "list(model.parameters())"
   ]
  },
  {
   "cell_type": "code",
   "execution_count": 522,
   "metadata": {},
   "outputs": [],
   "source": [
    "def cuda_conj(tensor):\n",
    "    new_tensor = tensor.clone()\n",
    "    new_tensor[:,1] = tensor[:,1] * -1\n",
    "    return new_tensor\n",
    "\n",
    "def cuda_product(a, b):\n",
    "    return torch.stack([a[:,0]*b[:,0] + a[:,1]*b[:,1], a[:,0]*b[:,1] + a[:,1]*b[:,0]], dim=1)"
   ]
  },
  {
   "cell_type": "code",
   "execution_count": 523,
   "metadata": {},
   "outputs": [],
   "source": [
    "waveform = generator.frequency_domain_waveform({'mass ratio': 1})"
   ]
  },
  {
   "cell_type": "code",
   "execution_count": 524,
   "metadata": {},
   "outputs": [
    {
     "data": {
      "text/plain": [
       "[<matplotlib.lines.Line2D at 0x7f6c54eb36d8>]"
      ]
     },
     "execution_count": 524,
     "metadata": {},
     "output_type": "execute_result"
    },
    {
     "data": {
      "image/png": "[encoded data removed]",
      "text/plain": [
       "<Figure size 432x288 with 1 Axes>"
      ]
     },
     "metadata": {
      "needs_background": "light"
     },
     "output_type": "display_data"
    }
   ],
   "source": [
    "plt.plot(generator.frequency_domain_waveform({'mass ratio': 1.0})[0][:,0].cpu())\n",
    "plt.plot(generator.frequency_domain_waveform({'mass ratio': 1.0})[1][:,0].cpu())"
   ]
  },
  {
   "cell_type": "code",
   "execution_count": 526,
   "metadata": {},
   "outputs": [
    {
     "data": {
      "text/plain": [
       "(tensor(-1.8580e+12, device='cuda:0', dtype=torch.float64),\n",
       " tensor(8.6364e+08, device='cuda:0', dtype=torch.float64))"
      ]
     },
     "execution_count": 526,
     "metadata": {},
     "output_type": "execute_result"
    }
   ],
   "source": [
    "l._inner_product({'mass ratio': 0.99}),  l._inner_product({'mass ratio': 0.95})"
   ]
  },
  {
   "cell_type": "code",
   "execution_count": 527,
   "metadata": {},
   "outputs": [
    {
     "data": {
      "text/plain": [
       "tensor(4.3182e+08, device='cuda:0', dtype=torch.float64)"
      ]
     },
     "execution_count": 527,
     "metadata": {},
     "output_type": "execute_result"
    }
   ],
   "source": [
    "l({'mass ratio': 0.95})"
   ]
  },
  {
   "cell_type": "code",
   "execution_count": 529,
   "metadata": {},
   "outputs": [
    {
     "data": {
      "text/plain": [
       "tensor(-9.2898e+11, device='cuda:0', dtype=torch.float64)"
      ]
     },
     "execution_count": 529,
     "metadata": {},
     "output_type": "execute_result"
    }
   ],
   "source": [
    "l({'mass ratio': 0.99})"
   ]
  },
  {
   "cell_type": "code",
   "execution_count": null,
   "metadata": {},
   "outputs": [],
   "source": [
    "integrand = cuda_conj(aa[0]) * bb[0]\n",
    "#return 4 / duration * np.sum(integrand)"
   ]
  },
  {
   "cell_type": "code",
   "execution_count": null,
   "metadata": {},
   "outputs": [],
   "source": [
    "duration = 0.1\n",
    "\n",
    "inner_product = 4 / duration * torch.sum(integrand)"
   ]
  },
  {
   "cell_type": "code",
   "execution_count": null,
   "metadata": {},
   "outputs": [],
   "source": [
    "inner_product.cpu().numpy()"
   ]
  },
  {
   "cell_type": "code",
   "execution_count": null,
   "metadata": {},
   "outputs": [],
   "source": [
    "size = 1000\n",
    "\n",
    "times = np.linspace(-2, 2, 1000)\n",
    "q = 0.4\n",
    "\n",
    "points = np.ones((1000,2))\n",
    "points[:,0] = times\n",
    "points[:,1] = points[:,1] * q * 100\n",
    "\n",
    "test_x = torch.tensor(points).float()\n",
    "test_x = test_x.cuda()"
   ]
  },
  {
   "cell_type": "code",
   "execution_count": null,
   "metadata": {},
   "outputs": [],
   "source": [
    "#%%timeit\n",
    "with torch.no_grad(), gpytorch.settings.fast_pred_var():\n",
    "    f_preds = model(test_x)\n",
    "    y_preds = likelihood(f_preds)"
   ]
  },
  {
   "cell_type": "code",
   "execution_count": null,
   "metadata": {},
   "outputs": [],
   "source": []
  },
  {
   "cell_type": "code",
   "execution_count": null,
   "metadata": {},
   "outputs": [],
   "source": [
    "with torch.no_grad():\n",
    "    lower, upper = y_preds.confidence_region()\n",
    "    f, ax = plt.subplots(1,1, dpi=300)\n",
    "    ax.plot(test_x[:,0].cpu().numpy(), f_preds.mean.cpu().numpy()/1e21)\n",
    "    #samples = y_preds.sample_n(100)\n",
    "    #for sample in samples:\n",
    "    #    ax.plot(test_x[:,0].numpy(), sample.numpy()[:,0], alpha=0.01, color='r')\n",
    "    #    ax.plot(test_x[:,0].numpy(), sample.numpy()[:,1], alpha=0.01, color='b')\n",
    "    #ax.plot(training_x[:,0].cpu(), training_y.cpu()/1e21, '+')\n",
    "    ax.fill_between(test_x[:,0].cpu().numpy(), lower.cpu().numpy()/1e21, upper.cpu().numpy()/1e21, alpha=0.5)"
   ]
  },
  {
   "cell_type": "code",
   "execution_count": null,
   "metadata": {},
   "outputs": [],
   "source": []
  }
 ],
 "metadata": {
  "kernelspec": {
   "display_name": "Python (sandbox)",
   "language": "python",
   "name": "venv-sandbox"
  },
  "language_info": {
   "codemirror_mode": {
    "name": "ipython",
    "version": 3
   },
   "file_extension": ".py",
   "mimetype": "text/x-python",
   "name": "python",
   "nbconvert_exporter": "python",
   "pygments_lexer": "ipython3",
   "version": "3.7.1"
  }
 },
 "nbformat": 4,
 "nbformat_minor": 2
}
