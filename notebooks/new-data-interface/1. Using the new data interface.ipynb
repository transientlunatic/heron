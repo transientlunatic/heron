{
 "cells": [
  {
   "cell_type": "markdown",
   "id": "436dd36a",
   "metadata": {},
   "source": [
    "# Adding bulk data"
   ]
  },
  {
   "cell_type": "markdown",
   "id": "80979463",
   "metadata": {},
   "source": [
    "Say we wish to create a large quantity of bulk training data, and then store this in an intelligible and consistent format. Well, that's where heron's training data interface comes along."
   ]
  },
  {
   "cell_type": "markdown",
   "id": "ff4c592b",
   "metadata": {},
   "source": [
    "I'll make use of the pycbc waveform interface in order to generate training data from some of the pre-existing approximant models just so that we have access to a reasonably controlable data source. However the same principles could be used to work with numerical relativity data, though the individual waveform interface may be an easier way to do that."
   ]
  },
  {
   "cell_type": "code",
   "execution_count": 1,
   "id": "d51ce535",
   "metadata": {},
   "outputs": [],
   "source": [
    "import pycbc.waveform\n",
    "import numpy as np\n",
    "import matplotlib.pyplot as plt"
   ]
  },
  {
   "cell_type": "code",
   "execution_count": 2,
   "id": "955ee0ef",
   "metadata": {},
   "outputs": [],
   "source": [
    "from pycbc.waveform import get_td_waveform\n",
    "qs = np.linspace(0.1, 1.0, 40)\n",
    "#qs=[0.75]\n",
    "waveforms = {}\n",
    "for q in qs:\n",
    "    waveforms[q] = {}\n",
    "    unaligned = {}\n",
    "    \n",
    "    apx = \"IMRPhenomPv2\"\n",
    "    \n",
    "    M = 20\n",
    "    m1 = M / (1+q)\n",
    "    m2 = M / (1+1/q)\n",
    "    assert ((m1 + m2) - M ) < 1e-4\n",
    "    waveforms[q][apx] = {}\n",
    "\n",
    "    unaligned[apx] = {}\n",
    "    unaligned[apx]['hp'], unaligned[apx]['hc'] = get_td_waveform(approximant=apx,\n",
    "                                 mass1=m1,\n",
    "                                 mass2=m2,\n",
    "                                 spin1z=0,\n",
    "                                 delta_t=1.0/4096,\n",
    "                                 f_lower=20)\n",
    "    waveforms[q]['IMRPhenomPv2']['hp'], waveforms[q]['IMRPhenomPv2']['hc'] = unaligned[apx]['hp'], unaligned[apx]['hc']\n",
    "    #waveforms[q]['IMRPhenomPv2']['hp'], waveforms[q]['SEOBNRv2']['hp'] = pycbc.waveform.coalign_waveforms(unaligned['IMRPhenomPv2']['hp'], unaligned['SEOBNRv2']['hp'])\n",
    "    #waveforms[q]['IMRPhenomPv2']['hc'], waveforms[q]['SEOBNRv2']['hc'] = pycbc.waveform.coalign_waveforms(unaligned['IMRPhenomPv2']['hc'], unaligned['SEOBNRv2']['hc'])"
   ]
  },
  {
   "cell_type": "code",
   "execution_count": 3,
   "id": "8ea018a0",
   "metadata": {},
   "outputs": [],
   "source": [
    "data_all = []\n",
    "for mass_ratio, waveform in waveforms.items():\n",
    "    for approx, waveform_a in waveform.items():\n",
    "        idx = (waveform_a['hp'].sample_times > -0.05) & (waveform_a['hp'].sample_times < 0.02)\n",
    "        data = np.ones((5, len(waveform_a['hp'].data[idx])))\n",
    "        data[0, :] *= mass_ratio\n",
    "        data[1, :] *= 0 if approx == \"IMRPhenomPv2\" else 1\n",
    "        data[2, :] = waveform_a['hp'].sample_times[idx]\n",
    "        data[3, :] = waveform_a['hp'].data[idx]\n",
    "        data[4, :] = waveform_a['hc'].data[idx]\n",
    "        data_all.append(data)\n",
    "input_data = np.hstack(data_all)"
   ]
  },
  {
   "cell_type": "code",
   "execution_count": 4,
   "id": "17441a7a",
   "metadata": {},
   "outputs": [],
   "source": [
    "from heron.data import DataWrapper"
   ]
  },
  {
   "cell_type": "markdown",
   "id": "28153b82",
   "metadata": {},
   "source": [
    "First we need to make the data file; this is implemented as a class method, so we just need to run `DataWrapper.create()`."
   ]
  },
  {
   "cell_type": "code",
   "execution_count": 5,
   "id": "473b5abb",
   "metadata": {},
   "outputs": [],
   "source": [
    "! rm test_file.h5"
   ]
  },
  {
   "cell_type": "code",
   "execution_count": 6,
   "id": "3899c0bb",
   "metadata": {},
   "outputs": [],
   "source": [
    "data = DataWrapper.create(\"test_file.h5\")"
   ]
  },
  {
   "cell_type": "markdown",
   "id": "9cac8127",
   "metadata": {},
   "source": [
    "We can then add all of the data, specifying what the columns are, and which polarisation we're adding."
   ]
  },
  {
   "cell_type": "code",
   "execution_count": 7,
   "id": "f38b3c9d",
   "metadata": {},
   "outputs": [],
   "source": [
    "data.add_data(group=\"mixed_model\",\n",
    "              polarisation='+',\n",
    "              reference_mass=20,\n",
    "                source=\"IMRPhenomXPHM\",\n",
    "                parameters=[\"time\", \"mass ratio\"],\n",
    "                locations=input_data[[2, 0]].T,\n",
    "                data=input_data[3])"
   ]
  },
  {
   "cell_type": "markdown",
   "id": "fb0311a4",
   "metadata": {},
   "source": [
    "# Adding individual waveforms"
   ]
  },
  {
   "cell_type": "markdown",
   "id": "d2980623",
   "metadata": {},
   "source": [
    "Most of the time we'll in fact want to add individual waveforms one at a time to the data collection, since that's how we normally generate them. We can use the `add_waveform` method to do this."
   ]
  },
  {
   "cell_type": "code",
   "execution_count": 8,
   "id": "9c2b95de",
   "metadata": {},
   "outputs": [],
   "source": [
    "! rm test_file_2.h5"
   ]
  },
  {
   "cell_type": "code",
   "execution_count": 9,
   "id": "e5df0c61",
   "metadata": {},
   "outputs": [],
   "source": [
    "data = DataWrapper.create(\"test_file_2.h5\")"
   ]
  },
  {
   "cell_type": "code",
   "execution_count": 10,
   "id": "deb5fdff",
   "metadata": {},
   "outputs": [],
   "source": [
    "from pycbc.waveform import get_td_waveform\n",
    "qs = np.linspace(0.1, 1.0, 40)\n",
    "\n",
    "q = 0.5\n",
    "apx = \"IMRPhenomPv2\"\n",
    "    \n",
    "M = 20\n",
    "m1 = M / (1+q)\n",
    "m2 = M / (1+1/q)\n",
    "assert ((m1 + m2) - M ) < 1e-4\n",
    "\n",
    "hp, hc = get_td_waveform(approximant=apx,\n",
    "                             mass1=m1,\n",
    "                             mass2=m2,\n",
    "                             spin1z=0,\n",
    "                             delta_t=1.0/4096,\n",
    "                             f_lower=20)  "
   ]
  },
  {
   "cell_type": "code",
   "execution_count": 11,
   "id": "7eea5cd5",
   "metadata": {},
   "outputs": [],
   "source": [
    "idx = (hp.sample_times > -0.05) & (hp.sample_times < 0.02)"
   ]
  },
  {
   "cell_type": "code",
   "execution_count": 12,
   "id": "c6a9690a",
   "metadata": {},
   "outputs": [],
   "source": [
    "data.add_waveform(group=\"IMR training\",\n",
    "                  polarisation=\"+\",\n",
    "                  reference_mass=M,\n",
    "                  source=apx,\n",
    "                  locations={\"mass ratio\": q},\n",
    "                  times=hp.sample_times[idx],\n",
    "                  data=hp[idx]\n",
    "                 )"
   ]
  },
  {
   "cell_type": "markdown",
   "id": "50aa8cd4",
   "metadata": {},
   "source": [
    "We could then repeat this in a loop to add the data in a more straight-forward manner than is possible with the batch interface."
   ]
  },
  {
   "cell_type": "markdown",
   "id": "6de0c07c",
   "metadata": {},
   "source": [
    "# Plotting the training data"
   ]
  },
  {
   "cell_type": "markdown",
   "id": "bffb3941",
   "metadata": {},
   "source": [
    "It can be helpful to examine the training data visually, and to allow this the interface provides a quick way to produce a scatter plot of the contents of a dataset."
   ]
  },
  {
   "cell_type": "code",
   "execution_count": 13,
   "id": "79c8bc7b",
   "metadata": {},
   "outputs": [],
   "source": [
    "data = DataWrapper(\"test_file.h5\")"
   ]
  },
  {
   "cell_type": "code",
   "execution_count": 14,
   "id": "97624232",
   "metadata": {},
   "outputs": [
    {
     "ename": "KeyError",
     "evalue": "\"Unable to open object (object 'times' doesn't exist)\"",
     "output_type": "error",
     "traceback": [
      "\u001b[0;31m---------------------------------------------------------------------------\u001b[0m",
      "\u001b[0;31mKeyError\u001b[0m                                  Traceback (most recent call last)",
      "\u001b[0;32m/tmp/ipykernel_80831/1199368091.py\u001b[0m in \u001b[0;36m<module>\u001b[0;34m\u001b[0m\n\u001b[0;32m----> 1\u001b[0;31m \u001b[0mdata\u001b[0m\u001b[0;34m.\u001b[0m\u001b[0mplot_surface\u001b[0m\u001b[0;34m(\u001b[0m\u001b[0mlabel\u001b[0m\u001b[0;34m=\u001b[0m\u001b[0;34m\"mixed_model\"\u001b[0m\u001b[0;34m,\u001b[0m \u001b[0mx\u001b[0m\u001b[0;34m=\u001b[0m\u001b[0;34m\"times\"\u001b[0m\u001b[0;34m,\u001b[0m \u001b[0my\u001b[0m\u001b[0;34m=\u001b[0m\u001b[0;34m\"mass ratio\"\u001b[0m\u001b[0;34m,\u001b[0m \u001b[0mpolarisation\u001b[0m\u001b[0;34m=\u001b[0m\u001b[0;34m\"+\"\u001b[0m\u001b[0;34m,\u001b[0m \u001b[0mdecimation\u001b[0m\u001b[0;34m=\u001b[0m\u001b[0;36m3\u001b[0m\u001b[0;34m)\u001b[0m\u001b[0;34m;\u001b[0m\u001b[0;34m\u001b[0m\u001b[0;34m\u001b[0m\u001b[0m\n\u001b[0m",
      "\u001b[0;32m~/repositories/heron/heron/data.py\u001b[0m in \u001b[0;36mplot_surface\u001b[0;34m(self, label, x, y, polarisation, decimation)\u001b[0m\n\u001b[1;32m    309\u001b[0m                                                                                            \u001b[0mpolarisation\u001b[0m\u001b[0;34m,\u001b[0m\u001b[0;34m\u001b[0m\u001b[0;34m\u001b[0m\u001b[0m\n\u001b[1;32m    310\u001b[0m                                                                                            label)\n\u001b[0;32m--> 311\u001b[0;31m         axis.scatter(x=training_data[f\"{label}\"][\"locations\"][f\"{x}\"][iloc][::decimation],\n\u001b[0m\u001b[1;32m    312\u001b[0m                      \u001b[0my\u001b[0m\u001b[0;34m=\u001b[0m\u001b[0mtraining_data\u001b[0m\u001b[0;34m[\u001b[0m\u001b[0;34mf\"{label}\"\u001b[0m\u001b[0;34m]\u001b[0m\u001b[0;34m[\u001b[0m\u001b[0;34m\"locations\"\u001b[0m\u001b[0;34m]\u001b[0m\u001b[0;34m[\u001b[0m\u001b[0;34mf\"{y}\"\u001b[0m\u001b[0;34m]\u001b[0m\u001b[0;34m[\u001b[0m\u001b[0miloc\u001b[0m\u001b[0;34m]\u001b[0m\u001b[0;34m[\u001b[0m\u001b[0;34m:\u001b[0m\u001b[0;34m:\u001b[0m\u001b[0mdecimation\u001b[0m\u001b[0;34m]\u001b[0m\u001b[0;34m,\u001b[0m\u001b[0;34m\u001b[0m\u001b[0;34m\u001b[0m\u001b[0m\n\u001b[1;32m    313\u001b[0m                      \u001b[0mc\u001b[0m\u001b[0;34m=\u001b[0m\u001b[0mtraining_data\u001b[0m\u001b[0;34m[\u001b[0m\u001b[0;34mf\"{label}\"\u001b[0m\u001b[0;34m]\u001b[0m\u001b[0;34m[\u001b[0m\u001b[0;34m\"data\"\u001b[0m\u001b[0;34m]\u001b[0m\u001b[0;34m[\u001b[0m\u001b[0miloc\u001b[0m\u001b[0;34m]\u001b[0m\u001b[0;34m[\u001b[0m\u001b[0;34m:\u001b[0m\u001b[0;34m:\u001b[0m\u001b[0mdecimation\u001b[0m\u001b[0;34m]\u001b[0m\u001b[0;34m,\u001b[0m\u001b[0;34m\u001b[0m\u001b[0;34m\u001b[0m\u001b[0m\n",
      "\u001b[0;32mh5py/_objects.pyx\u001b[0m in \u001b[0;36mh5py._objects.with_phil.wrapper\u001b[0;34m()\u001b[0m\n",
      "\u001b[0;32mh5py/_objects.pyx\u001b[0m in \u001b[0;36mh5py._objects.with_phil.wrapper\u001b[0;34m()\u001b[0m\n",
      "\u001b[0;32m~/repositories/heron/environment/lib/python3.9/site-packages/h5py/_hl/group.py\u001b[0m in \u001b[0;36m__getitem__\u001b[0;34m(self, name)\u001b[0m\n\u001b[1;32m    303\u001b[0m                 \u001b[0;32mraise\u001b[0m \u001b[0mValueError\u001b[0m\u001b[0;34m(\u001b[0m\u001b[0;34m\"Invalid HDF5 object reference\"\u001b[0m\u001b[0;34m)\u001b[0m\u001b[0;34m\u001b[0m\u001b[0;34m\u001b[0m\u001b[0m\n\u001b[1;32m    304\u001b[0m         \u001b[0;32melif\u001b[0m \u001b[0misinstance\u001b[0m\u001b[0;34m(\u001b[0m\u001b[0mname\u001b[0m\u001b[0;34m,\u001b[0m \u001b[0;34m(\u001b[0m\u001b[0mbytes\u001b[0m\u001b[0;34m,\u001b[0m \u001b[0mstr\u001b[0m\u001b[0;34m)\u001b[0m\u001b[0;34m)\u001b[0m\u001b[0;34m:\u001b[0m\u001b[0;34m\u001b[0m\u001b[0;34m\u001b[0m\u001b[0m\n\u001b[0;32m--> 305\u001b[0;31m             \u001b[0moid\u001b[0m \u001b[0;34m=\u001b[0m \u001b[0mh5o\u001b[0m\u001b[0;34m.\u001b[0m\u001b[0mopen\u001b[0m\u001b[0;34m(\u001b[0m\u001b[0mself\u001b[0m\u001b[0;34m.\u001b[0m\u001b[0mid\u001b[0m\u001b[0;34m,\u001b[0m \u001b[0mself\u001b[0m\u001b[0;34m.\u001b[0m\u001b[0m_e\u001b[0m\u001b[0;34m(\u001b[0m\u001b[0mname\u001b[0m\u001b[0;34m)\u001b[0m\u001b[0;34m,\u001b[0m \u001b[0mlapl\u001b[0m\u001b[0;34m=\u001b[0m\u001b[0mself\u001b[0m\u001b[0;34m.\u001b[0m\u001b[0m_lapl\u001b[0m\u001b[0;34m)\u001b[0m\u001b[0;34m\u001b[0m\u001b[0;34m\u001b[0m\u001b[0m\n\u001b[0m\u001b[1;32m    306\u001b[0m         \u001b[0;32melse\u001b[0m\u001b[0;34m:\u001b[0m\u001b[0;34m\u001b[0m\u001b[0;34m\u001b[0m\u001b[0m\n\u001b[1;32m    307\u001b[0m             raise TypeError(\"Accessing a group is done with bytes or str, \"\n",
      "\u001b[0;32mh5py/_objects.pyx\u001b[0m in \u001b[0;36mh5py._objects.with_phil.wrapper\u001b[0;34m()\u001b[0m\n",
      "\u001b[0;32mh5py/_objects.pyx\u001b[0m in \u001b[0;36mh5py._objects.with_phil.wrapper\u001b[0;34m()\u001b[0m\n",
      "\u001b[0;32mh5py/h5o.pyx\u001b[0m in \u001b[0;36mh5py.h5o.open\u001b[0;34m()\u001b[0m\n",
      "\u001b[0;31mKeyError\u001b[0m: \"Unable to open object (object 'times' doesn't exist)\""
     ]
    },
    {
     "name": "stderr",
     "output_type": "stream",
     "text": [
      "findfont: Font family [\"'URW Bookman L'\"] not found. Falling back to DejaVu Sans.\n"
     ]
    },
    {
     "data": {
      "image/png": "[encoded data removed]",
      "text/plain": [
       "<Figure size 1800x1200 with 1 Axes>"
      ]
     },
     "metadata": {
      "needs_background": "light"
     },
     "output_type": "display_data"
    }
   ],
   "source": [
    "data.plot_surface(label=\"mixed_model\", x=\"times\", y=\"mass ratio\", polarisation=\"+\", decimation=3);"
   ]
  },
  {
   "cell_type": "code",
   "execution_count": null,
   "id": "884e84e0",
   "metadata": {},
   "outputs": [],
   "source": []
  }
 ],
 "metadata": {
  "kernelspec": {
   "display_name": "Python 3 (ipykernel)",
   "language": "python",
   "name": "python3"
  },
  "language_info": {
   "codemirror_mode": {
    "name": "ipython",
    "version": 3
   },
   "file_extension": ".py",
   "mimetype": "text/x-python",
   "name": "python",
   "nbconvert_exporter": "python",
   "pygments_lexer": "ipython3",
   "version": "3.9.5"
  }
 },
 "nbformat": 4,
 "nbformat_minor": 5
}
