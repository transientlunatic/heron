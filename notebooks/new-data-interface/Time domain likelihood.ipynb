{
 "cells": [
  {
   "cell_type": "code",
   "execution_count": 1,
   "id": "434aac30",
   "metadata": {},
   "outputs": [],
   "source": [
    "from heron.data import DataWrapper\n",
    "import gpytorch\n",
    "import torch\n",
    "from elk.waveform import Timeseries\n",
    "import matplotlib.pyplot as plt"
   ]
  },
  {
   "cell_type": "code",
   "execution_count": 2,
   "id": "aade974c",
   "metadata": {},
   "outputs": [],
   "source": [
    "data = DataWrapper(\"test_file_2.h5\")"
   ]
  },
  {
   "cell_type": "code",
   "execution_count": 3,
   "id": "4e15e880",
   "metadata": {},
   "outputs": [],
   "source": [
    "from heron.models.torchbased import HeronCUDA,  train"
   ]
  },
  {
   "cell_type": "code",
   "execution_count": 172,
   "id": "70fb15ff",
   "metadata": {},
   "outputs": [
    {
     "name": "stdout",
     "output_type": "stream",
     "text": [
      "torch.Size([5985, 2])\n"
     ]
    }
   ],
   "source": [
    "model = HeronCUDA(datafile=\"test_file_2.h5\", datalabel=\"IMR training linear\", \n",
    "                  device=torch.device(\"cuda\"),\n",
    "                 )\n",
    "train(model, iterations=500)"
   ]
  },
  {
   "cell_type": "code",
   "execution_count": 5,
   "id": "5b673b12",
   "metadata": {},
   "outputs": [],
   "source": [
    "train(model, iterations=500)"
   ]
  },
  {
   "cell_type": "code",
   "execution_count": null,
   "id": "45ef43ec",
   "metadata": {},
   "outputs": [],
   "source": []
  },
  {
   "cell_type": "code",
   "execution_count": 6,
   "id": "f03b090a",
   "metadata": {},
   "outputs": [],
   "source": [
    "q = 0.2\n",
    "noise = 5e-21*torch.randn(1000, device=\"cuda\")\n",
    "times = torch.linspace(-0.05, 0.005, 1000)"
   ]
  },
  {
   "cell_type": "code",
   "execution_count": 7,
   "id": "225a472b",
   "metadata": {},
   "outputs": [
    {
     "name": "stderr",
     "output_type": "stream",
     "text": [
      "/home/daniel/repositories/ligo/heron/heron/models/torchbased.py:134: UserWarning: To copy construct from a tensor, it is recommended to use sourceTensor.clone().detach() or sourceTensor.clone().detach().requires_grad_(True), rather than torch.tensor(sourceTensor).\n",
      "  points = torch.tensor(points, device=self.device, dtype=torch.float)\n",
      "/home/daniel/repositories/ligo/heron/heron/models/torchbased.py:444: UserWarning: To copy construct from a tensor, it is recommended to use sourceTensor.clone().detach() or sourceTensor.clone().detach().requires_grad_(True), rather than torch.tensor(sourceTensor).\n",
      "  times=torch.tensor(times + dt, device=self.device),\n",
      "/tmp/ipykernel_26816/3948548780.py:2: UserWarning: To copy construct from a tensor, it is recommended to use sourceTensor.clone().detach() or sourceTensor.clone().detach().requires_grad_(True), rather than torch.tensor(sourceTensor).\n",
      "  detection = Timeseries(data=torch.tensor(signal.data)+noise, times=signal.times)\n"
     ]
    }
   ],
   "source": [
    "signal = model.time_domain_waveform(times=times, p={\"mass ratio\": q, \"distance\": 10, \"ra\": 0, \"dec\": 0, \"psi\": 0, \"gpstime\": 0, \"detector\": \"L1\"})\n",
    "detection = Timeseries(data=torch.tensor(signal.data)+noise, times=signal.times)"
   ]
  },
  {
   "cell_type": "code",
   "execution_count": 8,
   "id": "c7da4f53",
   "metadata": {},
   "outputs": [
    {
     "data": {
      "text/plain": [
       "[<matplotlib.lines.Line2D at 0x7f25ef368b50>]"
      ]
     },
     "execution_count": 8,
     "metadata": {},
     "output_type": "execute_result"
    },
    {
     "name": "stderr",
     "output_type": "stream",
     "text": [
      "findfont: Font family [\"'URW Bookman L'\"] not found. Falling back to DejaVu Sans.\n"
     ]
    },
    {
     "data": {
      "image/png": "[encoded data removed]",
      "text/plain": [
       "<Figure size 432x288 with 1 Axes>"
      ]
     },
     "metadata": {
      "needs_background": "light"
     },
     "output_type": "display_data"
    }
   ],
   "source": [
    "plt.plot(detection.times.cpu(), detection.data.cpu())"
   ]
  },
  {
   "cell_type": "code",
   "execution_count": 9,
   "id": "2ee71659",
   "metadata": {},
   "outputs": [],
   "source": [
    "import lalsimulation\n",
    "import numpy as np"
   ]
  },
  {
   "cell_type": "code",
   "execution_count": 11,
   "id": "fef5bcf9",
   "metadata": {},
   "outputs": [],
   "source": [
    "#\n",
    "psd_func = lalsimulation.SimNoisePSDaLIGOZeroDetHighPower # lalsimulation.SimNoisePSDaLIGOEarlyHighSensitivityP1200087\n",
    "masked_psd = lambda f:psd_func(f) if f>=20 else 0"
   ]
  },
  {
   "cell_type": "code",
   "execution_count": 122,
   "id": "c1443722",
   "metadata": {},
   "outputs": [],
   "source": [
    "def noise_psd(N, frequencies, psd = lambda f: 1):\n",
    "    \"\"\"\n",
    "    Generate noise with a given PSD\n",
    "    \"\"\"\n",
    "    reals = np.random.randn(N//2+1)\n",
    "    imags = np.random.randn(N//2+1)\n",
    "    \n",
    "    T = 1/(frequencies[1]-frequencies[0])\n",
    "    \n",
    "    S = np.sqrt(N*N/4/(T) * np.array([psd(float(f)) for f in frequencies]))\n",
    "    \n",
    "    noise_r =  S * (reals)\n",
    "    noise_i =  S * (imags)\n",
    "\n",
    "    noise_f = noise_r + 1j * noise_i\n",
    "    \n",
    "    return np.fft.irfft(noise_f, n=(N));"
   ]
  },
  {
   "cell_type": "code",
   "execution_count": 123,
   "id": "8d13ad8b",
   "metadata": {},
   "outputs": [],
   "source": [
    "class PSD:\n",
    "    def __init__(self, data, frequencies):\n",
    "        self.data = data\n",
    "        self.frequencies = frequencies\n",
    "        self.df = frequencies[1] - frequencies[0]"
   ]
  },
  {
   "cell_type": "code",
   "execution_count": 124,
   "id": "f8962039",
   "metadata": {},
   "outputs": [],
   "source": [
    "# We want to sample at a sample rate of 2048-Hz\n",
    "srate = 4096\n",
    "# This means that we'll have 2048 samples per second, or a sample spacing of 1/srate\n",
    "dt = 1./srate\n",
    "# This gives us a time axis:\n",
    "times = torch.linspace(-0.05, 0.005, int((0.005+0.05)*srate))\n",
    "# \n",
    "# If we work in the Fourier domain then the maximum frequency will be half the sampling rate\n",
    "f_max = srate / 2\n",
    "df = 1./(times[-1]-times[0])\n",
    "frequencies = torch.arange((len(times) +1 ) // 2) / (dt * len(times))\n",
    "#\n",
    "psd = np.array([masked_psd(float(f)) for f in frequencies])\n",
    "psd = PSD(data=psd, frequencies=frequencies)"
   ]
  },
  {
   "cell_type": "code",
   "execution_count": 125,
   "id": "8fd6f5d7",
   "metadata": {},
   "outputs": [],
   "source": [
    "import matplotlib.pyplot as plt"
   ]
  },
  {
   "cell_type": "code",
   "execution_count": 126,
   "id": "5a9d7d7f",
   "metadata": {},
   "outputs": [],
   "source": [
    "from heron.likelihood import CUDALikelihood, InnerProduct, CUDATimedomainLikelihood"
   ]
  },
  {
   "cell_type": "code",
   "execution_count": 139,
   "id": "69875aac",
   "metadata": {
    "scrolled": true
   },
   "outputs": [
    {
     "name": "stderr",
     "output_type": "stream",
     "text": [
      "/home/daniel/repositories/ligo/heron/heron/models/torchbased.py:134: UserWarning: To copy construct from a tensor, it is recommended to use sourceTensor.clone().detach() or sourceTensor.clone().detach().requires_grad_(True), rather than torch.tensor(sourceTensor).\n",
      "  points = torch.tensor(points, device=self.device, dtype=torch.float)\n",
      "/home/daniel/repositories/ligo/heron/heron/models/torchbased.py:444: UserWarning: To copy construct from a tensor, it is recommended to use sourceTensor.clone().detach() or sourceTensor.clone().detach().requires_grad_(True), rather than torch.tensor(sourceTensor).\n",
      "  times=torch.tensor(times + dt, device=self.device),\n",
      "/tmp/ipykernel_26816/1745560310.py:14: UserWarning: To copy construct from a tensor, it is recommended to use sourceTensor.clone().detach() or sourceTensor.clone().detach().requires_grad_(True), rather than torch.tensor(sourceTensor).\n",
      "  detection = Timeseries(data=torch.tensor(signal.data)+noise, times=signal.times)\n"
     ]
    }
   ],
   "source": [
    "p = {\n",
    "    \"mass ratio\": 0.6,\n",
    "    \"mass_1\":35,\n",
    "    \"mass_2\": 30,\n",
    "    \"ra\": 1.0,\n",
    "    \"dec\": 0.5,\n",
    "    \"psi\": 0.1,\n",
    "    \"gpstime\": 1000,\n",
    "    \"detector\": \"L1\",\n",
    "    \"distance\": 400,\n",
    "}\n",
    "signal = model.time_domain_waveform(times=times, p=p)\n",
    "noise = torch.tensor(noise_psd(len(times), frequencies=frequencies, psd=masked_psd), device=\"cuda\")\n",
    "detection = Timeseries(data=torch.tensor(signal.data)+noise, times=signal.times)"
   ]
  },
  {
   "cell_type": "code",
   "execution_count": 140,
   "id": "230d4413",
   "metadata": {},
   "outputs": [],
   "source": [
    "df = 1/(times[-1] - times[0])\n",
    "psd = np.array([masked_psd(f) for f in np.arange(0, df+1/(times[1] - times[0]), df)])\n",
    "psd = PSD(data=psd, frequencies=frequencies)"
   ]
  },
  {
   "cell_type": "code",
   "execution_count": 141,
   "id": "0b5078d7",
   "metadata": {},
   "outputs": [],
   "source": [
    "l = CUDATimedomainLikelihood(model, times=times, data=detection, detector_prefix=\"L1\", psd=psd)"
   ]
  },
  {
   "cell_type": "code",
   "execution_count": 142,
   "id": "30ded431",
   "metadata": {},
   "outputs": [
    {
     "data": {
      "text/plain": [
       "Text(0, 0.5, 'Strain')"
      ]
     },
     "execution_count": 142,
     "metadata": {},
     "output_type": "execute_result"
    },
    {
     "data": {
      "image/png": "[encoded data removed]",
      "text/plain": [
       "<Figure size 432x288 with 1 Axes>"
      ]
     },
     "metadata": {
      "needs_background": "light"
     },
     "output_type": "display_data"
    }
   ],
   "source": [
    "plt.plot(detection.data.detach().cpu())\n",
    "plt.xlabel(\"Time\")\n",
    "plt.ylabel(\"Strain\")"
   ]
  },
  {
   "cell_type": "code",
   "execution_count": 159,
   "id": "be61ade8",
   "metadata": {},
   "outputs": [],
   "source": [
    "snr = torch.sqrt(torch.abs(signal.data.to(torch.double) @ torch.inverse(l.C+signal.covariance) @ signal.data.to(torch.double)))"
   ]
  },
  {
   "cell_type": "code",
   "execution_count": 171,
   "id": "b1b53fad",
   "metadata": {},
   "outputs": [
    {
     "data": {
      "text/plain": [
       "<matplotlib.image.AxesImage at 0x7f25e1f38610>"
      ]
     },
     "execution_count": 171,
     "metadata": {},
     "output_type": "execute_result"
    },
    {
     "data": {
      "image/png": "[encoded data removed]",
      "text/plain": [
       "<Figure size 288x288 with 1 Axes>"
      ]
     },
     "metadata": {
      "needs_background": "light"
     },
     "output_type": "display_data"
    }
   ],
   "source": [
    "plt.matshow(l.C.cpu()[:5,:5])"
   ]
  },
  {
   "cell_type": "code",
   "execution_count": 169,
   "id": "6a1eec70",
   "metadata": {},
   "outputs": [],
   "source": [
    "import scipy.linalg"
   ]
  },
  {
   "cell_type": "code",
   "execution_count": 170,
   "id": "b2efa7e9",
   "metadata": {},
   "outputs": [],
   "source": [
    "scipy.linalg.toeplitz?"
   ]
  },
  {
   "cell_type": "code",
   "execution_count": 168,
   "id": "4bd5bdb7",
   "metadata": {},
   "outputs": [
    {
     "data": {
      "text/plain": [
       "tensor([[ 1.4255e-43, -5.6134e-44,  1.7361e-44,  ..., -4.6009e-45,\n",
       "          1.7361e-44, -5.6134e-44],\n",
       "        [-5.6134e-44,  1.4255e-43, -5.6134e-44,  ...,  5.3814e-45,\n",
       "         -4.6009e-45,  1.7361e-44],\n",
       "        [ 1.7361e-44, -5.6134e-44,  1.4255e-43,  ..., -9.6820e-46,\n",
       "          5.3814e-45, -4.6009e-45],\n",
       "        ...,\n",
       "        [-4.6009e-45,  5.3814e-45, -9.6820e-46,  ...,  1.4255e-43,\n",
       "         -5.6134e-44,  1.7361e-44],\n",
       "        [ 1.7361e-44, -4.6009e-45,  5.3814e-45,  ..., -5.6134e-44,\n",
       "          1.4255e-43, -5.6134e-44],\n",
       "        [-5.6134e-44,  1.7361e-44, -4.6009e-45,  ...,  1.7361e-44,\n",
       "         -5.6134e-44,  1.4255e-43]], device='cuda:0', dtype=torch.float64)"
      ]
     },
     "execution_count": 168,
     "metadata": {},
     "output_type": "execute_result"
    }
   ],
   "source": [
    "l.C"
   ]
  },
  {
   "cell_type": "code",
   "execution_count": 162,
   "id": "4fcf9113",
   "metadata": {},
   "outputs": [
    {
     "data": {
      "text/plain": [
       "tensor([[2.8006e+45, 2.7770e+45, 2.7549e+45,  ..., 2.8344e+45, 2.8218e+45,\n",
       "         2.8105e+45],\n",
       "        [2.7770e+45, 2.7669e+45, 2.7431e+45,  ..., 2.8133e+45, 2.8015e+45,\n",
       "         2.7886e+45],\n",
       "        [2.7549e+45, 2.7431e+45, 2.7329e+45,  ..., 2.7912e+45, 2.7802e+45,\n",
       "         2.7681e+45],\n",
       "        ...,\n",
       "        [2.8344e+45, 2.8133e+45, 2.7912e+45,  ..., 2.8984e+45, 2.8757e+45,\n",
       "         2.8544e+45],\n",
       "        [2.8218e+45, 2.8015e+45, 2.7802e+45,  ..., 2.8757e+45, 2.8665e+45,\n",
       "         2.8434e+45],\n",
       "        [2.8105e+45, 2.7886e+45, 2.7681e+45,  ..., 2.8544e+45, 2.8434e+45,\n",
       "         2.8339e+45]], device='cuda:0', dtype=torch.float64,\n",
       "       grad_fn=<InverseBackward0>)"
      ]
     },
     "execution_count": 162,
     "metadata": {},
     "output_type": "execute_result"
    }
   ],
   "source": [
    "torch.inverse(l.C+signal.covariance)"
   ]
  },
  {
   "cell_type": "code",
   "execution_count": 160,
   "id": "3b5ef2bf",
   "metadata": {
    "scrolled": true
   },
   "outputs": [
    {
     "data": {
      "text/plain": [
       "tensor(40.9878, device='cuda:0', dtype=torch.float64, grad_fn=<SqrtBackward0>)"
      ]
     },
     "execution_count": 160,
     "metadata": {},
     "output_type": "execute_result"
    }
   ],
   "source": [
    "snr"
   ]
  },
  {
   "cell_type": "code",
   "execution_count": 40,
   "id": "f69d0f63",
   "metadata": {},
   "outputs": [
    {
     "data": {
      "text/plain": [
       "225"
      ]
     },
     "execution_count": 40,
     "metadata": {},
     "output_type": "execute_result"
    }
   ],
   "source": [
    "len(detection.data)"
   ]
  },
  {
   "cell_type": "code",
   "execution_count": 21,
   "id": "19729289",
   "metadata": {},
   "outputs": [],
   "source": [
    "masses = np.linspace(0.1,1.0,100)"
   ]
  },
  {
   "cell_type": "code",
   "execution_count": 24,
   "id": "b5f98b49",
   "metadata": {},
   "outputs": [
    {
     "name": "stderr",
     "output_type": "stream",
     "text": [
      "/home/daniel/repositories/ligo/heron/heron/models/torchbased.py:134: UserWarning: To copy construct from a tensor, it is recommended to use sourceTensor.clone().detach() or sourceTensor.clone().detach().requires_grad_(True), rather than torch.tensor(sourceTensor).\n",
      "  points = torch.tensor(points, device=self.device, dtype=torch.float)\n",
      "/home/daniel/repositories/ligo/heron/heron/models/torchbased.py:444: UserWarning: To copy construct from a tensor, it is recommended to use sourceTensor.clone().detach() or sourceTensor.clone().detach().requires_grad_(True), rather than torch.tensor(sourceTensor).\n",
      "  times=torch.tensor(times + dt, device=self.device),\n"
     ]
    }
   ],
   "source": [
    "likes = torch.tensor([l({\n",
    "        \"mass ratio\": m,\n",
    "        \"total mass\": 40,\n",
    "        \"ra\": 1.0,\n",
    "        \"dec\": 0.5,\n",
    "        \"psi\": 0.1,\n",
    "        \"gpstime\": 1000,\n",
    "        \"detector\": \"L1\",\n",
    "        \"distance\": 1000,}, model_var=True).cpu() \n",
    "        for m in masses])"
   ]
  },
  {
   "cell_type": "code",
   "execution_count": 25,
   "id": "1aa2aec6",
   "metadata": {
    "scrolled": true
   },
   "outputs": [
    {
     "data": {
      "text/plain": [
       "[<matplotlib.lines.Line2D at 0x7f260a618be0>]"
      ]
     },
     "execution_count": 25,
     "metadata": {},
     "output_type": "execute_result"
    },
    {
     "data": {
      "image/png": "[encoded data removed]",
      "text/plain": [
       "<Figure size 432x288 with 1 Axes>"
      ]
     },
     "metadata": {
      "needs_background": "light"
     },
     "output_type": "display_data"
    }
   ],
   "source": [
    "plt.plot(masses, likes)"
   ]
  },
  {
   "cell_type": "code",
   "execution_count": null,
   "id": "52452b6b",
   "metadata": {},
   "outputs": [],
   "source": []
  }
 ],
 "metadata": {
  "kernelspec": {
   "display_name": "Python 3 (ipykernel)",
   "language": "python",
   "name": "python3"
  },
  "language_info": {
   "codemirror_mode": {
    "name": "ipython",
    "version": 3
   },
   "file_extension": ".py",
   "mimetype": "text/x-python",
   "name": "python",
   "nbconvert_exporter": "python",
   "pygments_lexer": "ipython3",
   "version": "3.10.3"
  }
 },
 "nbformat": 4,
 "nbformat_minor": 5
}
