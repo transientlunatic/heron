{
 "cells": [
  {
   "cell_type": "code",
   "execution_count": 1,
   "metadata": {
    "collapsed": false
   },
   "outputs": [],
   "source": [
    "from heron import data\n",
    "import matplotlib.pyplot as plt\n",
    "%matplotlib inline\n",
    "import numpy as np\n",
    "import scipy"
   ]
  },
  {
   "cell_type": "code",
   "execution_count": 2,
   "metadata": {
    "collapsed": true
   },
   "outputs": [],
   "source": [
    "import lalsimulation, lal\n",
    "\n",
    "def generate_new_points(mass1, spin1x, npoints = 300, tstart = -0.1, tend = 0.005):\n",
    "    chi1_l = 0\n",
    "    chi2_l = 0\n",
    "    chip = 0\n",
    "    thetaJ = 0\n",
    "    m1 = mass1\n",
    "    distance = 5 * lal.PC_SI\n",
    "    alpha0 = 0\n",
    "    phic = 0\n",
    "    f_ref = 100 * lal.HertzUnit,\n",
    "    waveflags = lalsimulation.SimInspiralCreateWaveformFlags()\n",
    "    approximant = lalsimulation.SimInspiralGetApproximantFromString(\"IMRPhenomP\")\n",
    "    #phorder = lalsimulation.SimInspiralGetOrderFromString(\"IMRPhenomP0\")\n",
    "    #f, ax = plt.subplots(10, sharey=True, figsize=(5,15))\n",
    "    data = np.zeros((npoints, 4))\n",
    "    mass1 = mass1 * lal.MSUN_SI\n",
    "    coaphase = 0\n",
    "    mass2 = 6 * lal.MSUN_SI\n",
    "    spin1x, spin1y, spin1z = spin1x,0,0\n",
    "    spin2x, spin2y, spin2z = 1,0,0\n",
    "    flower = 10 \n",
    "    fref = 10\n",
    "    distance = 400 *1e6 * lal.PC_SI\n",
    "    z = 0.0\n",
    "    inclination = 0.0\n",
    "    lambda1 = lambda2 = 0.0\n",
    "    amporder = 0\n",
    "    phorder = 0\n",
    "    dt = (tend-tstart)/npoints\n",
    "    hp, hc = lalsimulation.SimInspiralTD(coaphase, dt, \n",
    "                                         mass1, mass2,\n",
    "                                         spin1x, spin1y, spin1z,\n",
    "                                         spin2x, spin2y, spin2z,\n",
    "                                         flower, fref, distance, z,\n",
    "                                            inclination, lambda1, lambda2,\n",
    "                                             waveflags, None, amporder, phorder,\n",
    "                                         approximant\n",
    "                                        )\n",
    "    #-0.1,0.005\n",
    "    times = np.linspace(0, len(hp.data.data)*hp.deltaT, len(hp.data.data)) + hp.epoch\n",
    "    data[:,-1] =  hp.data.data[(tstart<times) & (times<tend)]\n",
    "    data[:,0] = times[(tstart<times) & (times<tend)]\n",
    "    data[:,1] = m1 * np.ones(npoints)\n",
    "    data[:,2] = spin1x * np.ones(npoints)\n",
    "    return data"
   ]
  },
  {
   "cell_type": "code",
   "execution_count": 3,
   "metadata": {
    "collapsed": false
   },
   "outputs": [],
   "source": [
    "bbh_data = generate_new_points(5, 0, npoints = 300) #np.vstack([generate_new_points(5, 0), generate_new_points(6, 0)])\n",
    "bbh_test = generate_new_points(5, 0, npoints = 1000)"
   ]
  },
  {
   "cell_type": "code",
   "execution_count": 4,
   "metadata": {
    "collapsed": false
   },
   "outputs": [],
   "source": [
    "bbh = data.Data(np.atleast_2d(bbh_data[:,:1]), np.atleast_2d(bbh_data[:,-1]),  \n",
    "                    target_names = [\"Times\"],\n",
    "                    label_names = [\"hp strain\"],\n",
    "                    test_size = 0,\n",
    "                    test_targets = bbh_test[:,:1],\n",
    "                    test_labels = bbh_test[:,-1]\n",
    "                    )"
   ]
  },
  {
   "cell_type": "code",
   "execution_count": 5,
   "metadata": {
    "collapsed": false
   },
   "outputs": [],
   "source": [
    "bbh.labels = np.squeeze(bbh.labels)"
   ]
  },
  {
   "cell_type": "code",
   "execution_count": 6,
   "metadata": {
    "collapsed": false
   },
   "outputs": [],
   "source": [
    "from heron import regression\n",
    "from heron import kernels"
   ]
  },
  {
   "cell_type": "code",
   "execution_count": 7,
   "metadata": {
    "collapsed": false,
    "scrolled": true
   },
   "outputs": [
    {
     "ename": "ValueError",
     "evalue": "XA and XB must have the same number of columns (i.e. feature dimension.)",
     "output_type": "error",
     "traceback": [
      "\u001b[0;31m---------------------------------------------------------------------------\u001b[0m",
      "\u001b[0;31mValueError\u001b[0m                                Traceback (most recent call last)",
      "\u001b[0;32m<ipython-input-7-b0fc92ea9a1d>\u001b[0m in \u001b[0;36m<module>\u001b[0;34m()\u001b[0m\n\u001b[1;32m      1\u001b[0m \u001b[0mx0\u001b[0m \u001b[0;34m=\u001b[0m \u001b[0;34m[\u001b[0m\u001b[0;34m(\u001b[0m\u001b[0;36m1\u001b[0m\u001b[0;34m/\u001b[0m\u001b[0mnp\u001b[0m\u001b[0;34m.\u001b[0m\u001b[0mstd\u001b[0m\u001b[0;34m(\u001b[0m\u001b[0mbbh\u001b[0m\u001b[0;34m.\u001b[0m\u001b[0mlabels\u001b[0m\u001b[0;34m)\u001b[0m\u001b[0;34m)\u001b[0m\u001b[0;34m**\u001b[0m\u001b[0;36m2\u001b[0m\u001b[0;34m,\u001b[0m \u001b[0;36m50\u001b[0m\u001b[0;34m]\u001b[0m\u001b[0;34m\u001b[0m\u001b[0m\n\u001b[0;32m----> 2\u001b[0;31m \u001b[0mgp\u001b[0m \u001b[0;34m=\u001b[0m \u001b[0mregression\u001b[0m\u001b[0;34m.\u001b[0m\u001b[0mRegressor\u001b[0m\u001b[0;34m(\u001b[0m\u001b[0mbbh\u001b[0m\u001b[0;34m,\u001b[0m \u001b[0mkernel\u001b[0m\u001b[0;34m=\u001b[0m\u001b[0mkernels\u001b[0m\u001b[0;34m.\u001b[0m\u001b[0mSquaredExponential\u001b[0m\u001b[0;34m(\u001b[0m\u001b[0mndim\u001b[0m\u001b[0;34m=\u001b[0m\u001b[0;36m1\u001b[0m\u001b[0;34m)\u001b[0m\u001b[0;34m,\u001b[0m \u001b[0myerror\u001b[0m \u001b[0;34m=\u001b[0m \u001b[0;36m1e-23\u001b[0m\u001b[0;34m,\u001b[0m \u001b[0mtikh\u001b[0m\u001b[0;34m=\u001b[0m\u001b[0;36m1e-6\u001b[0m\u001b[0;34m)\u001b[0m\u001b[0;34m\u001b[0m\u001b[0m\n\u001b[0m\u001b[1;32m      3\u001b[0m \u001b[0;31m#p.set_hyperparameters(x0)\u001b[0m\u001b[0;34m\u001b[0m\u001b[0;34m\u001b[0m\u001b[0m\n",
      "\u001b[0;32m/home/daniel/.virtualenvs/heron/local/lib/python2.7/site-packages/heron-0.1.0-py2.7.egg/heron/regression.pyc\u001b[0m in \u001b[0;36m__init__\u001b[0;34m(self, training_data, kernel, yerror, tikh)\u001b[0m\n\u001b[1;32m     74\u001b[0m         \u001b[0mself\u001b[0m\u001b[0;34m.\u001b[0m\u001b[0moutput_dim\u001b[0m \u001b[0;34m=\u001b[0m \u001b[0mself\u001b[0m\u001b[0;34m.\u001b[0m\u001b[0mtraining_y\u001b[0m\u001b[0;34m.\u001b[0m\u001b[0mndim\u001b[0m\u001b[0;34m\u001b[0m\u001b[0m\n\u001b[1;32m     75\u001b[0m         \u001b[0mself\u001b[0m\u001b[0;34m.\u001b[0m\u001b[0mkernel\u001b[0m \u001b[0;34m=\u001b[0m \u001b[0mkernel\u001b[0m \u001b[0;31m#kernel(self.training_data.ndim, *kernel_args)\u001b[0m\u001b[0;34m\u001b[0m\u001b[0m\n\u001b[0;32m---> 76\u001b[0;31m         \u001b[0mself\u001b[0m\u001b[0;34m.\u001b[0m\u001b[0mupdate\u001b[0m\u001b[0;34m(\u001b[0m\u001b[0;34m)\u001b[0m\u001b[0;34m\u001b[0m\u001b[0m\n\u001b[0m\u001b[1;32m     77\u001b[0m \u001b[0;34m\u001b[0m\u001b[0m\n\u001b[1;32m     78\u001b[0m     \u001b[0;32mdef\u001b[0m \u001b[0mactive_learn\u001b[0m\u001b[0;34m(\u001b[0m\u001b[0mself\u001b[0m\u001b[0;34m,\u001b[0m \u001b[0mafunction\u001b[0m\u001b[0;34m,\u001b[0m \u001b[0mx\u001b[0m\u001b[0;34m,\u001b[0m\u001b[0my\u001b[0m\u001b[0;34m,\u001b[0m \u001b[0miters\u001b[0m\u001b[0;34m=\u001b[0m\u001b[0;36m1\u001b[0m\u001b[0;34m,\u001b[0m \u001b[0mafunc_args\u001b[0m\u001b[0;34m=\u001b[0m\u001b[0;34m{\u001b[0m\u001b[0;34m}\u001b[0m\u001b[0;34m)\u001b[0m\u001b[0;34m:\u001b[0m\u001b[0;34m\u001b[0m\u001b[0m\n",
      "\u001b[0;32m/home/daniel/.virtualenvs/heron/local/lib/python2.7/site-packages/heron-0.1.0-py2.7.egg/heron/regression.pyc\u001b[0m in \u001b[0;36mupdate\u001b[0;34m(self)\u001b[0m\n\u001b[1;32m    138\u001b[0m         \u001b[0mself\u001b[0m\u001b[0;34m.\u001b[0m\u001b[0mL\u001b[0m \u001b[0;34m=\u001b[0m \u001b[0mscipy\u001b[0m\u001b[0;34m.\u001b[0m\u001b[0mlinalg\u001b[0m\u001b[0;34m.\u001b[0m\u001b[0mcho_factor\u001b[0m\u001b[0;34m(\u001b[0m\u001b[0mkm\u001b[0m\u001b[0;34m)\u001b[0m\u001b[0;34m\u001b[0m\u001b[0m\n\u001b[1;32m    139\u001b[0m         \u001b[0mself\u001b[0m\u001b[0;34m.\u001b[0m\u001b[0mkm\u001b[0m \u001b[0;34m=\u001b[0m \u001b[0mkm\u001b[0m\u001b[0;34m\u001b[0m\u001b[0m\n\u001b[0;32m--> 140\u001b[0;31m         \u001b[0mself\u001b[0m\u001b[0;34m.\u001b[0m\u001b[0mtest_predict\u001b[0m\u001b[0;34m(\u001b[0m\u001b[0;34m)\u001b[0m\u001b[0;34m\u001b[0m\u001b[0m\n\u001b[0m\u001b[1;32m    141\u001b[0m \u001b[0;34m\u001b[0m\u001b[0m\n\u001b[1;32m    142\u001b[0m     \u001b[0;32mdef\u001b[0m \u001b[0mK_matrix\u001b[0m\u001b[0;34m(\u001b[0m\u001b[0mself\u001b[0m\u001b[0;34m)\u001b[0m\u001b[0;34m:\u001b[0m\u001b[0;34m\u001b[0m\u001b[0m\n",
      "\u001b[0;32m/home/daniel/.virtualenvs/heron/local/lib/python2.7/site-packages/heron-0.1.0-py2.7.egg/heron/regression.pyc\u001b[0m in \u001b[0;36mtest_predict\u001b[0;34m(self)\u001b[0m\n\u001b[1;32m    240\u001b[0m         \u001b[0mCalculate\u001b[0m \u001b[0mthe\u001b[0m \u001b[0mvalue\u001b[0m \u001b[0mof\u001b[0m \u001b[0mthe\u001b[0m \u001b[0mGP\u001b[0m \u001b[0mat\u001b[0m \u001b[0mthe\u001b[0m \u001b[0mtest\u001b[0m \u001b[0mtargets\u001b[0m\u001b[0;34m.\u001b[0m\u001b[0;34m\u001b[0m\u001b[0m\n\u001b[1;32m    241\u001b[0m         \"\"\"\n\u001b[0;32m--> 242\u001b[0;31m         \u001b[0mself\u001b[0m\u001b[0;34m.\u001b[0m\u001b[0mtest_predictions\u001b[0m \u001b[0;34m=\u001b[0m \u001b[0mself\u001b[0m\u001b[0;34m.\u001b[0m\u001b[0mprediction\u001b[0m\u001b[0;34m(\u001b[0m\u001b[0mnp\u001b[0m\u001b[0;34m.\u001b[0m\u001b[0matleast_2d\u001b[0m\u001b[0;34m(\u001b[0m\u001b[0mself\u001b[0m\u001b[0;34m.\u001b[0m\u001b[0mtraining_object\u001b[0m\u001b[0;34m.\u001b[0m\u001b[0mdenormalise\u001b[0m\u001b[0;34m(\u001b[0m\u001b[0mself\u001b[0m\u001b[0;34m.\u001b[0m\u001b[0mtraining_object\u001b[0m\u001b[0;34m.\u001b[0m\u001b[0mtest_targets\u001b[0m\u001b[0;34m,\u001b[0m \u001b[0;34m\"target\"\u001b[0m\u001b[0;34m)\u001b[0m\u001b[0;34m)\u001b[0m\u001b[0;34m)\u001b[0m\u001b[0;34m[\u001b[0m\u001b[0;36m0\u001b[0m\u001b[0;34m]\u001b[0m\u001b[0;34m\u001b[0m\u001b[0m\n\u001b[0m\u001b[1;32m    243\u001b[0m \u001b[0;34m\u001b[0m\u001b[0m\n\u001b[1;32m    244\u001b[0m     \u001b[0;32mdef\u001b[0m \u001b[0mcorrelation\u001b[0m\u001b[0;34m(\u001b[0m\u001b[0mself\u001b[0m\u001b[0;34m)\u001b[0m\u001b[0;34m:\u001b[0m\u001b[0;34m\u001b[0m\u001b[0m\n",
      "\u001b[0;32m/home/daniel/.virtualenvs/heron/local/lib/python2.7/site-packages/heron-0.1.0-py2.7.egg/heron/regression.pyc\u001b[0m in \u001b[0;36mprediction\u001b[0;34m(self, new_datum)\u001b[0m\n\u001b[1;32m    212\u001b[0m         \u001b[0mnew_datum\u001b[0m \u001b[0;34m=\u001b[0m \u001b[0mnp\u001b[0m\u001b[0;34m.\u001b[0m\u001b[0marray\u001b[0m\u001b[0;34m(\u001b[0m\u001b[0mnew_datum\u001b[0m\u001b[0;34m)\u001b[0m\u001b[0;34m\u001b[0m\u001b[0m\n\u001b[1;32m    213\u001b[0m         \u001b[0mnew_datum\u001b[0m \u001b[0;34m=\u001b[0m \u001b[0mself\u001b[0m\u001b[0;34m.\u001b[0m\u001b[0mtraining_object\u001b[0m\u001b[0;34m.\u001b[0m\u001b[0mnormalise\u001b[0m\u001b[0;34m(\u001b[0m\u001b[0mnew_datum\u001b[0m\u001b[0;34m,\u001b[0m \u001b[0;34m\"target\"\u001b[0m\u001b[0;34m)\u001b[0m\u001b[0;34m\u001b[0m\u001b[0m\n\u001b[0;32m--> 214\u001b[0;31m         \u001b[0mmean\u001b[0m \u001b[0;34m=\u001b[0m \u001b[0mself\u001b[0m\u001b[0;34m.\u001b[0m\u001b[0mmean\u001b[0m\u001b[0;34m(\u001b[0m\u001b[0mnew_datum\u001b[0m\u001b[0;34m)\u001b[0m\u001b[0;34m\u001b[0m\u001b[0m\n\u001b[0m\u001b[1;32m    215\u001b[0m         \u001b[0mvariance\u001b[0m \u001b[0;34m=\u001b[0m \u001b[0mself\u001b[0m\u001b[0;34m.\u001b[0m\u001b[0mcovariance\u001b[0m\u001b[0;34m(\u001b[0m\u001b[0mnew_datum\u001b[0m\u001b[0;34m)\u001b[0m\u001b[0;34m\u001b[0m\u001b[0m\n\u001b[1;32m    216\u001b[0m         \u001b[0;32mreturn\u001b[0m \u001b[0mself\u001b[0m\u001b[0;34m.\u001b[0m\u001b[0mtraining_object\u001b[0m\u001b[0;34m.\u001b[0m\u001b[0mdenormalise\u001b[0m\u001b[0;34m(\u001b[0m\u001b[0mmean\u001b[0m\u001b[0;34m,\u001b[0m \u001b[0;34m\"label\"\u001b[0m\u001b[0;34m)\u001b[0m\u001b[0;34m,\u001b[0m \u001b[0mself\u001b[0m\u001b[0;34m.\u001b[0m\u001b[0mtraining_object\u001b[0m\u001b[0;34m.\u001b[0m\u001b[0mdenormalise\u001b[0m\u001b[0;34m(\u001b[0m\u001b[0mvariance\u001b[0m\u001b[0;34m,\u001b[0m \u001b[0;34m\"label\"\u001b[0m\u001b[0;34m)\u001b[0m\u001b[0;34m\u001b[0m\u001b[0m\n",
      "\u001b[0;32m/home/daniel/.virtualenvs/heron/local/lib/python2.7/site-packages/heron-0.1.0-py2.7.egg/heron/regression.pyc\u001b[0m in \u001b[0;36mmean\u001b[0;34m(self, newdata)\u001b[0m\n\u001b[1;32m    198\u001b[0m \u001b[0;34m\u001b[0m\u001b[0m\n\u001b[1;32m    199\u001b[0m     \u001b[0;32mdef\u001b[0m \u001b[0mmean\u001b[0m\u001b[0;34m(\u001b[0m\u001b[0mself\u001b[0m\u001b[0;34m,\u001b[0m \u001b[0mnewdata\u001b[0m\u001b[0;34m)\u001b[0m\u001b[0;34m:\u001b[0m\u001b[0;34m\u001b[0m\u001b[0m\n\u001b[0;32m--> 200\u001b[0;31m         \u001b[0mKS\u001b[0m \u001b[0;34m=\u001b[0m \u001b[0mself\u001b[0m\u001b[0;34m.\u001b[0m\u001b[0mKstar_matrix\u001b[0m\u001b[0;34m(\u001b[0m\u001b[0mnewdata\u001b[0m\u001b[0;34m)\u001b[0m\u001b[0;34m\u001b[0m\u001b[0m\n\u001b[0m\u001b[1;32m    201\u001b[0m         \u001b[0;32mreturn\u001b[0m \u001b[0mnp\u001b[0m\u001b[0;34m.\u001b[0m\u001b[0mdot\u001b[0m\u001b[0;34m(\u001b[0m\u001b[0mKS\u001b[0m\u001b[0;34m.\u001b[0m\u001b[0mT\u001b[0m\u001b[0;34m,\u001b[0m \u001b[0mself\u001b[0m\u001b[0;34m.\u001b[0m\u001b[0mapply_inverse\u001b[0m\u001b[0;34m(\u001b[0m\u001b[0mself\u001b[0m\u001b[0;34m.\u001b[0m\u001b[0mtraining_y\u001b[0m\u001b[0;34m)\u001b[0m\u001b[0;34m)\u001b[0m\u001b[0;34m\u001b[0m\u001b[0m\n\u001b[1;32m    202\u001b[0m \u001b[0;34m\u001b[0m\u001b[0m\n",
      "\u001b[0;32m/home/daniel/.virtualenvs/heron/local/lib/python2.7/site-packages/heron-0.1.0-py2.7.egg/heron/regression.pyc\u001b[0m in \u001b[0;36mKstar_matrix\u001b[0;34m(self, data)\u001b[0m\n\u001b[1;32m    154\u001b[0m         \u001b[0mdata\u001b[0m\u001b[0;34m.\u001b[0m\u001b[0;34m\u001b[0m\u001b[0m\n\u001b[1;32m    155\u001b[0m         \"\"\"\n\u001b[0;32m--> 156\u001b[0;31m         \u001b[0;32mreturn\u001b[0m \u001b[0mself\u001b[0m\u001b[0;34m.\u001b[0m\u001b[0mkernel\u001b[0m\u001b[0;34m.\u001b[0m\u001b[0mmatrix\u001b[0m\u001b[0;34m(\u001b[0m\u001b[0mself\u001b[0m\u001b[0;34m.\u001b[0m\u001b[0mtraining_data\u001b[0m\u001b[0;34m,\u001b[0m \u001b[0mdata\u001b[0m\u001b[0;34m)\u001b[0m\u001b[0;34m\u001b[0m\u001b[0m\n\u001b[0m\u001b[1;32m    157\u001b[0m \u001b[0;34m\u001b[0m\u001b[0m\n\u001b[1;32m    158\u001b[0m     \u001b[0;32mdef\u001b[0m \u001b[0mKstar_scalar\u001b[0m\u001b[0;34m(\u001b[0m\u001b[0mself\u001b[0m\u001b[0;34m,\u001b[0m \u001b[0mdata\u001b[0m\u001b[0;34m)\u001b[0m\u001b[0;34m:\u001b[0m\u001b[0;34m\u001b[0m\u001b[0m\n",
      "\u001b[0;32m/home/daniel/.virtualenvs/heron/local/lib/python2.7/site-packages/heron-0.1.0-py2.7.egg/heron/kernels.pyc\u001b[0m in \u001b[0;36mmatrix\u001b[0;34m(self, data1, data2)\u001b[0m\n\u001b[1;32m     50\u001b[0m         \u001b[0;31m#data2 = np.atleast_2d(data2)\u001b[0m\u001b[0;34m\u001b[0m\u001b[0;34m\u001b[0m\u001b[0m\n\u001b[1;32m     51\u001b[0m         \u001b[0;31m#data1, data2 = np.expand_dims(data1,0), np.expand_dims(data2,0)\u001b[0m\u001b[0;34m\u001b[0m\u001b[0;34m\u001b[0m\u001b[0m\n\u001b[0;32m---> 52\u001b[0;31m         \u001b[0;32mreturn\u001b[0m \u001b[0mself\u001b[0m\u001b[0;34m.\u001b[0m\u001b[0mfunction\u001b[0m\u001b[0;34m(\u001b[0m\u001b[0mdata1\u001b[0m\u001b[0;34m,\u001b[0m \u001b[0mdata2\u001b[0m\u001b[0;34m)\u001b[0m\u001b[0;34m\u001b[0m\u001b[0m\n\u001b[0m\u001b[1;32m     53\u001b[0m \u001b[0;34m\u001b[0m\u001b[0m\n\u001b[1;32m     54\u001b[0m \u001b[0;32mclass\u001b[0m \u001b[0mExponentialSineSq\u001b[0m\u001b[0;34m(\u001b[0m\u001b[0mKernel\u001b[0m\u001b[0;34m)\u001b[0m\u001b[0;34m:\u001b[0m\u001b[0;34m\u001b[0m\u001b[0m\n",
      "\u001b[0;32m/home/daniel/.virtualenvs/heron/local/lib/python2.7/site-packages/heron-0.1.0-py2.7.egg/heron/kernels.pyc\u001b[0m in \u001b[0;36mfunction\u001b[0;34m(self, data1, data2)\u001b[0m\n\u001b[1;32m    132\u001b[0m         \u001b[0mThe\u001b[0m \u001b[0mfunctional\u001b[0m \u001b[0mform\u001b[0m \u001b[0mof\u001b[0m \u001b[0mthe\u001b[0m \u001b[0mkernel\u001b[0m\u001b[0;34m.\u001b[0m\u001b[0;34m\u001b[0m\u001b[0m\n\u001b[1;32m    133\u001b[0m         \"\"\"\n\u001b[0;32m--> 134\u001b[0;31m         \u001b[0md\u001b[0m \u001b[0;34m=\u001b[0m \u001b[0mself\u001b[0m\u001b[0;34m.\u001b[0m\u001b[0mdistance\u001b[0m\u001b[0;34m(\u001b[0m\u001b[0mdata1\u001b[0m\u001b[0;34m,\u001b[0m \u001b[0mdata2\u001b[0m\u001b[0;34m,\u001b[0m \u001b[0mself\u001b[0m\u001b[0;34m.\u001b[0m\u001b[0mhyper\u001b[0m\u001b[0;34m[\u001b[0m\u001b[0;36m1\u001b[0m\u001b[0;34m]\u001b[0m\u001b[0;34m)\u001b[0m\u001b[0;34m\u001b[0m\u001b[0m\n\u001b[0m\u001b[1;32m    135\u001b[0m         \u001b[0;32mreturn\u001b[0m \u001b[0mself\u001b[0m\u001b[0;34m.\u001b[0m\u001b[0mhyper\u001b[0m\u001b[0;34m[\u001b[0m\u001b[0;36m0\u001b[0m\u001b[0;34m]\u001b[0m\u001b[0;34m**\u001b[0m\u001b[0;36m2\u001b[0m\u001b[0;34m*\u001b[0m\u001b[0mnp\u001b[0m\u001b[0;34m.\u001b[0m\u001b[0mexp\u001b[0m\u001b[0;34m(\u001b[0m\u001b[0;34m-\u001b[0m\u001b[0mnp\u001b[0m\u001b[0;34m.\u001b[0m\u001b[0mabs\u001b[0m\u001b[0;34m(\u001b[0m\u001b[0md\u001b[0m\u001b[0;34m)\u001b[0m\u001b[0;34m)\u001b[0m\u001b[0;34m\u001b[0m\u001b[0m\n\u001b[1;32m    136\u001b[0m \u001b[0;34m\u001b[0m\u001b[0m\n",
      "\u001b[0;32m/home/daniel/.virtualenvs/heron/local/lib/python2.7/site-packages/heron-0.1.0-py2.7.egg/heron/kernels.pyc\u001b[0m in \u001b[0;36mdistance\u001b[0;34m(self, data1, data2, hypers)\u001b[0m\n\u001b[1;32m     30\u001b[0m         \u001b[0;31m#hypers = np.exp(hypers)\u001b[0m\u001b[0;34m\u001b[0m\u001b[0;34m\u001b[0m\u001b[0m\n\u001b[1;32m     31\u001b[0m \u001b[0;34m\u001b[0m\u001b[0m\n\u001b[0;32m---> 32\u001b[0;31m         \u001b[0md\u001b[0m \u001b[0;34m=\u001b[0m \u001b[0mcdist\u001b[0m\u001b[0;34m(\u001b[0m\u001b[0mdata1\u001b[0m\u001b[0;34m,\u001b[0m \u001b[0mdata2\u001b[0m\u001b[0;34m,\u001b[0m \u001b[0;34m'wminkowski'\u001b[0m\u001b[0;34m,\u001b[0m \u001b[0mp\u001b[0m\u001b[0;34m=\u001b[0m\u001b[0;36m2\u001b[0m\u001b[0;34m,\u001b[0m \u001b[0mw\u001b[0m \u001b[0;34m=\u001b[0m \u001b[0mhypers\u001b[0m\u001b[0;34m)\u001b[0m\u001b[0;34m\u001b[0m\u001b[0m\n\u001b[0m\u001b[1;32m     33\u001b[0m         \u001b[0;32mreturn\u001b[0m \u001b[0md\u001b[0m\u001b[0;34m**\u001b[0m\u001b[0;36m2\u001b[0m\u001b[0;34m\u001b[0m\u001b[0m\n\u001b[1;32m     34\u001b[0m \u001b[0;34m\u001b[0m\u001b[0m\n",
      "\u001b[0;32m/home/daniel/.virtualenvs/heron/local/lib/python2.7/site-packages/scipy/spatial/distance.pyc\u001b[0m in \u001b[0;36mcdist\u001b[0;34m(XA, XB, metric, p, V, VI, w)\u001b[0m\n\u001b[1;32m   2029\u001b[0m         \u001b[0;32mraise\u001b[0m \u001b[0mValueError\u001b[0m\u001b[0;34m(\u001b[0m\u001b[0;34m'XB must be a 2-dimensional array.'\u001b[0m\u001b[0;34m)\u001b[0m\u001b[0;34m\u001b[0m\u001b[0m\n\u001b[1;32m   2030\u001b[0m     \u001b[0;32mif\u001b[0m \u001b[0ms\u001b[0m\u001b[0;34m[\u001b[0m\u001b[0;36m1\u001b[0m\u001b[0;34m]\u001b[0m \u001b[0;34m!=\u001b[0m \u001b[0msB\u001b[0m\u001b[0;34m[\u001b[0m\u001b[0;36m1\u001b[0m\u001b[0;34m]\u001b[0m\u001b[0;34m:\u001b[0m\u001b[0;34m\u001b[0m\u001b[0m\n\u001b[0;32m-> 2031\u001b[0;31m         raise ValueError('XA and XB must have the same number of columns '\n\u001b[0m\u001b[1;32m   2032\u001b[0m                          '(i.e. feature dimension.)')\n\u001b[1;32m   2033\u001b[0m \u001b[0;34m\u001b[0m\u001b[0m\n",
      "\u001b[0;31mValueError\u001b[0m: XA and XB must have the same number of columns (i.e. feature dimension.)"
     ]
    }
   ],
   "source": [
    "x0 = [(1/np.std(bbh.labels))**2, 50]\n",
    "gp = regression.Regressor(bbh, kernel=kernels.SquaredExponential(ndim=1), yerror = 1e-23, tikh=1e-6)\n",
    "#p.set_hyperparameters(x0)"
   ]
  },
  {
   "cell_type": "code",
   "execution_count": null,
   "metadata": {
    "collapsed": true
   },
   "outputs": [],
   "source": []
  },
  {
   "cell_type": "code",
   "execution_count": 8,
   "metadata": {
    "collapsed": false
   },
   "outputs": [
    {
     "data": {
      "text/plain": [
       "-1021.0598631009831"
      ]
     },
     "execution_count": 8,
     "metadata": {},
     "output_type": "execute_result"
    }
   ],
   "source": [
    "x0 = [ 32.57270317,  1/np.median(np.diff(bbh.targets.T[0])) ]\n",
    "gp.set_hyperparameters(x0)"
   ]
  },
  {
   "cell_type": "code",
   "execution_count": 9,
   "metadata": {
    "collapsed": false,
    "scrolled": true
   },
   "outputs": [
    {
     "name": "stderr",
     "output_type": "stream",
     "text": [
      "/home/daniel/.virtualenvs/heron/local/lib/python2.7/site-packages/heron-0.1.0-py2.7.egg/heron/kernels.py:20: FutureWarning: comparison to `None` will result in an elementwise object comparison in the future.\n"
     ]
    },
    {
     "data": {
      "text/plain": [
       "      fun: 441.26738922881316\n",
       " hess_inv: array([[   1.11359993,    3.68803054],\n",
       "       [   3.68803054,  120.73155158]])\n",
       "      jac: array([ 0.04247201,  1.13877905])\n",
       "  message: 'Desired error not necessarily achieved due to precision loss.'\n",
       "     nfev: 89\n",
       "      nit: 2\n",
       "     njev: 77\n",
       "   status: 2\n",
       "  success: False\n",
       "        x: array([  26.81246019,  111.63721573])"
      ]
     },
     "execution_count": 9,
     "metadata": {},
     "output_type": "execute_result"
    }
   ],
   "source": [
    "gp.optimise()"
   ]
  },
  {
   "cell_type": "code",
   "execution_count": 10,
   "metadata": {
    "collapsed": false
   },
   "outputs": [
    {
     "data": {
      "text/plain": [
       "0.90000622812405773"
      ]
     },
     "execution_count": 10,
     "metadata": {},
     "output_type": "execute_result"
    }
   ],
   "source": [
    "gp.correlation()"
   ]
  },
  {
   "cell_type": "code",
   "execution_count": 11,
   "metadata": {
    "collapsed": false
   },
   "outputs": [
    {
     "data": {
      "text/plain": [
       "8.2116732181286099e-23"
      ]
     },
     "execution_count": 11,
     "metadata": {},
     "output_type": "execute_result"
    }
   ],
   "source": [
    "gp.rmse()"
   ]
  },
  {
   "cell_type": "code",
   "execution_count": 13,
   "metadata": {
    "collapsed": false
   },
   "outputs": [
    {
     "data": {
      "image/png": "[encoded data removed]",
      "text/plain": [
       "<matplotlib.figure.Figure at 0x7f8b6e2e7bd0>"
      ]
     },
     "metadata": {},
     "output_type": "display_data"
    }
   ],
   "source": [
    "#test = np.genfromtxt('/home/daniel/data/imrphenom-test/bbh_mass1_only_hp_test_5d85_S0d25.txt')\n",
    "f, ax = plt.subplots(2,1, sharey=False, sharex=True, figsize=(4.5,2))\n",
    "#test_point = 0\n",
    "t = np.linspace(-0.1,0.005,1000)\n",
    "new_point = np.zeros((1000,1))\n",
    "#new_point[:,1] = 6\n",
    "#new_point[:,2] = 0\n",
    "new_point[:,0] = t\n",
    "pred = gp.prediction(new_point)\n",
    "ax[0].plot(t, pred[0])\n",
    "ax[0].set_ylim([-.5e-21, .5e-21])\n",
    "ax[0].set_xlim([-0.005, 0.005])\n",
    "err = np.diag(pred[1])\n",
    "err2 = err*1.96\n",
    "ax[0].fill_between(t, pred[0] - err, pred[0] + err , alpha = 0.2)\n",
    "ax[0].fill_between(t, pred[0] - err2, pred[0] + err2 , alpha = 0.1)\n",
    "#d = test.T[0][1] - test.T[0][0]\n",
    "#ax[0].plot(test.T[0]+d, test.T[2])\n",
    "#ax[1].plot(t, np.sqrt((test.T[2] - pred[0])**2))\n",
    "ax[1].plot(bbh_data[:,0], bbh_data[:,3])\n",
    "plt.savefig('/home/daniel/thesis/figures/simplewave1.pgf')"
   ]
  },
  {
   "cell_type": "code",
   "execution_count": 8,
   "metadata": {
    "collapsed": false
   },
   "outputs": [],
   "source": [
    "bbh_data_2 = np.vstack([generate_new_points(5, 0), generate_new_points(10, 0), generate_new_points(15, 0)])\n",
    "bbh_test_2 = np.vstack([generate_new_points(5, 0, 1000), generate_new_points(10, 0, 1000), generate_new_points(15, 0, 1000)])"
   ]
  },
  {
   "cell_type": "code",
   "execution_count": 9,
   "metadata": {
    "collapsed": false
   },
   "outputs": [],
   "source": [
    "bbh_2 = data.Data(bbh_data_2[:,:2], bbh_data_2[:,-1],\n",
    "    #bbh_text[:,:2], bbh_text[:,-1],              \n",
    "                    target_names = [\"Times\", \"Mass\"],\n",
    "                    label_names = [\"hp strain\"],\n",
    "                    test_size = 0,\n",
    "                    test_targets = bbh_test_2[:,:2],\n",
    "                    test_labels = bbh_test_2[:,-1]\n",
    "                    )"
   ]
  },
  {
   "cell_type": "code",
   "execution_count": 10,
   "metadata": {
    "collapsed": false
   },
   "outputs": [
    {
     "name": "stderr",
     "output_type": "stream",
     "text": [
      "/home/daniel/.virtualenvs/heron/local/lib/python2.7/site-packages/heron-0.1.0-py2.7.egg/heron/kernels.py:20: FutureWarning: comparison to `None` will result in an elementwise object comparison in the future.\n"
     ]
    },
    {
     "data": {
      "text/plain": [
       "      fun: 3067.5907111936617\n",
       " hess_inv: array([[ 1.00040832,  0.02609609,  0.02950267],\n",
       "       [ 0.02609609,  2.54159969,  1.9099292 ],\n",
       "       [ 0.02950267,  1.9099292 ,  3.12694405]])\n",
       "      jac: array([ 0.11512266,  6.08151529,  8.56469922])\n",
       "  message: 'Desired error not necessarily achieved due to precision loss.'\n",
       "     nfev: 98\n",
       "      nit: 1\n",
       "     njev: 86\n",
       "   status: 2\n",
       "  success: False\n",
       "        x: array([  40.95673868,  296.36339674,   -1.30633712])"
      ]
     },
     "execution_count": 10,
     "metadata": {},
     "output_type": "execute_result"
    }
   ],
   "source": [
    "gp = regression.Regressor(bbh_2, kernel=kernels.SquaredExponential(ndim=2), yerror = 1e-23, tikh=1e-6)\n",
    "x0 = [ (1/np.std(bbh_2.labels))**2,  1/np.median(np.diff(bbh_2.targets.T[0])), 3] #1/np.median(bbh_2.targets.T[1][::300])  ]\n",
    "gp.set_hyperparameters(x0)\n",
    "gp.optimise()"
   ]
  },
  {
   "cell_type": "code",
   "execution_count": 14,
   "metadata": {
    "collapsed": false
   },
   "outputs": [
    {
     "data": {
      "text/plain": [
       "<Heron Gaussian Process instance with 900 training points>"
      ]
     },
     "execution_count": 14,
     "metadata": {},
     "output_type": "execute_result"
    }
   ],
   "source": [
    "gp"
   ]
  },
  {
   "cell_type": "code",
   "execution_count": 44,
   "metadata": {
    "collapsed": false
   },
   "outputs": [
    {
     "data": {
      "text/plain": [
       "-3250.4148783115302"
      ]
     },
     "execution_count": 44,
     "metadata": {},
     "output_type": "execute_result"
    }
   ],
   "source": [
    "gp.set_hyperparameters([  40.95673868,  296.36339674,   2.5])"
   ]
  },
  {
   "cell_type": "code",
   "execution_count": 45,
   "metadata": {
    "collapsed": false
   },
   "outputs": [
    {
     "data": {
      "text/plain": [
       "[<matplotlib.lines.Line2D at 0x7f2e0fce26d0>]"
      ]
     },
     "execution_count": 45,
     "metadata": {},
     "output_type": "execute_result"
    },
    {
     "data": {
      "image/png": "[encoded data removed]",
      "text/plain": [
       "<matplotlib.figure.Figure at 0x7f2e1a9310d0>"
      ]
     },
     "metadata": {},
     "output_type": "display_data"
    }
   ],
   "source": [
    "#test = np.genfromtxt('/home/daniel/data/imrphenom-test/bbh_mass1_only_hp_test_5d85_S0d25.txt')\n",
    "f, ax = plt.subplots(2,1, sharey=False, sharex=True, figsize=(15,5))\n",
    "#test_point = 0\n",
    "t = np.linspace(-0.1,0.005,1000)\n",
    "new_point = np.zeros((1000,2))\n",
    "new_point[:,1] = 5\n",
    "#new_point[:,2] = 0\n",
    "new_point[:,0] = t\n",
    "pred = gp.prediction(new_point)\n",
    "ax[0].plot(t, pred[0])\n",
    "ax[0].set_ylim([-.5e-21, .5e-21])\n",
    "ax[0].set_xlim([-0.005, 0.005])\n",
    "err = np.diag(pred[1])\n",
    "err2 = err*1.96\n",
    "ax[0].fill_between(t, pred[0] - err, pred[0] + err , alpha = 0.2)\n",
    "ax[0].fill_between(t, pred[0] - err2, pred[0] + err2 , alpha = 0.1)\n",
    "#d = test.T[0][1] - test.T[0][0]\n",
    "#ax[0].plot(test.T[0]+d, test.T[2])\n",
    "#ax[1].plot(t, np.sqrt((test.T[2] - pred[0])**2))\n",
    "ax[1].plot(bbh_data_2[:,0], bbh_data_2[:,3])"
   ]
  },
  {
   "cell_type": "code",
   "execution_count": 34,
   "metadata": {
    "collapsed": false
   },
   "outputs": [
    {
     "name": "stdout",
     "output_type": "stream",
     "text": [
      "0.4401440383\n",
      "6.95085128847e-23\n"
     ]
    }
   ],
   "source": [
    "print gp.correlation()\n",
    "print gp.rmse()"
   ]
  },
  {
   "cell_type": "code",
   "execution_count": 52,
   "metadata": {
    "collapsed": false
   },
   "outputs": [
    {
     "data": {
      "text/plain": [
       "-9635.9882629762124"
      ]
     },
     "execution_count": 52,
     "metadata": {},
     "output_type": "execute_result"
    }
   ],
   "source": [
    "bbh_data_3 = np.vstack([\n",
    "                            generate_new_points(5, 0), generate_new_points(10, 0), generate_new_points(15, 0),\n",
    "                            generate_new_points(5, .5), generate_new_points(10, .5), generate_new_points(15, .5),\n",
    "                            generate_new_points(5, 1), generate_new_points(10, 1), generate_new_points(15, 1)\n",
    "                       ])\n",
    "bbh_test_3 = np.vstack([\n",
    "                            generate_new_points(5, 0, 1000), generate_new_points(10, 0, 1000), generate_new_points(15, 0, 1000),\n",
    "                            generate_new_points(5, .5, 1000), generate_new_points(10, .5, 1000), generate_new_points(15, .5, 1000),\n",
    "                            generate_new_points(5, 1, 1000), generate_new_points(10, 1, 1000), generate_new_points(15, 1, 1000)\n",
    "                       ])\n",
    "bbh_3 = data.Data(bbh_data_3[:,:3], bbh_data_3[:,-1],\n",
    "    #bbh_text[:,:2], bbh_text[:,-1],              \n",
    "                    target_names = [\"Times\", \"Mass\"],\n",
    "                    label_names = [\"hp strain\"],\n",
    "                    test_size = 0,\n",
    "                    test_targets = bbh_test_3[:,:3],\n",
    "                    test_labels = bbh_test_3[:,-1]\n",
    "                    )\n",
    "gp = regression.Regressor(bbh_3, kernel=kernels.SquaredExponential(ndim=3), yerror = 1e-23, tikh=1e-6)\n",
    "x0 = [ (1/np.std(bbh_3.labels))**2,  1/np.median(np.diff(bbh_3.targets.T[0])), 3, 3] #1/np.median(bbh_2.targets.T[1][::300])  ]\n",
    "gp.set_hyperparameters(x0)\n",
    "#gp.optimise()\n",
    "gp.set_hyperparameters([47.25, 298, 1.69, 1.69])"
   ]
  },
  {
   "cell_type": "code",
   "execution_count": 53,
   "metadata": {
    "collapsed": false
   },
   "outputs": [
    {
     "data": {
      "text/plain": [
       "[<matplotlib.lines.Line2D at 0x7f2e0fb87510>]"
      ]
     },
     "execution_count": 53,
     "metadata": {},
     "output_type": "execute_result"
    },
    {
     "data": {
      "image/png": "[encoded data removed]",
      "text/plain": [
       "<matplotlib.figure.Figure at 0x7f2e0c15b450>"
      ]
     },
     "metadata": {},
     "output_type": "display_data"
    }
   ],
   "source": [
    "#test = np.genfromtxt('/home/daniel/data/imrphenom-test/bbh_mass1_only_hp_test_5d85_S0d25.txt')\n",
    "f, ax = plt.subplots(2,1, sharey=False, sharex=True, figsize=(15,5))\n",
    "#test_point = 0\n",
    "t = np.linspace(-0.1,0.005,1000)\n",
    "new_point = np.zeros((1000,3))\n",
    "new_point[:,1] = 10\n",
    "new_point[:,2] = 0.9\n",
    "new_point[:,0] = t\n",
    "pred = gp.prediction(new_point)\n",
    "ax[0].plot(t, pred[0])\n",
    "ax[0].set_ylim([-.5e-21, .5e-21])\n",
    "ax[0].set_xlim([-0.005, 0.005])\n",
    "err = np.diag(pred[1])\n",
    "err2 = err*1.96\n",
    "ax[0].fill_between(t, pred[0] - err, pred[0] + err , alpha = 0.2)\n",
    "ax[0].fill_between(t, pred[0] - err2, pred[0] + err2 , alpha = 0.1)\n",
    "#d = test.T[0][1] - test.T[0][0]\n",
    "#ax[0].plot(test.T[0]+d, test.T[2])\n",
    "#ax[1].plot(t, np.sqrt((test.T[2] - pred[0])**2))\n",
    "ax[1].plot(bbh_data_3[:,0][-600:-300], bbh_data_3[:,3][-600:-300])"
   ]
  },
  {
   "cell_type": "code",
   "execution_count": 54,
   "metadata": {
    "collapsed": false
   },
   "outputs": [
    {
     "data": {
      "text/plain": [
       "0.44082045947341003"
      ]
     },
     "execution_count": 54,
     "metadata": {},
     "output_type": "execute_result"
    }
   ],
   "source": [
    "gp.correlation()"
   ]
  },
  {
   "cell_type": "code",
   "execution_count": 167,
   "metadata": {
    "collapsed": true
   },
   "outputs": [],
   "source": [
    "def match_factor(x, gp=gp, approximant = generate_new_points):\n",
    "    \"\"\"\n",
    "    Calculate the match factor between the Gaussian Process and some other\n",
    "    approximant. By default the IMRPhenomP approximant is used.\n",
    "    \n",
    "    Parameters\n",
    "    ----------\n",
    "    x : array-like\n",
    "        The location at which the models should be compared.\n",
    "    approximant : python callable\n",
    "        The approximant to be used in the comparison.\n",
    "    gp : heron hp object\n",
    "        The Gaussian Process to be compared.\n",
    "    \"\"\"\n",
    "    app = approximant(x[0], x[1], 300,  -0.005, 0.005)\n",
    "    t = np.linspace(-0.005,0.005,300)\n",
    "    new_point = np.zeros((300,3))\n",
    "    new_point[:,1] = x[0]\n",
    "    new_point[:,2] = x[1]\n",
    "    new_point[:,0] = t\n",
    "    pred = gp.prediction(new_point)\n",
    "    plt.plot(app[:,3][:-10])\n",
    "    plt.plot(np.roll(pred[0], -6)[:-10])\n",
    "    app = app[:,3][:-10]\n",
    "    pre = np.roll(pred[0], -6)[:-10]\n",
    "    top = np.inner(pre, app)\n",
    "    lb = np.sqrt(np.inner(app, app))\n",
    "    rb = np.sqrt(np.inner(pre, pre))\n",
    "    return top/(lb*rb)"
   ]
  },
  {
   "cell_type": "code",
   "execution_count": 132,
   "metadata": {
    "collapsed": false
   },
   "outputs": [
    {
     "data": {
      "text/plain": [
       "0.99803813597733948"
      ]
     },
     "execution_count": 132,
     "metadata": {},
     "output_type": "execute_result"
    }
   ],
   "source": [
    "match_factor([7.5,0.25], gp)"
   ]
  },
  {
   "cell_type": "code",
   "execution_count": 147,
   "metadata": {
    "collapsed": true
   },
   "outputs": [],
   "source": [
    "def nei(m):\n",
    "    return -gp.expected_improvement([0, m[0], m[1]])\n",
    "\n",
    "class MyBounds(object):\n",
    "     def __init__(self, xmax=[15,1], xmin=[5,0] ):\n",
    "         self.xmax = np.array(xmax)\n",
    "         self.xmin = np.array(xmin)\n",
    "     def __call__(self, **kwargs):\n",
    "         x = kwargs[\"x_new\"]\n",
    "         tmax = bool(np.all(x <= self.xmax))\n",
    "         tmin = bool(np.all(x >= self.xmin))\n",
    "         return tmax and tmin\n",
    "\n",
    "from scipy.optimize import minimize\n",
    "cons = [{'type':'ineq', 'fun': lambda x: x[1]>=0},\n",
    "        {'type':'ineq', 'fun': lambda x: x[1]<1},\n",
    "        {'type':'ineq', 'fun': lambda x: x[0]>7},\n",
    "        {'type':'ineq', 'fun': lambda x: x[0]<15}]\n",
    "bnds = ((5,15), (0,1))\n",
    "def infill(number, gp):\n",
    "    #x0 = [np.random.rand(),np.random.rand(),np.random.rand()]\n",
    "    x0 = [10, 0]\n",
    "    for i in range(number):\n",
    "        mybounds = MyBounds()\n",
    "        x0 = [10, 0.1]\n",
    "        new = scipy.optimize.basinhopping(match_factor, x0, niter=100, accept_test=mybounds)\n",
    "        #new = minimize(nei, x0, method='SLSQP',)#bounds = bnds)\n",
    "        #target = bbh.denormalise(new.x, \"target\")\n",
    "        print new.x\n",
    "        target = new.x\n",
    "        new_data = generate_new_points(target[0], target[1])\n",
    "        gp.add_data(new_data[0,:3], new_data[0,-1])\n",
    "        #gp.optimise()\n",
    "        #return target, gp.loglikelihood()"
   ]
  },
  {
   "cell_type": "code",
   "execution_count": 149,
   "metadata": {
    "collapsed": false
   },
   "outputs": [],
   "source": [
    "x0 = [11,0]"
   ]
  },
  {
   "cell_type": "code",
   "execution_count": 168,
   "metadata": {
    "collapsed": false
   },
   "outputs": [
    {
     "data": {
      "text/plain": [
       "-0.056960225548727705"
      ]
     },
     "execution_count": 168,
     "metadata": {},
     "output_type": "execute_result"
    },
    {
     "data": {
      "image/png": "[encoded data removed]",
      "text/plain": [
       "<matplotlib.figure.Figure at 0x7f36efe5ad90>"
      ]
     },
     "metadata": {},
     "output_type": "display_data"
    }
   ],
   "source": [
    "match_factor(x0)"
   ]
  },
  {
   "cell_type": "code",
   "execution_count": 157,
   "metadata": {
    "collapsed": false
   },
   "outputs": [],
   "source": [
    "n = 20\n",
    "x = np.linspace(5, 15, n)\n",
    "y = np.linspace(0,  1, n)\n",
    "data = np.zeros((n,n))\n",
    "xv, yv = np.meshgrid(x, y, sparse=False, indexing='ij')\n",
    "for i in range(n):\n",
    "    for j in range(n):\n",
    "        x0 = [ xv[i,j], yv[i,j] ]\n",
    "        data[i][j] = match_factor(x0)"
   ]
  },
  {
   "cell_type": "code",
   "execution_count": 163,
   "metadata": {
    "collapsed": false
   },
   "outputs": [
    {
     "data": {
      "text/plain": [
       "<matplotlib.colorbar.Colorbar at 0x7f36f55ee1d0>"
      ]
     },
     "execution_count": 163,
     "metadata": {},
     "output_type": "execute_result"
    },
    {
     "data": {
      "image/png": "[encoded data removed]",
      "text/plain": [
       "<matplotlib.figure.Figure at 0x7f36f54bb7d0>"
      ]
     },
     "metadata": {},
     "output_type": "display_data"
    }
   ],
   "source": [
    "plt.imshow(data, extent=(5, 15, 0, 1), origin='lower left', aspect=10)\n",
    "plt.colorbar()"
   ]
  },
  {
   "cell_type": "code",
   "execution_count": 174,
   "metadata": {
    "collapsed": false
   },
   "outputs": [
    {
     "data": {
      "text/plain": [
       "0.99804468818635661"
      ]
     },
     "execution_count": 174,
     "metadata": {},
     "output_type": "execute_result"
    },
    {
     "data": {
      "image/png": "[encoded data removed]",
      "text/plain": [
       "<matplotlib.figure.Figure at 0x7f36f5018450>"
      ]
     },
     "metadata": {},
     "output_type": "display_data"
    }
   ],
   "source": [
    "match_factor([7.5,0.5])"
   ]
  },
  {
   "cell_type": "code",
   "execution_count": 175,
   "metadata": {
    "collapsed": false
   },
   "outputs": [
    {
     "data": {
      "text/plain": [
       "array([ 24.95395191,  21.95756258,  -2.07481906, -13.40978644])"
      ]
     },
     "execution_count": 175,
     "metadata": {},
     "output_type": "execute_result"
    }
   ],
   "source": [
    "gp.kernel.flat_hyper"
   ]
  },
  {
   "cell_type": "code",
   "execution_count": 16,
   "metadata": {
    "collapsed": false
   },
   "outputs": [
    {
     "data": {
      "text/plain": [
       "array([  1.95363131e-19])"
      ]
     },
     "execution_count": 16,
     "metadata": {},
     "output_type": "execute_result"
    }
   ],
   "source": [
    "x0 = [0.0005, 7, 6]\n",
    "gp.expected_improvement(x0)"
   ]
  },
  {
   "cell_type": "code",
   "execution_count": 17,
   "metadata": {
    "collapsed": false
   },
   "outputs": [
    {
     "data": {
      "text/plain": [
       "(array([ -4.04570935e-22]), array([[  4.89195525e-19]]))"
      ]
     },
     "execution_count": 17,
     "metadata": {},
     "output_type": "execute_result"
    }
   ],
   "source": [
    "gp.prediction(np.atleast_2d(x0))"
   ]
  },
  {
   "cell_type": "code",
   "execution_count": 18,
   "metadata": {
    "collapsed": false
   },
   "outputs": [],
   "source": [
    "from scipy.optimize import minimize"
   ]
  },
  {
   "cell_type": "code",
   "execution_count": 19,
   "metadata": {
    "collapsed": false
   },
   "outputs": [],
   "source": [
    "t = np.linspace(-0.02,0.001,300)\n",
    "m = np.linspace(5, 10, 300)\n",
    "new_point = np.zeros((300,3))\n",
    "new_point[:,1] = m\n",
    "new_point[:,2] = 0\n",
    "new_point[:,0] = 0"
   ]
  },
  {
   "cell_type": "code",
   "execution_count": 20,
   "metadata": {
    "collapsed": false
   },
   "outputs": [],
   "source": [
    "EI = map(gp.nei, new_point)"
   ]
  },
  {
   "cell_type": "code",
   "execution_count": 21,
   "metadata": {
    "collapsed": false
   },
   "outputs": [
    {
     "data": {
      "text/plain": [
       "[<matplotlib.lines.Line2D at 0x7f36f6579b90>]"
      ]
     },
     "execution_count": 21,
     "metadata": {},
     "output_type": "execute_result"
    },
    {
     "data": {
      "image/png": "[encoded data removed]",
      "text/plain": [
       "<matplotlib.figure.Figure at 0x7f36f69794d0>"
      ]
     },
     "metadata": {},
     "output_type": "display_data"
    }
   ],
   "source": [
    "plt.plot(m, EI)"
   ]
  },
  {
   "cell_type": "code",
   "execution_count": 189,
   "metadata": {
    "collapsed": false
   },
   "outputs": [
    {
     "data": {
      "text/plain": [
       "[<matplotlib.lines.Line2D at 0x7f8fb07fcb90>]"
      ]
     },
     "execution_count": 189,
     "metadata": {},
     "output_type": "execute_result"
    },
    {
     "data": {
      "image/png": "[encoded data removed]",
      "text/plain": [
       "<matplotlib.figure.Figure at 0x7f8fb0926390>"
      ]
     },
     "metadata": {},
     "output_type": "display_data"
    }
   ],
   "source": [
    "t = np.linspace(-0.02,0.001,300)\n",
    "m = np.linspace(5, 10, 300)\n",
    "new_point = np.zeros((300,3))\n",
    "new_point[:,1] = 9.5\n",
    "new_point[:,2] = 0\n",
    "new_point[:,0] = t\n",
    "EI = map(gp.nei, new_point)\n",
    "plt.plot(m, EI)"
   ]
  },
  {
   "cell_type": "code",
   "execution_count": 190,
   "metadata": {
    "collapsed": false
   },
   "outputs": [
    {
     "data": {
      "text/plain": [
       "[<matplotlib.lines.Line2D at 0x7f8fb0763d90>]"
      ]
     },
     "execution_count": 190,
     "metadata": {},
     "output_type": "execute_result"
    },
    {
     "data": {
      "image/png": "[encoded data removed]",
      "text/plain": [
       "<matplotlib.figure.Figure at 0x7f8fb2329a10>"
      ]
     },
     "metadata": {},
     "output_type": "display_data"
    }
   ],
   "source": [
    "t = np.linspace(-0.02,0.001,300)\n",
    "m = np.linspace(5, 10, 300)\n",
    "s = np.linspace(0,1,300)\n",
    "new_point = np.zeros((300,3))\n",
    "new_point[:,1] = 9.5\n",
    "new_point[:,2] = s\n",
    "new_point[:,0] = 0\n",
    "EI = map(gp.nei, new_point)\n",
    "plt.plot(m, EI)"
   ]
  },
  {
   "cell_type": "code",
   "execution_count": 162,
   "metadata": {
    "collapsed": true
   },
   "outputs": [],
   "source": []
  },
  {
   "cell_type": "code",
   "execution_count": 240,
   "metadata": {
    "collapsed": false
   },
   "outputs": [],
   "source": [
    "def nei(m):\n",
    "    return -gp.expected_improvement([0, m[0], m[1]])\n",
    "\n",
    "class MyBounds(object):\n",
    "     def __init__(self, xmax=[15,1], xmin=[5,0] ):\n",
    "         self.xmax = np.array(xmax)\n",
    "         self.xmin = np.array(xmin)\n",
    "     def __call__(self, **kwargs):\n",
    "         x = kwargs[\"x_new\"]\n",
    "         tmax = bool(np.all(x <= self.xmax))\n",
    "         tmin = bool(np.all(x >= self.xmin))\n",
    "         return tmax and tmin\n",
    "\n",
    "from scipy.optimize import minimize\n",
    "cons = [{'type':'ineq', 'fun': lambda x: x[1]>0},\n",
    "        {'type':'ineq', 'fun': lambda x: x[1]<1},\n",
    "        {'type':'ineq', 'fun': lambda x: x[0]>0},\n",
    "        {'type':'ineq', 'fun': lambda x: x[0]<1}]\n",
    "bnds = ((5,15), (0,1))\n",
    "def infill(number, gp):\n",
    "    x0 = [np.random.rand(),np.random.rand(),np.random.rand()]\n",
    "    \n",
    "    for i in range(number):\n",
    "        mybounds = MyBounds()\n",
    "        x0 = [10, 0]\n",
    "        new = scipy.optimize.basinhopping(nei, x0, niter=100, accept_test=mybounds)\n",
    "        #new = minimize(nei, x0, method='SLSQP',)#bounds = bnds)\n",
    "        #target = bbh.denormalise(new.x, \"target\")\n",
    "        print new.x\n",
    "        target = new.x\n",
    "        new_data = generate_new_points(target[0], target[1])\n",
    "        gp.add_data(new_data[0,:3], new_data[0,-1])\n",
    "        #gp.optimise()\n",
    "        #return target, gp.loglikelihood()"
   ]
  },
  {
   "cell_type": "code",
   "execution_count": null,
   "metadata": {
    "collapsed": false
   },
   "outputs": [],
   "source": []
  },
  {
   "cell_type": "code",
   "execution_count": 241,
   "metadata": {
    "collapsed": true
   },
   "outputs": [],
   "source": [
    "import scipy"
   ]
  },
  {
   "cell_type": "code",
   "execution_count": 242,
   "metadata": {
    "collapsed": true
   },
   "outputs": [],
   "source": [
    "class MyBounds(object):\n",
    "     def __init__(self, xmax=[15,1], xmin=[5,0] ):\n",
    "         self.xmax = np.array(xmax)\n",
    "         self.xmin = np.array(xmin)\n",
    "     def __call__(self, **kwargs):\n",
    "         x = kwargs[\"x_new\"]\n",
    "         tmax = bool(np.all(x <= self.xmax))\n",
    "         tmin = bool(np.all(x >= self.xmin))\n",
    "         return tmax and tmin"
   ]
  },
  {
   "cell_type": "code",
   "execution_count": 243,
   "metadata": {
    "collapsed": false
   },
   "outputs": [
    {
     "name": "stdout",
     "output_type": "stream",
     "text": [
      "[ 9.69239827  0.87067163]\n",
      "[ 9.85015422  0.77473381]\n",
      "[ 9.9809669  0.745261 ]\n"
     ]
    }
   ],
   "source": [
    "infill(3, gp)"
   ]
  },
  {
   "cell_type": "code",
   "execution_count": 51,
   "metadata": {
    "collapsed": false
   },
   "outputs": [
    {
     "data": {
      "text/plain": [
       "array([ -4.80007800e-03,   3.00000000e+01,   0.00000000e+00,\n",
       "         1.63744136e+03])"
      ]
     },
     "execution_count": 51,
     "metadata": {},
     "output_type": "execute_result"
    }
   ],
   "source": [
    "np.append(a,b)"
   ]
  },
  {
   "cell_type": "code",
   "execution_count": 47,
   "metadata": {
    "collapsed": false
   },
   "outputs": [
    {
     "data": {
      "text/plain": [
       "array([ -4.80007800e-03,   3.00000000e+01,   0.00000000e+00,\n",
       "         1.62818153e+03])"
      ]
     },
     "execution_count": 47,
     "metadata": {},
     "output_type": "execute_result"
    }
   ],
   "source": [
    "np.append(a,b)"
   ]
  },
  {
   "cell_type": "code",
   "execution_count": 25,
   "metadata": {
    "collapsed": false
   },
   "outputs": [
    {
     "data": {
      "text/plain": [
       "0.010902684624271202"
      ]
     },
     "execution_count": 25,
     "metadata": {},
     "output_type": "execute_result"
    }
   ],
   "source": [
    "gp.correlation()"
   ]
  },
  {
   "cell_type": "code",
   "execution_count": 26,
   "metadata": {
    "collapsed": false
   },
   "outputs": [
    {
     "data": {
      "text/plain": [
       "1.1603073805073734e-23"
      ]
     },
     "execution_count": 26,
     "metadata": {},
     "output_type": "execute_result"
    }
   ],
   "source": [
    "gp.rmse()"
   ]
  },
  {
   "cell_type": "code",
   "execution_count": 24,
   "metadata": {
    "collapsed": false
   },
   "outputs": [
    {
     "name": "stderr",
     "output_type": "stream",
     "text": [
      "/home/daniel/.virtualenvs/heron/lib/python2.7/site-packages/ipykernel/__main__.py:1: RuntimeWarning: overflow encountered in exp\n",
      "  if __name__ == '__main__':\n"
     ]
    },
    {
     "data": {
      "text/plain": [
       "inf"
      ]
     },
     "execution_count": 24,
     "metadata": {},
     "output_type": "execute_result"
    }
   ],
   "source": [
    "np.exp(gp.loglikelihood())"
   ]
  },
  {
   "cell_type": "code",
   "execution_count": 20,
   "metadata": {
    "collapsed": false
   },
   "outputs": [
    {
     "data": {
      "text/plain": [
       "0.010902683793309543"
      ]
     },
     "execution_count": 20,
     "metadata": {},
     "output_type": "execute_result"
    }
   ],
   "source": [
    "gp.correlation()"
   ]
  },
  {
   "cell_type": "code",
   "execution_count": 21,
   "metadata": {
    "collapsed": false
   },
   "outputs": [
    {
     "data": {
      "text/plain": [
       "(array([ -2.92125616e-22]), array([[ -4.04570176e-22]]))"
      ]
     },
     "execution_count": 21,
     "metadata": {},
     "output_type": "execute_result"
    }
   ],
   "source": [
    "gp.prediction(np.atleast_2d(x0))"
   ]
  },
  {
   "cell_type": "code",
   "execution_count": 31,
   "metadata": {
    "collapsed": false
   },
   "outputs": [
    {
     "data": {
      "text/plain": [
       "0.0"
      ]
     },
     "execution_count": 31,
     "metadata": {},
     "output_type": "execute_result"
    }
   ],
   "source": [
    "gp.expected_improvement([-0.015, 5.6])"
   ]
  },
  {
   "cell_type": "code",
   "execution_count": 32,
   "metadata": {
    "collapsed": false
   },
   "outputs": [],
   "source": [
    "y_min = gp.training_y.min()"
   ]
  },
  {
   "cell_type": "code",
   "execution_count": 36,
   "metadata": {
    "collapsed": false
   },
   "outputs": [],
   "source": [
    "x0 = [0, 9.5]\n",
    "p, S = gp.prediction(np.atleast_2d(x0))"
   ]
  },
  {
   "cell_type": "code",
   "execution_count": 37,
   "metadata": {
    "collapsed": true
   },
   "outputs": [],
   "source": [
    "EI_one = ((y_min - p) * (0.5 + 0.5*m.erf((\n",
    "          1./np.sqrt(2.))*((y_min - p) /\n",
    "                           S))))\n",
    "EI_two = ((S * (1. / np.sqrt(2. * np.pi))) * (np.exp(-(1./2.) *\n",
    "                                                     ((y_min - p)**2. / S**2.))))\n",
    "EI = EI_one + EI_two"
   ]
  },
  {
   "cell_type": "code",
   "execution_count": 38,
   "metadata": {
    "collapsed": false
   },
   "outputs": [
    {
     "data": {
      "text/plain": [
       "array([[ -8.87879249e-23]])"
      ]
     },
     "execution_count": 38,
     "metadata": {},
     "output_type": "execute_result"
    }
   ],
   "source": [
    "EI"
   ]
  },
  {
   "cell_type": "code",
   "execution_count": 39,
   "metadata": {
    "collapsed": false
   },
   "outputs": [
    {
     "data": {
      "text/plain": [
       "array([[ -3.66082381e-22]])"
      ]
     },
     "execution_count": 39,
     "metadata": {},
     "output_type": "execute_result"
    }
   ],
   "source": [
    "S"
   ]
  },
  {
   "cell_type": "raw",
   "metadata": {
    "collapsed": true
   },
   "source": [
    "\"\"\"\n",
    "[ 10.8078873    0.87673858] 1620.62963991 0.0109026846537 1.16030738198e-23\n",
    "[ 10.49694947   0.73728915] 1617.41214227 0.0109026842301 1.1603073597e-23\n",
    "[ 9.26394524  0.72027077] 1614.43779705 0.0109026838607 1.16030734021e-23\n",
    "[ 13.06663788   0.10936223] 1611.22068051 0.0109026834918 1.16030732067e-23\n",
    "[ 9.8774719   0.71338582] 1608.86956843 0.0109026830869 1.1603072994e-23\n",
    "[ 7.7200776   0.72509103] 1606.1413651 0.010902682758 1.16030728219e-23\n",
    "[ 9.25681799  0.93681314] 1602.92538383 0.0109026823468 1.16030726051e-23\n",
    "[ 11.23675808   0.8268929 ] 1599.72177534 0.0109026819991 1.16030724235e-23\n",
    "[ 8.5274565  0.8167662] 1596.53742402 0.0109026816332 1.16030722299e-23\n",
    "[ 10.40040286   0.7998811 ] 1593.56147349 0.0109026812532 1.16030720293e-23\n",
    "[ 9.8171501   0.82620224] 1591.10721361 0.0109026809968 1.16030718946e-23\n",
    "[ 8.90846694  0.86251855] 1588.08650544 0.0109026806387 1.16030717059e-23\n",
    "[ 12.74542863   0.10582335] 1586.33662067 0.0109026803616 1.1603071559e-23\n",
    "[ 9.63482994  0.98652955] 1583.13311874 0.0109026800102 1.16030713743e-23\n",
    "[ 10.54816479   0.81437932] 1581.62976655 0.0109026796859 1.16030712047e-23\n",
    "[ 10.39185145   0.73932868] 1581.02560214 0.0109026793741 1.16030710406e-23\n",
    "[ 9.75099433  0.9146337 ] 1578.189517 0.0109026791135 1.16030709021e-23\n",
    "[ 8.27741944  0.90770884] 1575.28518694 0.0109026787722 1.16030707227e-23\n",
    "[ 10.74048319   0.77785107] 1572.96654632 0.0109026784811 1.1603070571e-23\n",
    "[ 8.55191028  0.92586559] 1570.96314635 0.0109026782127 1.16030704282e-23\n",
    "[ 13.59256195   0.10402079] 1568.83254656 0.0109026779816 1.16030703066e-23\n",
    "[ 9.99730489  0.77799129] 1566.78002547 0.0109026776953 1.16030701565e-23\n",
    "[ 9.5464862   0.71203451] 1565.80615777 0.0109026773661 1.16030699829e-23\n",
    "[ 9.30692332  0.84475273] 1564.08528913 0.0109026770869 1.1603069835e-23\n",
    "[ 10.9538792    0.80894405] 1563.09598319 0.0109026769079 1.16030697409e-23\n",
    "[ 9.58573913  0.89775412] 1561.11568472 0.0109026766775 1.16030696196e-23\n",
    "[ 9.70501183  0.7296046 ] 1560.66452233 0.0109026764884 1.16030695203e-23\n",
    "[ 10.49097679   0.78682106] 1560.76365957 0.0109026762701 1.16030694066e-23\n",
    "[ 9.86630552  0.98006043] 1558.96577457 0.0109026761112 1.16030693217e-23\n",
    "[ 10.16019458   0.76000443] 1558.37145251 0.0109026759271 1.16030692247e-23\n",
    "[ 11.82662141   0.72125374] 1555.97812441 0.0109026757843 1.160306915e-23\n",
    "[ 9.28455251  0.8931436 ] 1555.38913851 0.0109026756232 1.16030690639e-23\n",
    "[ 8.61008613  0.80037562] 1553.49354915 0.0109026755111 1.16030690057e-23\n",
    "[ 10.02544901   0.76995805] 1554.71015199 0.0109026753696 1.16030689317e-23\n",
    "[ 14.35277684   0.09926504] 1552.82592961 0.0109026752392 1.16030688631e-23\n",
    "[ 12.93035149   0.11424723] 1552.57219324 0.010902675132 1.16030688072e-23\n",
    "[ 10.49075633   0.95096692] 1550.1647946 0.0109026750172 1.16030687474e-23\n",
    "[ 10.71853275   0.7775987 ] 1552.86014979 0.0109026748974 1.16030686831e-23\n",
    "[ 9.23144391  0.8933324 ] 1554.57556875 0.0109026747769 1.16030686198e-23\n",
    "[ 11.5829031   0.8748189] 1552.70699465 0.0109026747007 1.16030685794e-23\n",
    "[ 13.95844465   0.08674051] 1550.54840034 0.0109026746144 1.16030685343e-23\n",
    "[ 10.95692383   0.82752366] 1550.61307027 0.0109026745349 1.16030684925e-23\n",
    "[ 9.85214327  0.73822633] 1551.34320925 0.0109026744332 1.16030684389e-23\n",
    "[ 9.30082689  0.74277258] 1550.77497491 0.0109026743672 1.1603068405e-23\n",
    "[ 9.18712512  0.81031507] 1550.32619721 0.0109026742628 1.16030683499e-23\n",
    "[ 10.29760611   0.93664915] 1549.16905783 0.0109026741642 1.16030682967e-23\n",
    "[ 10.69379096   0.96319823] 1547.91039716 0.0109026740917 1.16030682595e-23\n",
    "[ 10.51793798   0.76607764] 1549.76011093 0.0109026739893 1.16030682053e-23\n",
    "[ 9.68017762  0.73928153] 1552.30425274 0.0109026739059 1.16030681612e-23\n",
    "[ 13.20508917   0.12050498] 1551.26541081 0.0109026738017 1.16030681062e-23\n",
    "[ 8.74594118  0.81004342] 1552.23593183 0.0109026737279 1.16030680679e-23\n",
    "[ 11.01933316   0.92713979] 1550.3057014 0.0109026736551 1.16030680282e-23\n",
    "[ 11.22493416   0.81887747] 1551.13696324 0.0109026735685 1.16030679832e-23\n",
    "[ 9.28127101  0.97068334] 1549.2976667 0.0109026735304 1.16030679635e-23\n",
    "[ 9.64542278  0.71358108] 1551.35152611 0.010902673444 1.16030679186e-23\n",
    "[ 9.74187816  0.71022113] 1553.08106745 0.0109026733547 1.16030678713e-23\n",
    "[ 10.84920828   0.80388153] 1556.13875477 0.0109026733325 1.16030678598e-23\n",
    "[ 10.07865911   0.88158505] 1556.62473839 0.0109026732817 1.16030678334e-23\n",
    "[ 10.48694836   0.74536727] 1558.90796968 0.0109026732137 1.16030677968e-23\n",
    "[ 9.37790589  0.71862818] 1562.3911542 0.010902673054 1.16030677124e-23\n",
    "[ 9.35897896  0.73687724] 1565.10774821 0.0109026729043 1.16030676334e-23\n",
    "[ 12.90854327   0.09800521] 1564.77532273 0.0109026727733 1.16030675661e-23\n",
    "[ 10.23059696   0.81054491] 1566.55779579 0.0109026726536 1.16030675017e-23\n",
    "[ 11.30632244   0.88718934] 1565.04046705 0.0109026725363 1.16030674419e-23\n",
    "[ 10.25230771   0.96464672] 1564.76120059 0.0109026724247 1.16030673813e-23\n",
    "[ 7.03597404  0.77408266] 1562.20840546 0.0109026723259 1.16030673309e-23\n",
    "[ 10.12953465   0.70540623] 1563.65211054 0.0109026722077 1.16030672679e-23\n",
    "[ 9.74515777  0.72327517] 1567.40670004 0.0109026720906 1.16030672052e-23\n",
    "[ 10.01679656   0.72284338] 1570.59925 0.0109026719787 1.16030671471e-23\n",
    "[ 11.15422442   0.75072088] 1566.9303222 0.0109026719051 1.16030671083e-23\n",
    "[ 9.96059125  0.81841476] 1570.10234836 0.0109026718349 1.16030670699e-23\n",
    "[ 9.81761826  0.78331201] 1573.00131895 0.0109026717669 1.16030670355e-23\n",
    "[ 10.07263175   0.89285628] 1573.34603697 0.0109026716642 1.16030669811e-23\n",
    "[ 9.73878953  0.76795595] 1575.0843202 0.0109026716073 1.1603066951e-23\n",
    "[ 13.0406266    0.09191223] 1575.31857862 0.0109026715309 1.16030669111e-23\n",
    "[ 10.25468037   0.79518778] 1578.43980399 0.0109026714327 1.16030668599e-23\n",
    "[ 8.87581997  0.76712326] 1577.90115886 0.0109026712744 1.16030667749e-23\n",
    "[ 10.32917478   0.88042597] 1580.22386356 0.0109026711194 1.16030666954e-23\n",
    "[ 10.41829988   0.72129367] 1572.62740754 0.0109022443958 1.1602842052e-23\n",
    "[ 13.37970356   0.11427298] 1573.36201877 0.0109022431957 1.16028414202e-23\n",
    "[ 10.88407316   0.81042607] 1574.71203481 0.0109021289861 1.16027812973e-23\n",
    "[ 9.10107858  0.71035187] 1575.72991108 0.0109020081673 1.16027176943e-23\n",
    "[ 9.61003902  0.94793077] 1575.79185082 0.0109020063686 1.1602716747e-23\n",
    "[ 10.27762613   0.81692277] 1577.03535812 0.0109017602705 1.1602587199e-23\n",
    "[ 9.43475872  0.73950753] 1575.9237578 0.0109017221273 1.16025671191e-23\n",
    "[ 11.24861991   0.9748088 ] 1574.78879511 0.0109017204831 1.16025662533e-23\n",
    "[ 9.5848487   0.90715806] 1576.81158396 0.0109017192205 1.16025655898e-23\n",
    "[ 10.42911431   0.83703244] 1571.40182956 0.010901618838 1.16025127456e-23\n",
    "[ 11.08575021   0.74477785] 1569.93145187 0.0109011752655 1.16022792501e-23\n",
    "[ 11.54085191   0.81466596] 1552.08267381 0.010900659894 1.16020079719e-23\n",
    "[ 8.4047688   0.74597507] 1540.62346411 0.0109004434993 1.16018940727e-23\n",
    "[ 8.48105719  0.93995137] 1538.95027078 0.0109004429029 1.16018937596e-23\n",
    "[ 10.23770392   0.78563986] 1534.64969074 0.0109004408871 1.16018926969e-23\n",
    "[ 8.12679967  0.75992862] 1524.37324432 0.0109001960144 1.16017638134e-23\n",
    "[ 10.87041014   0.89492598] 1523.97014259 0.0109001955312 1.16017635595e-23\n",
    "[ 11.00284504   0.85904197] 1520.69912514 0.0108999885421 1.16016546182e-23\n",
    "[ 10.38365229   0.76719971] 1510.3955396 0.0108998904997 1.1601603017e-23\n",
    "[ 9.97103504  0.71704379] 1516.07177654 0.0108998889102 1.16016021811e-23\n",
    "[ 14.14723787   0.10445844] 1516.73241601 0.0108998877162 1.1601601552e-23\n",
    "[ 9.25418634  0.79988094] 1518.6080668 0.010899887084 1.16016012189e-23\n",
    "\"\"\""
   ]
  },
  {
   "cell_type": "code",
   "execution_count": null,
   "metadata": {
    "collapsed": true
   },
   "outputs": [],
   "source": []
  }
 ],
 "metadata": {
  "kernelspec": {
   "display_name": "Python 2",
   "language": "python",
   "name": "python2"
  },
  "language_info": {
   "codemirror_mode": {
    "name": "ipython",
    "version": 2
   },
   "file_extension": ".py",
   "mimetype": "text/x-python",
   "name": "python",
   "nbconvert_exporter": "python",
   "pygments_lexer": "ipython2",
   "version": "2.7.6"
  },
  "latex_envs": {
   "bibliofile": "biblio.bib",
   "cite_by": "apalike",
   "current_citInitial": 1,
   "eqLabelWithNumbers": true,
   "eqNumInitial": 0
  }
 },
 "nbformat": 4,
 "nbformat_minor": 0
}
