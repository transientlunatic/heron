{
 "cells": [
  {
   "cell_type": "code",
   "execution_count": 13,
   "metadata": {
    "collapsed": true
   },
   "outputs": [],
   "source": [
    "from heron import data\n",
    "import matplotlib.pyplot as plt\n",
    "%matplotlib inline\n",
    "import numpy as np\n",
    "\n",
    "oring_txt = np.genfromtxt(\"../data/o-ring.data\", delimiter=\"\")"
   ]
  },
  {
   "cell_type": "code",
   "execution_count": 18,
   "metadata": {
    "collapsed": false
   },
   "outputs": [
    {
     "data": {
      "text/plain": [
       "array([[   6.,    0.,   66.,   50.,    1.],\n",
       "       [   6.,    1.,   70.,   50.,    2.],\n",
       "       [   6.,    0.,   69.,   50.,    3.],\n",
       "       [   6.,    0.,   68.,   50.,    4.],\n",
       "       [   6.,    0.,   67.,   50.,    5.],\n",
       "       [   6.,    0.,   72.,   50.,    6.],\n",
       "       [   6.,    0.,   73.,  100.,    7.],\n",
       "       [   6.,    0.,   70.,  100.,    8.],\n",
       "       [   6.,    1.,   57.,  200.,    9.],\n",
       "       [   6.,    1.,   63.,  200.,   10.],\n",
       "       [   6.,    1.,   70.,  200.,   11.],\n",
       "       [   6.,    0.,   78.,  200.,   12.],\n",
       "       [   6.,    0.,   67.,  200.,   13.],\n",
       "       [   6.,    2.,   53.,  200.,   14.],\n",
       "       [   6.,    0.,   67.,  200.,   15.],\n",
       "       [   6.,    0.,   75.,  200.,   16.],\n",
       "       [   6.,    0.,   70.,  200.,   17.],\n",
       "       [   6.,    0.,   81.,  200.,   18.],\n",
       "       [   6.,    0.,   76.,  200.,   19.],\n",
       "       [   6.,    0.,   79.,  200.,   20.],\n",
       "       [   6.,    2.,   75.,  200.,   21.],\n",
       "       [   6.,    0.,   76.,  200.,   22.],\n",
       "       [   6.,    1.,   58.,  200.,   23.]])"
      ]
     },
     "execution_count": 18,
     "metadata": {},
     "output_type": "execute_result"
    }
   ],
   "source": [
    "oring_txt"
   ]
  },
  {
   "cell_type": "code",
   "execution_count": 56,
   "metadata": {
    "collapsed": false
   },
   "outputs": [],
   "source": [
    "oring = data.Data(oring_txt[:, [2,3,4]], oring_txt[:,1],              \n",
    "                     target_names = [\"Temperature\",\"Pressure\", \"Order\"],\n",
    "                      label_names = [\"Distress\"] , test_size=0  )"
   ]
  },
  {
   "cell_type": "code",
   "execution_count": 57,
   "metadata": {
    "collapsed": false
   },
   "outputs": [
    {
     "data": {
      "image/png": "[encoded data removed]",
      "text/plain": [
       "<matplotlib.figure.Figure at 0x7fc1a23f4390>"
      ]
     },
     "metadata": {},
     "output_type": "display_data"
    }
   ],
   "source": [
    "from heron import corner\n",
    "corner.corner(oring, figsize=(5,5))"
   ]
  },
  {
   "cell_type": "code",
   "execution_count": 58,
   "metadata": {
    "collapsed": true
   },
   "outputs": [],
   "source": [
    "from heron import regression\n",
    "from heron import kernels"
   ]
  },
  {
   "cell_type": "code",
   "execution_count": 59,
   "metadata": {
    "collapsed": true
   },
   "outputs": [],
   "source": [
    "gp = regression.Regressor(oring, kernel=kernels.SquaredExponential(ndim=3))"
   ]
  },
  {
   "cell_type": "code",
   "execution_count": 60,
   "metadata": {
    "collapsed": true
   },
   "outputs": [],
   "source": [
    "from scipy.optimize import minimize"
   ]
  },
  {
   "cell_type": "code",
   "execution_count": 61,
   "metadata": {
    "collapsed": true
   },
   "outputs": [],
   "source": [
    "def nll(p):\n",
    "    p[0] = 1\n",
    "    gp.set_hyperparameters(p)\n",
    "    ll = gp.loglikelihood()\n",
    "    return -ll if np.isfinite(ll) else 1e25\n",
    "\n",
    "# And the gradient of the objective function.\n",
    "def grad_nll(p):\n",
    "    p[0] = 1\n",
    "    gp.set_hyperparameters(p)\n",
    "    return -gp.grad_loglikelihood()"
   ]
  },
  {
   "cell_type": "code",
   "execution_count": 62,
   "metadata": {
    "collapsed": false
   },
   "outputs": [
    {
     "name": "stdout",
     "output_type": "stream",
     "text": [
      "Warning: Desired error not necessarily achieved due to precision loss.\n",
      "         Current function value: 0.499340\n",
      "         Iterations: 5\n",
      "         Function evaluations: 113\n",
      "         Gradient evaluations: 101\n"
     ]
    }
   ],
   "source": [
    "x0 = [0.9]*4\n",
    "x0[0] = 1\n",
    "res = minimize(nll, x0, method='BFGS', jac=grad_nll ,options={'disp': True})"
   ]
  },
  {
   "cell_type": "code",
   "execution_count": 63,
   "metadata": {
    "collapsed": false
   },
   "outputs": [
    {
     "ename": "IndexError",
     "evalue": "index 0 is out of bounds for axis 0 with size 0",
     "output_type": "error",
     "traceback": [
      "\u001b[0;31m---------------------------------------------------------------------------\u001b[0m",
      "\u001b[0;31mIndexError\u001b[0m                                Traceback (most recent call last)",
      "\u001b[0;32m<ipython-input-63-6b62d890bcba>\u001b[0m in \u001b[0;36m<module>\u001b[0;34m()\u001b[0m\n\u001b[1;32m      1\u001b[0m \u001b[0mi\u001b[0m \u001b[0;34m=\u001b[0m \u001b[0;36m0\u001b[0m\u001b[0;34m\u001b[0m\u001b[0m\n\u001b[1;32m      2\u001b[0m \u001b[0mtest_point\u001b[0m \u001b[0;34m=\u001b[0m \u001b[0;36m0\u001b[0m\u001b[0;34m\u001b[0m\u001b[0m\n\u001b[0;32m----> 3\u001b[0;31m \u001b[0mnew_point\u001b[0m \u001b[0;34m=\u001b[0m \u001b[0mnp\u001b[0m\u001b[0;34m.\u001b[0m\u001b[0matleast_2d\u001b[0m\u001b[0;34m(\u001b[0m\u001b[0moring\u001b[0m\u001b[0;34m.\u001b[0m\u001b[0mtest_targets\u001b[0m\u001b[0;34m[\u001b[0m\u001b[0mtest_point\u001b[0m\u001b[0;34m]\u001b[0m\u001b[0;34m)\u001b[0m\u001b[0;34m\u001b[0m\u001b[0m\n\u001b[0m\u001b[1;32m      4\u001b[0m \u001b[0mnew_point\u001b[0m \u001b[0;34m=\u001b[0m \u001b[0mnp\u001b[0m\u001b[0;34m.\u001b[0m\u001b[0mtile\u001b[0m\u001b[0;34m(\u001b[0m\u001b[0mnew_point\u001b[0m\u001b[0;34m,\u001b[0m \u001b[0;34m(\u001b[0m\u001b[0;36m100\u001b[0m\u001b[0;34m,\u001b[0m\u001b[0;36m1\u001b[0m\u001b[0;34m)\u001b[0m\u001b[0;34m)\u001b[0m\u001b[0;34m\u001b[0m\u001b[0m\n\u001b[1;32m      5\u001b[0m \u001b[0mnew_point\u001b[0m\u001b[0;34m[\u001b[0m\u001b[0;34m:\u001b[0m\u001b[0;34m,\u001b[0m\u001b[0mi\u001b[0m\u001b[0;34m]\u001b[0m \u001b[0;34m=\u001b[0m \u001b[0mnp\u001b[0m\u001b[0;34m.\u001b[0m\u001b[0mlinspace\u001b[0m\u001b[0;34m(\u001b[0m\u001b[0;36m0\u001b[0m\u001b[0;34m,\u001b[0m\u001b[0;36m1\u001b[0m\u001b[0;34m,\u001b[0m\u001b[0;36m100\u001b[0m\u001b[0;34m)\u001b[0m\u001b[0;34m\u001b[0m\u001b[0m\n",
      "\u001b[0;31mIndexError\u001b[0m: index 0 is out of bounds for axis 0 with size 0"
     ]
    }
   ],
   "source": [
    "i = 0\n",
    "test_point = 0\n",
    "new_point = np.atleast_2d(oring.test_targets[test_point])\n",
    "new_point = np.tile(new_point, (100,1))\n",
    "new_point[:,i] = np.linspace(0,1,100)\n",
    "pred = gp.prediction(new_point)\n",
    "x = gp.training_object.denormalise(new_point, gp.training_object.targets_scale)[:,i]\n",
    "plt.plot(x, pred[0])\n",
    "plt.ylim([0,5])\n",
    "#plt.xlim([0,gp.training_object.targets_scale[1][i]])\n",
    "plt.xlabel(gp.training_object.target_names[i])\n",
    "#plt.xlabel(r\"Superplasticiser [kg / m$^3$]\")\n",
    "plt.ylabel(\"Expected number of failures\")\n",
    "err = np.diag(pred[1])\n",
    "err = gp.training_object.denormalise(err, gp.training_object.labels_scale)\n",
    "err *= 1.96\n",
    "plt.fill_between(x, pred[0] - err, pred[0] + err , alpha = 0.3)\n",
    "plt.plot(gp.training_object.denormalise(oring.test_targets[test_point], gp.training_object.targets_scale)[i], \n",
    "        gp.training_object.denormalise(oring.test_labels, gp.training_object.labels_scale)[test_point], '.')\n",
    "#plt.savefig('superplasticiser.png', dpi=300)"
   ]
  },
  {
   "cell_type": "code",
   "execution_count": 68,
   "metadata": {
    "collapsed": false
   },
   "outputs": [
    {
     "data": {
      "text/plain": [
       "array([[ 0.46428571,  0.        ,  0.        ],\n",
       "       [ 0.60714286,  0.        ,  0.04545455],\n",
       "       [ 0.57142857,  0.        ,  0.09090909],\n",
       "       [ 0.53571429,  0.        ,  0.13636364],\n",
       "       [ 0.5       ,  0.        ,  0.18181818],\n",
       "       [ 0.67857143,  0.        ,  0.22727273],\n",
       "       [ 0.71428571,  0.33333333,  0.27272727],\n",
       "       [ 0.60714286,  0.33333333,  0.31818182],\n",
       "       [ 0.14285714,  1.        ,  0.36363636],\n",
       "       [ 0.35714286,  1.        ,  0.40909091],\n",
       "       [ 0.60714286,  1.        ,  0.45454545],\n",
       "       [ 0.89285714,  1.        ,  0.5       ],\n",
       "       [ 0.5       ,  1.        ,  0.54545455],\n",
       "       [ 0.        ,  1.        ,  0.59090909],\n",
       "       [ 0.5       ,  1.        ,  0.63636364],\n",
       "       [ 0.78571429,  1.        ,  0.68181818],\n",
       "       [ 0.60714286,  1.        ,  0.72727273],\n",
       "       [ 1.        ,  1.        ,  0.77272727],\n",
       "       [ 0.82142857,  1.        ,  0.81818182],\n",
       "       [ 0.92857143,  1.        ,  0.86363636],\n",
       "       [ 0.78571429,  1.        ,  0.90909091],\n",
       "       [ 0.82142857,  1.        ,  0.95454545],\n",
       "       [ 0.17857143,  1.        ,  1.        ]])"
      ]
     },
     "execution_count": 68,
     "metadata": {},
     "output_type": "execute_result"
    }
   ],
   "source": [
    "oring.targets"
   ]
  },
  {
   "cell_type": "code",
   "execution_count": 77,
   "metadata": {
    "collapsed": false
   },
   "outputs": [
    {
     "data": {
      "image/png": "[encoded data removed]",
      "text/plain": [
       "<matplotlib.figure.Figure at 0x7fc1a1c87b50>"
      ]
     },
     "metadata": {},
     "output_type": "display_data"
    }
   ],
   "source": [
    "f, ax = plt.subplots(1,3, sharey=True)\n",
    "for i in range(3):\n",
    "#i = 0\n",
    "    \n",
    "    #test_point = 0\n",
    "    #new_point = np.atleast_2d(oring.test_targets[test_point])\n",
    "    new_point = [.5,0,.1]\n",
    "    new_point = np.tile(new_point, (100,1))\n",
    "    new_point[:,i] = np.linspace(0,1,100)\n",
    "    pred = gp.prediction(new_point)\n",
    "    x = gp.training_object.denormalise(new_point, gp.training_object.targets_scale)[:,i]\n",
    "    ax[i].plot(x, pred[0])\n",
    "    ax[i].set_ylim([0,1])\n",
    "    #plt.xlim([0,gp.training_object.targets_scale[1][i]])\n",
    "    ax[i].set_xlabel(gp.training_object.target_names[i])\n",
    "    #plt.xlabel(r\"Superplasticiser [kg / m$^3$]\")\n",
    "    ax[i].set_ylabel(\"Expected number of failures\")\n",
    "    err = np.diag(pred[1])\n",
    "    err = gp.training_object.denormalise(err, gp.training_object.labels_scale)\n",
    "    err *= 1.96\n",
    "    ax[i].fill_between(x, pred[0] - err, pred[0] + err , alpha = 0.3)\n",
    "    #ax[i].plot(gp.training_object.denormalise(oring.test_targets[test_point], gp.training_object.targets_scale)[i], \n",
    "    #        gp.training_object.denormalise(oring.test_labels, gp.training_object.labels_scale)[test_point], '.')\n",
    "    #plt.savefig('superplasticiser.png', dpi=300)"
   ]
  },
  {
   "cell_type": "code",
   "execution_count": null,
   "metadata": {
    "collapsed": true
   },
   "outputs": [],
   "source": []
  }
 ],
 "metadata": {
  "kernelspec": {
   "display_name": "Python 2",
   "language": "python",
   "name": "python2"
  },
  "language_info": {
   "codemirror_mode": {
    "name": "ipython",
    "version": 2
   },
   "file_extension": ".py",
   "mimetype": "text/x-python",
   "name": "python",
   "nbconvert_exporter": "python",
   "pygments_lexer": "ipython2",
   "version": "2.7.6"
  },
  "latex_envs": {
   "bibliofile": "biblio.bib",
   "cite_by": "apalike",
   "current_citInitial": 1,
   "eqLabelWithNumbers": true,
   "eqNumInitial": 0
  }
 },
 "nbformat": 4,
 "nbformat_minor": 0
}
