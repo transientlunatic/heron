{
 "cells": [
  {
   "cell_type": "code",
   "execution_count": 1,
   "metadata": {
    "collapsed": true
   },
   "outputs": [],
   "source": [
    "hdf5_file = \"GT0001.h5\""
   ]
  },
  {
   "cell_type": "code",
   "execution_count": null,
   "metadata": {},
   "outputs": [],
   "source": [
    "import lal\n",
    "import lalsimulation as lalsim\n",
    "mass1 = 3\n",
    "mass2= 4\n",
    "from lal import MSUN_SI\n",
    "# Compute spins in the LAL frame\n",
    "s1x, s1y, s1z, s2x, s2y, s2z = lalsim.SimInspiralNRWaveformGetSpinsFromHDF5File(10, 7*MSUN_SI, hdf5_file, )\n",
    "# Create a dictionary and pass /PATH/TO/H5File\n",
    "params = lal.CreateDict()\n",
    "lalsim.SimInspiralWaveformParamsInsertNumRelData(params, hdf5_file)\n",
    "# Generate GW polarisations\n",
    "hp, hc = lalsim.SimInspiralChooseTDWaveform(mass1 * MSUN_SI, mass2*MSUN_SI,s1x, s1y, s1z,s2x, s2y, s2z,distance, inclination,\n",
    "phiRef, pi/2,\n",
    "0., 0., deltaT,\n",
    "fStart, fRef,\n",
    "params, approximant=lalsim.NR_hdf5)"
   ]
  },
  {
   "cell_type": "code",
   "execution_count": 7,
   "metadata": {
    "collapsed": true
   },
   "outputs": [],
   "source": [
    "?lalsim.SimInspiralNRWaveformGetSpinsFromHDF5File"
   ]
  },
  {
   "cell_type": "code",
   "execution_count": null,
   "metadata": {
    "collapsed": true
   },
   "outputs": [],
   "source": []
  }
 ],
 "metadata": {
  "kernelspec": {
   "display_name": "Python 2",
   "language": "python",
   "name": "python2"
  },
  "language_info": {
   "codemirror_mode": {
    "name": "ipython",
    "version": 2
   },
   "file_extension": ".py",
   "mimetype": "text/x-python",
   "name": "python",
   "nbconvert_exporter": "python",
   "pygments_lexer": "ipython2",
   "version": "2.7.12"
  }
 },
 "nbformat": 4,
 "nbformat_minor": 2
}
