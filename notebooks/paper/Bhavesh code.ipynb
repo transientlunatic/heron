{
 "cells": [
  {
   "cell_type": "code",
   "execution_count": 1,
   "metadata": {},
   "outputs": [
    {
     "name": "stderr",
     "output_type": "stream",
     "text": [
      "/home/daniel/.virtualenvs/IGRlaptop21/thesis/lib/python2.7/site-packages/h5py-2.7.0-py2.7-linux-x86_64.egg/h5py/__init__.py:34: FutureWarning: Conversion of the second argument of issubdtype from `float` to `np.floating` is deprecated. In future, it will be treated as `np.float64 == np.dtype(float).type`.\n",
      "  from ._conv import register_converters as _register_converters\n"
     ]
    }
   ],
   "source": [
    "import numpy as np\n",
    "import lal\n",
    "import lalsimulation as lalsim\n",
    "#import pycbc\n",
    "import h5py\n",
    "from lal import MSUN_SI, PC_SI, PI\n",
    "#%matplotlib inline\n",
    "import matplotlib\n",
    "import matplotlib.pyplot as P\n",
    "import pycbc.types, pycbc.filter\n",
    "\n",
    "import os, glob\n",
    "import shutil as sh\n",
    "import lalsimulation as lalsim\n",
    "%matplotlib inline"
   ]
  },
  {
   "cell_type": "code",
   "execution_count": 2,
   "metadata": {},
   "outputs": [],
   "source": [
    "os.environ[\"LAL_DATA_PATH\"] = \"/home/daniel/data/gravitational-waves/lal-data/\""
   ]
  },
  {
   "cell_type": "code",
   "execution_count": 3,
   "metadata": {},
   "outputs": [],
   "source": [
    "def set_mode_in_params(params, l, m):\n",
    "    \"\"\" Sets modes in params dict.\n",
    "        Only adds (l,m) and (l,-m) modes.\n",
    "    \"\"\"\n",
    "\n",
    "    ma=lalsim.SimInspiralCreateModeArray()\n",
    "\n",
    "    lalsim.SimInspiralModeArrayActivateMode(ma, l, m)\n",
    "    lalsim.SimInspiralModeArrayActivateMode(ma, l, -m)\n",
    "    lalsim.SimInspiralWaveformParamsInsertModeArray(params, ma)\n",
    "    return params\n"
   ]
  },
  {
   "cell_type": "code",
   "execution_count": 4,
   "metadata": {},
   "outputs": [],
   "source": [
    "def load_lvcnr_data(NRh5File, mode):\n",
    "    \"\"\" Loads only (l,m) and (l,-m) modes of lvcnr data\n",
    "    \"\"\"\n",
    "\n",
    "    # set mode for NR data\n",
    "    params_NR = lal.CreateDict()\n",
    "    lalsim.SimInspiralWaveformParamsInsertNumRelData(params_NR, filepath)\n",
    "    params_NR = set_mode_in_params(params_NR, mode[0], mode[1])\n",
    "    mtotal = 100.\n",
    "    deltaT = 1./4096. #1.0/8192.\n",
    "    m1 = NRh5File.attrs['mass1']\n",
    "    m2 = NRh5File.attrs['mass2']\n",
    "    m1SI = m1 * mtotal/(m1 + m2) * MSUN_SI #Assumes masses are irreducible masses\n",
    "    m2SI = m2 * mtotal/(m1 + m2) * MSUN_SI\n",
    "\n",
    "    # This will use the entire data\n",
    "    f_lower = 0\n",
    "\n",
    "    inclination = 0\n",
    "    distance = 100. * PC_SI * 1.0e6\n",
    "    phiRef = 0.0\n",
    "    fRef = f_lower\n",
    "    spins = lalsim.SimInspiralNRWaveformGetSpinsFromHDF5File(fRef, mtotal, filepath)\n",
    "    s1x = spins[0]\n",
    "    s1y = spins[1]\n",
    "    s1z = spins[2]\n",
    "    s2x = spins[3]\n",
    "    s2y = spins[4]\n",
    "    s2z = spins[5]\n",
    "\n",
    "    \n",
    "    # If f_lower == 0, update it to the start frequency so that SEOBNRv4 gets the right start\n",
    "    # frequency\n",
    "    if f_lower == 0:\n",
    "        f_lower = NRh5File.attrs['f_lower_at_1MSUN']/mtotal\n",
    "    fRef = f_lower\n",
    "    fStart = fRef\n",
    "    approx = lalsim.NR_hdf5\n",
    "    hp, hc = lalsim.SimInspiralChooseTDWaveform(m1SI, m2SI, s1x, s1y, s1z, s2x, s2y, s2z, distance, inclination, phiRef, 0.0, 0.0, 0.0, deltaT, fStart, fRef, params_NR, approx)\n",
    "    times = np.arange(len(hp.data.data))*hp.deltaT\n",
    "    return times, hp, hc, mtotal, m1SI, m2SI, s1x, s1y, s1z, s2x, s2y, s2z, distance, inclination, phiRef, deltaT, fStart, fRef\n",
    "\n"
   ]
  },
  {
   "cell_type": "code",
   "execution_count": 5,
   "metadata": {},
   "outputs": [],
   "source": [
    "def shift_peak_to_zero(t, hp, hc):\n",
    "    h = hp.data.data -1j * hc.data.data\n",
    "    peakIdx = np.argmax(np.abs(h))\n",
    "    t -= t[peakIdx]\n",
    "    return t, h\n",
    "\n",
    "#Extract the metadata from h5 \n",
    "def read_flow(h5path_new):\n",
    "    \n",
    "    h5file = h5py.File(h5path_new)\n",
    "\n",
    "    for item in h5file.attrs.keys():\n",
    "        if (item=='f_lower_at_1MSUN'):\n",
    "            return h5file.attrs[item]"
   ]
  },
  {
   "cell_type": "code",
   "execution_count": 6,
   "metadata": {},
   "outputs": [],
   "source": [
    "waveform = \"GT0370\"\n",
    "msun = 1.989e30"
   ]
  },
  {
   "cell_type": "code",
   "execution_count": 7,
   "metadata": {},
   "outputs": [],
   "source": [
    "#lvcnr_file = sorted(glob.glob('/home/bhavesh.khamesra/Data/TestWaveforms/WaveformFiles/NonSpinning/%s.h5'%waveform))\n",
    "lvcnr_file = sorted(glob.glob('/home/daniel/data-nosync/lvcnr-lfs/GeorgiaTech/%s.h5'%waveform))\n",
    "\n",
    "if (len(lvcnr_file)==0): raise ValueError(\"Waveform %s not found. Please check the path\"%waveform)"
   ]
  },
  {
   "cell_type": "code",
   "execution_count": 8,
   "metadata": {},
   "outputs": [],
   "source": [
    "testdir = \"/home/daniel/tmp\""
   ]
  },
  {
   "cell_type": "code",
   "execution_count": 9,
   "metadata": {},
   "outputs": [],
   "source": [
    "if not(os.path.exists(testdir)):\n",
    "    os.makedirs(testdir)\n",
    "    \n",
    "# Path where h5files will be copied \n",
    "h5dirpath = testdir + '/H5Files/'\n",
    "if not(os.path.exists(h5dirpath)):\n",
    "    os.makedirs(h5dirpath)\n",
    "    \n",
    "#Copy the h5file to the h5directory in test directory\n",
    "h5path_new = h5dirpath+ waveform+'.h5'\n",
    "if os.path.exists(h5path_new):\n",
    "    os.remove(h5path_new)\n",
    "    \n",
    "if os.path.exists(lvcnr_file[0]):\n",
    "    sh.copyfile(lvcnr_file[0], h5path_new)\n",
    "else:\n",
    "    print('%s waveform not found'%os.path.basename(waveform))\n",
    "    \n",
    "h5files = [h5path_new]"
   ]
  },
  {
   "cell_type": "code",
   "execution_count": 10,
   "metadata": {},
   "outputs": [
    {
     "name": "stdout",
     "output_type": "stream",
     "text": [
      "Waveform Details: \n",
      "\n",
      " m1 = 53.4762 Msun, m2 = 46.501 Msun, q = 1.15\n",
      " s1 = (0, 0, 0) \n",
      " s2 = (0, 0, 0) \n",
      " distance=3.08568e+24, inclination = 0, phiref = 0 \n",
      "\n",
      "GT0370.h5:frequency comupted from (2,2)mode = 18.055, from NR metadata = 19.3307, diff = 1.27569\n"
     ]
    }
   ],
   "source": [
    "for filepath in h5files:\n",
    "\n",
    "    NRh5File = h5py.File(filepath, 'r')\n",
    "    t_NR, hp_NR, hc_NR, mtotal, m1SI, m2SI, s1x, s1y, s1z, s2x, s2y, s2z, distance, inclination, phiRef, deltaT, fStart, fRef = load_lvcnr_data(NRh5File, [2,2])\n",
    "    NRh5File.close()\n",
    "    flow_metadata = read_flow(filepath)\n",
    "    print(\"Waveform Details: \\n\")\n",
    "    print(\" m1 = %g Msun, m2 = %g Msun, q = %g\\n s1 = (%g, %g, %g) \\n s2 = (%g, %g, %g) \\n distance=%g, inclination = %g, phiref = %g \\n\"%(m1SI/msun, m2SI/msun, m1SI/m2SI, s1x, s1y, s1z, s2x, s2y, s2z, distance, inclination, phiRef))\n",
    "\n",
    "    t_NR, h_NR = shift_peak_to_zero(t_NR, hp_NR, hc_NR)\n",
    "    phi22_NR = np.unwrap(np.angle(h_NR))\n",
    "\n",
    "\n",
    "    omega22_NR = np.gradient(phi22_NR)/np.gradient(t_NR)\n",
    "    flow_NR = -1.*omega22_NR[0]/2/np.pi\n",
    "    print('%s:frequency comupted from (2,2)mode = %g, from NR metadata = %g, diff = %g'% (os.path.basename(filepath),flow_NR, fStart,  -flow_NR + fStart))\n",
    "\n"
   ]
  },
  {
   "cell_type": "code",
   "execution_count": 11,
   "metadata": {},
   "outputs": [],
   "source": [
    "# choose waveform model to compare aginst lvcnr\n",
    "waveform_model1 = 'SEOBNRv4'\n",
    "\n",
    "# Generate the waveform with the same parameters as lvcnr, including the same start frequency\n",
    "params_seob = lal.CreateDict()\n",
    "approx_seob = lalsim.GetApproximantFromString(waveform_model1)\n",
    "\n",
    "#change this for better overlap\n",
    "phiRef_seob =0. \n",
    "\n",
    "hp_seob, hc_seob = lalsim.SimInspiralChooseTDWaveform(m1SI, m2SI, s1x, s1y, s1z,\n",
    "    s2x, s2y, s2z, distance, inclination, phiRef_seob, 0.0, 0.0, 0.0,\n",
    "    deltaT, fStart, fRef, params_seob, approx_seob)\n",
    "t_seob = np.arange(len(hp_seob.data.data))*hp_seob.deltaT\n",
    "\n",
    "# shift time array such that peak occurs at t=0\n",
    "t_seob, h_seob = shift_peak_to_zero(t_seob, hp_seob, hc_seob)\n",
    "\n",
    "\n",
    "\n",
    "waveform_model2 = 'IMRPhenomPv2'\n",
    "\n",
    "# Generate the waveform with the same parameters as lvcnr, including the same start frequency\n",
    "params_ph = lal.CreateDict()\n",
    "approx_ph = lalsim.GetApproximantFromString(waveform_model2)\n",
    "\n",
    "#change this for better overlap\n",
    "phiRef_ph = 1.4\n",
    "\n",
    "hp_ph, hc_ph = lalsim.SimInspiralChooseTDWaveform(m1SI, m2SI, s1x, s1y, s1z,\n",
    "    s2x, s2y, s2z, distance, inclination, phiRef_ph, 0.0, 0.0, 0.0,\n",
    "    deltaT, fStart, fRef, params_ph, approx_ph)\n",
    "t_ph = np.arange(len(hp_ph.data.data))*hp_ph.deltaT\n",
    "\n",
    "# shift time array such that peak occurs at t=0\n",
    "t_ph, h_ph = shift_peak_to_zero(t_ph, hp_ph, hc_ph)\n"
   ]
  },
  {
   "cell_type": "code",
   "execution_count": 12,
   "metadata": {},
   "outputs": [
    {
     "name": "stdout",
     "output_type": "stream",
     "text": [
      "creating /tmp/weave-daniel-Ko0Uqa/python27_intermediate/compiler_3621272828118ea3beee9cf268575d7a\n",
      "Match between NR and SEOBNR = (0.993528510775718, 1)\n"
     ]
    }
   ],
   "source": [
    "#Make the length of waveforms equal:\n",
    "wf_NR_maxidx = np.argmax(np.absolute(h_NR))\n",
    "NR_fwd_tlen = len(h_NR.real[wf_NR_maxidx:])\n",
    "NR_bwd_tlen = len(h_NR.real[:wf_NR_maxidx])\n",
    "\n",
    "wf_seob_maxidx = np.argmax(np.absolute(h_seob))\n",
    "seob_fwd_tlen = len(h_seob.real[wf_seob_maxidx:])\n",
    "seob_bwd_tlen = len(h_seob.real[:wf_seob_maxidx])\n",
    "\n",
    "if NR_fwd_tlen>seob_fwd_tlen:\n",
    "    wf_NR_fwd = h_NR.real[wf_NR_maxidx:wf_NR_maxidx+seob_fwd_tlen]\n",
    "    wf_seob_fwd = h_seob.real[wf_seob_maxidx:seob_fwd_tlen+wf_seob_maxidx]\n",
    "    t_seob_fwd = t_seob[wf_seob_maxidx:seob_fwd_tlen+wf_seob_maxidx]\n",
    "else:\n",
    "    wf_NR_fwd = h_NR.real[wf_NR_maxidx:NR_fwd_tlen+wf_NR_maxidx]\n",
    "    wf_seob_fwd = h_seob.real[wf_seob_maxidx:NR_fwd_tlen+wf_seob_maxidx]\n",
    "    t_seob_fwd = t_seob[wf_seob_maxidx:NR_fwd_tlen+wf_seob_maxidx]\n",
    "\n",
    "\n",
    "if NR_bwd_tlen>seob_bwd_tlen:\n",
    "    diff = NR_bwd_tlen - seob_bwd_tlen\n",
    "    wf_NR_bwd = h_NR.real[diff:wf_NR_maxidx]\n",
    "    wf_seob_bwd = h_seob.real[0:wf_seob_maxidx]\n",
    "    t_seob_bwd = t_seob[0:wf_seob_maxidx]\n",
    "else:\n",
    "    diff = abs(NR_bwd_tlen - seob_bwd_tlen)\n",
    "    wf_NR_bwd = h_NR.real[0:wf_NR_maxidx]\n",
    "    wf_seob_bwd = h_seob.real[diff:wf_seob_maxidx]\n",
    "    t_seob_bwd = t_seob[diff:wf_seob_maxidx]\n",
    "\n",
    "\n",
    "wf_NR = np.append(wf_NR_bwd, wf_NR_fwd)\n",
    "wf_seob = np.append(wf_seob_bwd, wf_seob_fwd)\n",
    "time_seob = np.append(t_seob_bwd, t_seob_fwd)\n",
    "\n",
    "\n",
    "wf_nr_data = pycbc.types.TimeSeries(wf_NR, deltaT)              #hp_NR.data.data, deltaT)\n",
    "wf_seob_data = pycbc.types.TimeSeries(wf_seob, deltaT)          #hplus_seob, deltaT)\n",
    "#wf_phenom_data = pycbc.types.TimeSeries(hp_ph.data.data, deltaT)\n",
    "\n",
    "\n",
    "print(\"Match between NR and SEOBNR = {}\".format( pycbc.filter.match(wf_nr_data, wf_seob_data)))\n"
   ]
  },
  {
   "cell_type": "code",
   "execution_count": 13,
   "metadata": {},
   "outputs": [],
   "source": [
    "#P.plot(time_seob, wf_NR, label='NR')\n",
    "#P.plot(time_seob, wf_seob, label='SEOB')\n",
    "#P.xlabel('Time')\n",
    "#P.ylabel('h+')\n",
    "#P.xlim(-0.1,0.1)\n",
    "#P.legend()\n",
    "#P.savefig(figdir+'testfig.png')\n",
    "#P.close()\n",
    "\n",
    "\n",
    "#Make the length of waveforms equal:\n",
    "wf_NR_maxidx = np.argmax(np.absolute(h_NR))\n",
    "NR_fwd_tlen = len(h_NR.real[wf_NR_maxidx:])\n",
    "NR_bwd_tlen = len(h_NR.real[:wf_NR_maxidx])\n",
    "\n",
    "wf_ph_maxidx = np.argmax(np.absolute(h_ph))\n",
    "ph_fwd_tlen = len(h_ph.real[wf_ph_maxidx:])\n",
    "ph_bwd_tlen = len(h_ph.real[:wf_ph_maxidx])\n",
    "\n",
    "if NR_fwd_tlen>ph_fwd_tlen:\n",
    "    wf_NR_fwd = h_NR.real[wf_NR_maxidx:wf_NR_maxidx+ph_fwd_tlen]\n",
    "    wf_ph_fwd = h_ph.real[wf_ph_maxidx:ph_fwd_tlen+wf_ph_maxidx]\n",
    "    t_ph_fwd = t_ph[wf_ph_maxidx:ph_fwd_tlen+wf_ph_maxidx]\n",
    "else:\n",
    "    wf_NR_fwd = h_NR.real[wf_NR_maxidx:NR_fwd_tlen+wf_NR_maxidx]\n",
    "    wf_ph_fwd = h_ph.real[wf_ph_maxidx:NR_fwd_tlen+wf_ph_maxidx]\n",
    "    t_ph_fwd = t_ph[wf_ph_maxidx:NR_fwd_tlen+wf_ph_maxidx]\n",
    "\n",
    "\n",
    "if NR_bwd_tlen>ph_bwd_tlen:\n",
    "    diff = NR_bwd_tlen - ph_bwd_tlen\n",
    "    wf_NR_bwd = h_NR.real[diff:wf_NR_maxidx]\n",
    "    wf_ph_bwd = h_ph.real[0:wf_ph_maxidx]\n",
    "    t_ph_bwd = t_ph[0:wf_ph_maxidx]\n",
    "else:\n",
    "    diff = abs(NR_bwd_tlen - ph_bwd_tlen)\n",
    "    wf_NR_bwd = h_NR.real[0:wf_NR_maxidx]\n",
    "    wf_ph_bwd = h_ph.real[diff:wf_ph_maxidx]\n",
    "    t_ph_bwd = t_ph[diff:wf_ph_maxidx]\n"
   ]
  },
  {
   "cell_type": "code",
   "execution_count": 14,
   "metadata": {},
   "outputs": [
    {
     "name": "stdout",
     "output_type": "stream",
     "text": [
      "Match between NR and IMR-Phenom v2 = (0.9910823392629353, 2279)\n"
     ]
    }
   ],
   "source": [
    "wf_NR = np.append(wf_NR_bwd, wf_NR_fwd)\n",
    "wf_ph = np.append(wf_ph_bwd, wf_ph_fwd)\n",
    "time_ph = np.append(t_ph_bwd, t_ph_fwd)\n",
    "\n",
    "\n",
    "wf_nr_data = pycbc.types.TimeSeries(wf_NR, deltaT)              #hp_NR.data.data, deltaT)\n",
    "wf_ph_data = pycbc.types.TimeSeries(wf_ph, deltaT)              #hplus_ph, deltaT)\n",
    "#wf_phenom_data = pycbc.types.TimeSeries(hp_ph.data.data, deltaT)\n",
    "\n",
    "\n",
    "print(\"Match between NR and IMR-Phenom v2 = {}\".format(pycbc.filter.match(wf_nr_data, wf_ph_data)))\n",
    "figdir = \"/home/bhavesh.khamesra/public_html/GTWaveforms_Checks/\"\n",
    "\n",
    "P.plot(time_ph, wf_NR, label='NR')\n",
    "P.plot(time_ph, wf_ph, label='PhenomP')\n",
    "P.xlabel('Time')\n",
    "P.ylabel('h+')\n",
    "P.xlim(-0.1,0.1)\n",
    "P.legend()\n",
    "#P.savefig(figdir+'testfig2.png')\n",
    "P.close()\n",
    "\n"
   ]
  },
  {
   "cell_type": "code",
   "execution_count": 15,
   "metadata": {},
   "outputs": [
    {
     "name": "stderr",
     "output_type": "stream",
     "text": [
      "/home/daniel/.virtualenvs/IGRlaptop21/thesis/lib/python2.7/site-packages/matplotlib/font_manager.py:1297: UserWarning: findfont: Font family [u\"'URW Bookman L'\"] not found. Falling back to DejaVu Sans\n",
      "  (prop.get_family(), self.defaultFamily[fontext]))\n"
     ]
    },
    {
     "ename": "IOError",
     "evalue": "[Errno 2] No such file or directory: '/home/bhavesh.khamesra/public_html/GTWaveforms_Checks/Strain_GT0370_real.png'",
     "output_type": "error",
     "traceback": [
      "\u001b[0;31m---------------------------------------------------------------------------\u001b[0m",
      "\u001b[0;31mIOError\u001b[0m                                   Traceback (most recent call last)",
      "\u001b[0;32m<ipython-input-15-3e3de594e525>\u001b[0m in \u001b[0;36m<module>\u001b[0;34m()\u001b[0m\n\u001b[1;32m     10\u001b[0m \u001b[0mP\u001b[0m\u001b[0;34m.\u001b[0m\u001b[0mgrid\u001b[0m\u001b[0;34m(\u001b[0m\u001b[0mTrue\u001b[0m\u001b[0;34m)\u001b[0m\u001b[0;34m\u001b[0m\u001b[0m\n\u001b[1;32m     11\u001b[0m \u001b[0mP\u001b[0m\u001b[0;34m.\u001b[0m\u001b[0mlegend\u001b[0m\u001b[0;34m(\u001b[0m\u001b[0;34m)\u001b[0m\u001b[0;34m\u001b[0m\u001b[0m\n\u001b[0;32m---> 12\u001b[0;31m \u001b[0mP\u001b[0m\u001b[0;34m.\u001b[0m\u001b[0msavefig\u001b[0m\u001b[0;34m(\u001b[0m\u001b[0mfigdir\u001b[0m\u001b[0;34m+\u001b[0m\u001b[0;34m'Strain_%s_real.png'\u001b[0m\u001b[0;34m%\u001b[0m\u001b[0mwaveform\u001b[0m\u001b[0;34m)\u001b[0m\u001b[0;34m\u001b[0m\u001b[0m\n\u001b[0m\u001b[1;32m     13\u001b[0m \u001b[0mP\u001b[0m\u001b[0;34m.\u001b[0m\u001b[0mclose\u001b[0m\u001b[0;34m(\u001b[0m\u001b[0;34m)\u001b[0m\u001b[0;34m\u001b[0m\u001b[0m\n\u001b[1;32m     14\u001b[0m \u001b[0;34m\u001b[0m\u001b[0m\n",
      "\u001b[0;32m/home/daniel/.virtualenvs/IGRlaptop21/thesis/lib/python2.7/site-packages/matplotlib/pyplot.pyc\u001b[0m in \u001b[0;36msavefig\u001b[0;34m(*args, **kwargs)\u001b[0m\n\u001b[1;32m    695\u001b[0m \u001b[0;32mdef\u001b[0m \u001b[0msavefig\u001b[0m\u001b[0;34m(\u001b[0m\u001b[0;34m*\u001b[0m\u001b[0margs\u001b[0m\u001b[0;34m,\u001b[0m \u001b[0;34m**\u001b[0m\u001b[0mkwargs\u001b[0m\u001b[0;34m)\u001b[0m\u001b[0;34m:\u001b[0m\u001b[0;34m\u001b[0m\u001b[0m\n\u001b[1;32m    696\u001b[0m     \u001b[0mfig\u001b[0m \u001b[0;34m=\u001b[0m \u001b[0mgcf\u001b[0m\u001b[0;34m(\u001b[0m\u001b[0;34m)\u001b[0m\u001b[0;34m\u001b[0m\u001b[0m\n\u001b[0;32m--> 697\u001b[0;31m     \u001b[0mres\u001b[0m \u001b[0;34m=\u001b[0m \u001b[0mfig\u001b[0m\u001b[0;34m.\u001b[0m\u001b[0msavefig\u001b[0m\u001b[0;34m(\u001b[0m\u001b[0;34m*\u001b[0m\u001b[0margs\u001b[0m\u001b[0;34m,\u001b[0m \u001b[0;34m**\u001b[0m\u001b[0mkwargs\u001b[0m\u001b[0;34m)\u001b[0m\u001b[0;34m\u001b[0m\u001b[0m\n\u001b[0m\u001b[1;32m    698\u001b[0m     \u001b[0mfig\u001b[0m\u001b[0;34m.\u001b[0m\u001b[0mcanvas\u001b[0m\u001b[0;34m.\u001b[0m\u001b[0mdraw_idle\u001b[0m\u001b[0;34m(\u001b[0m\u001b[0;34m)\u001b[0m   \u001b[0;31m# need this if 'transparent=True' to reset colors\u001b[0m\u001b[0;34m\u001b[0m\u001b[0m\n\u001b[1;32m    699\u001b[0m     \u001b[0;32mreturn\u001b[0m \u001b[0mres\u001b[0m\u001b[0;34m\u001b[0m\u001b[0m\n",
      "\u001b[0;32m/home/daniel/.virtualenvs/IGRlaptop21/thesis/lib/python2.7/site-packages/matplotlib/figure.pyc\u001b[0m in \u001b[0;36msavefig\u001b[0;34m(self, *args, **kwargs)\u001b[0m\n\u001b[1;32m   1570\u001b[0m             \u001b[0mself\u001b[0m\u001b[0;34m.\u001b[0m\u001b[0mset_frameon\u001b[0m\u001b[0;34m(\u001b[0m\u001b[0mframeon\u001b[0m\u001b[0;34m)\u001b[0m\u001b[0;34m\u001b[0m\u001b[0m\n\u001b[1;32m   1571\u001b[0m \u001b[0;34m\u001b[0m\u001b[0m\n\u001b[0;32m-> 1572\u001b[0;31m         \u001b[0mself\u001b[0m\u001b[0;34m.\u001b[0m\u001b[0mcanvas\u001b[0m\u001b[0;34m.\u001b[0m\u001b[0mprint_figure\u001b[0m\u001b[0;34m(\u001b[0m\u001b[0;34m*\u001b[0m\u001b[0margs\u001b[0m\u001b[0;34m,\u001b[0m \u001b[0;34m**\u001b[0m\u001b[0mkwargs\u001b[0m\u001b[0;34m)\u001b[0m\u001b[0;34m\u001b[0m\u001b[0m\n\u001b[0m\u001b[1;32m   1573\u001b[0m \u001b[0;34m\u001b[0m\u001b[0m\n\u001b[1;32m   1574\u001b[0m         \u001b[0;32mif\u001b[0m \u001b[0mframeon\u001b[0m\u001b[0;34m:\u001b[0m\u001b[0;34m\u001b[0m\u001b[0m\n",
      "\u001b[0;32m/home/daniel/.virtualenvs/IGRlaptop21/thesis/lib/python2.7/site-packages/matplotlib/backend_bases.pyc\u001b[0m in \u001b[0;36mprint_figure\u001b[0;34m(self, filename, dpi, facecolor, edgecolor, orientation, format, **kwargs)\u001b[0m\n\u001b[1;32m   2242\u001b[0m                 \u001b[0morientation\u001b[0m\u001b[0;34m=\u001b[0m\u001b[0morientation\u001b[0m\u001b[0;34m,\u001b[0m\u001b[0;34m\u001b[0m\u001b[0m\n\u001b[1;32m   2243\u001b[0m                 \u001b[0mbbox_inches_restore\u001b[0m\u001b[0;34m=\u001b[0m\u001b[0m_bbox_inches_restore\u001b[0m\u001b[0;34m,\u001b[0m\u001b[0;34m\u001b[0m\u001b[0m\n\u001b[0;32m-> 2244\u001b[0;31m                 **kwargs)\n\u001b[0m\u001b[1;32m   2245\u001b[0m         \u001b[0;32mfinally\u001b[0m\u001b[0;34m:\u001b[0m\u001b[0;34m\u001b[0m\u001b[0m\n\u001b[1;32m   2246\u001b[0m             \u001b[0;32mif\u001b[0m \u001b[0mbbox_inches\u001b[0m \u001b[0;32mand\u001b[0m \u001b[0mrestore_bbox\u001b[0m\u001b[0;34m:\u001b[0m\u001b[0;34m\u001b[0m\u001b[0m\n",
      "\u001b[0;32m/home/daniel/.virtualenvs/IGRlaptop21/thesis/lib/python2.7/site-packages/matplotlib/backends/backend_agg.pyc\u001b[0m in \u001b[0;36mprint_png\u001b[0;34m(self, filename_or_obj, *args, **kwargs)\u001b[0m\n\u001b[1;32m    548\u001b[0m         \u001b[0mrenderer\u001b[0m\u001b[0;34m.\u001b[0m\u001b[0mdpi\u001b[0m \u001b[0;34m=\u001b[0m \u001b[0mself\u001b[0m\u001b[0;34m.\u001b[0m\u001b[0mfigure\u001b[0m\u001b[0;34m.\u001b[0m\u001b[0mdpi\u001b[0m\u001b[0;34m\u001b[0m\u001b[0m\n\u001b[1;32m    549\u001b[0m         \u001b[0;32mif\u001b[0m \u001b[0mis_string_like\u001b[0m\u001b[0;34m(\u001b[0m\u001b[0mfilename_or_obj\u001b[0m\u001b[0;34m)\u001b[0m\u001b[0;34m:\u001b[0m\u001b[0;34m\u001b[0m\u001b[0m\n\u001b[0;32m--> 550\u001b[0;31m             \u001b[0mfilename_or_obj\u001b[0m \u001b[0;34m=\u001b[0m \u001b[0mopen\u001b[0m\u001b[0;34m(\u001b[0m\u001b[0mfilename_or_obj\u001b[0m\u001b[0;34m,\u001b[0m \u001b[0;34m'wb'\u001b[0m\u001b[0;34m)\u001b[0m\u001b[0;34m\u001b[0m\u001b[0m\n\u001b[0m\u001b[1;32m    551\u001b[0m             \u001b[0mclose\u001b[0m \u001b[0;34m=\u001b[0m \u001b[0mTrue\u001b[0m\u001b[0;34m\u001b[0m\u001b[0m\n\u001b[1;32m    552\u001b[0m         \u001b[0;32melse\u001b[0m\u001b[0;34m:\u001b[0m\u001b[0;34m\u001b[0m\u001b[0m\n",
      "\u001b[0;31mIOError\u001b[0m: [Errno 2] No such file or directory: '/home/bhavesh.khamesra/public_html/GTWaveforms_Checks/Strain_GT0370_real.png'"
     ]
    },
    {
     "data": {
      "image/png": "[encoded data removed]",
      "text/plain": [
       "<matplotlib.figure.Figure at 0x7fe4d106b490>"
      ]
     },
     "metadata": {
      "needs_background": "light"
     },
     "output_type": "display_data"
    }
   ],
   "source": [
    "# much better now (although still not perfect)\n",
    "P.figure()\n",
    "P.plot(t_NR, h_NR.real, label='NR')\n",
    "P.plot(t_seob, h_seob.real, label=waveform_model1)\n",
    "P.plot(t_ph, h_ph.real, label=waveform_model2)\n",
    "P.xlim(-0.45,0.05)\n",
    "P.xlabel('Time')\n",
    "P.ylabel('h+')\n",
    "P.title(waveform)\n",
    "P.grid(True)\n",
    "P.legend()\n",
    "P.savefig(figdir+'Strain_%s_real.png'%waveform)\n",
    "P.close()\n",
    "\n",
    "\n",
    "P.figure()\n",
    "P.plot(t_NR, h_NR.real, label='NR')\n",
    "P.plot(t_seob, h_seob.real, label=waveform_model1)\n",
    "P.plot(t_ph, h_ph.real, label=waveform_model2)\n",
    "P.xlabel('Time')\n",
    "P.ylabel('h+')\n",
    "#P.xlim(-0.1,0.05)\n",
    "P.grid(True)\n",
    "P.title(waveform)\n",
    "P.legend()\n",
    "P.savefig(figdir+'Strain_%s_real_zoom.png'%waveform)\n",
    "P.close()\n",
    "\n",
    "\n",
    "P.figure()\n",
    "P.plot(t_NR, h_NR.imag, label='NR')\n",
    "P.plot(t_seob, h_seob.imag, label=waveform_model1)\n",
    "P.plot(t_ph, h_ph.imag, label=waveform_model2)\n",
    "P.xlabel('Time')\n",
    "P.ylabel('hx')\n",
    "#P.xlim(-0.45,0.05)\n",
    "P.title(waveform)\n",
    "P.grid(True)\n",
    "P.legend()\n",
    "P.savefig(figdir+'Strain_%s_imag.png'%waveform)\n",
    "P.close()\n"
   ]
  },
  {
   "cell_type": "code",
   "execution_count": 16,
   "metadata": {},
   "outputs": [
    {
     "ename": "IOError",
     "evalue": "[Errno 2] No such file or directory: '/home/bhavesh.khamesra/public_html/GTWaveforms_Checks/Strain_GT0370_imag_zoom.png'",
     "output_type": "error",
     "traceback": [
      "\u001b[0;31m---------------------------------------------------------------------------\u001b[0m",
      "\u001b[0;31mIOError\u001b[0m                                   Traceback (most recent call last)",
      "\u001b[0;32m<ipython-input-16-6b6dddea0d92>\u001b[0m in \u001b[0;36m<module>\u001b[0;34m()\u001b[0m\n\u001b[1;32m      9\u001b[0m \u001b[0mP\u001b[0m\u001b[0;34m.\u001b[0m\u001b[0mgrid\u001b[0m\u001b[0;34m(\u001b[0m\u001b[0mTrue\u001b[0m\u001b[0;34m)\u001b[0m\u001b[0;34m\u001b[0m\u001b[0m\n\u001b[1;32m     10\u001b[0m \u001b[0mP\u001b[0m\u001b[0;34m.\u001b[0m\u001b[0mlegend\u001b[0m\u001b[0;34m(\u001b[0m\u001b[0;34m)\u001b[0m\u001b[0;34m\u001b[0m\u001b[0m\n\u001b[0;32m---> 11\u001b[0;31m \u001b[0mP\u001b[0m\u001b[0;34m.\u001b[0m\u001b[0msavefig\u001b[0m\u001b[0;34m(\u001b[0m\u001b[0mfigdir\u001b[0m\u001b[0;34m+\u001b[0m\u001b[0;34m'Strain_%s_imag_zoom.png'\u001b[0m\u001b[0;34m%\u001b[0m\u001b[0mwaveform\u001b[0m\u001b[0;34m)\u001b[0m\u001b[0;34m\u001b[0m\u001b[0m\n\u001b[0m\u001b[1;32m     12\u001b[0m \u001b[0mP\u001b[0m\u001b[0;34m.\u001b[0m\u001b[0mclose\u001b[0m\u001b[0;34m(\u001b[0m\u001b[0;34m)\u001b[0m\u001b[0;34m\u001b[0m\u001b[0m\n",
      "\u001b[0;32m/home/daniel/.virtualenvs/IGRlaptop21/thesis/lib/python2.7/site-packages/matplotlib/pyplot.pyc\u001b[0m in \u001b[0;36msavefig\u001b[0;34m(*args, **kwargs)\u001b[0m\n\u001b[1;32m    695\u001b[0m \u001b[0;32mdef\u001b[0m \u001b[0msavefig\u001b[0m\u001b[0;34m(\u001b[0m\u001b[0;34m*\u001b[0m\u001b[0margs\u001b[0m\u001b[0;34m,\u001b[0m \u001b[0;34m**\u001b[0m\u001b[0mkwargs\u001b[0m\u001b[0;34m)\u001b[0m\u001b[0;34m:\u001b[0m\u001b[0;34m\u001b[0m\u001b[0m\n\u001b[1;32m    696\u001b[0m     \u001b[0mfig\u001b[0m \u001b[0;34m=\u001b[0m \u001b[0mgcf\u001b[0m\u001b[0;34m(\u001b[0m\u001b[0;34m)\u001b[0m\u001b[0;34m\u001b[0m\u001b[0m\n\u001b[0;32m--> 697\u001b[0;31m     \u001b[0mres\u001b[0m \u001b[0;34m=\u001b[0m \u001b[0mfig\u001b[0m\u001b[0;34m.\u001b[0m\u001b[0msavefig\u001b[0m\u001b[0;34m(\u001b[0m\u001b[0;34m*\u001b[0m\u001b[0margs\u001b[0m\u001b[0;34m,\u001b[0m \u001b[0;34m**\u001b[0m\u001b[0mkwargs\u001b[0m\u001b[0;34m)\u001b[0m\u001b[0;34m\u001b[0m\u001b[0m\n\u001b[0m\u001b[1;32m    698\u001b[0m     \u001b[0mfig\u001b[0m\u001b[0;34m.\u001b[0m\u001b[0mcanvas\u001b[0m\u001b[0;34m.\u001b[0m\u001b[0mdraw_idle\u001b[0m\u001b[0;34m(\u001b[0m\u001b[0;34m)\u001b[0m   \u001b[0;31m# need this if 'transparent=True' to reset colors\u001b[0m\u001b[0;34m\u001b[0m\u001b[0m\n\u001b[1;32m    699\u001b[0m     \u001b[0;32mreturn\u001b[0m \u001b[0mres\u001b[0m\u001b[0;34m\u001b[0m\u001b[0m\n",
      "\u001b[0;32m/home/daniel/.virtualenvs/IGRlaptop21/thesis/lib/python2.7/site-packages/matplotlib/figure.pyc\u001b[0m in \u001b[0;36msavefig\u001b[0;34m(self, *args, **kwargs)\u001b[0m\n\u001b[1;32m   1570\u001b[0m             \u001b[0mself\u001b[0m\u001b[0;34m.\u001b[0m\u001b[0mset_frameon\u001b[0m\u001b[0;34m(\u001b[0m\u001b[0mframeon\u001b[0m\u001b[0;34m)\u001b[0m\u001b[0;34m\u001b[0m\u001b[0m\n\u001b[1;32m   1571\u001b[0m \u001b[0;34m\u001b[0m\u001b[0m\n\u001b[0;32m-> 1572\u001b[0;31m         \u001b[0mself\u001b[0m\u001b[0;34m.\u001b[0m\u001b[0mcanvas\u001b[0m\u001b[0;34m.\u001b[0m\u001b[0mprint_figure\u001b[0m\u001b[0;34m(\u001b[0m\u001b[0;34m*\u001b[0m\u001b[0margs\u001b[0m\u001b[0;34m,\u001b[0m \u001b[0;34m**\u001b[0m\u001b[0mkwargs\u001b[0m\u001b[0;34m)\u001b[0m\u001b[0;34m\u001b[0m\u001b[0m\n\u001b[0m\u001b[1;32m   1573\u001b[0m \u001b[0;34m\u001b[0m\u001b[0m\n\u001b[1;32m   1574\u001b[0m         \u001b[0;32mif\u001b[0m \u001b[0mframeon\u001b[0m\u001b[0;34m:\u001b[0m\u001b[0;34m\u001b[0m\u001b[0m\n",
      "\u001b[0;32m/home/daniel/.virtualenvs/IGRlaptop21/thesis/lib/python2.7/site-packages/matplotlib/backend_bases.pyc\u001b[0m in \u001b[0;36mprint_figure\u001b[0;34m(self, filename, dpi, facecolor, edgecolor, orientation, format, **kwargs)\u001b[0m\n\u001b[1;32m   2242\u001b[0m                 \u001b[0morientation\u001b[0m\u001b[0;34m=\u001b[0m\u001b[0morientation\u001b[0m\u001b[0;34m,\u001b[0m\u001b[0;34m\u001b[0m\u001b[0m\n\u001b[1;32m   2243\u001b[0m                 \u001b[0mbbox_inches_restore\u001b[0m\u001b[0;34m=\u001b[0m\u001b[0m_bbox_inches_restore\u001b[0m\u001b[0;34m,\u001b[0m\u001b[0;34m\u001b[0m\u001b[0m\n\u001b[0;32m-> 2244\u001b[0;31m                 **kwargs)\n\u001b[0m\u001b[1;32m   2245\u001b[0m         \u001b[0;32mfinally\u001b[0m\u001b[0;34m:\u001b[0m\u001b[0;34m\u001b[0m\u001b[0m\n\u001b[1;32m   2246\u001b[0m             \u001b[0;32mif\u001b[0m \u001b[0mbbox_inches\u001b[0m \u001b[0;32mand\u001b[0m \u001b[0mrestore_bbox\u001b[0m\u001b[0;34m:\u001b[0m\u001b[0;34m\u001b[0m\u001b[0m\n",
      "\u001b[0;32m/home/daniel/.virtualenvs/IGRlaptop21/thesis/lib/python2.7/site-packages/matplotlib/backends/backend_agg.pyc\u001b[0m in \u001b[0;36mprint_png\u001b[0;34m(self, filename_or_obj, *args, **kwargs)\u001b[0m\n\u001b[1;32m    548\u001b[0m         \u001b[0mrenderer\u001b[0m\u001b[0;34m.\u001b[0m\u001b[0mdpi\u001b[0m \u001b[0;34m=\u001b[0m \u001b[0mself\u001b[0m\u001b[0;34m.\u001b[0m\u001b[0mfigure\u001b[0m\u001b[0;34m.\u001b[0m\u001b[0mdpi\u001b[0m\u001b[0;34m\u001b[0m\u001b[0m\n\u001b[1;32m    549\u001b[0m         \u001b[0;32mif\u001b[0m \u001b[0mis_string_like\u001b[0m\u001b[0;34m(\u001b[0m\u001b[0mfilename_or_obj\u001b[0m\u001b[0;34m)\u001b[0m\u001b[0;34m:\u001b[0m\u001b[0;34m\u001b[0m\u001b[0m\n\u001b[0;32m--> 550\u001b[0;31m             \u001b[0mfilename_or_obj\u001b[0m \u001b[0;34m=\u001b[0m \u001b[0mopen\u001b[0m\u001b[0;34m(\u001b[0m\u001b[0mfilename_or_obj\u001b[0m\u001b[0;34m,\u001b[0m \u001b[0;34m'wb'\u001b[0m\u001b[0;34m)\u001b[0m\u001b[0;34m\u001b[0m\u001b[0m\n\u001b[0m\u001b[1;32m    551\u001b[0m             \u001b[0mclose\u001b[0m \u001b[0;34m=\u001b[0m \u001b[0mTrue\u001b[0m\u001b[0;34m\u001b[0m\u001b[0m\n\u001b[1;32m    552\u001b[0m         \u001b[0;32melse\u001b[0m\u001b[0;34m:\u001b[0m\u001b[0;34m\u001b[0m\u001b[0m\n",
      "\u001b[0;31mIOError\u001b[0m: [Errno 2] No such file or directory: '/home/bhavesh.khamesra/public_html/GTWaveforms_Checks/Strain_GT0370_imag_zoom.png'"
     ]
    },
    {
     "data": {
      "image/png": "[encoded data removed]",
      "text/plain": [
       "<matplotlib.figure.Figure at 0x7fe4856c7690>"
      ]
     },
     "metadata": {
      "needs_background": "light"
     },
     "output_type": "display_data"
    }
   ],
   "source": [
    "P.figure()\n",
    "P.plot(t_NR, h_NR.imag, label='NR')\n",
    "P.plot(t_seob, h_seob.imag, label=waveform_model1)\n",
    "P.plot(t_ph, h_ph.imag, label=waveform_model2)\n",
    "#P.xlim(-0.1,0.05)\n",
    "P.title(waveform)\n",
    "P.xlabel('Time')\n",
    "P.ylabel('hx')\n",
    "P.grid(True)\n",
    "P.legend()\n",
    "P.savefig(figdir+'Strain_%s_imag_zoom.png'%waveform)\n",
    "P.close()\n"
   ]
  },
  {
   "cell_type": "code",
   "execution_count": null,
   "metadata": {},
   "outputs": [],
   "source": []
  }
 ],
 "metadata": {
  "kernelspec": {
   "display_name": "Python 2",
   "language": "python",
   "name": "python2"
  },
  "language_info": {
   "codemirror_mode": {
    "name": "ipython",
    "version": 2
   },
   "file_extension": ".py",
   "mimetype": "text/x-python",
   "name": "python",
   "nbconvert_exporter": "python",
   "pygments_lexer": "ipython2",
   "version": "2.7.12"
  }
 },
 "nbformat": 4,
 "nbformat_minor": 2
}
